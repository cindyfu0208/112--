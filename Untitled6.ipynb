{
 "cells": [
  {
   "cell_type": "code",
   "execution_count": null,
   "id": "de7bb868",
   "metadata": {},
   "outputs": [],
   "source": [
    "#匯入json檔案，存入dict中\n",
    "#此為可以拿到普發現金的地點\n",
    "import json\n",
    "player = open('gooo.json',encoding=\"utf8\")\n",
    "Data = json.load(player)\n",
    "type(Data)"
   ]
  },
  {
   "cell_type": "code",
   "execution_count": null,
   "id": "27b89de5",
   "metadata": {
    "scrolled": true
   },
   "outputs": [],
   "source": [
    "temp = data.get('atm')"
   ]
  },
  {
   "cell_type": "code",
   "execution_count": null,
   "id": "dba965a4",
   "metadata": {},
   "outputs": [],
   "source": [
    "#查詢atm編號在哪個縣市\n",
    "ask = input(\"atm編號在哪個縣市\")\n",
    "for i in temp:\n",
    "    if ask == i.get(\"編號\"):\n",
    "        print(ask, \"所在的縣市為\", i.get(\"所屬縣市\"))"
   ]
  },
  {
   "cell_type": "code",
   "execution_count": null,
   "id": "0b08f21b",
   "metadata": {},
   "outputs": [],
   "source": []
  },
  {
   "cell_type": "code",
   "execution_count": null,
   "id": "800b9f41",
   "metadata": {},
   "outputs": [],
   "source": []
  }
 ],
 "metadata": {
  "kernelspec": {
   "display_name": "Python 3 (ipykernel)",
   "language": "python",
   "name": "python3"
  },
  "language_info": {
   "codemirror_mode": {
    "name": "ipython",
    "version": 3
   },
   "file_extension": ".py",
   "mimetype": "text/x-python",
   "name": "python",
   "nbconvert_exporter": "python",
   "pygments_lexer": "ipython3",
   "version": "3.9.13"
  }
 },
 "nbformat": 4,
 "nbformat_minor": 5
}
