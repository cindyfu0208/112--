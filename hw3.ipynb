{
 "cells": [
  {
   "cell_type": "code",
   "execution_count": 13,
   "id": "69e856dd",
   "metadata": {},
   "outputs": [],
   "source": [
    "\n",
    "import urllib.request as req\n",
    "import json\n",
    "import pandas as pd\n",
    "import numpy\n",
    "\n",
    "#輸入要爬的網頁網址 \n",
    "url= \"https://www.ptt.cc/bbs/NBA/index.html\"\n",
    "\n",
    "#建立一個Request物件，附加Request Headers的資訊 \n",
    "request=req.Request(url, headers={\n",
    "    \"User-Agent\":\"Mozilla/5.0 (Windows NT 10.0; Win64; x64) AppleWebKit/537.36 (KHTML, like Gecko) Chrome/106.0.0.0 Safari/537.36\"\n",
    "})"
   ]
  },
  {
   "cell_type": "code",
   "execution_count": 14,
   "id": "c1b752b2",
   "metadata": {},
   "outputs": [],
   "source": [
    "with req.urlopen(request) as response:\n",
    "    data=response.read().decode(\"utf-8\")"
   ]
  },
  {
   "cell_type": "code",
   "execution_count": 15,
   "id": "f2956fa3",
   "metadata": {},
   "outputs": [
    {
     "name": "stdout",
     "output_type": "stream",
     "text": [
      "[BOX ] Heat 130:117 Bucks 數據\n",
      "[情報] 吉巴在熱火季後賽10場得分35+ 排名隊史第2\n",
      "[情報] 字母的X光結果是沒事\n",
      "Re: [情報] Tyler Herro 右手骨折\n",
      "[Live] 灰狼 @ 金塊\n",
      "[情報] 陽艇戰，Ayton被吹了個莫名其妙的犯規\n",
      "[花邊] 老巴 : 現在看起來湖人進西冠之路是最平\n",
      "[花邊] 老巴對西河賽前穿著評論\n",
      "[公告] 板規10.1\n",
      "[公告] 板主徵選再延長\n",
      "[公告] 季後賽條款\n",
      "[情報] 2022-23 NBA Playoffs (Next：湖熊 火鹿 艇陽 狼金)\n",
      "[情報] NBA Standings (Apr. 10, 2023) End\n"
     ]
    }
   ],
   "source": [
    "import bs4\n",
    "root=bs4.BeautifulSoup(data, \"html.parser\")\n",
    "titles=root.find_all(\"div\", class_=\"title\")\n",
    "for title in titles:\n",
    "    if title.a !=None:\n",
    "        print(title.a.string)"
   ]
  },
  {
   "cell_type": "code",
   "execution_count": 16,
   "id": "5cc89bf9",
   "metadata": {},
   "outputs": [
    {
     "data": {
      "text/plain": [
       "['[BOX ] Heat 130:117 Bucks 數據',\n",
       " '[情報] 吉巴在熱火季後賽10場得分35+ 排名隊史第2',\n",
       " '[情報] 字母的X光結果是沒事',\n",
       " 'Re: [情報] Tyler Herro 右手骨折',\n",
       " '[Live] 灰狼 @ 金塊',\n",
       " '[情報] 陽艇戰，Ayton被吹了個莫名其妙的犯規',\n",
       " '[花邊] 老巴 : 現在看起來湖人進西冠之路是最平',\n",
       " '[花邊] 老巴對西河賽前穿著評論',\n",
       " '[公告] 板規10.1',\n",
       " '[公告] 板主徵選再延長',\n",
       " '[公告] 季後賽條款',\n",
       " '[情報] 2022-23 NBA Playoffs (Next：湖熊 火鹿 艇陽 狼金)',\n",
       " '[情報] NBA Standings (Apr. 10, 2023) End']"
      ]
     },
     "execution_count": 16,
     "metadata": {},
     "output_type": "execute_result"
    }
   ],
   "source": [
    "#列表\n",
    "temp = []\n",
    "for title in titles:\n",
    "    if title.a !=None:\n",
    "        temp.append(title.a.string)\n",
    "temp"
   ]
  },
  {
   "cell_type": "code",
   "execution_count": 17,
   "id": "14817749",
   "metadata": {},
   "outputs": [
    {
     "data": {
      "text/html": [
       "<div>\n",
       "<style scoped>\n",
       "    .dataframe tbody tr th:only-of-type {\n",
       "        vertical-align: middle;\n",
       "    }\n",
       "\n",
       "    .dataframe tbody tr th {\n",
       "        vertical-align: top;\n",
       "    }\n",
       "\n",
       "    .dataframe thead th {\n",
       "        text-align: right;\n",
       "    }\n",
       "</style>\n",
       "<table border=\"1\" class=\"dataframe\">\n",
       "  <thead>\n",
       "    <tr style=\"text-align: right;\">\n",
       "      <th></th>\n",
       "      <th>0</th>\n",
       "    </tr>\n",
       "  </thead>\n",
       "  <tbody>\n",
       "    <tr>\n",
       "      <th>0</th>\n",
       "      <td>[BOX ] Heat 130:117 Bucks 數據</td>\n",
       "    </tr>\n",
       "    <tr>\n",
       "      <th>1</th>\n",
       "      <td>[情報] 吉巴在熱火季後賽10場得分35+ 排名隊史第2</td>\n",
       "    </tr>\n",
       "    <tr>\n",
       "      <th>2</th>\n",
       "      <td>[情報] 字母的X光結果是沒事</td>\n",
       "    </tr>\n",
       "    <tr>\n",
       "      <th>3</th>\n",
       "      <td>Re: [情報] Tyler Herro 右手骨折</td>\n",
       "    </tr>\n",
       "    <tr>\n",
       "      <th>4</th>\n",
       "      <td>[Live] 灰狼 @ 金塊</td>\n",
       "    </tr>\n",
       "    <tr>\n",
       "      <th>5</th>\n",
       "      <td>[情報] 陽艇戰，Ayton被吹了個莫名其妙的犯規</td>\n",
       "    </tr>\n",
       "    <tr>\n",
       "      <th>6</th>\n",
       "      <td>[花邊] 老巴 : 現在看起來湖人進西冠之路是最平</td>\n",
       "    </tr>\n",
       "    <tr>\n",
       "      <th>7</th>\n",
       "      <td>[花邊] 老巴對西河賽前穿著評論</td>\n",
       "    </tr>\n",
       "    <tr>\n",
       "      <th>8</th>\n",
       "      <td>[公告] 板規10.1</td>\n",
       "    </tr>\n",
       "    <tr>\n",
       "      <th>9</th>\n",
       "      <td>[公告] 板主徵選再延長</td>\n",
       "    </tr>\n",
       "    <tr>\n",
       "      <th>10</th>\n",
       "      <td>[公告] 季後賽條款</td>\n",
       "    </tr>\n",
       "    <tr>\n",
       "      <th>11</th>\n",
       "      <td>[情報] 2022-23 NBA Playoffs (Next：湖熊 火鹿 艇陽 狼金)</td>\n",
       "    </tr>\n",
       "    <tr>\n",
       "      <th>12</th>\n",
       "      <td>[情報] NBA Standings (Apr. 10, 2023) End</td>\n",
       "    </tr>\n",
       "  </tbody>\n",
       "</table>\n",
       "</div>"
      ],
      "text/plain": [
       "                                               0\n",
       "0                   [BOX ] Heat 130:117 Bucks 數據\n",
       "1                   [情報] 吉巴在熱火季後賽10場得分35+ 排名隊史第2\n",
       "2                                [情報] 字母的X光結果是沒事\n",
       "3                      Re: [情報] Tyler Herro 右手骨折\n",
       "4                                 [Live] 灰狼 @ 金塊\n",
       "5                      [情報] 陽艇戰，Ayton被吹了個莫名其妙的犯規\n",
       "6                      [花邊] 老巴 : 現在看起來湖人進西冠之路是最平\n",
       "7                               [花邊] 老巴對西河賽前穿著評論\n",
       "8                                    [公告] 板規10.1\n",
       "9                                   [公告] 板主徵選再延長\n",
       "10                                    [公告] 季後賽條款\n",
       "11  [情報] 2022-23 NBA Playoffs (Next：湖熊 火鹿 艇陽 狼金)\n",
       "12        [情報] NBA Standings (Apr. 10, 2023) End"
      ]
     },
     "execution_count": 17,
     "metadata": {},
     "output_type": "execute_result"
    }
   ],
   "source": [
    "#轉成dataframe\n",
    "df = pd.DataFrame(temp)\n",
    "df"
   ]
  },
  {
   "cell_type": "code",
   "execution_count": 18,
   "id": "54eaf88d",
   "metadata": {},
   "outputs": [],
   "source": [
    "#轉成csv\n",
    "df.to_csv('basketball.csv')"
   ]
  },
  {
   "cell_type": "code",
   "execution_count": 19,
   "id": "3084de97",
   "metadata": {},
   "outputs": [
    {
     "data": {
      "text/plain": [
       "{0: {0: '[BOX ] Heat 130:117 Bucks 數據',\n",
       "  1: '[情報] 吉巴在熱火季後賽10場得分35+ 排名隊史第2',\n",
       "  2: '[情報] 字母的X光結果是沒事',\n",
       "  3: 'Re: [情報] Tyler Herro 右手骨折',\n",
       "  4: '[Live] 灰狼 @ 金塊',\n",
       "  5: '[情報] 陽艇戰，Ayton被吹了個莫名其妙的犯規',\n",
       "  6: '[花邊] 老巴 : 現在看起來湖人進西冠之路是最平',\n",
       "  7: '[花邊] 老巴對西河賽前穿著評論',\n",
       "  8: '[公告] 板規10.1',\n",
       "  9: '[公告] 板主徵選再延長',\n",
       "  10: '[公告] 季後賽條款',\n",
       "  11: '[情報] 2022-23 NBA Playoffs (Next：湖熊 火鹿 艇陽 狼金)',\n",
       "  12: '[情報] NBA Standings (Apr. 10, 2023) End'}}"
      ]
     },
     "execution_count": 19,
     "metadata": {},
     "output_type": "execute_result"
    }
   ],
   "source": [
    "temp1 = df.to_dict()\n",
    "temp1"
   ]
  },
  {
   "cell_type": "code",
   "execution_count": 20,
   "id": "712224c6",
   "metadata": {},
   "outputs": [],
   "source": [
    "#轉成json \n",
    "with open('basketball.json','w',encoding='utf-8') as file:\n",
    "    json.dump(temp1,file,ensure_ascii=False)  "
   ]
  },
  {
   "cell_type": "code",
   "execution_count": null,
   "id": "9dfa4193",
   "metadata": {},
   "outputs": [],
   "source": []
  }
 ],
 "metadata": {
  "kernelspec": {
   "display_name": "Python 3 (ipykernel)",
   "language": "python",
   "name": "python3"
  },
  "language_info": {
   "codemirror_mode": {
    "name": "ipython",
    "version": 3
   },
   "file_extension": ".py",
   "mimetype": "text/x-python",
   "name": "python",
   "nbconvert_exporter": "python",
   "pygments_lexer": "ipython3",
   "version": "3.9.13"
  }
 },
 "nbformat": 4,
 "nbformat_minor": 5
}
