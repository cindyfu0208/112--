{
 "cells": [
  {
   "cell_type": "code",
   "execution_count": 43,
   "id": "2f6a18ba",
   "metadata": {},
   "outputs": [],
   "source": [
    "import pandas as pd #使用pandas套件\n",
    "\n",
    "rs = pd.read_csv(\"rs.csv\",encoding='big5')\n",
    "rs2= pd.read_csv(\"rs2.csv\",encoding='big5')\n"
   ]
  },
  {
   "cell_type": "code",
   "execution_count": 47,
   "id": "24fdc1a5",
   "metadata": {
    "scrolled": false
   },
   "outputs": [
    {
     "data": {
      "text/html": [
       "<div>\n",
       "<style scoped>\n",
       "    .dataframe tbody tr th:only-of-type {\n",
       "        vertical-align: middle;\n",
       "    }\n",
       "\n",
       "    .dataframe tbody tr th {\n",
       "        vertical-align: top;\n",
       "    }\n",
       "\n",
       "    .dataframe thead th {\n",
       "        text-align: right;\n",
       "    }\n",
       "</style>\n",
       "<table border=\"1\" class=\"dataframe\">\n",
       "  <thead>\n",
       "    <tr style=\"text-align: right;\">\n",
       "      <th></th>\n",
       "      <th>球員</th>\n",
       "      <th>GP</th>\n",
       "      <th>MPG</th>\n",
       "      <th>2P%</th>\n",
       "      <th>3P%</th>\n",
       "      <th>FT%</th>\n",
       "      <th>RPG</th>\n",
       "      <th>APG</th>\n",
       "      <th>SPG</th>\n",
       "      <th>BPG</th>\n",
       "      <th>PPG</th>\n",
       "    </tr>\n",
       "  </thead>\n",
       "  <tbody>\n",
       "    <tr>\n",
       "      <th>0</th>\n",
       "      <td>賴廷恩</td>\n",
       "      <td>23</td>\n",
       "      <td>12:12</td>\n",
       "      <td>50.00</td>\n",
       "      <td>36.11</td>\n",
       "      <td>100.00</td>\n",
       "      <td>1.39</td>\n",
       "      <td>1.57</td>\n",
       "      <td>1.22</td>\n",
       "      <td>0.00</td>\n",
       "      <td>3.78</td>\n",
       "    </tr>\n",
       "    <tr>\n",
       "      <th>1</th>\n",
       "      <td>林書緯</td>\n",
       "      <td>17</td>\n",
       "      <td>23:15</td>\n",
       "      <td>46.88</td>\n",
       "      <td>34.88</td>\n",
       "      <td>50.00</td>\n",
       "      <td>3.35</td>\n",
       "      <td>3.59</td>\n",
       "      <td>1.47</td>\n",
       "      <td>0.18</td>\n",
       "      <td>9.35</td>\n",
       "    </tr>\n",
       "    <tr>\n",
       "      <th>2</th>\n",
       "      <td>簡偉儒</td>\n",
       "      <td>23</td>\n",
       "      <td>21:31</td>\n",
       "      <td>38.10</td>\n",
       "      <td>35.04</td>\n",
       "      <td>75.76</td>\n",
       "      <td>2.83</td>\n",
       "      <td>2.17</td>\n",
       "      <td>0.61</td>\n",
       "      <td>0.04</td>\n",
       "      <td>8.52</td>\n",
       "    </tr>\n",
       "    <tr>\n",
       "      <th>3</th>\n",
       "      <td>張宗憲</td>\n",
       "      <td>22</td>\n",
       "      <td>30:06:00</td>\n",
       "      <td>44.78</td>\n",
       "      <td>34.34</td>\n",
       "      <td>56.25</td>\n",
       "      <td>2.50</td>\n",
       "      <td>2.86</td>\n",
       "      <td>1.77</td>\n",
       "      <td>0.09</td>\n",
       "      <td>15.64</td>\n",
       "    </tr>\n",
       "    <tr>\n",
       "      <th>4</th>\n",
       "      <td>張伯維</td>\n",
       "      <td>10</td>\n",
       "      <td>11:20</td>\n",
       "      <td>52.00</td>\n",
       "      <td>19.23</td>\n",
       "      <td>60.00</td>\n",
       "      <td>1.00</td>\n",
       "      <td>0.10</td>\n",
       "      <td>0.30</td>\n",
       "      <td>0.30</td>\n",
       "      <td>4.40</td>\n",
       "    </tr>\n",
       "  </tbody>\n",
       "</table>\n",
       "</div>"
      ],
      "text/plain": [
       "    球員  GP       MPG    2P%    3P%     FT%   RPG   APG   SPG   BPG    PPG\n",
       "0  賴廷恩  23     12:12  50.00  36.11  100.00  1.39  1.57  1.22  0.00   3.78\n",
       "1  林書緯  17     23:15  46.88  34.88   50.00  3.35  3.59  1.47  0.18   9.35\n",
       "2  簡偉儒  23     21:31  38.10  35.04   75.76  2.83  2.17  0.61  0.04   8.52\n",
       "3  張宗憲  22  30:06:00  44.78  34.34   56.25  2.50  2.86  1.77  0.09  15.64\n",
       "4  張伯維  10     11:20  52.00  19.23   60.00  1.00  0.10  0.30  0.30   4.40"
      ]
     },
     "execution_count": 47,
     "metadata": {},
     "output_type": "execute_result"
    }
   ],
   "source": [
    "rs.head()"
   ]
  },
  {
   "cell_type": "code",
   "execution_count": 68,
   "id": "4c29b998",
   "metadata": {},
   "outputs": [],
   "source": [
    "rs = set(rs)\n",
    "rs2= set(rs2)"
   ]
  },
  {
   "cell_type": "code",
   "execution_count": 69,
   "id": "5e83f316",
   "metadata": {},
   "outputs": [
    {
     "data": {
      "text/plain": [
       "['曾文鼎',\n",
       " '林志傑',\n",
       " '周桂羽',\n",
       " '辛特力',\n",
       " '曾祥鈞',\n",
       " '賈西亞',\n",
       " '林孟學',\n",
       " '林書緯',\n",
       " '賴廷恩',\n",
       " '簡偉儒',\n",
       " '石博恩',\n",
       " '塞瑟夫',\n",
       " '蔡文誠',\n",
       " '張宗憲',\n",
       " '郭少傑',\n",
       " '張伯維']"
      ]
     },
     "execution_count": 69,
     "metadata": {},
     "output_type": "execute_result"
    }
   ],
   "source": [
    "print(rs)"
   ]
  },
  {
   "cell_type": "code",
   "execution_count": 70,
   "id": "312e2382",
   "metadata": {},
   "outputs": [
    {
     "data": {
      "text/plain": [
       "['3P%', 'APG', 'GP', 'BPG', 'PPG', '球員', 'RPG', 'FT%', 'SPG', '2P%', 'MPG']"
      ]
     },
     "execution_count": 70,
     "metadata": {},
     "output_type": "execute_result"
    }
   ],
   "source": [
    "print(rs2)"
   ]
  },
  {
   "cell_type": "code",
   "execution_count": null,
   "id": "34e440a7",
   "metadata": {},
   "outputs": [],
   "source": []
  }
 ],
 "metadata": {
  "kernelspec": {
   "display_name": "Python 3 (ipykernel)",
   "language": "python",
   "name": "python3"
  },
  "language_info": {
   "codemirror_mode": {
    "name": "ipython",
    "version": 3
   },
   "file_extension": ".py",
   "mimetype": "text/x-python",
   "name": "python",
   "nbconvert_exporter": "python",
   "pygments_lexer": "ipython3",
   "version": "3.9.13"
  }
 },
 "nbformat": 4,
 "nbformat_minor": 5
}
