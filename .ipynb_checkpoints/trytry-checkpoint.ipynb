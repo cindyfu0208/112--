{
 "cells": [
  {
   "cell_type": "code",
   "execution_count": 14,
   "id": "da446b21",
   "metadata": {
    "scrolled": true
   },
   "outputs": [
    {
     "name": "stdout",
     "output_type": "stream",
     "text": [
      "Requirement already satisfied: qrcode in /opt/anaconda3/lib/python3.9/site-packages (7.4.2)\r\n",
      "Requirement already satisfied: typing-extensions in /opt/anaconda3/lib/python3.9/site-packages (from qrcode) (4.3.0)\r\n",
      "Requirement already satisfied: pypng in /opt/anaconda3/lib/python3.9/site-packages (from qrcode) (0.20220715.0)\r\n"
     ]
    }
   ],
   "source": [
    "!pip install qrcode"
   ]
  },
  {
   "cell_type": "code",
   "execution_count": 15,
   "id": "ada0b582",
   "metadata": {},
   "outputs": [
    {
     "name": "stdout",
     "output_type": "stream",
     "text": [
      "Requirement already satisfied: Pillow in /opt/anaconda3/lib/python3.9/site-packages (9.2.0)\r\n"
     ]
    }
   ],
   "source": [
    "!pip install Pillow"
   ]
  },
  {
   "cell_type": "code",
   "execution_count": null,
   "id": "85e3aecc",
   "metadata": {},
   "outputs": [],
   "source": [
    "import qrcode\n",
    "from PIL import Image\n",
    "\n",
    "def generate_qr_code(url, icon_path=None):\n",
    "    # 生成QR Code圖檔\n",
    "    qr = qrcode.QRCode(version=1, box_size=10, border=4)\n",
    "    qr.add_data(url)\n",
    "    qr.make(fit=True)\n",
    "    qr_img = qr.make_image(fill_color=\"black\", back_color=\"white\")\n",
    "\n",
    "    # 如果指定了ICON圖檔，則進行客製化\n",
    "    if icon_path:\n",
    "        icon = Image.open(icon_path)\n",
    "        icon_size = (qr_img.size[0] // 4, qr_img.size[1] // 4)\n",
    "        icon = icon.resize(icon_size)\n",
    "\n",
    "        # 計算ICON在QR Code中的位置\n",
    "        icon_position = ((qr_img.size[0] - icon_size[0]) // 2, (qr_img.size[1] - icon_size[1]) // 2)\n",
    "\n",
    "        # 將ICON貼到QR Code圖檔上\n",
    "        qr_img.paste(icon, icon_position)\n",
    "\n",
    "    return qr_img\n",
    "\n",
    "# 範例使用\n",
    "q='請問你想要轉換的網址'#我想要把他換成直接讀取\n",
    "answer= input(q)\n",
    "url = answer\n",
    "icon_path = \"大腦.jpeg\"  # 請提供ICON圖檔的路徑\n",
    "\n",
    "qr_code = generate_qr_code(url, icon_path)\n",
    "qr_code.save(\"qr_code.png\")  # 儲存QR Code圖檔"
   ]
  },
  {
   "cell_type": "code",
   "execution_count": null,
   "id": "06ba013d",
   "metadata": {},
   "outputs": [],
   "source": []
  }
 ],
 "metadata": {
  "kernelspec": {
   "display_name": "Python 3 (ipykernel)",
   "language": "python",
   "name": "python3"
  },
  "language_info": {
   "codemirror_mode": {
    "name": "ipython",
    "version": 3
   },
   "file_extension": ".py",
   "mimetype": "text/x-python",
   "name": "python",
   "nbconvert_exporter": "python",
   "pygments_lexer": "ipython3",
   "version": "3.9.13"
  }
 },
 "nbformat": 4,
 "nbformat_minor": 5
}
