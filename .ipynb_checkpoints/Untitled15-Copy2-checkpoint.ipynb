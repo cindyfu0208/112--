{
 "cells": [
  {
   "cell_type": "code",
   "execution_count": 1,
   "id": "6db6cba0",
   "metadata": {
    "scrolled": true
   },
   "outputs": [
    {
     "name": "stdout",
     "output_type": "stream",
     "text": [
      "Requirement already satisfied: pip in /opt/anaconda3/lib/python3.9/site-packages (23.1.2)\n",
      "Note: you may need to restart the kernel to use updated packages.\n"
     ]
    }
   ],
   "source": [
    "pip install --upgrade pip\n"
   ]
  },
  {
   "cell_type": "code",
   "execution_count": 2,
   "id": "f6096b3c",
   "metadata": {},
   "outputs": [
    {
     "name": "stdout",
     "output_type": "stream",
     "text": [
      "Requirement already satisfied: openai in /opt/anaconda3/lib/python3.9/site-packages (0.27.5)\n",
      "Requirement already satisfied: requests>=2.20 in /opt/anaconda3/lib/python3.9/site-packages (from openai) (2.28.1)\n",
      "Requirement already satisfied: tqdm in /opt/anaconda3/lib/python3.9/site-packages (from openai) (4.64.1)\n",
      "Requirement already satisfied: aiohttp in /opt/anaconda3/lib/python3.9/site-packages (from openai) (3.8.4)\n",
      "Requirement already satisfied: charset-normalizer<3,>=2 in /opt/anaconda3/lib/python3.9/site-packages (from requests>=2.20->openai) (2.0.4)\n",
      "Requirement already satisfied: idna<4,>=2.5 in /opt/anaconda3/lib/python3.9/site-packages (from requests>=2.20->openai) (3.3)\n",
      "Requirement already satisfied: urllib3<1.27,>=1.21.1 in /opt/anaconda3/lib/python3.9/site-packages (from requests>=2.20->openai) (1.26.11)\n",
      "Requirement already satisfied: certifi>=2017.4.17 in /opt/anaconda3/lib/python3.9/site-packages (from requests>=2.20->openai) (2022.12.7)\n",
      "Requirement already satisfied: attrs>=17.3.0 in /opt/anaconda3/lib/python3.9/site-packages (from aiohttp->openai) (21.4.0)\n",
      "Requirement already satisfied: multidict<7.0,>=4.5 in /opt/anaconda3/lib/python3.9/site-packages (from aiohttp->openai) (6.0.4)\n",
      "Requirement already satisfied: async-timeout<5.0,>=4.0.0a3 in /opt/anaconda3/lib/python3.9/site-packages (from aiohttp->openai) (4.0.2)\n",
      "Requirement already satisfied: yarl<2.0,>=1.0 in /opt/anaconda3/lib/python3.9/site-packages (from aiohttp->openai) (1.9.2)\n",
      "Requirement already satisfied: frozenlist>=1.1.1 in /opt/anaconda3/lib/python3.9/site-packages (from aiohttp->openai) (1.3.3)\n",
      "Requirement already satisfied: aiosignal>=1.1.2 in /opt/anaconda3/lib/python3.9/site-packages (from aiohttp->openai) (1.3.1)\n"
     ]
    }
   ],
   "source": [
    "!pip install openai"
   ]
  },
  {
   "cell_type": "code",
   "execution_count": 3,
   "id": "66d4297f",
   "metadata": {},
   "outputs": [],
   "source": [
    "import openai\n",
    "import pandas as pd"
   ]
  },
  {
   "cell_type": "code",
   "execution_count": 4,
   "id": "9382eb24",
   "metadata": {},
   "outputs": [],
   "source": [
    "with open('01.txt', 'r') as fh:\n",
    "    tmp = fh.read()\n",
    "    itemlist = tmp.split(',')"
   ]
  },
  {
   "cell_type": "code",
   "execution_count": 5,
   "id": "a75137f3",
   "metadata": {
    "scrolled": true
   },
   "outputs": [],
   "source": [
    "with open('02.txt', 'r') as fh:\n",
    "    tmp = fh.read()\n",
    "    itemlist = tmp.split(',')"
   ]
  },
  {
   "cell_type": "code",
   "execution_count": 6,
   "id": "21c33913",
   "metadata": {},
   "outputs": [],
   "source": [
    "itemlist = str(itemlist)"
   ]
  },
  {
   "cell_type": "code",
   "execution_count": 7,
   "id": "fbaf1ad7",
   "metadata": {},
   "outputs": [],
   "source": [
    "keyfile = open(\"key.txt\", \"r\")\n",
    "key = keyfile.readline()\n",
    "openai.api_key = key"
   ]
  },
  {
   "cell_type": "code",
   "execution_count": 8,
   "id": "57e4d87a",
   "metadata": {},
   "outputs": [],
   "source": [
    "data = [itemlist[0:3200], itemlist[3201:6400], \n",
    "        itemlist[6401:9600], itemlist[9601:12800], itemlist[12801:16000]]"
   ]
  },
  {
   "cell_type": "code",
   "execution_count": 9,
   "id": "871dbc12",
   "metadata": {},
   "outputs": [
    {
     "data": {
      "text/plain": [
       "'[\\'The fighting that has erupted in the Sudanese capital\\', \\' Khartoum\\', \" and elsewhere in the country is a direct result of a vicious power struggle within the country\\'s military leadership.\\\\n\\\\nThe clashes are between the regular army and a paramilitary force called the Rapid Support Forces (RSF).\\\\n\\\\nWhere is Sudan?\\\\nSudan is in north-east Africa and is one of the largest countries on the continent\", \\' covering 1.9 million square kilometres.\\\\n\\\\nIt is also one the poorest countries in the world\\', \" with its 46 million people living on an average annual income of $750 (£606) a head.\\\\n\\\\nThe population of Sudan is predominantly Muslim and the country\\'s official languages are Arabic and English.\\\\n\\\\nADVERTISEMENT\\\\n\\\\nMap of Sudan showing major roads\\\\nWho is fighting who in Sudan?\\\\nSince the 2021 coup\", \\' Sudan has been run by a council of generals\\', \\' led by the two military men at the centre of this dispute:\\\\n\\\\nGen Abdel Fattah al-Burhan\\', \" the head of the armed forces and in effect the country\\'s president\\\\nAnd his deputy and leader of the RSF\", \\' Gen Mohamed Hamdan Dagalo\\', \\' better known as Hemedti.\\\\nGen Dagalo amongst supporters\\\\nIMAGE SOURCE\\', \\'GETTY IMAGES\\\\nImage caption\\', \\'\\\\nGen Dagalo\\', \\' head of the RSF\\', \\' among supporters\\\\nThey have disagreed on the direction the country is going in and the proposed move towards civilian rule.\\\\n\\\\nThe main sticking points are plans to include the 100\\', \\'000-strong RSF into the army\\', \\' and who would then lead the new force.\\\\n\\\\nWhy did the fighting in Sudan start?\\\\nThe shooting began on 15 April following days of tension as members of the RSF were redeployed around the country in a move that the army saw as a threat.\\\\n\\\\nThere had been some hope that talks could resolve the situation but these never happened.\\\\n\\\\nIt is disputed who fired the first shot but the fighting swiftly escalated in different parts of the country with more than 400 civilians dying\\', \\' according to the World Health Organization.\\\\n\\\\nWhy have civilians got caught up?\\\\nEven though the conflict appears to be around the control of key installations\\', \\' much of it is happening in urban areas and civilians have become the unwitting victims.\\\\n\\\\nIt is not exactly clear where the RSF bases are\\', \\' but it seems that their fighters moved into densely populated areas.\\\\n\\\\nThe Sudanese air force has mounted air strikes in the capital\\', \\' a city of more than six million people\\', \\' which is likely to have led to civilian casualties.\\\\n\\\\nSeveral ceasefires have been announced to allow people to escape the fighting but these have not been observed.\\\\n\\\\nWhat are the Rapid Support Forces?\\\\nThe RSF was formed in 2013 and has its origins in the notorious Janjaweed militia that brutally fought rebels in Darfur\\', \\' where they were accused of ethnic cleansing.\\\\n\\\\nSince then\\', \" Gen Dagalo has built a powerful force that has intervened in conflicts in Yemen and Libya. He has also developed economic interests including controlling some of Sudan\\'s gold mines.\\\\n\\\\nThe RSF has been accused of human rights abuses\", \" including the massacre of more than 120 protesters in June 2019.\\\\n\\\\nSuch a strong force outside the army has been seen as a source of instability in the co'"
      ]
     },
     "execution_count": 9,
     "metadata": {},
     "output_type": "execute_result"
    }
   ],
   "source": [
    "data[0]"
   ]
  },
  {
   "cell_type": "code",
   "execution_count": 10,
   "id": "b4192d3a",
   "metadata": {},
   "outputs": [],
   "source": [
    "def chatgptfn(sub_list):\n",
    "    result = ''\n",
    "    response = openai.ChatCompletion.create(\n",
    "        model=\"gpt-3.5-turbo\",\n",
    "        messages=[\n",
    "            {\"role\": \"system\", \"content\": \"You are an assistant\"},\n",
    "            {\"role\": \"user\", \"content\": f\"{sub_list} :give me a summary\"}\n",
    "        ]\n",
    "    )\n",
    "    for choice in response.choices:\n",
    "        result += choice.message.content\n",
    "    return result"
   ]
  },
  {
   "cell_type": "code",
   "execution_count": 11,
   "id": "d8dd0574",
   "metadata": {},
   "outputs": [],
   "source": [
    "data1 = ''\n",
    "for i in range(0,5):\n",
    "    data1 = data1 + data[i]"
   ]
  },
  {
   "cell_type": "code",
   "execution_count": 12,
   "id": "28e2c926",
   "metadata": {},
   "outputs": [
    {
     "data": {
      "text/plain": [
       "'[\\'The fighting that has erupted in the Sudanese capital\\', \\' Khartoum\\', \" and elsewhere in the country is a direct result of a vicious power struggle within the country\\'s military leadership.\\\\n\\\\nThe clashes are between the regular army and a paramilitary force called the Rapid Support Forces (RSF).\\\\n\\\\nWhere is Sudan?\\\\nSudan is in north-east Africa and is one of the largest countries on the continent\", \\' covering 1.9 million square kilometres.\\\\n\\\\nIt is also one the poorest countries in the world\\', \" with its 46 million people living on an average annual income of $750 (£606) a head.\\\\n\\\\nThe population of Sudan is predominantly Muslim and the country\\'s official languages are Arabic and English.\\\\n\\\\nADVERTISEMENT\\\\n\\\\nMap of Sudan showing major roads\\\\nWho is fighting who in Sudan?\\\\nSince the 2021 coup\", \\' Sudan has been run by a council of generals\\', \\' led by the two military men at the centre of this dispute:\\\\n\\\\nGen Abdel Fattah al-Burhan\\', \" the head of the armed forces and in effect the country\\'s president\\\\nAnd his deputy and leader of the RSF\", \\' Gen Mohamed Hamdan Dagalo\\', \\' better known as Hemedti.\\\\nGen Dagalo amongst supporters\\\\nIMAGE SOURCE\\', \\'GETTY IMAGES\\\\nImage caption\\', \\'\\\\nGen Dagalo\\', \\' head of the RSF\\', \\' among supporters\\\\nThey have disagreed on the direction the country is going in and the proposed move towards civilian rule.\\\\n\\\\nThe main sticking points are plans to include the 100\\', \\'000-strong RSF into the army\\', \\' and who would then lead the new force.\\\\n\\\\nWhy did the fighting in Sudan start?\\\\nThe shooting began on 15 April following days of tension as members of the RSF were redeployed around the country in a move that the army saw as a threat.\\\\n\\\\nThere had been some hope that talks could resolve the situation but these never happened.\\\\n\\\\nIt is disputed who fired the first shot but the fighting swiftly escalated in different parts of the country with more than 400 civilians dying\\', \\' according to the World Health Organization.\\\\n\\\\nWhy have civilians got caught up?\\\\nEven though the conflict appears to be around the control of key installations\\', \\' much of it is happening in urban areas and civilians have become the unwitting victims.\\\\n\\\\nIt is not exactly clear where the RSF bases are\\', \\' but it seems that their fighters moved into densely populated areas.\\\\n\\\\nThe Sudanese air force has mounted air strikes in the capital\\', \\' a city of more than six million people\\', \\' which is likely to have led to civilian casualties.\\\\n\\\\nSeveral ceasefires have been announced to allow people to escape the fighting but these have not been observed.\\\\n\\\\nWhat are the Rapid Support Forces?\\\\nThe RSF was formed in 2013 and has its origins in the notorious Janjaweed militia that brutally fought rebels in Darfur\\', \\' where they were accused of ethnic cleansing.\\\\n\\\\nSince then\\', \" Gen Dagalo has built a powerful force that has intervened in conflicts in Yemen and Libya. He has also developed economic interests including controlling some of Sudan\\'s gold mines.\\\\n\\\\nThe RSF has been accused of human rights abuses\", \" including the massacre of more than 120 protesters in June 2019.\\\\n\\\\nSuch a strong force outside the army has been seen as a source of instability in the contry.\\\\n\\\\nThe RSF - Sudan\\'s ruthless gold mercenaries\\\\nWho is Gen Dagalo\\\\nWhy is the military in charge of Sudan?\\\\nThis fighting is the latest episode in bouts of tension that followed the 2019 ousting of long-serving President Omar al-Bashir\", \\' who came to power in a coup in 1989.\\\\n\\\\nThere were huge street protests calling for an end to his near-three decade rule and the army mounted a coup to get rid of him.\\\\n\\\\nBut civilians continued to campaign for the introduction of democracy.\\\\n\\\\nGeneral Abdel Fattah al-Burhan\\\\nIMAGE SOURCE\\', \\'AFP\\\\nImage caption\\', \"\\\\nSudan\\'s military leader\", \\' Gen Abdel Fattah al-Burhan\\\\nA joint military-civilian government was then established but that was overthrown in another coup in October 2021\\', \\' when Gen Burhan took over.\\\\n\\\\nAnd since then the rivalry between Gen Burhan and Gen Dagalo has intensified.\\\\n\\\\nA framework deal to put power back in the hands of civilians was agreed last December but talks to finalise the details have failed.\\\\n\\\\nWhat do the two sides want?\\\\nGen Dagalo has said\\', \\' in a series of tweets\\', \\' that Gen Burhan\\\\\\'s government were \"radical Islamists\" and that he and the RSF were \"fighting for the people of Sudan to ensure the democratic progress for which they have so long yearned\".\\\\n\\\\nMany find this message hard to believe\\', \\' given the brutal track record of the RSF.\\\\n\\\\nGen Burhan has said he supports the idea of returning to civilian rule\\', \\' but that he will only hand over power to an elected government. Some suspect him of having links to ex-President Bashir and his allies\\', \\' which the army has denied.\\\\n\\\\nThere are suspicions that both generals want to hang on to their positions of power\\', \\' unwilling to losing the wealth and influence that go with them.\\\\n\\\\nWhat are other countries doing?\\\\nThere are fears that the fighting could further fragment the country\\', \\' worsen political turbulence and draw in neighbouring states.\\\\n\\\\nDiplomats\\', \\' who have played a crucial role in trying to urge a return to civilian rule\\', \\' have been trying to find a way to get the two generals to talk.\\\\n\\\\nSoon after the fighting began a regional bloc agreed to send three presidents - from Kenya\\', \\' South Sudan and Djibouti - to Khartoum\\', \\' but the mission never happened.\\\\n\\\\nThe UK\\', \\' US and EU have all called for a ceasefire and talks to resolve the crisis and many countries are now focused on trying to get their citizens out.\\']'"
      ]
     },
     "execution_count": 12,
     "metadata": {},
     "output_type": "execute_result"
    }
   ],
   "source": [
    "data1"
   ]
  },
  {
   "cell_type": "code",
   "execution_count": 13,
   "id": "be24bb1c",
   "metadata": {},
   "outputs": [],
   "source": [
    "import gensim\n",
    "from gensim import corpora\n",
    "from pprint import pprint"
   ]
  },
  {
   "cell_type": "code",
   "execution_count": 14,
   "id": "9715d795",
   "metadata": {},
   "outputs": [],
   "source": [
    "# 創建詞袋\n",
    "texts = [[word for word in document.lower().split()] for document in data]\n",
    "dictionary = corpora.Dictionary(texts)\n",
    "corpus = [dictionary.doc2bow(text) for text in texts]"
   ]
  },
  {
   "cell_type": "code",
   "execution_count": 15,
   "id": "c5c2ae41",
   "metadata": {},
   "outputs": [],
   "source": [
    "# 訓練 LDA 模型\n",
    "lda_model = gensim.models.ldamodel.LdaModel(corpus=corpus, id2word=dictionary, \n",
    "                                            num_topics=3, random_state=100, update_every=1, \n",
    "                                            chunksize=100, passes=10, alpha='auto', per_word_topics=True)"
   ]
  },
  {
   "cell_type": "code",
   "execution_count": 16,
   "id": "ec54d63c",
   "metadata": {},
   "outputs": [
    {
     "name": "stdout",
     "output_type": "stream",
     "text": [
      "Requirement already satisfied: pyLDAvis in /opt/anaconda3/lib/python3.9/site-packages (3.4.1)\n",
      "Requirement already satisfied: numpy>=1.24.2 in /opt/anaconda3/lib/python3.9/site-packages (from pyLDAvis) (1.24.3)\n",
      "Requirement already satisfied: scipy in /opt/anaconda3/lib/python3.9/site-packages (from pyLDAvis) (1.9.1)\n",
      "Requirement already satisfied: pandas>=2.0.0 in /opt/anaconda3/lib/python3.9/site-packages (from pyLDAvis) (2.0.1)\n",
      "Requirement already satisfied: joblib>=1.2.0 in /opt/anaconda3/lib/python3.9/site-packages (from pyLDAvis) (1.2.0)\n",
      "Requirement already satisfied: jinja2 in /opt/anaconda3/lib/python3.9/site-packages (from pyLDAvis) (2.11.3)\n",
      "Requirement already satisfied: numexpr in /opt/anaconda3/lib/python3.9/site-packages (from pyLDAvis) (2.8.3)\n",
      "Requirement already satisfied: funcy in /opt/anaconda3/lib/python3.9/site-packages (from pyLDAvis) (2.0)\n",
      "Requirement already satisfied: scikit-learn>=1.0.0 in /opt/anaconda3/lib/python3.9/site-packages (from pyLDAvis) (1.0.2)\n",
      "Requirement already satisfied: gensim in /opt/anaconda3/lib/python3.9/site-packages (from pyLDAvis) (4.1.2)\n",
      "Requirement already satisfied: setuptools in /opt/anaconda3/lib/python3.9/site-packages (from pyLDAvis) (63.4.1)\n",
      "Requirement already satisfied: python-dateutil>=2.8.2 in /opt/anaconda3/lib/python3.9/site-packages (from pandas>=2.0.0->pyLDAvis) (2.8.2)\n",
      "Requirement already satisfied: pytz>=2020.1 in /opt/anaconda3/lib/python3.9/site-packages (from pandas>=2.0.0->pyLDAvis) (2022.7)\n",
      "Requirement already satisfied: tzdata>=2022.1 in /opt/anaconda3/lib/python3.9/site-packages (from pandas>=2.0.0->pyLDAvis) (2023.3)\n",
      "Requirement already satisfied: threadpoolctl>=2.0.0 in /opt/anaconda3/lib/python3.9/site-packages (from scikit-learn>=1.0.0->pyLDAvis) (2.2.0)\n",
      "Requirement already satisfied: smart-open>=1.8.1 in /opt/anaconda3/lib/python3.9/site-packages (from gensim->pyLDAvis) (5.2.1)\n",
      "Requirement already satisfied: MarkupSafe>=0.23 in /opt/anaconda3/lib/python3.9/site-packages (from jinja2->pyLDAvis) (2.0.1)\n",
      "Requirement already satisfied: packaging in /opt/anaconda3/lib/python3.9/site-packages (from numexpr->pyLDAvis) (21.3)\n",
      "Requirement already satisfied: six>=1.5 in /opt/anaconda3/lib/python3.9/site-packages (from python-dateutil>=2.8.2->pandas>=2.0.0->pyLDAvis) (1.16.0)\n",
      "Requirement already satisfied: pyparsing!=3.0.5,>=2.0.2 in /opt/anaconda3/lib/python3.9/site-packages (from packaging->numexpr->pyLDAvis) (3.0.9)\n"
     ]
    }
   ],
   "source": [
    "!pip install pyLDAvis\n",
    "\n"
   ]
  },
  {
   "cell_type": "code",
   "execution_count": 17,
   "id": "6d6f15ce",
   "metadata": {},
   "outputs": [
    {
     "data": {
      "text/html": [
       "\n",
       "<link rel=\"stylesheet\" type=\"text/css\" href=\"https://cdn.jsdelivr.net/gh/bmabey/pyLDAvis@3.4.0/pyLDAvis/js/ldavis.v1.0.0.css\">\n",
       "\n",
       "\n",
       "<div id=\"ldavis_el12001401712541284164012481433\" style=\"background-color:white;\"></div>\n",
       "<script type=\"text/javascript\">\n",
       "\n",
       "var ldavis_el12001401712541284164012481433_data = {\"mdsDat\": {\"x\": [0.06186884529504251, -0.030424177027797858, -0.03144466826724465], \"y\": [-0.0, -0.0, -0.0], \"topics\": [1, 2, 3], \"cluster\": [1, 1, 1], \"Freq\": [99.97618777077244, 0.011936357879150036, 0.011875871348405637]}, \"tinfo\": {\"Term\": [\"to\", \"the\", \"'\", \"in\", \"of\", \"and\", \"a\", \"is\", \"that\", \"has\", \"have\", \"gen\", \"are\", \"but\", \"fighting\", \"rsf\", \"been\", \"on\", \"sudan\", \"who\", \"\\\"\", \"for\", \"army\", \"were\", \"civilians\", \"power\", \"military\", \"he\", \"was\", \"dagalo\", \"the\", \"of\", \"'\", \"to\", \"in\", \"and\", \"a\", \"is\", \"that\", \"has\", \"have\", \"fighting\", \"but\", \"are\", \"gen\", \"been\", \"rsf\", \"sudan\", \"on\", \"civilians\", \"were\", \"army\", \"for\", \"\\\"\", \"who\", \"force\", \"country\", \"civilian\", \"as\", \"countries\", \"came\", \"calling\", \"country',\", \"back\", \"bashir\", \"many\", \"unwilling\", \"continued\", \"introduction\", \"2019\", \"overthrown\", \"latest\", \"send\", \"finalise\", \"doing?\\\\nthere\", \"south\", \"positions\", \"episode\", \"hand\", \"having\", \"al-burhan\\\\na\", \"from\", \"2021',\", \"burhan\\\\'s\", \"dagalo\\\\nwhy\", \"details\", \"role\", \"long-serving\", \"brutal\", \"military-civilian\", \"after\", \"kenya',\", \"returning\", \"the\", \"'\", \"to\", \"and\", \"a\", \"in\", \"of\", \"has\", \"that\", \"have\", \"agreed\", \"is\", \"gen\", \"-\", \"are\", \"rsf\", \"trying\", \"but\", \"who\", \"power\", \"on\", \"military\", \"coup\", \"for\", \"government\", \"sudan\", \"their\", \"find\", \"been\", \"fighting\", \"civilians\", \"\\\"\", \"was\", \"dagalo\", \"country',\", \"latest\", \"positions\", \"military-civilian\", \"political\", \"south\", \"track\", \"bashir\", \"doing?\\\\nthere\", \"send\", \"overthrown\", \"allies',\", \"unwilling\", \"back\", \"hands\", \"2019\", \"him.\\\\n\\\\nbut\", \"hand\", \"calling\", \"when\", \"elected\", \"said\", \"three\", \"suspect\", \"many\", \"democracy.\\\\n\\\\ngeneral\", \"burhan\\\\'s\", \"mission\", \"other\", \"fears\", \"djibouti\", \"islamists\\\"\", \"record\", \"the\", \"to\", \"in\", \"of\", \"a\", \"has\", \"'\", \"and\", \"have\", \"gen\", \"that\", \"is\", \"but\", \"are\", \"fighting\", \"been\", \"on\", \"who\", \"sudan\", \"rsf\", \"\\\"\", \"power\", \"were\", \"army\", \"he\", \"-\", \"trying\", \"was\", \"dagalo\", \"civilians\"], \"Freq\": [26.0, 57.0, 26.0, 25.0, 28.0, 20.0, 16.0, 13.0, 12.0, 11.0, 9.0, 7.0, 7.0, 7.0, 7.0, 6.0, 6.0, 5.0, 5.0, 4.0, 4.0, 4.0, 4.0, 4.0, 4.0, 3.0, 3.0, 3.0, 3.0, 3.0, 57.827033213698876, 28.619966965558554, 26.039408502268063, 26.024686572801812, 25.17991620231493, 20.02412278514454, 16.58478453750081, 13.163964909591298, 12.301205216672969, 11.438702538310313, 9.722635859432165, 7.155392107298147, 7.152709146771427, 7.152532714337169, 7.147097238189454, 6.295894717947875, 6.294255507951704, 5.4358111996934095, 5.435194534406364, 4.577793976678618, 4.577654866490068, 4.577629419504358, 4.57740209309868, 4.577134899748722, 4.575083024467617, 3.721803181959222, 3.721327747442868, 3.7210524958807687, 3.720973186108638, 3.71895905718967, 0.00024175009218425472, 0.00024167413801577813, 0.0002415348380707921, 0.00024152121695657865, 0.0002415073932979159, 0.00024151714074953706, 0.00024148979724888548, 0.0002415383572805982, 0.0002414894174780431, 0.0002414364267865026, 0.00024141652679436176, 0.00024138713253116134, 0.0002413690554390639, 0.00024143645210455877, 0.00024134738318299192, 0.00024132624260609926, 0.00024129606348315791, 0.000241354725419278, 0.00024130829210428263, 0.00024134102835089605, 0.0002413401422189305, 0.00024130274744998384, 0.00024133667364523671, 0.00024128606285097516, 0.00024132621728804312, 0.00024130730470009245, 0.00024126720089913682, 0.00024127917633969995, 0.00024124243984021345, 0.00024118922128616753, 0.00024128140432864195, 0.00024125193411127303, 0.0002412542886904958, 0.00028692403643014545, 0.000272059451206494, 0.00027189731437485265, 0.0002682972893335124, 0.00026148389660448994, 0.0002645397859828641, 0.00026492813964628477, 0.00025493069753861205, 0.0002547186335002255, 0.0002528547688419227, 0.00024412145727826178, 0.00025291735507674743, 0.0002499665103133764, 0.0002457110007980833, 0.0002475922083248549, 0.0002471256218679033, 0.0002450179696468469, 0.00024726385845453067, 0.0002460428192421013, 0.0002452276791060107, 0.00024609003741683756, 0.00024510805129066015, 0.000244252984580007, 0.0002453800684860309, 0.0002431713719028445, 0.0002456094753928863, 0.0002439949176335798, 0.00024300255110437722, 0.00024553602771196947, 0.0002452955314965165, 0.00024489608852449815, 0.0002444320085551063, 0.00024430577272709824, 0.0002442928098823449, 0.00024033901672225363, 0.00024029508578264226, 0.0002403127186139083, 0.0002402972521019121, 0.00024026778008393886, 0.00024023344644248803, 0.00024031040115608476, 0.00024017090027101152, 0.0002401958633221324, 0.0002401809257950742, 0.0002401697667318587, 0.00024025415242434612, 0.00024014482887049673, 0.00024012656629525693, 0.00024023772870150978, 0.00024013263702716422, 0.0002402148312106229, 0.0002401356094187205, 0.00024005998976234818, 0.00024015530781022054, 0.00024024682220449123, 0.00024017739922882098, 0.000240206468210651, 0.00024014117635544878, 0.00024006054393704512, 0.0002401458364608548, 0.00024010485272304074, 0.00024014634025603383, 0.00024011180509651137, 0.0002401236694729775, 0.0002401759382228018, 0.0002401657615601854, 0.0002401390352259379, 0.0002691716430440114, 0.00026339150019597066, 0.00025786990503380786, 0.00025809593274087945, 0.0002552241238920989, 0.0002491782542768791, 0.00025095720543355, 0.00024963222411270253, 0.0002476409232880707, 0.0002463113574310941, 0.00024746623230974225, 0.000247124810316914, 0.00024433096377208825, 0.00024415095775462105, 0.0002440585365290281, 0.0002432351084986634, 0.00024310248441778389, 0.0002430766397250997, 0.0002430671935654929, 0.00024301560493916028, 0.00024297439449351565, 0.0002428368080301227, 0.00024283108995484072, 0.00024281212206635027, 0.00024269602246734294, 0.00024232147594149348, 0.00024222104437255395, 0.00024202977853283544, 0.00024202929992741537, 0.0002419620684607739], \"Total\": [26.0, 57.0, 26.0, 25.0, 28.0, 20.0, 16.0, 13.0, 12.0, 11.0, 9.0, 7.0, 7.0, 7.0, 7.0, 6.0, 6.0, 5.0, 5.0, 4.0, 4.0, 4.0, 4.0, 4.0, 4.0, 3.0, 3.0, 3.0, 3.0, 3.0, 57.82758930937835, 28.62048998963094, 26.039931518924703, 26.02522186161638, 25.18043861200595, 20.024640714657988, 16.585301245521308, 13.164464951756692, 12.301707401538778, 11.439206647262129, 9.723136355124295, 7.155881461366173, 7.153200741593654, 7.153024457503248, 7.147593516057199, 6.296383489084086, 6.294745649178511, 5.436299876362368, 5.435683726928199, 4.578280834835603, 4.578141839646199, 4.578116413922992, 4.577889279537726, 4.5776223061517705, 4.575572143926584, 3.722286527459378, 3.72181149132188, 3.721536469207735, 3.7214572254527796, 3.7194447782472135, 1.1436961931655483, 1.1436138769324615, 1.1434458544955743, 1.1437172749964903, 1.1436805134066348, 1.1438013920089831, 1.1437330601763196, 1.1441807660916914, 1.1439736517913872, 1.1438116682115014, 1.1437907977071102, 1.1436757460215587, 1.143834339357847, 1.144175045142221, 1.1438423908352595, 1.1438226858638776, 1.1437635707151497, 1.1441103151519847, 1.1439614682066872, 1.1441825667301122, 1.1442193283461863, 1.1440641246374559, 1.1442578906555223, 1.144025138714121, 1.1442271677038847, 1.1442352193716099, 1.144185744760615, 1.144254500480692, 1.1441502547089277, 1.1439102987198102, 1.1443806760165158, 1.1442353251705104, 1.1442586319883774, 57.82758930937835, 26.039931518924703, 26.02522186161638, 20.024640714657988, 16.585301245521308, 25.18043861200595, 28.62048998963094, 11.439206647262129, 12.301707401538778, 9.723136355124295, 1.9994506544090636, 13.164464951756692, 7.147593516057199, 2.856478519407042, 7.153024457503248, 6.294745649178511, 2.857427958802386, 7.153200741593654, 4.575572143926584, 3.716637350337963, 5.435683726928199, 3.7179476251229002, 2.859484055260848, 4.577889279537726, 2.0015355672262793, 5.436299876362368, 2.859904851126693, 2.0012207107699296, 6.296383489084086, 7.155881461366173, 4.578280834835603, 4.5776223061517705, 3.718709126621046, 3.7187248054874504, 1.1434458544955743, 1.1436757460215587, 1.1437635707151497, 1.1439102987198102, 1.1439454709113583, 1.1438226858638776, 1.1442882949174955, 1.1436805134066348, 1.1438423908352595, 1.143834339357847, 1.1437907977071102, 1.1441961265185392, 1.1437330601763196, 1.1437172749964903, 1.1442539700865566, 1.1438116682115014, 1.144268695919176, 1.1439614682066872, 1.1436138769324615, 1.1440991910016478, 1.1445652237684034, 1.144235854354163, 1.14438120494355, 1.1441738791345022, 1.1438013920089831, 1.1442179505334682, 1.144025138714121, 1.144323785248905, 1.1441606366590602, 1.1442690140150797, 1.1445711566958199, 1.144866836932049, 1.1447705368173966, 57.82758930937835, 26.02522186161638, 25.18043861200595, 28.62048998963094, 16.585301245521308, 11.439206647262129, 26.039931518924703, 20.024640714657988, 9.723136355124295, 7.147593516057199, 12.301707401538778, 13.164464951756692, 7.153200741593654, 7.153024457503248, 7.155881461366173, 6.296383489084086, 5.435683726928199, 4.575572143926584, 5.436299876362368, 6.294745649178511, 4.5776223061517705, 3.716637350337963, 4.578141839646199, 4.578116413922992, 3.7184345267839864, 2.856478519407042, 2.857427958802386, 3.718709126621046, 3.7187248054874504, 4.578280834835603], \"Category\": [\"Default\", \"Default\", \"Default\", \"Default\", \"Default\", \"Default\", \"Default\", \"Default\", \"Default\", \"Default\", \"Default\", \"Default\", \"Default\", \"Default\", \"Default\", \"Default\", \"Default\", \"Default\", \"Default\", \"Default\", \"Default\", \"Default\", \"Default\", \"Default\", \"Default\", \"Default\", \"Default\", \"Default\", \"Default\", \"Default\", \"Topic1\", \"Topic1\", \"Topic1\", \"Topic1\", \"Topic1\", \"Topic1\", \"Topic1\", \"Topic1\", \"Topic1\", \"Topic1\", \"Topic1\", \"Topic1\", \"Topic1\", \"Topic1\", \"Topic1\", \"Topic1\", \"Topic1\", \"Topic1\", \"Topic1\", \"Topic1\", \"Topic1\", \"Topic1\", \"Topic1\", \"Topic1\", \"Topic1\", \"Topic1\", \"Topic1\", \"Topic1\", \"Topic1\", \"Topic1\", \"Topic2\", \"Topic2\", \"Topic2\", \"Topic2\", \"Topic2\", \"Topic2\", \"Topic2\", \"Topic2\", \"Topic2\", \"Topic2\", \"Topic2\", \"Topic2\", \"Topic2\", \"Topic2\", \"Topic2\", \"Topic2\", \"Topic2\", \"Topic2\", \"Topic2\", \"Topic2\", \"Topic2\", \"Topic2\", \"Topic2\", \"Topic2\", \"Topic2\", \"Topic2\", \"Topic2\", \"Topic2\", \"Topic2\", \"Topic2\", \"Topic2\", \"Topic2\", \"Topic2\", \"Topic2\", \"Topic2\", \"Topic2\", \"Topic2\", \"Topic2\", \"Topic2\", \"Topic2\", \"Topic2\", \"Topic2\", \"Topic2\", \"Topic2\", \"Topic2\", \"Topic2\", \"Topic2\", \"Topic2\", \"Topic2\", \"Topic2\", \"Topic2\", \"Topic2\", \"Topic2\", \"Topic2\", \"Topic2\", \"Topic2\", \"Topic2\", \"Topic2\", \"Topic2\", \"Topic2\", \"Topic2\", \"Topic2\", \"Topic2\", \"Topic2\", \"Topic2\", \"Topic2\", \"Topic2\", \"Topic3\", \"Topic3\", \"Topic3\", \"Topic3\", \"Topic3\", \"Topic3\", \"Topic3\", \"Topic3\", \"Topic3\", \"Topic3\", \"Topic3\", \"Topic3\", \"Topic3\", \"Topic3\", \"Topic3\", \"Topic3\", \"Topic3\", \"Topic3\", \"Topic3\", \"Topic3\", \"Topic3\", \"Topic3\", \"Topic3\", \"Topic3\", \"Topic3\", \"Topic3\", \"Topic3\", \"Topic3\", \"Topic3\", \"Topic3\", \"Topic3\", \"Topic3\", \"Topic3\", \"Topic3\", \"Topic3\", \"Topic3\", \"Topic3\", \"Topic3\", \"Topic3\", \"Topic3\", \"Topic3\", \"Topic3\", \"Topic3\", \"Topic3\", \"Topic3\", \"Topic3\", \"Topic3\", \"Topic3\", \"Topic3\", \"Topic3\", \"Topic3\", \"Topic3\", \"Topic3\", \"Topic3\", \"Topic3\", \"Topic3\", \"Topic3\", \"Topic3\", \"Topic3\", \"Topic3\", \"Topic3\", \"Topic3\", \"Topic3\"], \"logprob\": [30.0, 29.0, 28.0, 27.0, 26.0, 25.0, 24.0, 23.0, 22.0, 21.0, 20.0, 19.0, 18.0, 17.0, 16.0, 15.0, 14.0, 13.0, 12.0, 11.0, 10.0, 9.0, 8.0, 7.0, 6.0, 5.0, 4.0, 3.0, 2.0, 1.0, -2.7568, -3.4602, -3.5547, -3.5553, -3.5883, -3.8174, -4.0058, -4.2368, -4.3046, -4.3773, -4.5398, -4.8464, -4.8468, -4.8468, -4.8476, -4.9744, -4.9747, -5.1213, -5.1214, -5.2931, -5.2931, -5.2931, -5.2932, -5.2932, -5.2937, -5.5001, -5.5002, -5.5003, -5.5003, -5.5009, -6.1088, -6.1091, -6.1097, -6.1098, -6.1098, -6.1098, -6.1099, -6.1097, -6.1099, -6.1101, -6.1102, -6.1103, -6.1104, -6.1101, -6.1105, -6.1106, -6.1107, -6.1104, -6.1106, -6.1105, -6.1105, -6.1107, -6.1105, -6.1107, -6.1106, -6.1106, -6.1108, -6.1108, -6.1109, -6.1111, -6.1108, -6.1109, -6.1109, -5.9375, -5.9907, -5.9913, -6.0046, -6.0303, -6.0187, -6.0173, -6.0557, -6.0566, -6.0639, -6.0991, -6.0637, -6.0754, -6.0926, -6.0849, -6.0868, -6.0954, -6.0863, -6.0912, -6.0945, -6.091, -6.095, -6.0985, -6.0939, -6.103, -6.093, -6.0996, -6.1036, -6.0933, -6.0943, -6.0959, -6.0978, -6.0983, -6.0983, -6.1096, -6.1098, -6.1097, -6.1098, -6.1099, -6.11, -6.1097, -6.1103, -6.1102, -6.1102, -6.1103, -6.1099, -6.1104, -6.1105, -6.11, -6.1104, -6.1101, -6.1104, -6.1107, -6.1104, -6.11, -6.1103, -6.1101, -6.1104, -6.1107, -6.1104, -6.1106, -6.1104, -6.1105, -6.1105, -6.1103, -6.1103, -6.1104, -5.9963, -6.018, -6.0392, -6.0383, -6.0495, -6.0735, -6.0664, -6.0716, -6.0797, -6.085, -6.0804, -6.0817, -6.0931, -6.0939, -6.0942, -6.0976, -6.0982, -6.0983, -6.0983, -6.0985, -6.0987, -6.0992, -6.0993, -6.0993, -6.0998, -6.1014, -6.1018, -6.1026, -6.1026, -6.1029], \"loglift\": [30.0, 29.0, 28.0, 27.0, 26.0, 25.0, 24.0, 23.0, 22.0, 21.0, 20.0, 19.0, 18.0, 17.0, 16.0, 15.0, 14.0, 13.0, 12.0, 11.0, 10.0, 9.0, 8.0, 7.0, 6.0, 5.0, 4.0, 3.0, 2.0, 1.0, 0.0002, 0.0002, 0.0002, 0.0002, 0.0002, 0.0002, 0.0002, 0.0002, 0.0002, 0.0002, 0.0002, 0.0002, 0.0002, 0.0002, 0.0002, 0.0002, 0.0002, 0.0001, 0.0001, 0.0001, 0.0001, 0.0001, 0.0001, 0.0001, 0.0001, 0.0001, 0.0001, 0.0001, 0.0001, 0.0001, 0.5715, 0.5712, 0.5708, 0.5705, 0.5705, 0.5704, 0.5704, 0.5702, 0.5701, 0.5701, 0.57, 0.57, 0.5698, 0.5697, 0.5697, 0.5696, 0.5695, 0.5695, 0.5694, 0.5693, 0.5693, 0.5693, 0.5693, 0.5693, 0.5692, 0.5692, 0.569, 0.569, 0.569, 0.569, 0.5689, 0.5689, 0.5689, -3.1804, -2.4358, -2.4358, -2.187, -2.0243, -2.4302, -2.5568, -1.6782, -1.7518, -1.5239, 0.0226, -1.8266, -1.2276, -0.3276, -1.2379, -1.112, -0.3308, -1.2393, -0.7974, -0.5928, -0.9695, -0.5936, -0.3346, -0.8006, 0.0177, -0.9715, -0.3358, 0.0171, -1.1187, -1.2476, -0.8027, -0.8044, -0.5971, -0.5972, 0.5709, 0.5705, 0.5705, 0.5703, 0.5702, 0.5701, 0.5701, 0.57, 0.57, 0.5699, 0.5699, 0.5699, 0.5699, 0.5698, 0.5698, 0.5697, 0.5697, 0.5696, 0.5696, 0.5696, 0.5695, 0.5695, 0.5695, 0.5695, 0.5694, 0.5694, 0.5694, 0.5693, 0.5693, 0.5693, 0.5692, 0.5689, 0.5689, -3.2392, -2.4625, -2.4507, -2.5779, -2.0435, -1.696, -2.5114, -2.2541, -1.5396, -1.2373, -1.7756, -1.8447, -1.2461, -1.2468, -1.2476, -1.123, -0.9766, -0.8044, -0.9769, -1.1237, -0.8053, -0.5975, -0.806, -0.8061, -0.5986, -0.3364, -0.3372, -0.6014, -0.6014, -0.8096]}, \"token.table\": {\"Topic\": [1, 1, 1, 1, 1, 1, 1, 1, 1, 1, 1, 1, 1, 1, 1, 1, 1, 1, 1, 1, 1, 1, 1, 1, 1, 1, 1, 1, 1, 1, 1, 1, 1, 1, 1, 1, 1, 1, 1, 1, 1, 1, 1, 1, 1, 1, 1, 1, 1, 1, 1, 1, 1, 1, 1, 1, 1, 1, 1, 1, 1, 1, 1, 1, 1, 1, 1, 1, 1, 1, 1, 1, 1, 1, 1, 1, 1, 1, 1, 1, 1, 1, 1, 1, 1, 1, 1, 1, 1, 1, 1, 1], \"Freq\": [1.0922701056573858, 0.9984665274985196, 1.0502442008990673, 0.8742698013945166, 0.8739288653077325, 1.025003992893447, 0.8738350978460316, 1.0002747482613412, 0.8739583183281515, 0.873976040316369, 0.9987694803113271, 0.9786070272215089, 1.0921522189330908, 1.0748477700192647, 0.8743419565845665, 0.8743700607622845, 0.9529279800701593, 0.8740110801744307, 0.8741066661559513, 0.9785829103462959, 0.8744210088481263, 0.874358073390257, 1.074824882974087, 1.0921129962049478, 0.8739877732919895, 1.075429328429228, 1.0747454591203156, 0.8745494997147418, 1.0491403141348636, 1.0756375395397617, 0.8739523306431322, 0.8739593707071022, 0.8739461808815666, 0.8736896733330483, 0.8742463192588775, 0.8736942021596356, 0.8740415908820462, 0.8739203699059717, 0.9782163158783779, 0.8739921432875684, 0.9993900169214919, 1.0922064066400703, 1.0746083007022498, 0.8740768794903795, 0.9793506002089196, 0.9992328054262821, 0.8741553171083934, 0.8739318596590541, 0.9616051479088151, 1.0284747261340002, 0.8739863978681631, 1.0757215089274503, 0.873920612847591, 0.9928341751791441, 0.8741460071515336, 0.9875069019242787, 0.8734640289518254, 0.873946100074286, 0.8743737055530332, 0.8739314545670636, 0.8742776560566962, 1.0758623851963962, 0.8741944198938805, 0.8738785411005743, 1.0132600808199494, 0.9198474839936261, 0.8740031495227732, 0.8742857540073244, 0.8741675415728689, 0.8743065661505025, 1.0762416730371258, 0.8735375062849918, 0.8739282991138994, 0.8739839703292394, 0.9531759239204564, 0.8739456958936376, 0.8742524730997356, 0.8742613801585385, 0.9197432286141078, 0.873993033957775, 0.9754743474470025, 1.0029814607989147, 1.0489859474933634, 0.8738346939639995, 0.9990308685262899, 0.8739056446191308, 1.0498952355941003, 0.8743298893938053, 1.0756420746557678, 1.0921461534242027, 0.8740500892448929, 1.0927595156895915], \"Term\": [\"\\\"\", \"'\", \"-\", \"2019\", \"2021',\", \"a\", \"after\", \"agreed\", \"al-burhan\\\\na\", \"allies',\", \"and\", \"are\", \"army\", \"as\", \"back\", \"bashir\", \"been\", \"brutal\", \"burhan\\\\'s\", \"but\", \"calling\", \"came\", \"civilian\", \"civilians\", \"continued\", \"countries\", \"country\", \"country',\", \"coup\", \"dagalo\", \"dagalo\\\\nwhy\", \"democracy.\\\\n\\\\ngeneral\", \"details\", \"djibouti\", \"doing?\\\\nthere\", \"elected\", \"episode\", \"fears\", \"fighting\", \"finalise\", \"find\", \"for\", \"force\", \"from\", \"gen\", \"government\", \"hand\", \"hands\", \"has\", \"have\", \"having\", \"he\", \"him.\\\\n\\\\nbut\", \"in\", \"introduction\", \"is\", \"islamists\\\"\", \"kenya',\", \"latest\", \"long-serving\", \"many\", \"military\", \"military-civilian\", \"mission\", \"of\", \"on\", \"other\", \"overthrown\", \"political\", \"positions\", \"power\", \"record\", \"returning\", \"role\", \"rsf\", \"said\", \"send\", \"south\", \"sudan\", \"suspect\", \"that\", \"the\", \"their\", \"three\", \"to\", \"track\", \"trying\", \"unwilling\", \"was\", \"were\", \"when\", \"who\"]}, \"R\": 30, \"lambda.step\": 0.01, \"plot.opts\": {\"xlab\": \"PC1\", \"ylab\": \"PC2\"}, \"topic.order\": [1, 3, 2]};\n",
       "\n",
       "function LDAvis_load_lib(url, callback){\n",
       "  var s = document.createElement('script');\n",
       "  s.src = url;\n",
       "  s.async = true;\n",
       "  s.onreadystatechange = s.onload = callback;\n",
       "  s.onerror = function(){console.warn(\"failed to load library \" + url);};\n",
       "  document.getElementsByTagName(\"head\")[0].appendChild(s);\n",
       "}\n",
       "\n",
       "if(typeof(LDAvis) !== \"undefined\"){\n",
       "   // already loaded: just create the visualization\n",
       "   !function(LDAvis){\n",
       "       new LDAvis(\"#\" + \"ldavis_el12001401712541284164012481433\", ldavis_el12001401712541284164012481433_data);\n",
       "   }(LDAvis);\n",
       "}else if(typeof define === \"function\" && define.amd){\n",
       "   // require.js is available: use it to load d3/LDAvis\n",
       "   require.config({paths: {d3: \"https://d3js.org/d3.v5\"}});\n",
       "   require([\"d3\"], function(d3){\n",
       "      window.d3 = d3;\n",
       "      LDAvis_load_lib(\"https://cdn.jsdelivr.net/gh/bmabey/pyLDAvis@3.4.0/pyLDAvis/js/ldavis.v3.0.0.js\", function(){\n",
       "        new LDAvis(\"#\" + \"ldavis_el12001401712541284164012481433\", ldavis_el12001401712541284164012481433_data);\n",
       "      });\n",
       "    });\n",
       "}else{\n",
       "    // require.js not available: dynamically load d3 & LDAvis\n",
       "    LDAvis_load_lib(\"https://d3js.org/d3.v5.js\", function(){\n",
       "         LDAvis_load_lib(\"https://cdn.jsdelivr.net/gh/bmabey/pyLDAvis@3.4.0/pyLDAvis/js/ldavis.v3.0.0.js\", function(){\n",
       "                 new LDAvis(\"#\" + \"ldavis_el12001401712541284164012481433\", ldavis_el12001401712541284164012481433_data);\n",
       "            })\n",
       "         });\n",
       "}\n",
       "</script>"
      ],
      "text/plain": [
       "<IPython.core.display.HTML object>"
      ]
     },
     "execution_count": 17,
     "metadata": {},
     "output_type": "execute_result"
    }
   ],
   "source": [
    "# 輸出主題模型分析結果\n",
    "import pyLDAvis.gensim\n",
    "pyLDAvis.enable_notebook()\n",
    "vis = pyLDAvis.gensim.prepare(lda_model, corpus, dictionary)\n",
    "n_jobs=1\n",
    "pyLDAvis.display(vis)"
   ]
  },
  {
   "cell_type": "code",
   "execution_count": null,
   "id": "41bd0f68",
   "metadata": {},
   "outputs": [],
   "source": []
  },
  {
   "cell_type": "code",
   "execution_count": null,
   "id": "580f5c8e",
   "metadata": {},
   "outputs": [],
   "source": []
  }
 ],
 "metadata": {
  "kernelspec": {
   "display_name": "Python 3 (ipykernel)",
   "language": "python",
   "name": "python3"
  },
  "language_info": {
   "codemirror_mode": {
    "name": "ipython",
    "version": 3
   },
   "file_extension": ".py",
   "mimetype": "text/x-python",
   "name": "python",
   "nbconvert_exporter": "python",
   "pygments_lexer": "ipython3",
   "version": "3.9.13"
  }
 },
 "nbformat": 4,
 "nbformat_minor": 5
}
