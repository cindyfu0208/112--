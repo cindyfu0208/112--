{
 "cells": [
  {
   "cell_type": "code",
   "execution_count": 14,
   "id": "40e757a6",
   "metadata": {},
   "outputs": [
    {
     "data": {
      "text/html": [
       "<div>\n",
       "<style scoped>\n",
       "    .dataframe tbody tr th:only-of-type {\n",
       "        vertical-align: middle;\n",
       "    }\n",
       "\n",
       "    .dataframe tbody tr th {\n",
       "        vertical-align: top;\n",
       "    }\n",
       "\n",
       "    .dataframe thead th {\n",
       "        text-align: right;\n",
       "    }\n",
       "</style>\n",
       "<table border=\"1\" class=\"dataframe\">\n",
       "  <thead>\n",
       "    <tr style=\"text-align: right;\">\n",
       "      <th></th>\n",
       "      <th>年度</th>\n",
       "      <th>洲別</th>\n",
       "      <th>國別</th>\n",
       "      <th>總人數</th>\n",
       "    </tr>\n",
       "  </thead>\n",
       "  <tbody>\n",
       "    <tr>\n",
       "      <th>0</th>\n",
       "      <td>105</td>\n",
       "      <td>歐洲</td>\n",
       "      <td>英國</td>\n",
       "      <td>3815.0</td>\n",
       "    </tr>\n",
       "    <tr>\n",
       "      <th>1</th>\n",
       "      <td>105</td>\n",
       "      <td>歐洲</td>\n",
       "      <td>德國</td>\n",
       "      <td>1488.0</td>\n",
       "    </tr>\n",
       "    <tr>\n",
       "      <th>2</th>\n",
       "      <td>105</td>\n",
       "      <td>歐洲</td>\n",
       "      <td>波蘭</td>\n",
       "      <td>561.0</td>\n",
       "    </tr>\n",
       "    <tr>\n",
       "      <th>3</th>\n",
       "      <td>105</td>\n",
       "      <td>歐洲</td>\n",
       "      <td>奧地利</td>\n",
       "      <td>419.0</td>\n",
       "    </tr>\n",
       "    <tr>\n",
       "      <th>4</th>\n",
       "      <td>105</td>\n",
       "      <td>歐洲</td>\n",
       "      <td>俄羅斯</td>\n",
       "      <td>181.0</td>\n",
       "    </tr>\n",
       "  </tbody>\n",
       "</table>\n",
       "</div>"
      ],
      "text/plain": [
       "    年度  洲別   國別     總人數\n",
       "0  105  歐洲   英國  3815.0\n",
       "1  105  歐洲   德國  1488.0\n",
       "2  105  歐洲   波蘭   561.0\n",
       "3  105  歐洲  奧地利   419.0\n",
       "4  105  歐洲  俄羅斯   181.0"
      ]
     },
     "execution_count": 14,
     "metadata": {},
     "output_type": "execute_result"
    }
   ],
   "source": [
    "import pandas as pd \n",
    "\n",
    "#世界各主要國家之我國留學生人數統計\n",
    "good = pd.read_csv(\"good.csv\",encoding='Big5') \n",
    "good.head()"
   ]
  },
  {
   "cell_type": "code",
   "execution_count": 16,
   "id": "cf57bd31",
   "metadata": {},
   "outputs": [
    {
     "name": "stdout",
     "output_type": "stream",
     "text": [
      "105年度去歐洲的總人數為 7189.0 人\n"
     ]
    }
   ],
   "source": [
    "# 105年度去歐洲的總人數\n",
    "# 按照條件篩選資料，並計算總和\n",
    "total_travelers = good.loc[(good['洲別'] == '歐洲') & (good['年度'] == 105), '總人數'].sum()\n",
    "# 輸出結果\n",
    "print(f'105年度去歐洲的總人數為 {total_travelers} 人')"
   ]
  },
  {
   "cell_type": "code",
   "execution_count": 21,
   "id": "f3ed7e7b",
   "metadata": {},
   "outputs": [
    {
     "data": {
      "text/plain": [
       "19405.0"
      ]
     },
     "execution_count": 21,
     "metadata": {},
     "output_type": "execute_result"
    }
   ],
   "source": [
    "#有多少人去英國留學\n",
    "# 計算國別為英國的所有訪客總數\n",
    "total_visitors_uk = good.loc[(good['國別'] == '英國'),'總人數'].sum()\n",
    "total_visitors_uk"
   ]
  },
  {
   "cell_type": "code",
   "execution_count": 29,
   "id": "b6914ad2",
   "metadata": {},
   "outputs": [
    {
     "name": "stdout",
     "output_type": "stream",
     "text": [
      "年度\n",
      "105    25954.0\n",
      "106    24349.0\n",
      "107    26856.0\n",
      "108    27771.0\n",
      "109    28861.0\n",
      "Name: 總人數, dtype: float64\n"
     ]
    }
   ],
   "source": [
    "# 每一年去美洲的人數\n",
    "# 選擇洲別為美洲的所有行\n",
    "americas = good[good['洲別'] == '美洲']\n",
    "\n",
    "# 以年份為分組依據計算平均訪客人數\n",
    "avg_visitors_americas = americas.groupby('年度')['總人數'].sum()\n",
    "\n",
    "print(avg_visitors_americas)"
   ]
  },
  {
   "cell_type": "code",
   "execution_count": 30,
   "id": "9389efb9",
   "metadata": {},
   "outputs": [
    {
     "name": "stdout",
     "output_type": "stream",
     "text": [
      "108年最多人去的洲別為 美洲\n"
     ]
    }
   ],
   "source": [
    "# 找對108年最多人去的洲別\n",
    "# 按照年份和洲別分組，並計算旅客人數總和\n",
    "grouped_good = good[good['年度'] == 108].groupby('洲別')['總人數'].sum()\n",
    "\n",
    "# 找出最多人去的洲別\n",
    "most_popular_continent = grouped_good.idxmax()\n",
    "\n",
    "# 輸出結果\n",
    "print(f'108年最多人去的洲別為 {most_popular_continent}')"
   ]
  },
  {
   "cell_type": "code",
   "execution_count": 31,
   "id": "2365c503",
   "metadata": {},
   "outputs": [
    {
     "name": "stdout",
     "output_type": "stream",
     "text": [
      "國別\n",
      "印尼        48.0\n",
      "印度        20.0\n",
      "土耳其       28.0\n",
      "新加坡       41.0\n",
      "日本      9584.0\n",
      "泰國       291.0\n",
      "約旦         6.0\n",
      "菲律賓       66.0\n",
      "蒙古         1.0\n",
      "越南         0.0\n",
      "阿曼         1.0\n",
      "韓國      1382.0\n",
      "馬來西亞     346.0\n",
      "Name: 總人數, dtype: float64\n",
      "109年度最多人去的國家為 日本，人數為 9584.0\n"
     ]
    }
   ],
   "source": [
    "# 找到亞洲109年度最多人去的國家並列出人數\n",
    "# 按照年份和洲別分組，並計算留學人數總和\n",
    "grouped_good = good[(good['年度'] == 109) & (good['洲別'] == '亞洲')].groupby('國別')['總人數'].sum()\n",
    "\n",
    "# 找出最多人去的國家\n",
    "most_popular_country = grouped_good.idxmax()\n",
    "\n",
    "# 列出所有國家的留學人數總和\n",
    "print(grouped_good)\n",
    "\n",
    "# 輸出結果\n",
    "print(f'109年度最多人去的國家為 {most_popular_country}，人數為 {grouped_good[most_popular_country]}')\n"
   ]
  },
  {
   "cell_type": "code",
   "execution_count": 36,
   "id": "3474fe8c",
   "metadata": {},
   "outputs": [
    {
     "data": {
      "text/plain": [
       "年度   國別  \n",
       "105  丹麥        33.0\n",
       "     俄羅斯      181.0\n",
       "     冰島         2.0\n",
       "     加拿大     4827.0\n",
       "     印尼       210.0\n",
       "              ...  \n",
       "109  西班牙      350.0\n",
       "     越南         0.0\n",
       "     阿曼         1.0\n",
       "     韓國      1382.0\n",
       "     馬來西亞     346.0\n",
       "Name: 總人數, Length: 187, dtype: float64"
      ]
     },
     "execution_count": 36,
     "metadata": {},
     "output_type": "execute_result"
    }
   ],
   "source": [
    "# 計算歷年來最多人去的國家以及每一年去這個國家的人數\n",
    "\n",
    "# 按照年份和國家分組，並計算旅客人數總和\n",
    "grouped_good = good.groupby(['年度','國別'])['總人數'].sum()\n",
    "grouped_good"
   ]
  },
  {
   "cell_type": "code",
   "execution_count": 38,
   "id": "6ba4abd6",
   "metadata": {},
   "outputs": [
    {
     "data": {
      "text/plain": [
       "年度\n",
       "105    (105, 美國)\n",
       "106    (106, 美國)\n",
       "107    (107, 美國)\n",
       "108    (108, 美國)\n",
       "109    (109, 美國)\n",
       "Name: 總人數, dtype: object"
      ]
     },
     "execution_count": 38,
     "metadata": {},
     "output_type": "execute_result"
    }
   ],
   "source": [
    "# 找出每年最多人去的國家\n",
    "most_popular_countries = grouped_good.groupby(level=0).idxmax()\n",
    "most_popular_countries"
   ]
  },
  {
   "cell_type": "code",
   "execution_count": 40,
   "id": "718ded64",
   "metadata": {},
   "outputs": [
    {
     "name": "stdout",
     "output_type": "stream",
     "text": [
      "澳大利亞 有 85612.0 人前往。\n"
     ]
    }
   ],
   "source": [
    "# 找到第二多人去的國別以及人數\n",
    "# 按照國家分組，並計算留學人數總和\n",
    "grouped_good = good.groupby('國別')['總人數'].sum()\n",
    "\n",
    "# 排序，找到第二多人去的國家\n",
    "second_most_popular_country = grouped_good.sort_values(ascending=False).index[1]\n",
    "second_most_popular_country_number = grouped_good.sort_values(ascending=False).iloc[1]\n",
    "\n",
    "# 輸出結果\n",
    "print(f\"{second_most_popular_country} 有 {second_most_popular_country_number} 人前往。\")"
   ]
  },
  {
   "cell_type": "code",
   "execution_count": 41,
   "id": "21ac6a72",
   "metadata": {},
   "outputs": [
    {
     "name": "stdout",
     "output_type": "stream",
     "text": [
      "蒙古 有 1.0 人前往。\n"
     ]
    }
   ],
   "source": [
    "# 第五少人去的國家\n",
    "# 按照國家分組，並計算留學人數總和\n",
    "grouped_good = good.groupby('國別')['總人數'].sum()\n",
    "\n",
    "# 排序，找到第五少人去的國家\n",
    "fifth_least_popular_country = grouped_good.sort_values(ascending=True).index[4]\n",
    "fifth_least_popular_country_number = grouped_good.sort_values(ascending=True).iloc[4]\n",
    "\n",
    "# 輸出結果\n",
    "print(f\"{fifth_least_popular_country} 有 {fifth_least_popular_country_number} 人前往。\")"
   ]
  },
  {
   "cell_type": "code",
   "execution_count": 42,
   "id": "805680c7",
   "metadata": {},
   "outputs": [
    {
     "name": "stdout",
     "output_type": "stream",
     "text": [
      "人數跟去蒙古一樣的國家有：['尼泊爾', '孟加拉', '智利', '哥倫比亞', '聖克里斯多福及尼維斯', '緬甸', '巴林', '智利', '巴林', '斯洛伐克', '智利', '哥倫比亞', '阿曼', '蒙古', '斐濟']\n"
     ]
    }
   ],
   "source": [
    "# 找到跟去蒙古人數一樣的國家\n",
    "# 找到去蒙古的留學人數\n",
    "mongolia_travelers = good.loc[good['國別'] == '蒙古', '總人數'].iloc[0]\n",
    "\n",
    "# 找到人數跟去蒙古一樣的國家\n",
    "same_travelers_countries = good.loc[good['總人數'] == mongolia_travelers, '國別'].tolist()\n",
    "\n",
    "# 輸出結果\n",
    "print(f\"人數跟去蒙古一樣的國家有：{same_travelers_countries}\")"
   ]
  },
  {
   "cell_type": "code",
   "execution_count": 3,
   "id": "43a63cf4",
   "metadata": {},
   "outputs": [
    {
     "data": {
      "text/html": [
       "<div>\n",
       "<style scoped>\n",
       "    .dataframe tbody tr th:only-of-type {\n",
       "        vertical-align: middle;\n",
       "    }\n",
       "\n",
       "    .dataframe tbody tr th {\n",
       "        vertical-align: top;\n",
       "    }\n",
       "\n",
       "    .dataframe thead th {\n",
       "        text-align: right;\n",
       "    }\n",
       "</style>\n",
       "<table border=\"1\" class=\"dataframe\">\n",
       "  <thead>\n",
       "    <tr style=\"text-align: right;\">\n",
       "      <th></th>\n",
       "      <th>sepal_length</th>\n",
       "      <th>sepal_width</th>\n",
       "      <th>petal_length</th>\n",
       "      <th>petal_width</th>\n",
       "      <th>species</th>\n",
       "      <th>species_id</th>\n",
       "    </tr>\n",
       "  </thead>\n",
       "  <tbody>\n",
       "    <tr>\n",
       "      <th>0</th>\n",
       "      <td>5.1</td>\n",
       "      <td>3.5</td>\n",
       "      <td>1.4</td>\n",
       "      <td>0.2</td>\n",
       "      <td>setosa</td>\n",
       "      <td>1</td>\n",
       "    </tr>\n",
       "    <tr>\n",
       "      <th>1</th>\n",
       "      <td>4.9</td>\n",
       "      <td>3.0</td>\n",
       "      <td>1.4</td>\n",
       "      <td>0.2</td>\n",
       "      <td>setosa</td>\n",
       "      <td>1</td>\n",
       "    </tr>\n",
       "    <tr>\n",
       "      <th>2</th>\n",
       "      <td>4.7</td>\n",
       "      <td>3.2</td>\n",
       "      <td>1.3</td>\n",
       "      <td>0.2</td>\n",
       "      <td>setosa</td>\n",
       "      <td>1</td>\n",
       "    </tr>\n",
       "    <tr>\n",
       "      <th>3</th>\n",
       "      <td>4.6</td>\n",
       "      <td>3.1</td>\n",
       "      <td>1.5</td>\n",
       "      <td>0.2</td>\n",
       "      <td>setosa</td>\n",
       "      <td>1</td>\n",
       "    </tr>\n",
       "    <tr>\n",
       "      <th>4</th>\n",
       "      <td>5.0</td>\n",
       "      <td>3.6</td>\n",
       "      <td>1.4</td>\n",
       "      <td>0.2</td>\n",
       "      <td>setosa</td>\n",
       "      <td>1</td>\n",
       "    </tr>\n",
       "    <tr>\n",
       "      <th>...</th>\n",
       "      <td>...</td>\n",
       "      <td>...</td>\n",
       "      <td>...</td>\n",
       "      <td>...</td>\n",
       "      <td>...</td>\n",
       "      <td>...</td>\n",
       "    </tr>\n",
       "    <tr>\n",
       "      <th>145</th>\n",
       "      <td>6.7</td>\n",
       "      <td>3.0</td>\n",
       "      <td>5.2</td>\n",
       "      <td>2.3</td>\n",
       "      <td>virginica</td>\n",
       "      <td>3</td>\n",
       "    </tr>\n",
       "    <tr>\n",
       "      <th>146</th>\n",
       "      <td>6.3</td>\n",
       "      <td>2.5</td>\n",
       "      <td>5.0</td>\n",
       "      <td>1.9</td>\n",
       "      <td>virginica</td>\n",
       "      <td>3</td>\n",
       "    </tr>\n",
       "    <tr>\n",
       "      <th>147</th>\n",
       "      <td>6.5</td>\n",
       "      <td>3.0</td>\n",
       "      <td>5.2</td>\n",
       "      <td>2.0</td>\n",
       "      <td>virginica</td>\n",
       "      <td>3</td>\n",
       "    </tr>\n",
       "    <tr>\n",
       "      <th>148</th>\n",
       "      <td>6.2</td>\n",
       "      <td>3.4</td>\n",
       "      <td>5.4</td>\n",
       "      <td>2.3</td>\n",
       "      <td>virginica</td>\n",
       "      <td>3</td>\n",
       "    </tr>\n",
       "    <tr>\n",
       "      <th>149</th>\n",
       "      <td>5.9</td>\n",
       "      <td>3.0</td>\n",
       "      <td>5.1</td>\n",
       "      <td>1.8</td>\n",
       "      <td>virginica</td>\n",
       "      <td>3</td>\n",
       "    </tr>\n",
       "  </tbody>\n",
       "</table>\n",
       "<p>150 rows × 6 columns</p>\n",
       "</div>"
      ],
      "text/plain": [
       "     sepal_length  sepal_width  petal_length  petal_width    species  \\\n",
       "0             5.1          3.5           1.4          0.2     setosa   \n",
       "1             4.9          3.0           1.4          0.2     setosa   \n",
       "2             4.7          3.2           1.3          0.2     setosa   \n",
       "3             4.6          3.1           1.5          0.2     setosa   \n",
       "4             5.0          3.6           1.4          0.2     setosa   \n",
       "..            ...          ...           ...          ...        ...   \n",
       "145           6.7          3.0           5.2          2.3  virginica   \n",
       "146           6.3          2.5           5.0          1.9  virginica   \n",
       "147           6.5          3.0           5.2          2.0  virginica   \n",
       "148           6.2          3.4           5.4          2.3  virginica   \n",
       "149           5.9          3.0           5.1          1.8  virginica   \n",
       "\n",
       "     species_id  \n",
       "0             1  \n",
       "1             1  \n",
       "2             1  \n",
       "3             1  \n",
       "4             1  \n",
       "..          ...  \n",
       "145           3  \n",
       "146           3  \n",
       "147           3  \n",
       "148           3  \n",
       "149           3  \n",
       "\n",
       "[150 rows x 6 columns]"
      ]
     },
     "execution_count": 3,
     "metadata": {},
     "output_type": "execute_result"
    }
   ],
   "source": [
    "import plotly.express as px\n",
    "import plotly.graph_objects as go\n",
    "from IPython.display import HTML\n",
    "\n",
    "df_data = px.data.iris()\n",
    "df_data"
   ]
  },
  {
   "cell_type": "code",
   "execution_count": null,
   "id": "5772228f",
   "metadata": {},
   "outputs": [],
   "source": []
  }
 ],
 "metadata": {
  "kernelspec": {
   "display_name": "Python 3 (ipykernel)",
   "language": "python",
   "name": "python3"
  },
  "language_info": {
   "codemirror_mode": {
    "name": "ipython",
    "version": 3
   },
   "file_extension": ".py",
   "mimetype": "text/x-python",
   "name": "python",
   "nbconvert_exporter": "python",
   "pygments_lexer": "ipython3",
   "version": "3.9.13"
  }
 },
 "nbformat": 4,
 "nbformat_minor": 5
}
