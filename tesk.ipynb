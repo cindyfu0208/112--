{
 "cells": [
  {
   "cell_type": "code",
   "execution_count": 1,
   "id": "298d2131",
   "metadata": {},
   "outputs": [],
   "source": [
    "import pandas as pd \n",
    "\n",
    "# read csv file\n",
    "allpark = pd.read_csv(\"allpark.csv\",encoding='big5') \n",
    "adoptedpark = pd.read_csv(\"adoptedpark.csv\",encoding='big5')"
   ]
  },
  {
   "cell_type": "code",
   "execution_count": 3,
   "id": "80a6a16d",
   "metadata": {},
   "outputs": [
    {
     "data": {
      "text/html": [
       "<div>\n",
       "<style scoped>\n",
       "    .dataframe tbody tr th:only-of-type {\n",
       "        vertical-align: middle;\n",
       "    }\n",
       "\n",
       "    .dataframe tbody tr th {\n",
       "        vertical-align: top;\n",
       "    }\n",
       "\n",
       "    .dataframe thead th {\n",
       "        text-align: right;\n",
       "    }\n",
       "</style>\n",
       "<table border=\"1\" class=\"dataframe\">\n",
       "  <thead>\n",
       "    <tr style=\"text-align: right;\">\n",
       "      <th></th>\n",
       "      <th>序號</th>\n",
       "      <th>行政區</th>\n",
       "      <th>公園名稱</th>\n",
       "      <th>位置</th>\n",
       "      <th>傳統遊具</th>\n",
       "      <th>特色或共融式遊具</th>\n",
       "    </tr>\n",
       "  </thead>\n",
       "  <tbody>\n",
       "    <tr>\n",
       "      <th>0</th>\n",
       "      <td>1</td>\n",
       "      <td>北區</td>\n",
       "      <td>湳雅公園</td>\n",
       "      <td>武陵路、湳雅街</td>\n",
       "      <td>組合遊具組溜滑梯1座、雙人翹翹板2座、單人翹翹板4座</td>\n",
       "      <td>無</td>\n",
       "    </tr>\n",
       "    <tr>\n",
       "      <th>1</th>\n",
       "      <td>2</td>\n",
       "      <td>北區</td>\n",
       "      <td>金雅廣場</td>\n",
       "      <td>金雅街、金雅三街</td>\n",
       "      <td>組合遊具組溜滑梯1座、雙人搖搖馬2座</td>\n",
       "      <td>無</td>\n",
       "    </tr>\n",
       "    <tr>\n",
       "      <th>2</th>\n",
       "      <td>3</td>\n",
       "      <td>北區</td>\n",
       "      <td>金雅兒童公園</td>\n",
       "      <td>金雅東街</td>\n",
       "      <td>攀爬遊具組1座</td>\n",
       "      <td>無</td>\n",
       "    </tr>\n",
       "    <tr>\n",
       "      <th>3</th>\n",
       "      <td>4</td>\n",
       "      <td>北區</td>\n",
       "      <td>金雅公園</td>\n",
       "      <td>金雅東街、金雅七街</td>\n",
       "      <td>無</td>\n",
       "      <td>無</td>\n",
       "    </tr>\n",
       "    <tr>\n",
       "      <th>4</th>\n",
       "      <td>5</td>\n",
       "      <td>北區</td>\n",
       "      <td>金雅親子公園</td>\n",
       "      <td>金雅路133巷15弄</td>\n",
       "      <td>組合遊具組溜滑梯1座</td>\n",
       "      <td>無</td>\n",
       "    </tr>\n",
       "    <tr>\n",
       "      <th>5</th>\n",
       "      <td>6</td>\n",
       "      <td>北區</td>\n",
       "      <td>樹林頭公園</td>\n",
       "      <td>東大路二段、鐵道路二段</td>\n",
       "      <td>盪鞦韆組7座</td>\n",
       "      <td>風兒滾滾來1座、??竹編迷宮1座</td>\n",
       "    </tr>\n",
       "    <tr>\n",
       "      <th>6</th>\n",
       "      <td>7</td>\n",
       "      <td>北區</td>\n",
       "      <td>長和公園</td>\n",
       "      <td>愛文街11巷、新民街、愛文街</td>\n",
       "      <td>搖搖馬5座、組合遊具組溜滑梯1座</td>\n",
       "      <td>無</td>\n",
       "    </tr>\n",
       "    <tr>\n",
       "      <th>7</th>\n",
       "      <td>8</td>\n",
       "      <td>北區</td>\n",
       "      <td>福林公園</td>\n",
       "      <td>武陵路25巷</td>\n",
       "      <td>組合遊具組溜滑梯1座、搖搖馬4座、造型飛機2座</td>\n",
       "      <td>無</td>\n",
       "    </tr>\n",
       "    <tr>\n",
       "      <th>8</th>\n",
       "      <td>9</td>\n",
       "      <td>北區</td>\n",
       "      <td>福林重劃公園</td>\n",
       "      <td>中正路、士林北路</td>\n",
       "      <td>無</td>\n",
       "      <td>共融式鞦韆組1座、直升機組合遊具組1座</td>\n",
       "    </tr>\n",
       "    <tr>\n",
       "      <th>9</th>\n",
       "      <td>10</td>\n",
       "      <td>北區</td>\n",
       "      <td>南勢重劃公園</td>\n",
       "      <td>南勢街、延平路一段357巷</td>\n",
       "      <td>組合遊具組溜滑梯1座、單人搖搖馬4座、雙人搖搖馬1座</td>\n",
       "      <td>無</td>\n",
       "    </tr>\n",
       "  </tbody>\n",
       "</table>\n",
       "</div>"
      ],
      "text/plain": [
       "   序號 行政區    公園名稱              位置                        傳統遊具  \\\n",
       "0   1  北區    湳雅公園         武陵路、湳雅街  組合遊具組溜滑梯1座、雙人翹翹板2座、單人翹翹板4座   \n",
       "1   2  北區    金雅廣場        金雅街、金雅三街          組合遊具組溜滑梯1座、雙人搖搖馬2座   \n",
       "2   3  北區  金雅兒童公園            金雅東街                     攀爬遊具組1座   \n",
       "3   4  北區    金雅公園       金雅東街、金雅七街                           無   \n",
       "4   5  北區  金雅親子公園      金雅路133巷15弄                  組合遊具組溜滑梯1座   \n",
       "5   6  北區   樹林頭公園     東大路二段、鐵道路二段                      盪鞦韆組7座   \n",
       "6   7  北區    長和公園  愛文街11巷、新民街、愛文街            搖搖馬5座、組合遊具組溜滑梯1座   \n",
       "7   8  北區    福林公園          武陵路25巷     組合遊具組溜滑梯1座、搖搖馬4座、造型飛機2座   \n",
       "8   9  北區  福林重劃公園        中正路、士林北路                           無   \n",
       "9  10  北區  南勢重劃公園   南勢街、延平路一段357巷  組合遊具組溜滑梯1座、單人搖搖馬4座、雙人搖搖馬1座   \n",
       "\n",
       "              特色或共融式遊具  \n",
       "0                    無  \n",
       "1                    無  \n",
       "2                    無  \n",
       "3                    無  \n",
       "4                    無  \n",
       "5     風兒滾滾來1座、??竹編迷宮1座  \n",
       "6                    無  \n",
       "7                    無  \n",
       "8  共融式鞦韆組1座、直升機組合遊具組1座  \n",
       "9                    無  "
      ]
     },
     "execution_count": 3,
     "metadata": {},
     "output_type": "execute_result"
    }
   ],
   "source": [
    "allpark.head(10)"
   ]
  },
  {
   "cell_type": "code",
   "execution_count": 5,
   "id": "a6a6cc58",
   "metadata": {},
   "outputs": [
    {
     "data": {
      "text/html": [
       "<div>\n",
       "<style scoped>\n",
       "    .dataframe tbody tr th:only-of-type {\n",
       "        vertical-align: middle;\n",
       "    }\n",
       "\n",
       "    .dataframe tbody tr th {\n",
       "        vertical-align: top;\n",
       "    }\n",
       "\n",
       "    .dataframe thead th {\n",
       "        text-align: right;\n",
       "    }\n",
       "</style>\n",
       "<table border=\"1\" class=\"dataframe\">\n",
       "  <thead>\n",
       "    <tr style=\"text-align: right;\">\n",
       "      <th></th>\n",
       "      <th>序號</th>\n",
       "      <th>分區</th>\n",
       "      <th>認養場地</th>\n",
       "      <th>認養機關團體</th>\n",
       "    </tr>\n",
       "  </thead>\n",
       "  <tbody>\n",
       "    <tr>\n",
       "      <th>22</th>\n",
       "      <td>23</td>\n",
       "      <td>北區</td>\n",
       "      <td>中山段二小段55-3_北大路201號</td>\n",
       "      <td>興築建設股份有限公司</td>\n",
       "    </tr>\n",
       "    <tr>\n",
       "      <th>23</th>\n",
       "      <td>24</td>\n",
       "      <td>東區</td>\n",
       "      <td>新竹公園_部B-域櫻花維護管理</td>\n",
       "      <td>新竹市育櫻會楊根棟</td>\n",
       "    </tr>\n",
       "    <tr>\n",
       "      <th>24</th>\n",
       "      <td>25</td>\n",
       "      <td>風景區</td>\n",
       "      <td>水資源公園</td>\n",
       "      <td>新竹市槌球運動推廣協會洪建雄</td>\n",
       "    </tr>\n",
       "    <tr>\n",
       "      <th>25</th>\n",
       "      <td>26</td>\n",
       "      <td>風景區</td>\n",
       "      <td>紅樹林公園</td>\n",
       "      <td>新竹市社區環境關懷協會</td>\n",
       "    </tr>\n",
       "    <tr>\n",
       "      <th>26</th>\n",
       "      <td>27</td>\n",
       "      <td>北區</td>\n",
       "      <td>南寮運動公園足球場</td>\n",
       "      <td>新竹市社區足球發展協會</td>\n",
       "    </tr>\n",
       "  </tbody>\n",
       "</table>\n",
       "</div>"
      ],
      "text/plain": [
       "    序號   分區                認養場地          認養機關團體\n",
       "22  23   北區  中山段二小段55-3_北大路201號      興築建設股份有限公司\n",
       "23  24   東區     新竹公園_部B-域櫻花維護管理       新竹市育櫻會楊根棟\n",
       "24  25  風景區               水資源公園  新竹市槌球運動推廣協會洪建雄\n",
       "25  26  風景區               紅樹林公園     新竹市社區環境關懷協會\n",
       "26  27   北區           南寮運動公園足球場     新竹市社區足球發展協會"
      ]
     },
     "execution_count": 5,
     "metadata": {},
     "output_type": "execute_result"
    }
   ],
   "source": [
    "adoptedpark.tail()"
   ]
  },
  {
   "cell_type": "code",
   "execution_count": 6,
   "id": "e7724ed2",
   "metadata": {},
   "outputs": [
    {
     "name": "stdout",
     "output_type": "stream",
     "text": [
      "全部公園： 97 vs.已認養公園（綠地）： 27\n"
     ]
    }
   ],
   "source": [
    "allpark = list(allpark['公園名稱'])\n",
    "adoptedpark = list(adoptedpark['認養場地'])\n",
    "print(\"全部公園：\", len(allpark),\"vs.已認養公園（綠地）：\",len(adoptedpark))"
   ]
  },
  {
   "cell_type": "code",
   "execution_count": 12,
   "id": "a01be9b5",
   "metadata": {},
   "outputs": [],
   "source": [
    "p1 = set(allpark)\n",
    "p2 = set(adoptedpark)"
   ]
  },
  {
   "cell_type": "code",
   "execution_count": 13,
   "id": "b93bd60a",
   "metadata": {},
   "outputs": [
    {
     "name": "stdout",
     "output_type": "stream",
     "text": [
      "所有公園\n",
      "{'中清公園', '長和公園', '新興公園', '湳雅公園', '十七公里-水資源公園', '一品公園', '火車站前廣場', '十七公里-南港賞鳥區', '公兒四公園', '後站公園', '武陵櫻花公園', '赤土崎公園', '鹽水公園', '牛埔東公園', '大庄公園', '馬偕公園', '東光公園', '和平公園', '長青公園', '埔前公園', '中山段二小段55-3_北大路201號', '台溪親子公園', '水資源公園', '中央公園', '蟹仔埔公園', '建華、東山及綠水里汀甫圳步道', '馬偕醫院旁園道五', '港南小公園', '明湖公園', '樹林頭公園', '民富公園', '關新公園（原日光公園）', '高峰植物園', '親子公園', '科園親子公園', '關埔公園', '金雅段317、321地號_近金雅西街80巷', '金山六街10巷38號旁綠地', '高翠公園', '民族公園', '南勢重劃公園', '建功高中前園道五', '忠孝公園', '香山公園', '光復公園', '西雅公園', '建功一路旁園道五', '金山六街旁公園', '新竹公園', '頂福公園', '金雅兒童公園', '北新公園', '民享公園', '金山十一街旁公園', '金雅廣場', '凌雲公園', '金山面公園', '新莊公園', '十七公里-紅樹林公園', '金雅親子公園', '關東公園', '南大公園', '康樂公園', '立功里園道五', '新竹市後站公園', '中光公園', '新竹公園_部B-域櫻花維護管理', '天公壇公園', '牛埔公園', '科學園路公園', '櫻花公園', '美森公園', '中埔公園', '仙水公園（仙水里綠地）', '二二八紀念公園', '新竹綠園道', '綠水里市有公園', '長興公園', '金山東街旁公園', '興學公園', '建功里園道五', '福林重劃公園', '龍山公園', '福林公園', '愛民公園', '南寮運動公園足球場', '頂竹圍公園', '港北崇和公園', '紅樹林公園', '東南公園_光復段地號693-2號', '頂埔公園', '東區濕地生態教學公園', '建國公園', '長春公園', '台溪公園', '三民公園', '十七公里-風情海岸', '福林里親子公園', '金雅公園', '光武段1065號', '建功一路59巷26號前綠地', '金山公園', '祥園公園', '三民綠園道（隆恩圳）三民路、（東大路至民主路）', '南門公園', '十八尖山森林公園', '仙宮公園', '綠光公園', '南湖段1068號', '光復文化公園（蔡氏門樓）', '高峰公25公園', '興南公園'}\n"
     ]
    }
   ],
   "source": [
    "print('所有公園')\n",
    "print(p1|p2)"
   ]
  },
  {
   "cell_type": "code",
   "execution_count": 14,
   "id": "6add1dc3",
   "metadata": {
    "scrolled": true
   },
   "outputs": [
    {
     "name": "stdout",
     "output_type": "stream",
     "text": [
      "已造冊未被認養\n",
      "{'中清公園', '十七公里-水資源公園', '公兒四公園', '鹽水公園', '赤土崎公園', '馬偕公園', '長青公園', '埔前公園', '中央公園', '建華、東山及綠水里汀甫圳步道', '馬偕醫院旁園道五', '樹林頭公園', '關新公園（原日光公園）', '高峰植物園', '科園親子公園', '高翠公園', '建功高中前園道五', '光復公園', '西雅公園', '金山六街旁公園', '建功一路旁園道五', '金雅廣場', '金山面公園', '十七公里-紅樹林公園', '金雅親子公園', '立功里園道五', '中光公園', '仙水公園（仙水里綠地）', '二二八紀念公園', '新竹綠園道', '長興公園', '興學公園', '福林重劃公園', '福林公園', '頂竹圍公園', '東區濕地生態教學公園', '建國公園', '長春公園', '金雅公園', '金山公園', '祥園公園', '三民綠園道（隆恩圳）三民路、（東大路至民主路）', '十八尖山森林公園', '仙宮公園', '新興公園', '湳雅公園', '一品公園', '火車站前廣場', '十七公里-南港賞鳥區', '後站公園', '武陵櫻花公園', '牛埔東公園', '大庄公園', '東光公園', '和平公園', '台溪親子公園', '蟹仔埔公園', '明湖公園', '民富公園', '關埔公園', '民族公園', '南勢重劃公園', '香山公園', '新竹公園', '金雅兒童公園', '金山十一街旁公園', '新莊公園', '關東公園', '南大公園', '天公壇公園', '牛埔公園', '美森公園', '中埔公園', '綠水里市有公園', '金山東街旁公園', '建功里園道五', '龍山公園', '港北崇和公園', '頂埔公園', '三民公園', '十七公里-風情海岸', '南門公園', '光復文化公園（蔡氏門樓）', '高峰公25公園', '興南公園'}\n"
     ]
    }
   ],
   "source": [
    "print('已造冊未被認養')\n",
    "print(p1-p2)"
   ]
  },
  {
   "cell_type": "code",
   "execution_count": 15,
   "id": "10f747cd",
   "metadata": {},
   "outputs": [
    {
     "name": "stdout",
     "output_type": "stream",
     "text": [
      "{'長和公園', '北新公園', '民享公園', '港南小公園', '愛民公園', '忠孝公園', '凌雲公園', '櫻花公園', '康樂公園', '台溪公園', '頂福公園'}\n"
     ]
    }
   ],
   "source": [
    "print(p1&p2)"
   ]
  },
  {
   "cell_type": "code",
   "execution_count": null,
   "id": "8c00f0b5",
   "metadata": {},
   "outputs": [],
   "source": []
  },
  {
   "cell_type": "code",
   "execution_count": null,
   "id": "27b0de2d",
   "metadata": {},
   "outputs": [],
   "source": []
  }
 ],
 "metadata": {
  "kernelspec": {
   "display_name": "Python 3 (ipykernel)",
   "language": "python",
   "name": "python3"
  },
  "language_info": {
   "codemirror_mode": {
    "name": "ipython",
    "version": 3
   },
   "file_extension": ".py",
   "mimetype": "text/x-python",
   "name": "python",
   "nbconvert_exporter": "python",
   "pygments_lexer": "ipython3",
   "version": "3.9.13"
  }
 },
 "nbformat": 4,
 "nbformat_minor": 5
}
