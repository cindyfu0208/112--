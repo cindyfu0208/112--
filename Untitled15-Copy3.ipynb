{
 "cells": [
  {
   "cell_type": "code",
   "execution_count": 17,
   "id": "6db6cba0",
   "metadata": {
    "scrolled": false
   },
   "outputs": [
    {
     "name": "stdout",
     "output_type": "stream",
     "text": [
      "Requirement already satisfied: pip in /opt/anaconda3/lib/python3.9/site-packages (23.1.2)\n",
      "Note: you may need to restart the kernel to use updated packages.\n"
     ]
    }
   ],
   "source": [
    "pip install --upgrade pip\n"
   ]
  },
  {
   "cell_type": "code",
   "execution_count": 18,
   "id": "f6096b3c",
   "metadata": {},
   "outputs": [
    {
     "name": "stdout",
     "output_type": "stream",
     "text": [
      "Requirement already satisfied: openai in /opt/anaconda3/lib/python3.9/site-packages (0.27.5)\n",
      "Requirement already satisfied: requests>=2.20 in /opt/anaconda3/lib/python3.9/site-packages (from openai) (2.28.1)\n",
      "Requirement already satisfied: tqdm in /opt/anaconda3/lib/python3.9/site-packages (from openai) (4.64.1)\n",
      "Requirement already satisfied: aiohttp in /opt/anaconda3/lib/python3.9/site-packages (from openai) (3.8.4)\n",
      "Requirement already satisfied: charset-normalizer<3,>=2 in /opt/anaconda3/lib/python3.9/site-packages (from requests>=2.20->openai) (2.0.4)\n",
      "Requirement already satisfied: idna<4,>=2.5 in /opt/anaconda3/lib/python3.9/site-packages (from requests>=2.20->openai) (3.3)\n",
      "Requirement already satisfied: urllib3<1.27,>=1.21.1 in /opt/anaconda3/lib/python3.9/site-packages (from requests>=2.20->openai) (1.26.11)\n",
      "Requirement already satisfied: certifi>=2017.4.17 in /opt/anaconda3/lib/python3.9/site-packages (from requests>=2.20->openai) (2022.12.7)\n",
      "Requirement already satisfied: attrs>=17.3.0 in /opt/anaconda3/lib/python3.9/site-packages (from aiohttp->openai) (21.4.0)\n",
      "Requirement already satisfied: multidict<7.0,>=4.5 in /opt/anaconda3/lib/python3.9/site-packages (from aiohttp->openai) (6.0.4)\n",
      "Requirement already satisfied: async-timeout<5.0,>=4.0.0a3 in /opt/anaconda3/lib/python3.9/site-packages (from aiohttp->openai) (4.0.2)\n",
      "Requirement already satisfied: yarl<2.0,>=1.0 in /opt/anaconda3/lib/python3.9/site-packages (from aiohttp->openai) (1.9.2)\n",
      "Requirement already satisfied: frozenlist>=1.1.1 in /opt/anaconda3/lib/python3.9/site-packages (from aiohttp->openai) (1.3.3)\n",
      "Requirement already satisfied: aiosignal>=1.1.2 in /opt/anaconda3/lib/python3.9/site-packages (from aiohttp->openai) (1.3.1)\n"
     ]
    }
   ],
   "source": [
    "!pip install openai"
   ]
  },
  {
   "cell_type": "code",
   "execution_count": 19,
   "id": "66d4297f",
   "metadata": {},
   "outputs": [],
   "source": [
    "import openai\n",
    "import pandas as pd\n",
    "pip install WordCloud"
   ]
  },
  {
   "cell_type": "code",
   "execution_count": 6,
   "id": "51ec265c",
   "metadata": {},
   "outputs": [
    {
     "name": "stdout",
     "output_type": "stream",
     "text": [
      "Requirement already satisfied: jieba in /opt/anaconda3/lib/python3.9/site-packages (0.42.1)\n",
      "Note: you may need to restart the kernel to use updated packages.\n"
     ]
    }
   ],
   "source": [
    "pip install jieba"
   ]
  },
  {
   "cell_type": "code",
   "execution_count": 20,
   "id": "9382eb24",
   "metadata": {},
   "outputs": [],
   "source": [
    "with open('03.txt', 'r') as fh:\n",
    "    tmp = fh.read()\n",
    "    itemlist = tmp.split(',')"
   ]
  },
  {
   "cell_type": "code",
   "execution_count": 21,
   "id": "a75137f3",
   "metadata": {
    "scrolled": true
   },
   "outputs": [],
   "source": [
    "with open('04.txt', 'r') as fh:\n",
    "    tmp = fh.read()\n",
    "    itemlist = tmp.split(',')"
   ]
  },
  {
   "cell_type": "code",
   "execution_count": 22,
   "id": "21c33913",
   "metadata": {},
   "outputs": [],
   "source": [
    "itemlist = str(itemlist)"
   ]
  },
  {
   "cell_type": "code",
   "execution_count": 23,
   "id": "fbaf1ad7",
   "metadata": {},
   "outputs": [],
   "source": [
    "keyfile = open(\"key.txt\", \"r\")\n",
    "key = keyfile.readline()\n",
    "openai.api_key = key"
   ]
  },
  {
   "cell_type": "code",
   "execution_count": 24,
   "id": "57e4d87a",
   "metadata": {},
   "outputs": [],
   "source": [
    "data = [itemlist[0:3200], itemlist[3201:6400], \n",
    "        itemlist[6401:9600], itemlist[9601:12800], itemlist[12801:16000]]"
   ]
  },
  {
   "cell_type": "code",
   "execution_count": 25,
   "id": "871dbc12",
   "metadata": {},
   "outputs": [
    {
     "data": {
      "text/plain": [
       "'[\\'The fighting that has erupted in the Sudanese capital\\', \\' Khartoum\\', \" and elsewhere in the country is a direct result of a vicious power struggle within the country\\'s military leadership.\\\\n\\\\nThe clashes are between the regular army and a paramilitary force called the Rapid Support Forces (RSF).\\\\n\\\\nWhere is Sudan?\\\\nSudan is in north-east Africa and is one of the largest countries on the continent\", \\' covering 1.9 million square kilometres.\\\\n\\\\nIt is also one the poorest countries in the world\\', \" with its 46 million people living on an average annual income of $750 (£606) a head.\\\\n\\\\nThe population of Sudan is predominantly Muslim and the country\\'s official languages are Arabic and English.\\\\n\\\\nADVERTISEMENT\\\\n\\\\nMap of Sudan showing major roads\\\\nWho is fighting who in Sudan?\\\\nSince the 2021 coup\", \\' Sudan has been run by a council of generals\\', \\' led by the two military men at the centre of this dispute:\\\\n\\\\nGen Abdel Fattah al-Burhan\\', \" the head of the armed forces and in effect the country\\'s president\\\\nAnd his deputy and leader of the RSF\", \\' Gen Mohamed Hamdan Dagalo\\', \\' better known as Hemedti.\\\\nGen Dagalo amongst supporters\\\\nIMAGE SOURCE\\', \\'GETTY IMAGES\\\\nImage caption\\', \\'\\\\nGen Dagalo\\', \\' head of the RSF\\', \\' among supporters\\\\nThey have disagreed on the direction the country is going in and the proposed move towards civilian rule.\\\\n\\\\nThe main sticking points are plans to include the 100\\', \\'000-strong RSF into the army\\', \\' and who would then lead the new force.\\\\n\\\\nWhy did the fighting in Sudan start?\\\\nThe shooting began on 15 April following days of tension as members of the RSF were redeployed around the country in a move that the army saw as a threat.\\\\n\\\\nThere had been some hope that talks could resolve the situation but these never happened.\\\\n\\\\nIt is disputed who fired the first shot but the fighting swiftly escalated in different parts of the country with more than 400 civilians dying\\', \\' according to the World Health Organization.\\\\n\\\\nWhy have civilians got caught up?\\\\nEven though the conflict appears to be around the control of key installations\\', \\' much of it is happening in urban areas and civilians have become the unwitting victims.\\\\n\\\\nIt is not exactly clear where the RSF bases are\\', \\' but it seems that their fighters moved into densely populated areas.\\\\n\\\\nThe Sudanese air force has mounted air strikes in the capital\\', \\' a city of more than six million people\\', \\' which is likely to have led to civilian casualties.\\\\n\\\\nSeveral ceasefires have been announced to allow people to escape the fighting but these have not been observed.\\\\n\\\\nWhat are the Rapid Support Forces?\\\\nThe RSF was formed in 2013 and has its origins in the notorious Janjaweed militia that brutally fought rebels in Darfur\\', \\' where they were accused of ethnic cleansing.\\\\n\\\\nSince then\\', \" Gen Dagalo has built a powerful force that has intervened in conflicts in Yemen and Libya. He has also developed economic interests including controlling some of Sudan\\'s gold mines.\\\\n\\\\nThe RSF has been accused of human rights abuses\", \" including the massacre of more than 120 protesters in June 2019.\\\\n\\\\nSuch a strong force outside the army has been seen as a source of instability in the co'"
      ]
     },
     "execution_count": 25,
     "metadata": {},
     "output_type": "execute_result"
    }
   ],
   "source": [
    "data[0]"
   ]
  },
  {
   "cell_type": "code",
   "execution_count": 26,
   "id": "b4192d3a",
   "metadata": {},
   "outputs": [],
   "source": [
    "def chatgptfn(sub_list):\n",
    "    result = ''\n",
    "    response = openai.ChatCompletion.create(\n",
    "        model=\"gpt-3.5-turbo\",\n",
    "        messages=[\n",
    "            {\"role\": \"system\", \"content\": \"You are an assistant\"},\n",
    "            {\"role\": \"user\", \"content\": f\"{sub_list} :give me a summary\"}\n",
    "        ]\n",
    "    )\n",
    "    for choice in response.choices:\n",
    "        result += choice.message.content\n",
    "    return result"
   ]
  },
  {
   "cell_type": "code",
   "execution_count": 27,
   "id": "d8dd0574",
   "metadata": {},
   "outputs": [],
   "source": [
    "for i in range(0,5):\n",
    "    data[i] = chatgptfn(data[i])"
   ]
  },
  {
   "cell_type": "code",
   "execution_count": 28,
   "id": "28e2c926",
   "metadata": {},
   "outputs": [
    {
     "data": {
      "text/plain": [
       "\"Fighting has erupted in Sudan, with clashes between the regular army and a paramilitary force called the Rapid Support Forces (RSF), which is led by Gen Mohamed Hamdan Dagalo, also known as Hemedti. The conflict is a result of a power struggle within the country's military leadership over plans to include the RSF into the army and who would lead the force. Civilians have become the unwitting victims of the fighting, with many caught up in densely populated areas where RSF fighters are located. The RSF has been accused of human rights abuses, including the massacre of over 120 protesters in 2019.\""
      ]
     },
     "execution_count": 28,
     "metadata": {},
     "output_type": "execute_result"
    }
   ],
   "source": [
    "data[0]"
   ]
  },
  {
   "cell_type": "code",
   "execution_count": 29,
   "id": "be24bb1c",
   "metadata": {},
   "outputs": [],
   "source": [
    "data1 = ''\n",
    "for i in range(0,5):\n",
    "    data1 = data1 + data[i]"
   ]
  },
  {
   "cell_type": "code",
   "execution_count": 30,
   "id": "125e18de",
   "metadata": {},
   "outputs": [
    {
     "data": {
      "text/plain": [
       "'Fighting has erupted in Sudan, with clashes between the regular army and a paramilitary force called the Rapid Support Forces (RSF), which is led by Gen Mohamed Hamdan Dagalo, also known as Hemedti. The conflict is a result of a power struggle within the country\\'s military leadership over plans to include the RSF into the army and who would lead the force. Civilians have become the unwitting victims of the fighting, with many caught up in densely populated areas where RSF fighters are located. The RSF has been accused of human rights abuses, including the massacre of over 120 protesters in 2019.The ongoing conflict in Sudan is the result of a power struggle between two rival generals, Abdel Fattah al-Burhan and Mohammed Hamdan \"Hemetti\" Dagalo. The fighting has led to a humanitarian crisis, with hundreds of people killed and injured, and significant damage to infrastructure. Sudan has a history of political instability and violence, including the overthrow of longtime dictator Omar al-Bashir in 2019. There have been calls for a return to civilian rule, but talks to finalize a power-sharing agreement have failed so far. The UK, US, and EU have called for a ceasefire and talks to resolve the crisis, and many countries are focused on evacuating their citizens.The recent violence in Sudan is a result of a power struggle between General Burhan and Mr Dagalo, two of the most powerful figures in Sudan\\'s military government. The Rapid Support Forces (rsf), a paramilitary unit led by Mr Dagalo, clashed with the Sudanese Armed Forces (saf), loyal to General Burhan. The crisis worsened when the rsf took up positions around an airport in northern Sudan, leading to warnings of an imminent confrontation. Fighting broke out on April 15th, with both sides claiming to have gained the upper hand. The conflict has spread to other parts of Sudan, with temporary ceasefires collapsing quickly. The struggle for power involves various political parties, militias, rebel leaders, and foreign powers, all vying for control over Sudan\\'s political transition.The Rapid Support Forces (RSF) is an armed group in Sudan created by former dictator Omar al-Bashir as a counterweight to the army and intelligence service. Currently headed by General Dagalo, the RSF is the most powerful militia in Sudan, and is jockeying for power following the ousting of al-Bashir and the supposed transition to a civilian government. This is despite the fact that al-Bashir\\'s divide-and-rule tactics have left several militias and armed groups struggling for control of the country. The RSF\\'s ambition to rule has heightened fears of violence and instability in Sudan.Of what subject or topic would you like a summary? Please provide me with more information so that I can help you better.'"
      ]
     },
     "execution_count": 30,
     "metadata": {},
     "output_type": "execute_result"
    }
   ],
   "source": [
    "data1"
   ]
  },
  {
   "cell_type": "code",
   "execution_count": 31,
   "id": "0c3dd892",
   "metadata": {},
   "outputs": [],
   "source": [
    "data2 = ''\n",
    "for i in range(0,5):\n",
    "    data2 = data2 + data[i]"
   ]
  },
  {
   "cell_type": "code",
   "execution_count": 32,
   "id": "44470023",
   "metadata": {
    "scrolled": true
   },
   "outputs": [
    {
     "data": {
      "text/plain": [
       "'Fighting has erupted in Sudan, with clashes between the regular army and a paramilitary force called the Rapid Support Forces (RSF), which is led by Gen Mohamed Hamdan Dagalo, also known as Hemedti. The conflict is a result of a power struggle within the country\\'s military leadership over plans to include the RSF into the army and who would lead the force. Civilians have become the unwitting victims of the fighting, with many caught up in densely populated areas where RSF fighters are located. The RSF has been accused of human rights abuses, including the massacre of over 120 protesters in 2019.The ongoing conflict in Sudan is the result of a power struggle between two rival generals, Abdel Fattah al-Burhan and Mohammed Hamdan \"Hemetti\" Dagalo. The fighting has led to a humanitarian crisis, with hundreds of people killed and injured, and significant damage to infrastructure. Sudan has a history of political instability and violence, including the overthrow of longtime dictator Omar al-Bashir in 2019. There have been calls for a return to civilian rule, but talks to finalize a power-sharing agreement have failed so far. The UK, US, and EU have called for a ceasefire and talks to resolve the crisis, and many countries are focused on evacuating their citizens.The recent violence in Sudan is a result of a power struggle between General Burhan and Mr Dagalo, two of the most powerful figures in Sudan\\'s military government. The Rapid Support Forces (rsf), a paramilitary unit led by Mr Dagalo, clashed with the Sudanese Armed Forces (saf), loyal to General Burhan. The crisis worsened when the rsf took up positions around an airport in northern Sudan, leading to warnings of an imminent confrontation. Fighting broke out on April 15th, with both sides claiming to have gained the upper hand. The conflict has spread to other parts of Sudan, with temporary ceasefires collapsing quickly. The struggle for power involves various political parties, militias, rebel leaders, and foreign powers, all vying for control over Sudan\\'s political transition.The Rapid Support Forces (RSF) is an armed group in Sudan created by former dictator Omar al-Bashir as a counterweight to the army and intelligence service. Currently headed by General Dagalo, the RSF is the most powerful militia in Sudan, and is jockeying for power following the ousting of al-Bashir and the supposed transition to a civilian government. This is despite the fact that al-Bashir\\'s divide-and-rule tactics have left several militias and armed groups struggling for control of the country. The RSF\\'s ambition to rule has heightened fears of violence and instability in Sudan.Of what subject or topic would you like a summary? Please provide me with more information so that I can help you better.'"
      ]
     },
     "execution_count": 32,
     "metadata": {},
     "output_type": "execute_result"
    }
   ],
   "source": [
    "data2"
   ]
  },
  {
   "cell_type": "code",
   "execution_count": 35,
   "id": "aab2bddb",
   "metadata": {},
   "outputs": [],
   "source": [
    "papers = [data1, data2, ]"
   ]
  },
  {
   "cell_type": "code",
   "execution_count": 36,
   "id": "75a458d1",
   "metadata": {},
   "outputs": [],
   "source": [
    "import gensim\n",
    "from gensim import corpora\n",
    "from pprint import pprint"
   ]
  },
  {
   "cell_type": "code",
   "execution_count": 37,
   "id": "9715d795",
   "metadata": {},
   "outputs": [],
   "source": [
    "# 創建詞袋\n",
    "texts = [[word for word in document.lower().split()] for document in data]\n",
    "dictionary = corpora.Dictionary(texts)\n",
    "corpus = [dictionary.doc2bow(text) for text in texts]"
   ]
  },
  {
   "cell_type": "code",
   "execution_count": 38,
   "id": "c5c2ae41",
   "metadata": {},
   "outputs": [],
   "source": [
    "# 訓練 LDA 模型 ＃num_topics 分成三類\n",
    "lda_model = gensim.models.ldamodel.LdaModel(corpus=corpus, id2word=dictionary, \n",
    "                                            num_topics=3, random_state=100, update_every=1, \n",
    "                                            chunksize=100, passes=10, alpha='auto', per_word_topics=True)"
   ]
  },
  {
   "cell_type": "code",
   "execution_count": 39,
   "id": "ec54d63c",
   "metadata": {},
   "outputs": [
    {
     "name": "stdout",
     "output_type": "stream",
     "text": [
      "Requirement already satisfied: pyLDAvis in /opt/anaconda3/lib/python3.9/site-packages (3.4.1)\n",
      "Requirement already satisfied: numpy>=1.24.2 in /opt/anaconda3/lib/python3.9/site-packages (from pyLDAvis) (1.24.3)\n",
      "Requirement already satisfied: scipy in /opt/anaconda3/lib/python3.9/site-packages (from pyLDAvis) (1.9.1)\n",
      "Requirement already satisfied: pandas>=2.0.0 in /opt/anaconda3/lib/python3.9/site-packages (from pyLDAvis) (2.0.1)\n",
      "Requirement already satisfied: joblib>=1.2.0 in /opt/anaconda3/lib/python3.9/site-packages (from pyLDAvis) (1.2.0)\n",
      "Requirement already satisfied: jinja2 in /opt/anaconda3/lib/python3.9/site-packages (from pyLDAvis) (2.11.3)\n",
      "Requirement already satisfied: numexpr in /opt/anaconda3/lib/python3.9/site-packages (from pyLDAvis) (2.8.3)\n",
      "Requirement already satisfied: funcy in /opt/anaconda3/lib/python3.9/site-packages (from pyLDAvis) (2.0)\n",
      "Requirement already satisfied: scikit-learn>=1.0.0 in /opt/anaconda3/lib/python3.9/site-packages (from pyLDAvis) (1.0.2)\n",
      "Requirement already satisfied: gensim in /opt/anaconda3/lib/python3.9/site-packages (from pyLDAvis) (4.1.2)\n",
      "Requirement already satisfied: setuptools in /opt/anaconda3/lib/python3.9/site-packages (from pyLDAvis) (63.4.1)\n",
      "Requirement already satisfied: python-dateutil>=2.8.2 in /opt/anaconda3/lib/python3.9/site-packages (from pandas>=2.0.0->pyLDAvis) (2.8.2)\n",
      "Requirement already satisfied: pytz>=2020.1 in /opt/anaconda3/lib/python3.9/site-packages (from pandas>=2.0.0->pyLDAvis) (2022.7)\n",
      "Requirement already satisfied: tzdata>=2022.1 in /opt/anaconda3/lib/python3.9/site-packages (from pandas>=2.0.0->pyLDAvis) (2023.3)\n",
      "Requirement already satisfied: threadpoolctl>=2.0.0 in /opt/anaconda3/lib/python3.9/site-packages (from scikit-learn>=1.0.0->pyLDAvis) (2.2.0)\n",
      "Requirement already satisfied: smart-open>=1.8.1 in /opt/anaconda3/lib/python3.9/site-packages (from gensim->pyLDAvis) (5.2.1)\n",
      "Requirement already satisfied: MarkupSafe>=0.23 in /opt/anaconda3/lib/python3.9/site-packages (from jinja2->pyLDAvis) (2.0.1)\n",
      "Requirement already satisfied: packaging in /opt/anaconda3/lib/python3.9/site-packages (from numexpr->pyLDAvis) (21.3)\n",
      "Requirement already satisfied: six>=1.5 in /opt/anaconda3/lib/python3.9/site-packages (from python-dateutil>=2.8.2->pandas>=2.0.0->pyLDAvis) (1.16.0)\n",
      "Requirement already satisfied: pyparsing!=3.0.5,>=2.0.2 in /opt/anaconda3/lib/python3.9/site-packages (from packaging->numexpr->pyLDAvis) (3.0.9)\n"
     ]
    }
   ],
   "source": [
    "!pip install pyLDAvis\n",
    "\n"
   ]
  },
  {
   "cell_type": "code",
   "execution_count": 40,
   "id": "6d6f15ce",
   "metadata": {},
   "outputs": [
    {
     "data": {
      "text/html": [
       "\n",
       "<link rel=\"stylesheet\" type=\"text/css\" href=\"https://cdn.jsdelivr.net/gh/bmabey/pyLDAvis@3.4.0/pyLDAvis/js/ldavis.v1.0.0.css\">\n",
       "\n",
       "\n",
       "<div id=\"ldavis_el14981404618289723203057942703\" style=\"background-color:white;\"></div>\n",
       "<script type=\"text/javascript\">\n",
       "\n",
       "var ldavis_el14981404618289723203057942703_data = {\"mdsDat\": {\"x\": [0.057249140667785324, -0.06598853873484065, 0.008739398067055365], \"y\": [-0.0363138169545547, -0.023573164049549653, 0.059886981004104355], \"topics\": [1, 2, 3], \"cluster\": [1, 1, 1], \"Freq\": [55.17985818100113, 24.069847130866055, 20.75029468813282]}, \"tinfo\": {\"Term\": [\"and\", \"is\", \"to\", \"a\", \"the\", \"al-bashir\", \"crisis,\", \"talks\", \"armed\", \"by\", \"have\", \"for\", \"sudan\", \"instability\", \"omar\", \"dictator\", \"civilian\", \"headed\", \"transition\", \"sudan.\", \"several\", \"militia\", \"supposed\", \"jockeying\", \"fears\", \"service.\", \"groups\", \"al-bashir's\", \"rule\", \"this\", \"over\", \"with\", \"you\", \"would\", \"military\", \"(rsf),\", \"up\", \"paramilitary\", \"mr\", \"sudan's\", \"rsf\", \"sudan,\", \"forces\", \"dagalo,\", \"like\", \"me\", \"more\", \"i\", \"provide\", \"better.\", \"information\", \"topic\", \"subject\", \"please\", \"what\", \"can\", \"or\", \"summary?\", \"help\", \"within\", \"struggle\", \"the\", \"of\", \"in\", \"power\", \"a\", \"army\", \"rapid\", \"support\", \"an\", \"general\", \"fighting\", \"result\", \"led\", \"between\", \"conflict\", \"to\", \"has\", \"is\", \"and\", \"by\", \"have\", \"crisis,\", \"talks\", \"their\", \"ceasefire\", \"power-sharing\", \"longtime\", \"overthrow\", \"rule,\", \"killed\", \"return\", \"far.\", \"failed\", \"uk,\", \"focused\", \"people\", \"agreement\", \"eu\", \"citizens.\", \"calls\", \"abdel\", \"but\", \"rival\", \"resolve\", \"\\\"hemetti\\\"\", \"fattah\", \"violence,\", \"damage\", \"ongoing\", \"al-burhan\", \"there\", \"dagalo.\", \"and\", \"a\", \"have\", \"to\", \"sudan\", \"of\", \"the\", \"for\", \"has\", \"in\", \"on\", \"political\", \"two\", \"struggle\", \"conflict\", \"with\", \"power\", \"result\", \"between\", \"led\", \"is\", \"fighting\", \"al-bashir\", \"2019.\", \"been\", \"including\", \"many\", \"headed\", \"transition\", \"sudan.\", \"several\", \"militia\", \"supposed\", \"jockeying\", \"fears\", \"service.\", \"al-bashir's\", \"left\", \"rule\", \"groups\", \"this\", \"ambition\", \"(rsf)\", \"former\", \"rsf's\", \"intelligence\", \"militias\", \"heightened\", \"following\", \"despite\", \"divide-and-rule\", \"country.\", \"struggling\", \"counterweight\", \"currently\", \"group\", \"fact\", \"al-bashir\", \"is\", \"armed\", \"the\", \"and\", \"by\", \"in\", \"to\", \"for\", \"of\", \"a\", \"has\", \"rsf\", \"power\", \"dagalo,\", \"army\", \"have\", \"forces\", \"sudan\", \"sudan,\", \"rapid\", \"support\", \"as\", \"instability\", \"an\", \"general\", \"most\", \"that\", \"omar\", \"violence\"], \"Freq\": [10.0, 5.0, 8.0, 10.0, 24.0, 2.0, 1.0, 1.0, 2.0, 3.0, 4.0, 4.0, 3.0, 1.0, 1.0, 1.0, 1.0, 1.0, 1.0, 1.0, 1.0, 1.0, 1.0, 1.0, 1.0, 1.0, 1.0, 1.0, 1.0, 1.0, 2.523575628972012, 4.78933698398058, 1.7717291116653027, 1.7704814317479176, 1.7664870867488525, 1.7652412692140291, 1.7650066090112633, 1.763000939391293, 1.7580977517021505, 1.7542933697243719, 3.280693503720517, 2.5219888790294993, 2.5205166656145277, 2.5197679878247508, 1.012814968936101, 1.0127845888205644, 1.0127849380172946, 1.0127558382897692, 1.0126274502919266, 1.0126134824227142, 1.0125925306188959, 1.012542828284282, 1.0124906815725565, 1.0123633411649047, 1.0123575212193996, 1.0123194587757962, 1.0122789519550806, 1.012257650954532, 1.0121306597436106, 1.0113526494284877, 2.517008635261869, 15.417561766102809, 7.05348248931911, 4.790662534768823, 2.5174795852521425, 5.55381010585844, 1.76907125895203, 1.768646170132337, 1.7676918154684096, 1.764436487149583, 1.763014558063775, 1.7655116638821964, 1.7646515923354518, 1.764610969115826, 1.7629085186566722, 1.7619923428352582, 4.012853822558381, 2.5247843152545126, 2.536192805231444, 3.2968582859620423, 1.7718498173350785, 1.7690400640441228, 1.336905285050946, 1.335979979062939, 0.7645319400813114, 0.7644390235998555, 0.764451361690016, 0.7643973381182844, 0.7642862445328059, 0.764233337989813, 0.76423613056166, 0.7641431633061705, 0.7641667732317863, 0.7641678902605251, 0.7641028994975396, 0.7641036611080433, 0.7640994468632559, 0.7641087892854351, 0.7640453725174906, 0.7640220164620427, 0.7640649712944535, 0.7639880486335761, 0.7640121662995277, 0.7639752028030796, 0.7639569241509899, 0.7639694145632513, 0.7639654541886318, 0.7639408287823444, 0.7638881761095193, 0.7638915271957357, 0.7639164572462247, 0.7639068609538776, 0.7639554009299825, 4.2163882639466905, 3.6448749295578757, 1.916343836793581, 3.0915713976692123, 1.3438217239055499, 2.5056197559947524, 3.65475393172395, 1.3522063447152246, 1.34131226806977, 1.3533314972994122, 0.7716293375916033, 0.7764350490961506, 0.7704520908489603, 0.7735699211551254, 0.7709492194117662, 0.7764745512942777, 0.773556719906394, 0.7701314020528534, 0.7695593817905132, 0.7693177481646942, 0.768436869456072, 0.7681086153289614, 0.7648301867545748, 0.7648059675405561, 0.7647804789756977, 0.7646651711454319, 0.7645217852745949, 0.7165095246017917, 0.7164056107801261, 0.7164022403655228, 0.7163784286052085, 0.7163705934855462, 0.7162950874441085, 0.7162572687659623, 0.7162462820897878, 0.7161719141104239, 0.7161330449134403, 0.7161157988958597, 0.7161326509688762, 0.71614932795542, 0.7161320819378394, 0.7160977649891511, 0.716045939393173, 0.7160425252069514, 0.7160216899166765, 0.7159628608617823, 0.7159288065428034, 0.7159013617381764, 0.7158824961707215, 0.7158635430600302, 0.715830976976071, 0.7157911010318682, 0.71577354861296, 0.7157566965399436, 0.7157475482717346, 0.7156753251016637, 0.7156433280487413, 1.2542769458367502, 2.33161465371811, 1.2548445761818894, 5.044846032902525, 2.868743884759351, 1.2553267643282535, 1.801840805403363, 1.7999978451896264, 1.255643845930674, 1.8115815662366355, 1.266626845289166, 0.7244679051409507, 0.7242723335507223, 0.7234302113876955, 0.7212960385979093, 0.7210962649323314, 0.7205464058641915, 0.720231250212973, 0.7196841487567813, 0.7194175796017923, 0.7190745414297646, 0.7190161063194345, 0.7186981930562678, 0.717760648765511, 0.7177483489407899, 0.717693678189627, 0.7176511321767126, 0.7171372971503717, 0.7170807004480071, 0.7170136423288866], \"Total\": [10.0, 5.0, 8.0, 10.0, 24.0, 2.0, 1.0, 1.0, 2.0, 3.0, 4.0, 4.0, 3.0, 1.0, 1.0, 1.0, 1.0, 1.0, 1.0, 1.0, 1.0, 1.0, 1.0, 1.0, 1.0, 1.0, 1.0, 1.0, 1.0, 1.0, 2.9028167615089733, 5.754285951552646, 2.1446166169046124, 2.1442676824913747, 2.1432809961758865, 2.14291306953131, 2.142895682951672, 2.142341190955825, 2.141206294625139, 2.1403326222969454, 4.2011452281023125, 3.4414686159714662, 3.441054778622526, 3.440801559979125, 1.38463710288276, 1.3846282102520011, 1.3846289011253166, 1.3846199824406453, 1.3845826643173118, 1.3845783415985289, 1.384572609952748, 1.3845578317762182, 1.384542924103623, 1.3845059650069231, 1.3845040478226445, 1.3844933258629446, 1.384481153447107, 1.3844753124177553, 1.3844384079640146, 1.384235980649878, 3.4754615770768655, 24.117161730729286, 11.370683811550498, 7.945834837471598, 4.014466516546232, 10.46531188070548, 2.6827784267806996, 2.682807483271005, 2.6825774767724884, 2.6818641191368107, 2.681519666007153, 2.7173073717178915, 2.7171819538281103, 2.7171199977247174, 2.7166388225359666, 2.716457923556872, 8.90442306541722, 4.590564488465233, 5.636244328405626, 10.381990434668083, 3.2226454660554684, 4.405930306701896, 1.773632193627723, 1.7736753254656084, 1.199060309356011, 1.1990294139099196, 1.1990708165720705, 1.1990632605283273, 1.1990927222698087, 1.1990783133284195, 1.199114363227104, 1.1990403087262647, 1.1990825315297502, 1.199102050367185, 1.1990865005302893, 1.1990947341595897, 1.199107986512722, 1.1991543613840088, 1.1990828606293689, 1.1990828425771192, 1.1991775286398856, 1.1990651148845222, 1.1991053587834561, 1.1990956161409967, 1.1990717554455468, 1.199104223185919, 1.199127131869024, 1.1991159883691294, 1.1990546684908636, 1.199076856094272, 1.1991184403504127, 1.1991296464366616, 1.199221745012657, 10.381990434668083, 10.46531188070548, 4.405930306701896, 8.90442306541722, 3.0708878060705045, 11.370683811550498, 24.117161730729286, 4.368669581664058, 4.590564488465233, 7.945834837471598, 1.9565392919570728, 2.7151902649096353, 1.9568736460664746, 3.4754615770768655, 2.716457923556872, 5.754285951552646, 4.014466516546232, 2.7171819538281103, 2.7166388225359666, 2.7171199977247174, 5.636244328405626, 2.7173073717178915, 2.278265784866721, 1.9584256362037493, 1.9585158458277945, 1.9583020111572376, 1.9587971382976943, 1.1640961005944774, 1.1641677917417113, 1.164201789840564, 1.1641805287210292, 1.164174076506085, 1.1642241267776785, 1.1642368634118079, 1.1642266451924332, 1.164247512960562, 1.1642660497453, 1.1642436601469976, 1.1642722140670685, 1.1643034281629785, 1.164307241924515, 1.164276272369254, 1.1642816560603497, 1.1643233894852125, 1.1643255969244628, 1.1643565622928351, 1.1643892894102499, 1.1643900672437968, 1.1643826817940854, 1.1643968861570588, 1.1643856859850832, 1.1644513372644856, 1.1644333539586884, 1.1644337269279872, 1.1644346995996782, 1.1644374096756838, 1.1644759721966502, 2.278265784866721, 5.636244328405626, 2.462318332304812, 24.117161730729286, 10.381990434668083, 3.2226454660554684, 7.945834837471598, 8.90442306541722, 4.368669581664058, 11.370683811550498, 10.46531188070548, 4.590564488465233, 4.2011452281023125, 4.014466516546232, 3.440801559979125, 2.6827784267806996, 4.405930306701896, 3.441054778622526, 3.0708878060705045, 3.4414686159714662, 2.682807483271005, 2.6825774767724884, 1.9234861605115254, 1.738650119588679, 2.6818641191368107, 2.681519666007153, 1.922654661789453, 1.9242611653477941, 1.7388850974805636, 1.9231233787888413], \"Category\": [\"Default\", \"Default\", \"Default\", \"Default\", \"Default\", \"Default\", \"Default\", \"Default\", \"Default\", \"Default\", \"Default\", \"Default\", \"Default\", \"Default\", \"Default\", \"Default\", \"Default\", \"Default\", \"Default\", \"Default\", \"Default\", \"Default\", \"Default\", \"Default\", \"Default\", \"Default\", \"Default\", \"Default\", \"Default\", \"Default\", \"Topic1\", \"Topic1\", \"Topic1\", \"Topic1\", \"Topic1\", \"Topic1\", \"Topic1\", \"Topic1\", \"Topic1\", \"Topic1\", \"Topic1\", \"Topic1\", \"Topic1\", \"Topic1\", \"Topic1\", \"Topic1\", \"Topic1\", \"Topic1\", \"Topic1\", \"Topic1\", \"Topic1\", \"Topic1\", \"Topic1\", \"Topic1\", \"Topic1\", \"Topic1\", \"Topic1\", \"Topic1\", \"Topic1\", \"Topic1\", \"Topic1\", \"Topic1\", \"Topic1\", \"Topic1\", \"Topic1\", \"Topic1\", \"Topic1\", \"Topic1\", \"Topic1\", \"Topic1\", \"Topic1\", \"Topic1\", \"Topic1\", \"Topic1\", \"Topic1\", \"Topic1\", \"Topic1\", \"Topic1\", \"Topic1\", \"Topic1\", \"Topic1\", \"Topic1\", \"Topic2\", \"Topic2\", \"Topic2\", \"Topic2\", \"Topic2\", \"Topic2\", \"Topic2\", \"Topic2\", \"Topic2\", \"Topic2\", \"Topic2\", \"Topic2\", \"Topic2\", \"Topic2\", \"Topic2\", \"Topic2\", \"Topic2\", \"Topic2\", \"Topic2\", \"Topic2\", \"Topic2\", \"Topic2\", \"Topic2\", \"Topic2\", \"Topic2\", \"Topic2\", \"Topic2\", \"Topic2\", \"Topic2\", \"Topic2\", \"Topic2\", \"Topic2\", \"Topic2\", \"Topic2\", \"Topic2\", \"Topic2\", \"Topic2\", \"Topic2\", \"Topic2\", \"Topic2\", \"Topic2\", \"Topic2\", \"Topic2\", \"Topic2\", \"Topic2\", \"Topic2\", \"Topic2\", \"Topic2\", \"Topic2\", \"Topic2\", \"Topic2\", \"Topic2\", \"Topic2\", \"Topic2\", \"Topic2\", \"Topic2\", \"Topic2\", \"Topic2\", \"Topic3\", \"Topic3\", \"Topic3\", \"Topic3\", \"Topic3\", \"Topic3\", \"Topic3\", \"Topic3\", \"Topic3\", \"Topic3\", \"Topic3\", \"Topic3\", \"Topic3\", \"Topic3\", \"Topic3\", \"Topic3\", \"Topic3\", \"Topic3\", \"Topic3\", \"Topic3\", \"Topic3\", \"Topic3\", \"Topic3\", \"Topic3\", \"Topic3\", \"Topic3\", \"Topic3\", \"Topic3\", \"Topic3\", \"Topic3\", \"Topic3\", \"Topic3\", \"Topic3\", \"Topic3\", \"Topic3\", \"Topic3\", \"Topic3\", \"Topic3\", \"Topic3\", \"Topic3\", \"Topic3\", \"Topic3\", \"Topic3\", \"Topic3\", \"Topic3\", \"Topic3\", \"Topic3\", \"Topic3\", \"Topic3\", \"Topic3\", \"Topic3\", \"Topic3\", \"Topic3\", \"Topic3\", \"Topic3\", \"Topic3\", \"Topic3\", \"Topic3\", \"Topic3\", \"Topic3\"], \"logprob\": [30.0, 29.0, 28.0, 27.0, 26.0, 25.0, 24.0, 23.0, 22.0, 21.0, 20.0, 19.0, 18.0, 17.0, 16.0, 15.0, 14.0, 13.0, 12.0, 11.0, 10.0, 9.0, 8.0, 7.0, 6.0, 5.0, 4.0, 3.0, 2.0, 1.0, -4.5956, -3.9549, -4.9494, -4.9501, -4.9523, -4.953, -4.9532, -4.9543, -4.9571, -4.9593, -4.3333, -4.5963, -4.5969, -4.5972, -5.5086, -5.5086, -5.5086, -5.5086, -5.5088, -5.5088, -5.5088, -5.5089, -5.5089, -5.509, -5.509, -5.5091, -5.5091, -5.5091, -5.5093, -5.51, -4.5982, -2.7858, -3.5678, -3.9547, -4.5981, -3.8068, -4.9509, -4.9511, -4.9516, -4.9535, -4.9543, -4.9529, -4.9534, -4.9534, -4.9544, -4.9549, -4.1318, -4.5952, -4.5907, -4.3283, -4.9493, -4.9509, -4.4013, -4.402, -4.9602, -4.9603, -4.9603, -4.9603, -4.9605, -4.9606, -4.9606, -4.9607, -4.9607, -4.9606, -4.9607, -4.9607, -4.9607, -4.9607, -4.9608, -4.9608, -4.9608, -4.9609, -4.9609, -4.9609, -4.9609, -4.9609, -4.9609, -4.9609, -4.961, -4.961, -4.961, -4.961, -4.9609, -3.2527, -3.3984, -4.0413, -3.563, -4.3962, -3.7731, -3.3957, -4.3899, -4.398, -4.3891, -4.9509, -4.9447, -4.9525, -4.9484, -4.9518, -4.9447, -4.9484, -4.9529, -4.9536, -4.9539, -4.9551, -4.9555, -4.9598, -4.9598, -4.9598, -4.96, -4.9602, -4.8766, -4.8768, -4.8768, -4.8768, -4.8768, -4.8769, -4.877, -4.877, -4.8771, -4.8772, -4.8772, -4.8772, -4.8771, -4.8772, -4.8772, -4.8773, -4.8773, -4.8773, -4.8774, -4.8775, -4.8775, -4.8775, -4.8775, -4.8776, -4.8776, -4.8777, -4.8777, -4.8777, -4.8778, -4.8779, -4.3167, -3.6967, -4.3163, -2.9249, -3.4894, -4.3159, -3.9545, -3.9555, -4.3156, -3.9491, -4.3069, -4.8656, -4.8659, -4.867, -4.87, -4.8703, -4.871, -4.8715, -4.8722, -4.8726, -4.8731, -4.8732, -4.8736, -4.8749, -4.8749, -4.875, -4.8751, -4.8758, -4.8758, -4.8759], \"loglift\": [30.0, 29.0, 28.0, 27.0, 26.0, 25.0, 24.0, 23.0, 22.0, 21.0, 20.0, 19.0, 18.0, 17.0, 16.0, 15.0, 14.0, 13.0, 12.0, 11.0, 10.0, 9.0, 8.0, 7.0, 6.0, 5.0, 4.0, 3.0, 2.0, 1.0, 0.4546, 0.411, 0.4036, 0.403, 0.4012, 0.4007, 0.4006, 0.3997, 0.3974, 0.3957, 0.3473, 0.2837, 0.2833, 0.283, 0.2819, 0.2818, 0.2818, 0.2818, 0.2817, 0.2817, 0.2817, 0.2817, 0.2816, 0.2815, 0.2815, 0.2815, 0.2815, 0.2814, 0.2813, 0.2807, 0.2719, 0.1472, 0.1171, 0.0886, 0.1279, -0.039, 0.1782, 0.1779, 0.1775, 0.1759, 0.1752, 0.1634, 0.1629, 0.1629, 0.1621, 0.1617, -0.2025, -0.0033, -0.204, -0.5525, -0.0036, -0.3179, 1.1415, 1.1408, 0.9742, 0.9741, 0.9741, 0.974, 0.9738, 0.9738, 0.9737, 0.9737, 0.9737, 0.9737, 0.9736, 0.9736, 0.9736, 0.9735, 0.9735, 0.9735, 0.9735, 0.9735, 0.9735, 0.9734, 0.9734, 0.9734, 0.9734, 0.9734, 0.9733, 0.9733, 0.9733, 0.9733, 0.9733, 0.5231, 0.3695, 0.5917, 0.3663, 0.5978, -0.0883, -0.4627, 0.2515, 0.1939, -0.3459, 0.4938, 0.1723, 0.4921, -0.0783, 0.1647, -0.5787, -0.2225, 0.1634, 0.1629, 0.1624, -0.5684, 0.1607, 0.3327, 0.4839, 0.4839, 0.4838, 0.4834, 1.0873, 1.0871, 1.0871, 1.087, 1.087, 1.0869, 1.0868, 1.0868, 1.0867, 1.0866, 1.0866, 1.0866, 1.0866, 1.0866, 1.0866, 1.0865, 1.0865, 1.0864, 1.0863, 1.0862, 1.0862, 1.0862, 1.0861, 1.0861, 1.086, 1.086, 1.086, 1.0859, 1.0858, 1.0858, 0.9758, 0.69, 0.8985, 0.0081, 0.2864, 0.6298, 0.0888, -0.0262, 0.3258, -0.2642, -0.5391, -0.2737, -0.1853, -0.141, 0.0102, 0.2588, -0.2381, 0.0086, 0.1217, 0.0074, 0.256, 0.256, 0.5882, 0.6879, 0.2545, 0.2545, 0.5871, 0.5856, 0.6868, 0.586]}, \"token.table\": {\"Topic\": [2, 3, 1, 1, 2, 1, 2, 3, 2, 2, 2, 3, 3, 2, 3, 1, 3, 1, 2, 3, 1, 3, 1, 3, 1, 3, 1, 2, 1, 1, 2, 2, 1, 3, 2, 1, 2, 2, 2, 3, 1, 2, 3, 3, 2, 3, 1, 3, 2, 2, 3, 2, 3, 3, 2, 3, 2, 2, 2, 3, 1, 2, 2, 3, 1, 2, 3, 1, 3, 3, 1, 3, 3, 3, 1, 2, 3, 1, 2, 3, 3, 3, 1, 1, 1, 2, 3, 1, 2, 1, 2, 3, 3, 1, 2, 3, 3, 2, 1, 2, 3, 1, 2, 1, 2, 1, 1, 3, 3, 1, 1, 3, 1, 1, 2, 3, 2, 3, 1, 2, 2, 1, 1, 2, 1, 2, 1, 1, 2, 1, 2, 3, 2, 1, 1, 3, 2, 1, 2, 2, 2, 1, 3, 3, 3, 2, 3, 3, 1, 2, 3, 1, 1, 2, 3, 1, 1, 3, 3, 1, 1, 3, 3, 2, 1, 3, 1, 2, 3, 2, 2, 3, 1, 2, 3, 1, 3, 1, 2, 2, 1, 1, 3, 2, 1, 1, 2, 1, 1, 1], \"Freq\": [0.8339558652733989, 0.8588986992921974, 0.9333089747954323, 0.5106142308974364, 0.5106142308974364, 0.5733226174617868, 0.38221507830785784, 0.09555376957696446, 0.8339830652952542, 0.8339209964977703, 0.43893035072661646, 0.43893035072661646, 0.8589102123339974, 0.8339459776031588, 0.8589026708970384, 0.7457499377871998, 0.3728749688935999, 0.2889619306508166, 0.3852825742010888, 0.2889619306508166, 0.4061213316248865, 0.4061213316248865, 0.7454957815506124, 0.3727478907753062, 0.5198893657410373, 0.5198893657410373, 0.5105907119057982, 0.5105907119057982, 0.7222415445596787, 0.7362038646466119, 0.36810193232330596, 0.8339550754860632, 0.6206081373412783, 0.31030406867063914, 0.8339048857379825, 0.722285894283172, 0.8340078970532476, 0.8339707353753457, 0.575057681899604, 0.575057681899604, 0.7362528911845772, 0.3681264455922886, 0.8587865302031428, 0.8587735425244883, 0.563814754599507, 0.8587858128444564, 0.8718898627848218, 0.29062995426160726, 0.8338741389228609, 0.8339903311152653, 0.8588137016583499, 0.5750767850800168, 0.5750767850800168, 0.8588219625475634, 0.8339707228198765, 0.8587553748435142, 0.833957376433293, 0.8339709517110826, 0.8339399329922144, 0.858939283110731, 0.7360227336871327, 0.36801136684356633, 0.8339624647762887, 0.8588241783699463, 0.45780527975708923, 0.22890263987854462, 0.22890263987854462, 0.8718257025832403, 0.2906085675277468, 0.8588679133570738, 0.7458457326841268, 0.3729228663420634, 0.8587838141326269, 0.8588826381605574, 0.6535144005793049, 0.21783813352643494, 0.21783813352643494, 0.45393364415178883, 0.45393364415178883, 0.22696682207589441, 0.8590356066731284, 0.8588187310521113, 0.7223145459180245, 0.7222198239818246, 0.6292604996545615, 0.12585209993091231, 0.25170419986182463, 0.5106464653064727, 0.5106464653064727, 0.7222445343867718, 0.5751588480818527, 0.5751588480818527, 0.8588434439969261, 0.53226933134899, 0.17742311044966336, 0.3548462208993267, 0.8589317444128078, 0.833948813113005, 0.7360734901935783, 0.36803674509678913, 0.8589267300572972, 0.7222108940443956, 0.8339843550534467, 0.5105173886812274, 0.5105173886812274, 0.7222155323687944, 0.9331487581742509, 0.8589780688135543, 0.8588193047588825, 0.7222151720127171, 0.5201142045286906, 0.5201142045286906, 0.9340529238216816, 0.615618208721036, 0.2638363751661583, 0.17589091677743887, 0.5750811260898608, 0.5750811260898608, 0.5111065257471662, 0.5111065257471662, 0.8339748990379809, 0.7222922446507714, 1.0334789435487852, 0.8339638640346858, 0.9335581131722915, 0.8339532479541119, 0.7222793005409692, 0.7365966303899378, 0.3682983151949689, 0.7472973028010186, 0.24909910093367288, 0.24909910093367288, 0.8339790996321815, 0.7222392896946057, 0.7454877073629994, 0.3727438536814997, 0.8339784466263436, 0.7360567065382919, 0.36802835326914596, 0.8340003190237163, 0.8339618513644989, 0.7140910006948561, 0.23803033356495204, 0.8588662850335638, 0.8589056647729931, 0.833973885512269, 0.8589238876337408, 0.8589733081162264, 0.8631946961483126, 0.28773156538277084, 0.8587868052734239, 0.7222600199610405, 0.3256387283257984, 0.3256387283257984, 0.3256387283257984, 0.9344341992291159, 0.8717208653530472, 0.29057362178434903, 0.8589576212015175, 0.7222952919641931, 0.7455516261197707, 0.37277581305988533, 0.8589411411424572, 0.5638010438790366, 0.5196799779614418, 0.5196799779614418, 0.6219637355123551, 0.165856996136628, 0.207321245170785, 0.833986407687098, 0.8339381842252036, 0.8588798248365035, 0.44921495425516134, 0.336911215691371, 0.22460747712758067, 0.7222522433151979, 0.8589827060100161, 0.5110191973866616, 0.5110191973866616, 0.8339681912503857, 0.933316547282953, 0.5199874386789408, 0.5199874386789408, 0.833947682876, 0.7222803007132128, 0.8689175411331234, 0.17378350822662467, 0.7224201754461801, 0.9327193691023905, 0.9325676133604981], \"Term\": [\"\\\"hemetti\\\"\", \"(rsf)\", \"(rsf),\", \"2019.\", \"2019.\", \"a\", \"a\", \"a\", \"abdel\", \"agreement\", \"al-bashir\", \"al-bashir\", \"al-bashir's\", \"al-burhan\", \"ambition\", \"an\", \"an\", \"and\", \"and\", \"and\", \"armed\", \"armed\", \"army\", \"army\", \"as\", \"as\", \"been\", \"been\", \"better.\", \"between\", \"between\", \"but\", \"by\", \"by\", \"calls\", \"can\", \"ceasefire\", \"citizens.\", \"civilian\", \"civilian\", \"conflict\", \"conflict\", \"counterweight\", \"country.\", \"crisis,\", \"currently\", \"dagalo,\", \"dagalo,\", \"dagalo.\", \"damage\", \"despite\", \"dictator\", \"dictator\", \"divide-and-rule\", \"eu\", \"fact\", \"failed\", \"far.\", \"fattah\", \"fears\", \"fighting\", \"fighting\", \"focused\", \"following\", \"for\", \"for\", \"for\", \"forces\", \"forces\", \"former\", \"general\", \"general\", \"group\", \"groups\", \"has\", \"has\", \"has\", \"have\", \"have\", \"have\", \"headed\", \"heightened\", \"help\", \"i\", \"in\", \"in\", \"in\", \"including\", \"including\", \"information\", \"instability\", \"instability\", \"intelligence\", \"is\", \"is\", \"is\", \"jockeying\", \"killed\", \"led\", \"led\", \"left\", \"like\", \"longtime\", \"many\", \"many\", \"me\", \"military\", \"militia\", \"militias\", \"more\", \"most\", \"most\", \"mr\", \"of\", \"of\", \"of\", \"omar\", \"omar\", \"on\", \"on\", \"ongoing\", \"or\", \"over\", \"overthrow\", \"paramilitary\", \"people\", \"please\", \"political\", \"political\", \"power\", \"power\", \"power\", \"power-sharing\", \"provide\", \"rapid\", \"rapid\", \"resolve\", \"result\", \"result\", \"return\", \"rival\", \"rsf\", \"rsf\", \"rsf's\", \"rule\", \"rule,\", \"service.\", \"several\", \"struggle\", \"struggle\", \"struggling\", \"subject\", \"sudan\", \"sudan\", \"sudan\", \"sudan's\", \"sudan,\", \"sudan,\", \"sudan.\", \"summary?\", \"support\", \"support\", \"supposed\", \"talks\", \"that\", \"that\", \"the\", \"the\", \"the\", \"their\", \"there\", \"this\", \"to\", \"to\", \"to\", \"topic\", \"transition\", \"two\", \"two\", \"uk,\", \"up\", \"violence\", \"violence\", \"violence,\", \"what\", \"with\", \"with\", \"within\", \"would\", \"you\"]}, \"R\": 30, \"lambda.step\": 0.01, \"plot.opts\": {\"xlab\": \"PC1\", \"ylab\": \"PC2\"}, \"topic.order\": [3, 1, 2]};\n",
       "\n",
       "function LDAvis_load_lib(url, callback){\n",
       "  var s = document.createElement('script');\n",
       "  s.src = url;\n",
       "  s.async = true;\n",
       "  s.onreadystatechange = s.onload = callback;\n",
       "  s.onerror = function(){console.warn(\"failed to load library \" + url);};\n",
       "  document.getElementsByTagName(\"head\")[0].appendChild(s);\n",
       "}\n",
       "\n",
       "if(typeof(LDAvis) !== \"undefined\"){\n",
       "   // already loaded: just create the visualization\n",
       "   !function(LDAvis){\n",
       "       new LDAvis(\"#\" + \"ldavis_el14981404618289723203057942703\", ldavis_el14981404618289723203057942703_data);\n",
       "   }(LDAvis);\n",
       "}else if(typeof define === \"function\" && define.amd){\n",
       "   // require.js is available: use it to load d3/LDAvis\n",
       "   require.config({paths: {d3: \"https://d3js.org/d3.v5\"}});\n",
       "   require([\"d3\"], function(d3){\n",
       "      window.d3 = d3;\n",
       "      LDAvis_load_lib(\"https://cdn.jsdelivr.net/gh/bmabey/pyLDAvis@3.4.0/pyLDAvis/js/ldavis.v3.0.0.js\", function(){\n",
       "        new LDAvis(\"#\" + \"ldavis_el14981404618289723203057942703\", ldavis_el14981404618289723203057942703_data);\n",
       "      });\n",
       "    });\n",
       "}else{\n",
       "    // require.js not available: dynamically load d3 & LDAvis\n",
       "    LDAvis_load_lib(\"https://d3js.org/d3.v5.js\", function(){\n",
       "         LDAvis_load_lib(\"https://cdn.jsdelivr.net/gh/bmabey/pyLDAvis@3.4.0/pyLDAvis/js/ldavis.v3.0.0.js\", function(){\n",
       "                 new LDAvis(\"#\" + \"ldavis_el14981404618289723203057942703\", ldavis_el14981404618289723203057942703_data);\n",
       "            })\n",
       "         });\n",
       "}\n",
       "</script>"
      ],
      "text/plain": [
       "<IPython.core.display.HTML object>"
      ]
     },
     "execution_count": 40,
     "metadata": {},
     "output_type": "execute_result"
    }
   ],
   "source": [
    "# 輸出主題模型分析結果 #pyLDAvis畫圖\n",
    "import pyLDAvis.gensim\n",
    "pyLDAvis.enable_notebook()\n",
    "vis = pyLDAvis.gensim.prepare(lda_model, corpus, dictionary)\n",
    "n_jobs=1\n",
    "pyLDAvis.display(vis)"
   ]
  },
  {
   "cell_type": "code",
   "execution_count": 4,
   "id": "41bd0f68",
   "metadata": {
    "scrolled": true
   },
   "outputs": [
    {
     "name": "stdout",
     "output_type": "stream",
     "text": [
      "Requirement already satisfied: wordcloud in /opt/anaconda3/lib/python3.9/site-packages (1.9.1.1)\n",
      "Requirement already satisfied: numpy>=1.6.1 in /opt/anaconda3/lib/python3.9/site-packages (from wordcloud) (1.24.3)\n",
      "Requirement already satisfied: pillow in /opt/anaconda3/lib/python3.9/site-packages (from wordcloud) (9.2.0)\n",
      "Requirement already satisfied: matplotlib in /opt/anaconda3/lib/python3.9/site-packages (from wordcloud) (3.5.2)\n",
      "Requirement already satisfied: cycler>=0.10 in /opt/anaconda3/lib/python3.9/site-packages (from matplotlib->wordcloud) (0.11.0)\n",
      "Requirement already satisfied: fonttools>=4.22.0 in /opt/anaconda3/lib/python3.9/site-packages (from matplotlib->wordcloud) (4.25.0)\n",
      "Requirement already satisfied: kiwisolver>=1.0.1 in /opt/anaconda3/lib/python3.9/site-packages (from matplotlib->wordcloud) (1.4.2)\n",
      "Requirement already satisfied: packaging>=20.0 in /opt/anaconda3/lib/python3.9/site-packages (from matplotlib->wordcloud) (21.3)\n",
      "Requirement already satisfied: pyparsing>=2.2.1 in /opt/anaconda3/lib/python3.9/site-packages (from matplotlib->wordcloud) (3.0.9)\n",
      "Requirement already satisfied: python-dateutil>=2.7 in /opt/anaconda3/lib/python3.9/site-packages (from matplotlib->wordcloud) (2.8.2)\n",
      "Requirement already satisfied: six>=1.5 in /opt/anaconda3/lib/python3.9/site-packages (from python-dateutil>=2.7->matplotlib->wordcloud) (1.16.0)\n",
      "Note: you may need to restart the kernel to use updated packages.\n"
     ]
    }
   ],
   "source": [
    "pip install wordcloud"
   ]
  },
  {
   "cell_type": "code",
   "execution_count": 5,
   "id": "580f5c8e",
   "metadata": {},
   "outputs": [
    {
     "name": "stdout",
     "output_type": "stream",
     "text": [
      "Collecting jieba\n",
      "  Downloading jieba-0.42.1.tar.gz (19.2 MB)\n",
      "\u001b[2K     \u001b[90m━━━━━━━━━━━━━━━━━━━━━━━━━━━━━━━━━━━━━━━━\u001b[0m \u001b[32m19.2/19.2 MB\u001b[0m \u001b[31m13.8 MB/s\u001b[0m eta \u001b[36m0:00:00\u001b[0m00:01\u001b[0m00:01\u001b[0m\n",
      "\u001b[?25h  Preparing metadata (setup.py) ... \u001b[?25ldone\n",
      "\u001b[?25hBuilding wheels for collected packages: jieba\n",
      "  Building wheel for jieba (setup.py) ... \u001b[?25ldone\n",
      "\u001b[?25h  Created wheel for jieba: filename=jieba-0.42.1-py3-none-any.whl size=19314459 sha256=f29b6d965b04ea16185e9262fb3f68b41b6e22cedf03166e9533023da68bb336\n",
      "  Stored in directory: /Users/cindyfu/Library/Caches/pip/wheels/7d/74/cf/08c94db4b784e2c1ef675a600b7b5b281fd25240dcb954ee7e\n",
      "Successfully built jieba\n",
      "Installing collected packages: jieba\n",
      "Successfully installed jieba-0.42.1\n",
      "Note: you may need to restart the kernel to use updated packages.\n"
     ]
    }
   ],
   "source": [
    "pip install jieba"
   ]
  },
  {
   "cell_type": "code",
   "execution_count": null,
   "id": "c3349125",
   "metadata": {},
   "outputs": [],
   "source": []
  }
 ],
 "metadata": {
  "kernelspec": {
   "display_name": "Python 3 (ipykernel)",
   "language": "python",
   "name": "python3"
  },
  "language_info": {
   "codemirror_mode": {
    "name": "ipython",
    "version": 3
   },
   "file_extension": ".py",
   "mimetype": "text/x-python",
   "name": "python",
   "nbconvert_exporter": "python",
   "pygments_lexer": "ipython3",
   "version": "3.9.13"
  }
 },
 "nbformat": 4,
 "nbformat_minor": 5
}
