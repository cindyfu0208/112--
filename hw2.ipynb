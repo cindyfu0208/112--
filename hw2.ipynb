{
 "cells": [
  {
   "cell_type": "code",
   "execution_count": 102,
   "id": "40e757a6",
   "metadata": {},
   "outputs": [
    {
     "data": {
      "text/html": [
       "<div>\n",
       "<style scoped>\n",
       "    .dataframe tbody tr th:only-of-type {\n",
       "        vertical-align: middle;\n",
       "    }\n",
       "\n",
       "    .dataframe tbody tr th {\n",
       "        vertical-align: top;\n",
       "    }\n",
       "\n",
       "    .dataframe thead th {\n",
       "        text-align: right;\n",
       "    }\n",
       "</style>\n",
       "<table border=\"1\" class=\"dataframe\">\n",
       "  <thead>\n",
       "    <tr style=\"text-align: right;\">\n",
       "      <th></th>\n",
       "      <th>年度</th>\n",
       "      <th>洲別</th>\n",
       "      <th>國別</th>\n",
       "      <th>總人數</th>\n",
       "      <th>iso_alpha</th>\n",
       "    </tr>\n",
       "  </thead>\n",
       "  <tbody>\n",
       "    <tr>\n",
       "      <th>0</th>\n",
       "      <td>105</td>\n",
       "      <td>歐洲</td>\n",
       "      <td>英國</td>\n",
       "      <td>3815</td>\n",
       "      <td>GBR</td>\n",
       "    </tr>\n",
       "    <tr>\n",
       "      <th>1</th>\n",
       "      <td>105</td>\n",
       "      <td>歐洲</td>\n",
       "      <td>德國</td>\n",
       "      <td>1488</td>\n",
       "      <td>DEU</td>\n",
       "    </tr>\n",
       "    <tr>\n",
       "      <th>2</th>\n",
       "      <td>105</td>\n",
       "      <td>歐洲</td>\n",
       "      <td>波蘭</td>\n",
       "      <td>561</td>\n",
       "      <td>POL</td>\n",
       "    </tr>\n",
       "    <tr>\n",
       "      <th>3</th>\n",
       "      <td>105</td>\n",
       "      <td>歐洲</td>\n",
       "      <td>奧地利</td>\n",
       "      <td>419</td>\n",
       "      <td>AUT</td>\n",
       "    </tr>\n",
       "    <tr>\n",
       "      <th>4</th>\n",
       "      <td>105</td>\n",
       "      <td>歐洲</td>\n",
       "      <td>俄羅斯</td>\n",
       "      <td>181</td>\n",
       "      <td>RUS</td>\n",
       "    </tr>\n",
       "  </tbody>\n",
       "</table>\n",
       "</div>"
      ],
      "text/plain": [
       "    年度  洲別   國別   總人數 iso_alpha\n",
       "0  105  歐洲   英國  3815       GBR\n",
       "1  105  歐洲   德國  1488       DEU\n",
       "2  105  歐洲   波蘭   561       POL\n",
       "3  105  歐洲  奧地利   419       AUT\n",
       "4  105  歐洲  俄羅斯   181       RUS"
      ]
     },
     "execution_count": 102,
     "metadata": {},
     "output_type": "execute_result"
    }
   ],
   "source": [
    "import pandas as pd \n",
    "\n",
    "#世界各主要國家之我國留學生人數統計\n",
    "good = pd.read_csv(\"good.csv\",encoding='Big5') \n",
    "good.head()"
   ]
  },
  {
   "cell_type": "code",
   "execution_count": 103,
   "id": "cf57bd31",
   "metadata": {},
   "outputs": [
    {
     "name": "stdout",
     "output_type": "stream",
     "text": [
      "105年度去歐洲的總人數為 7189 人\n"
     ]
    }
   ],
   "source": [
    "# 105年度去歐洲的總人數\n",
    "# 按照條件篩選資料，並計算總和\n",
    "total_travelers = good.loc[(good['洲別'] == '歐洲') & (good['年度'] == 105), '總人數'].sum()\n",
    "# 輸出結果\n",
    "print(f'105年度去歐洲的總人數為 {total_travelers} 人')"
   ]
  },
  {
   "cell_type": "code",
   "execution_count": 104,
   "id": "f3ed7e7b",
   "metadata": {},
   "outputs": [
    {
     "data": {
      "text/plain": [
       "19405"
      ]
     },
     "execution_count": 104,
     "metadata": {},
     "output_type": "execute_result"
    }
   ],
   "source": [
    "#有多少人去英國留學\n",
    "# 計算國別為英國的所有訪客總數\n",
    "total_visitors_uk = good.loc[(good['國別'] == '英國'),'總人數'].sum()\n",
    "total_visitors_uk"
   ]
  },
  {
   "cell_type": "code",
   "execution_count": 105,
   "id": "b6914ad2",
   "metadata": {},
   "outputs": [
    {
     "name": "stdout",
     "output_type": "stream",
     "text": [
      "年度\n",
      "105    25954\n",
      "106    24349\n",
      "107    26856\n",
      "108    27771\n",
      "109    28861\n",
      "Name: 總人數, dtype: int64\n"
     ]
    }
   ],
   "source": [
    "# 每一年去美洲的人數\n",
    "# 選擇洲別為美洲的所有行\n",
    "americas = good[good['洲別'] == '美洲']\n",
    "\n",
    "# 以年份為分組依據計算平均訪客人數\n",
    "avg_visitors_americas = americas.groupby('年度')['總人數'].sum()\n",
    "\n",
    "print(avg_visitors_americas)"
   ]
  },
  {
   "cell_type": "code",
   "execution_count": 106,
   "id": "9389efb9",
   "metadata": {},
   "outputs": [
    {
     "name": "stdout",
     "output_type": "stream",
     "text": [
      "108年最多人去的洲別為 美洲\n"
     ]
    }
   ],
   "source": [
    "# 找對108年最多人去的洲別\n",
    "# 按照年份和洲別分組，並計算旅客人數總和\n",
    "grouped_good = good[good['年度'] == 108].groupby('洲別')['總人數'].sum()\n",
    "\n",
    "# 找出最多人去的洲別\n",
    "most_popular_continent = grouped_good.idxmax()\n",
    "\n",
    "# 輸出結果\n",
    "print(f'108年最多人去的洲別為 {most_popular_continent}')"
   ]
  },
  {
   "cell_type": "code",
   "execution_count": 107,
   "id": "2365c503",
   "metadata": {},
   "outputs": [
    {
     "name": "stdout",
     "output_type": "stream",
     "text": [
      "國別\n",
      "印尼        48\n",
      "印度        20\n",
      "土耳其       28\n",
      "新加坡       41\n",
      "日本      9584\n",
      "泰國       291\n",
      "約旦         6\n",
      "菲律賓       66\n",
      "蒙古         1\n",
      "越南         0\n",
      "阿曼         1\n",
      "韓國      1382\n",
      "馬來西亞     346\n",
      "Name: 總人數, dtype: int64\n",
      "109年度最多人去的國家為 日本，人數為 9584\n"
     ]
    }
   ],
   "source": [
    "# 找到亞洲109年度最多人去的國家並列出人數\n",
    "# 按照年份和洲別分組，並計算留學人數總和\n",
    "grouped_good = good[(good['年度'] == 109) & (good['洲別'] == '亞洲')].groupby('國別')['總人數'].sum()\n",
    "\n",
    "# 找出最多人去的國家\n",
    "most_popular_country = grouped_good.idxmax()\n",
    "\n",
    "# 列出所有國家的留學人數總和\n",
    "print(grouped_good)\n",
    "\n",
    "# 輸出結果\n",
    "print(f'109年度最多人去的國家為 {most_popular_country}，人數為 {grouped_good[most_popular_country]}')\n"
   ]
  },
  {
   "cell_type": "code",
   "execution_count": 108,
   "id": "3474fe8c",
   "metadata": {},
   "outputs": [
    {
     "data": {
      "text/plain": [
       "年度   國別  \n",
       "105  丹麥        33\n",
       "     俄羅斯      181\n",
       "     冰島         2\n",
       "     加拿大     4827\n",
       "     印尼       210\n",
       "             ... \n",
       "109  西班牙      350\n",
       "     越南         0\n",
       "     阿曼         1\n",
       "     韓國      1382\n",
       "     馬來西亞     346\n",
       "Name: 總人數, Length: 187, dtype: int64"
      ]
     },
     "execution_count": 108,
     "metadata": {},
     "output_type": "execute_result"
    }
   ],
   "source": [
    "# 計算歷年來最多人去的國家以及每一年去這個國家的人數\n",
    "\n",
    "# 按照年份和國家分組，並計算旅客人數總和\n",
    "grouped_good = good.groupby(['年度','國別'])['總人數'].sum()\n",
    "grouped_good"
   ]
  },
  {
   "cell_type": "code",
   "execution_count": 109,
   "id": "6ba4abd6",
   "metadata": {},
   "outputs": [
    {
     "data": {
      "text/plain": [
       "年度\n",
       "105    (105, 美國)\n",
       "106    (106, 美國)\n",
       "107    (107, 美國)\n",
       "108    (108, 美國)\n",
       "109    (109, 美國)\n",
       "Name: 總人數, dtype: object"
      ]
     },
     "execution_count": 109,
     "metadata": {},
     "output_type": "execute_result"
    }
   ],
   "source": [
    "# 找出每年最多人去的國家\n",
    "most_popular_countries = grouped_good.groupby(level=0).idxmax()\n",
    "most_popular_countries"
   ]
  },
  {
   "cell_type": "code",
   "execution_count": 110,
   "id": "718ded64",
   "metadata": {},
   "outputs": [
    {
     "name": "stdout",
     "output_type": "stream",
     "text": [
      "澳大利亞 有 85612 人前往。\n"
     ]
    }
   ],
   "source": [
    "# 找到第二多人去的國別以及人數\n",
    "# 按照國家分組，並計算留學人數總和\n",
    "grouped_good = good.groupby('國別')['總人數'].sum()\n",
    "\n",
    "# 排序，找到第二多人去的國家\n",
    "second_most_popular_country = grouped_good.sort_values(ascending=False).index[1]\n",
    "second_most_popular_country_number = grouped_good.sort_values(ascending=False).iloc[1]\n",
    "\n",
    "# 輸出結果\n",
    "print(f\"{second_most_popular_country} 有 {second_most_popular_country_number} 人前往。\")"
   ]
  },
  {
   "cell_type": "code",
   "execution_count": 111,
   "id": "21ac6a72",
   "metadata": {},
   "outputs": [
    {
     "name": "stdout",
     "output_type": "stream",
     "text": [
      "蒙古 有 1 人前往。\n"
     ]
    }
   ],
   "source": [
    "# 第五少人去的國家\n",
    "# 按照國家分組，並計算留學人數總和\n",
    "grouped_good = good.groupby('國別')['總人數'].sum()\n",
    "\n",
    "# 排序，找到第五少人去的國家\n",
    "fifth_least_popular_country = grouped_good.sort_values(ascending=True).index[4]\n",
    "fifth_least_popular_country_number = grouped_good.sort_values(ascending=True).iloc[4]\n",
    "\n",
    "# 輸出結果\n",
    "print(f\"{fifth_least_popular_country} 有 {fifth_least_popular_country_number} 人前往。\")"
   ]
  },
  {
   "cell_type": "code",
   "execution_count": 112,
   "id": "805680c7",
   "metadata": {},
   "outputs": [
    {
     "name": "stdout",
     "output_type": "stream",
     "text": [
      "人數跟去蒙古一樣的國家有：['尼泊爾', '孟加拉', '智利', '哥倫比亞', '聖克里斯多福及尼維斯', '緬甸', '巴林', '智利', '巴林', '斯洛伐克', '智利', '哥倫比亞', '阿曼', '蒙古', '斐濟']\n"
     ]
    }
   ],
   "source": [
    "# 找到跟去蒙古人數一樣的國家\n",
    "# 找到去蒙古的留學人數\n",
    "mongolia_travelers = good.loc[good['國別'] == '蒙古', '總人數'].iloc[0]\n",
    "\n",
    "# 找到人數跟去蒙古一樣的國家\n",
    "same_travelers_countries = good.loc[good['總人數'] == mongolia_travelers, '國別'].tolist()\n",
    "\n",
    "# 輸出結果\n",
    "print(f\"人數跟去蒙古一樣的國家有：{same_travelers_countries}\")"
   ]
  },
  {
   "cell_type": "code",
   "execution_count": 113,
   "id": "43a63cf4",
   "metadata": {
    "scrolled": false
   },
   "outputs": [
    {
     "name": "stdout",
     "output_type": "stream",
     "text": [
      "Collecting package metadata (current_repodata.json): done\n",
      "Solving environment: done\n",
      "\n",
      "\n",
      "==> WARNING: A newer version of conda exists. <==\n",
      "  current version: 22.9.0\n",
      "  latest version: 23.3.1\n",
      "\n",
      "Please update conda by running\n",
      "\n",
      "    $ conda update -n base -c defaults conda\n",
      "\n",
      "\n",
      "\n",
      "# All requested packages already installed.\n",
      "\n",
      "Retrieving notices: ...working... done\n",
      "\n",
      "Note: you may need to restart the kernel to use updated packages.\n"
     ]
    }
   ],
   "source": [
    "conda install -c plotly plotly"
   ]
  },
  {
   "cell_type": "code",
   "execution_count": 114,
   "id": "a7c28ee5",
   "metadata": {
    "scrolled": false
   },
   "outputs": [
    {
     "data": {
      "application/vnd.plotly.v1+json": {
       "config": {
        "plotlyServerURL": "https://plot.ly"
       },
       "data": [
        {
         "domain": {
          "x": [
           0,
           1
          ],
          "y": [
           0,
           1
          ]
         },
         "hovertemplate": "洲別=%{label}<br>總人數=%{value}<extra></extra>",
         "labels": [
          "歐洲",
          "歐洲",
          "歐洲",
          "歐洲",
          "歐洲",
          "歐洲",
          "歐洲",
          "歐洲",
          "歐洲",
          "歐洲",
          "歐洲",
          "歐洲",
          "美洲",
          "美洲",
          "大洋洲",
          "大洋洲",
          "亞洲",
          "亞洲",
          "亞洲",
          "亞洲",
          "亞洲",
          "亞洲",
          "亞洲",
          "亞洲",
          "亞洲",
          "亞洲",
          "亞洲",
          "亞洲",
          "亞洲",
          "歐洲",
          "歐洲",
          "歐洲",
          "歐洲",
          "歐洲",
          "歐洲",
          "歐洲",
          "歐洲",
          "歐洲",
          "歐洲",
          "歐洲",
          "歐洲",
          "歐洲",
          "歐洲",
          "歐洲",
          "歐洲",
          "歐洲",
          "歐洲",
          "美洲",
          "美洲",
          "美洲",
          "亞洲",
          "亞洲",
          "亞洲",
          "亞洲",
          "亞洲",
          "亞洲",
          "亞洲",
          "亞洲",
          "亞洲",
          "亞洲",
          "大洋洲",
          "大洋洲",
          "歐洲",
          "歐洲",
          "歐洲",
          "歐洲",
          "歐洲",
          "歐洲",
          "歐洲",
          "歐洲",
          "歐洲",
          "歐洲",
          "歐洲",
          "歐洲",
          "歐洲",
          "歐洲",
          "歐洲",
          "歐洲",
          "美洲",
          "美洲",
          "美洲",
          "美洲",
          "美洲",
          "美洲",
          "亞洲",
          "亞洲",
          "亞洲",
          "亞洲",
          "亞洲",
          "亞洲",
          "亞洲",
          "亞洲",
          "亞洲",
          "亞洲",
          "亞洲",
          "亞洲",
          "亞洲",
          "亞洲",
          "大洋洲",
          "大洋洲",
          "歐洲",
          "歐洲",
          "歐洲",
          "歐洲",
          "歐洲",
          "歐洲",
          "歐洲",
          "歐洲",
          "歐洲",
          "歐洲",
          "歐洲",
          "歐洲",
          "歐洲",
          "歐洲",
          "歐洲",
          "歐洲",
          "歐洲",
          "美洲",
          "美洲",
          "美洲",
          "美洲",
          "美洲",
          "美洲",
          "亞洲",
          "亞洲",
          "亞洲",
          "亞洲",
          "亞洲",
          "亞洲",
          "亞洲",
          "亞洲",
          "亞洲",
          "亞洲",
          "亞洲",
          "亞洲",
          "亞洲",
          "亞洲",
          "亞洲",
          "大洋洲",
          "大洋洲",
          "歐洲",
          "歐洲",
          "歐洲",
          "歐洲",
          "歐洲",
          "歐洲",
          "歐洲",
          "歐洲",
          "歐洲",
          "歐洲",
          "歐洲",
          "歐洲",
          "歐洲",
          "歐洲",
          "歐洲",
          "歐洲",
          "歐洲",
          "歐洲",
          "歐洲",
          "歐洲",
          "歐洲",
          "歐洲",
          "美洲",
          "美洲",
          "美洲",
          "美洲",
          "美洲",
          "美洲",
          "美洲",
          "亞洲",
          "亞洲",
          "亞洲",
          "亞洲",
          "亞洲",
          "亞洲",
          "亞洲",
          "亞洲",
          "亞洲",
          "亞洲",
          "亞洲",
          "亞洲",
          "亞洲",
          "大洋洲",
          "大洋洲",
          "大洋洲",
          "大洋洲",
          "非洲"
         ],
         "legendgroup": "",
         "name": "",
         "showlegend": true,
         "textinfo": "percent+label",
         "textposition": "inside",
         "type": "pie",
         "values": [
          3815,
          1488,
          561,
          419,
          181,
          33,
          120,
          400,
          37,
          20,
          113,
          2,
          4827,
          21127,
          13582,
          1106,
          8444,
          265,
          217,
          9,
          502,
          210,
          64,
          15,
          364,
          19,
          14,
          1,
          1,
          3920,
          1004,
          1755,
          758,
          456,
          43,
          120,
          307,
          250,
          300,
          36,
          10,
          172,
          24,
          400,
          45,
          7,
          105,
          3202,
          21127,
          20,
          9642,
          242,
          176,
          154,
          513,
          16,
          13,
          19,
          21,
          20,
          16573,
          1820,
          3775,
          1079,
          2013,
          758,
          400,
          26,
          408,
          156,
          53,
          30,
          18,
          146,
          16,
          71,
          20,
          133,
          5330,
          21516,
          1,
          1,
          7,
          1,
          10347,
          123,
          199,
          60,
          498,
          25,
          18,
          1,
          2,
          9,
          29,
          22,
          4,
          1,
          18227,
          2070,
          3850,
          648,
          2390,
          853,
          413,
          450,
          197,
          353,
          232,
          147,
          21,
          160,
          23,
          46,
          12,
          160,
          2,
          4390,
          23369,
          1,
          5,
          3,
          3,
          9524,
          2162,
          305,
          74,
          501,
          25,
          23,
          20,
          101,
          8,
          10,
          34,
          20,
          4,
          1,
          18791,
          1890,
          4045,
          668,
          3155,
          1007,
          428,
          350,
          212,
          504,
          178,
          160,
          21,
          71,
          10,
          22,
          37,
          14,
          137,
          0,
          16,
          17,
          8,
          1,
          5123,
          23724,
          1,
          1,
          2,
          4,
          6,
          9584,
          1382,
          291,
          0,
          346,
          48,
          20,
          28,
          66,
          41,
          1,
          1,
          6,
          18439,
          1300,
          1,
          10,
          2
         ]
        }
       ],
       "layout": {
        "legend": {
         "tracegroupgap": 0
        },
        "margin": {
         "t": 60
        },
        "template": {
         "data": {
          "bar": [
           {
            "error_x": {
             "color": "#2a3f5f"
            },
            "error_y": {
             "color": "#2a3f5f"
            },
            "marker": {
             "line": {
              "color": "#E5ECF6",
              "width": 0.5
             },
             "pattern": {
              "fillmode": "overlay",
              "size": 10,
              "solidity": 0.2
             }
            },
            "type": "bar"
           }
          ],
          "barpolar": [
           {
            "marker": {
             "line": {
              "color": "#E5ECF6",
              "width": 0.5
             },
             "pattern": {
              "fillmode": "overlay",
              "size": 10,
              "solidity": 0.2
             }
            },
            "type": "barpolar"
           }
          ],
          "carpet": [
           {
            "aaxis": {
             "endlinecolor": "#2a3f5f",
             "gridcolor": "white",
             "linecolor": "white",
             "minorgridcolor": "white",
             "startlinecolor": "#2a3f5f"
            },
            "baxis": {
             "endlinecolor": "#2a3f5f",
             "gridcolor": "white",
             "linecolor": "white",
             "minorgridcolor": "white",
             "startlinecolor": "#2a3f5f"
            },
            "type": "carpet"
           }
          ],
          "choropleth": [
           {
            "colorbar": {
             "outlinewidth": 0,
             "ticks": ""
            },
            "type": "choropleth"
           }
          ],
          "contour": [
           {
            "colorbar": {
             "outlinewidth": 0,
             "ticks": ""
            },
            "colorscale": [
             [
              0,
              "#0d0887"
             ],
             [
              0.1111111111111111,
              "#46039f"
             ],
             [
              0.2222222222222222,
              "#7201a8"
             ],
             [
              0.3333333333333333,
              "#9c179e"
             ],
             [
              0.4444444444444444,
              "#bd3786"
             ],
             [
              0.5555555555555556,
              "#d8576b"
             ],
             [
              0.6666666666666666,
              "#ed7953"
             ],
             [
              0.7777777777777778,
              "#fb9f3a"
             ],
             [
              0.8888888888888888,
              "#fdca26"
             ],
             [
              1,
              "#f0f921"
             ]
            ],
            "type": "contour"
           }
          ],
          "contourcarpet": [
           {
            "colorbar": {
             "outlinewidth": 0,
             "ticks": ""
            },
            "type": "contourcarpet"
           }
          ],
          "heatmap": [
           {
            "colorbar": {
             "outlinewidth": 0,
             "ticks": ""
            },
            "colorscale": [
             [
              0,
              "#0d0887"
             ],
             [
              0.1111111111111111,
              "#46039f"
             ],
             [
              0.2222222222222222,
              "#7201a8"
             ],
             [
              0.3333333333333333,
              "#9c179e"
             ],
             [
              0.4444444444444444,
              "#bd3786"
             ],
             [
              0.5555555555555556,
              "#d8576b"
             ],
             [
              0.6666666666666666,
              "#ed7953"
             ],
             [
              0.7777777777777778,
              "#fb9f3a"
             ],
             [
              0.8888888888888888,
              "#fdca26"
             ],
             [
              1,
              "#f0f921"
             ]
            ],
            "type": "heatmap"
           }
          ],
          "heatmapgl": [
           {
            "colorbar": {
             "outlinewidth": 0,
             "ticks": ""
            },
            "colorscale": [
             [
              0,
              "#0d0887"
             ],
             [
              0.1111111111111111,
              "#46039f"
             ],
             [
              0.2222222222222222,
              "#7201a8"
             ],
             [
              0.3333333333333333,
              "#9c179e"
             ],
             [
              0.4444444444444444,
              "#bd3786"
             ],
             [
              0.5555555555555556,
              "#d8576b"
             ],
             [
              0.6666666666666666,
              "#ed7953"
             ],
             [
              0.7777777777777778,
              "#fb9f3a"
             ],
             [
              0.8888888888888888,
              "#fdca26"
             ],
             [
              1,
              "#f0f921"
             ]
            ],
            "type": "heatmapgl"
           }
          ],
          "histogram": [
           {
            "marker": {
             "pattern": {
              "fillmode": "overlay",
              "size": 10,
              "solidity": 0.2
             }
            },
            "type": "histogram"
           }
          ],
          "histogram2d": [
           {
            "colorbar": {
             "outlinewidth": 0,
             "ticks": ""
            },
            "colorscale": [
             [
              0,
              "#0d0887"
             ],
             [
              0.1111111111111111,
              "#46039f"
             ],
             [
              0.2222222222222222,
              "#7201a8"
             ],
             [
              0.3333333333333333,
              "#9c179e"
             ],
             [
              0.4444444444444444,
              "#bd3786"
             ],
             [
              0.5555555555555556,
              "#d8576b"
             ],
             [
              0.6666666666666666,
              "#ed7953"
             ],
             [
              0.7777777777777778,
              "#fb9f3a"
             ],
             [
              0.8888888888888888,
              "#fdca26"
             ],
             [
              1,
              "#f0f921"
             ]
            ],
            "type": "histogram2d"
           }
          ],
          "histogram2dcontour": [
           {
            "colorbar": {
             "outlinewidth": 0,
             "ticks": ""
            },
            "colorscale": [
             [
              0,
              "#0d0887"
             ],
             [
              0.1111111111111111,
              "#46039f"
             ],
             [
              0.2222222222222222,
              "#7201a8"
             ],
             [
              0.3333333333333333,
              "#9c179e"
             ],
             [
              0.4444444444444444,
              "#bd3786"
             ],
             [
              0.5555555555555556,
              "#d8576b"
             ],
             [
              0.6666666666666666,
              "#ed7953"
             ],
             [
              0.7777777777777778,
              "#fb9f3a"
             ],
             [
              0.8888888888888888,
              "#fdca26"
             ],
             [
              1,
              "#f0f921"
             ]
            ],
            "type": "histogram2dcontour"
           }
          ],
          "mesh3d": [
           {
            "colorbar": {
             "outlinewidth": 0,
             "ticks": ""
            },
            "type": "mesh3d"
           }
          ],
          "parcoords": [
           {
            "line": {
             "colorbar": {
              "outlinewidth": 0,
              "ticks": ""
             }
            },
            "type": "parcoords"
           }
          ],
          "pie": [
           {
            "automargin": true,
            "type": "pie"
           }
          ],
          "scatter": [
           {
            "fillpattern": {
             "fillmode": "overlay",
             "size": 10,
             "solidity": 0.2
            },
            "type": "scatter"
           }
          ],
          "scatter3d": [
           {
            "line": {
             "colorbar": {
              "outlinewidth": 0,
              "ticks": ""
             }
            },
            "marker": {
             "colorbar": {
              "outlinewidth": 0,
              "ticks": ""
             }
            },
            "type": "scatter3d"
           }
          ],
          "scattercarpet": [
           {
            "marker": {
             "colorbar": {
              "outlinewidth": 0,
              "ticks": ""
             }
            },
            "type": "scattercarpet"
           }
          ],
          "scattergeo": [
           {
            "marker": {
             "colorbar": {
              "outlinewidth": 0,
              "ticks": ""
             }
            },
            "type": "scattergeo"
           }
          ],
          "scattergl": [
           {
            "marker": {
             "colorbar": {
              "outlinewidth": 0,
              "ticks": ""
             }
            },
            "type": "scattergl"
           }
          ],
          "scattermapbox": [
           {
            "marker": {
             "colorbar": {
              "outlinewidth": 0,
              "ticks": ""
             }
            },
            "type": "scattermapbox"
           }
          ],
          "scatterpolar": [
           {
            "marker": {
             "colorbar": {
              "outlinewidth": 0,
              "ticks": ""
             }
            },
            "type": "scatterpolar"
           }
          ],
          "scatterpolargl": [
           {
            "marker": {
             "colorbar": {
              "outlinewidth": 0,
              "ticks": ""
             }
            },
            "type": "scatterpolargl"
           }
          ],
          "scatterternary": [
           {
            "marker": {
             "colorbar": {
              "outlinewidth": 0,
              "ticks": ""
             }
            },
            "type": "scatterternary"
           }
          ],
          "surface": [
           {
            "colorbar": {
             "outlinewidth": 0,
             "ticks": ""
            },
            "colorscale": [
             [
              0,
              "#0d0887"
             ],
             [
              0.1111111111111111,
              "#46039f"
             ],
             [
              0.2222222222222222,
              "#7201a8"
             ],
             [
              0.3333333333333333,
              "#9c179e"
             ],
             [
              0.4444444444444444,
              "#bd3786"
             ],
             [
              0.5555555555555556,
              "#d8576b"
             ],
             [
              0.6666666666666666,
              "#ed7953"
             ],
             [
              0.7777777777777778,
              "#fb9f3a"
             ],
             [
              0.8888888888888888,
              "#fdca26"
             ],
             [
              1,
              "#f0f921"
             ]
            ],
            "type": "surface"
           }
          ],
          "table": [
           {
            "cells": {
             "fill": {
              "color": "#EBF0F8"
             },
             "line": {
              "color": "white"
             }
            },
            "header": {
             "fill": {
              "color": "#C8D4E3"
             },
             "line": {
              "color": "white"
             }
            },
            "type": "table"
           }
          ]
         },
         "layout": {
          "annotationdefaults": {
           "arrowcolor": "#2a3f5f",
           "arrowhead": 0,
           "arrowwidth": 1
          },
          "autotypenumbers": "strict",
          "coloraxis": {
           "colorbar": {
            "outlinewidth": 0,
            "ticks": ""
           }
          },
          "colorscale": {
           "diverging": [
            [
             0,
             "#8e0152"
            ],
            [
             0.1,
             "#c51b7d"
            ],
            [
             0.2,
             "#de77ae"
            ],
            [
             0.3,
             "#f1b6da"
            ],
            [
             0.4,
             "#fde0ef"
            ],
            [
             0.5,
             "#f7f7f7"
            ],
            [
             0.6,
             "#e6f5d0"
            ],
            [
             0.7,
             "#b8e186"
            ],
            [
             0.8,
             "#7fbc41"
            ],
            [
             0.9,
             "#4d9221"
            ],
            [
             1,
             "#276419"
            ]
           ],
           "sequential": [
            [
             0,
             "#0d0887"
            ],
            [
             0.1111111111111111,
             "#46039f"
            ],
            [
             0.2222222222222222,
             "#7201a8"
            ],
            [
             0.3333333333333333,
             "#9c179e"
            ],
            [
             0.4444444444444444,
             "#bd3786"
            ],
            [
             0.5555555555555556,
             "#d8576b"
            ],
            [
             0.6666666666666666,
             "#ed7953"
            ],
            [
             0.7777777777777778,
             "#fb9f3a"
            ],
            [
             0.8888888888888888,
             "#fdca26"
            ],
            [
             1,
             "#f0f921"
            ]
           ],
           "sequentialminus": [
            [
             0,
             "#0d0887"
            ],
            [
             0.1111111111111111,
             "#46039f"
            ],
            [
             0.2222222222222222,
             "#7201a8"
            ],
            [
             0.3333333333333333,
             "#9c179e"
            ],
            [
             0.4444444444444444,
             "#bd3786"
            ],
            [
             0.5555555555555556,
             "#d8576b"
            ],
            [
             0.6666666666666666,
             "#ed7953"
            ],
            [
             0.7777777777777778,
             "#fb9f3a"
            ],
            [
             0.8888888888888888,
             "#fdca26"
            ],
            [
             1,
             "#f0f921"
            ]
           ]
          },
          "colorway": [
           "#636efa",
           "#EF553B",
           "#00cc96",
           "#ab63fa",
           "#FFA15A",
           "#19d3f3",
           "#FF6692",
           "#B6E880",
           "#FF97FF",
           "#FECB52"
          ],
          "font": {
           "color": "#2a3f5f"
          },
          "geo": {
           "bgcolor": "white",
           "lakecolor": "white",
           "landcolor": "#E5ECF6",
           "showlakes": true,
           "showland": true,
           "subunitcolor": "white"
          },
          "hoverlabel": {
           "align": "left"
          },
          "hovermode": "closest",
          "mapbox": {
           "style": "light"
          },
          "paper_bgcolor": "white",
          "plot_bgcolor": "#E5ECF6",
          "polar": {
           "angularaxis": {
            "gridcolor": "white",
            "linecolor": "white",
            "ticks": ""
           },
           "bgcolor": "#E5ECF6",
           "radialaxis": {
            "gridcolor": "white",
            "linecolor": "white",
            "ticks": ""
           }
          },
          "scene": {
           "xaxis": {
            "backgroundcolor": "#E5ECF6",
            "gridcolor": "white",
            "gridwidth": 2,
            "linecolor": "white",
            "showbackground": true,
            "ticks": "",
            "zerolinecolor": "white"
           },
           "yaxis": {
            "backgroundcolor": "#E5ECF6",
            "gridcolor": "white",
            "gridwidth": 2,
            "linecolor": "white",
            "showbackground": true,
            "ticks": "",
            "zerolinecolor": "white"
           },
           "zaxis": {
            "backgroundcolor": "#E5ECF6",
            "gridcolor": "white",
            "gridwidth": 2,
            "linecolor": "white",
            "showbackground": true,
            "ticks": "",
            "zerolinecolor": "white"
           }
          },
          "shapedefaults": {
           "line": {
            "color": "#2a3f5f"
           }
          },
          "ternary": {
           "aaxis": {
            "gridcolor": "white",
            "linecolor": "white",
            "ticks": ""
           },
           "baxis": {
            "gridcolor": "white",
            "linecolor": "white",
            "ticks": ""
           },
           "bgcolor": "#E5ECF6",
           "caxis": {
            "gridcolor": "white",
            "linecolor": "white",
            "ticks": ""
           }
          },
          "title": {
           "x": 0.05
          },
          "xaxis": {
           "automargin": true,
           "gridcolor": "white",
           "linecolor": "white",
           "ticks": "",
           "title": {
            "standoff": 15
           },
           "zerolinecolor": "white",
           "zerolinewidth": 2
          },
          "yaxis": {
           "automargin": true,
           "gridcolor": "white",
           "linecolor": "white",
           "ticks": "",
           "title": {
            "standoff": 15
           },
           "zerolinecolor": "white",
           "zerolinewidth": 2
          }
         }
        }
       }
      },
      "text/html": [
       "<div>                            <div id=\"e2898a60-9cf9-4ce7-a83b-9a3cca1214d7\" class=\"plotly-graph-div\" style=\"height:525px; width:100%;\"></div>            <script type=\"text/javascript\">                require([\"plotly\"], function(Plotly) {                    window.PLOTLYENV=window.PLOTLYENV || {};                                    if (document.getElementById(\"e2898a60-9cf9-4ce7-a83b-9a3cca1214d7\")) {                    Plotly.newPlot(                        \"e2898a60-9cf9-4ce7-a83b-9a3cca1214d7\",                        [{\"domain\":{\"x\":[0.0,1.0],\"y\":[0.0,1.0]},\"hovertemplate\":\"\\u6d32\\u5225=%{label}<br>\\u7e3d\\u4eba\\u6578=%{value}<extra></extra>\",\"labels\":[\"\\u6b50\\u6d32\",\"\\u6b50\\u6d32\",\"\\u6b50\\u6d32\",\"\\u6b50\\u6d32\",\"\\u6b50\\u6d32\",\"\\u6b50\\u6d32\",\"\\u6b50\\u6d32\",\"\\u6b50\\u6d32\",\"\\u6b50\\u6d32\",\"\\u6b50\\u6d32\",\"\\u6b50\\u6d32\",\"\\u6b50\\u6d32\",\"\\u7f8e\\u6d32\",\"\\u7f8e\\u6d32\",\"\\u5927\\u6d0b\\u6d32\",\"\\u5927\\u6d0b\\u6d32\",\"\\u4e9e\\u6d32\",\"\\u4e9e\\u6d32\",\"\\u4e9e\\u6d32\",\"\\u4e9e\\u6d32\",\"\\u4e9e\\u6d32\",\"\\u4e9e\\u6d32\",\"\\u4e9e\\u6d32\",\"\\u4e9e\\u6d32\",\"\\u4e9e\\u6d32\",\"\\u4e9e\\u6d32\",\"\\u4e9e\\u6d32\",\"\\u4e9e\\u6d32\",\"\\u4e9e\\u6d32\",\"\\u6b50\\u6d32\",\"\\u6b50\\u6d32\",\"\\u6b50\\u6d32\",\"\\u6b50\\u6d32\",\"\\u6b50\\u6d32\",\"\\u6b50\\u6d32\",\"\\u6b50\\u6d32\",\"\\u6b50\\u6d32\",\"\\u6b50\\u6d32\",\"\\u6b50\\u6d32\",\"\\u6b50\\u6d32\",\"\\u6b50\\u6d32\",\"\\u6b50\\u6d32\",\"\\u6b50\\u6d32\",\"\\u6b50\\u6d32\",\"\\u6b50\\u6d32\",\"\\u6b50\\u6d32\",\"\\u6b50\\u6d32\",\"\\u7f8e\\u6d32\",\"\\u7f8e\\u6d32\",\"\\u7f8e\\u6d32\",\"\\u4e9e\\u6d32\",\"\\u4e9e\\u6d32\",\"\\u4e9e\\u6d32\",\"\\u4e9e\\u6d32\",\"\\u4e9e\\u6d32\",\"\\u4e9e\\u6d32\",\"\\u4e9e\\u6d32\",\"\\u4e9e\\u6d32\",\"\\u4e9e\\u6d32\",\"\\u4e9e\\u6d32\",\"\\u5927\\u6d0b\\u6d32\",\"\\u5927\\u6d0b\\u6d32\",\"\\u6b50\\u6d32\",\"\\u6b50\\u6d32\",\"\\u6b50\\u6d32\",\"\\u6b50\\u6d32\",\"\\u6b50\\u6d32\",\"\\u6b50\\u6d32\",\"\\u6b50\\u6d32\",\"\\u6b50\\u6d32\",\"\\u6b50\\u6d32\",\"\\u6b50\\u6d32\",\"\\u6b50\\u6d32\",\"\\u6b50\\u6d32\",\"\\u6b50\\u6d32\",\"\\u6b50\\u6d32\",\"\\u6b50\\u6d32\",\"\\u6b50\\u6d32\",\"\\u7f8e\\u6d32\",\"\\u7f8e\\u6d32\",\"\\u7f8e\\u6d32\",\"\\u7f8e\\u6d32\",\"\\u7f8e\\u6d32\",\"\\u7f8e\\u6d32\",\"\\u4e9e\\u6d32\",\"\\u4e9e\\u6d32\",\"\\u4e9e\\u6d32\",\"\\u4e9e\\u6d32\",\"\\u4e9e\\u6d32\",\"\\u4e9e\\u6d32\",\"\\u4e9e\\u6d32\",\"\\u4e9e\\u6d32\",\"\\u4e9e\\u6d32\",\"\\u4e9e\\u6d32\",\"\\u4e9e\\u6d32\",\"\\u4e9e\\u6d32\",\"\\u4e9e\\u6d32\",\"\\u4e9e\\u6d32\",\"\\u5927\\u6d0b\\u6d32\",\"\\u5927\\u6d0b\\u6d32\",\"\\u6b50\\u6d32\",\"\\u6b50\\u6d32\",\"\\u6b50\\u6d32\",\"\\u6b50\\u6d32\",\"\\u6b50\\u6d32\",\"\\u6b50\\u6d32\",\"\\u6b50\\u6d32\",\"\\u6b50\\u6d32\",\"\\u6b50\\u6d32\",\"\\u6b50\\u6d32\",\"\\u6b50\\u6d32\",\"\\u6b50\\u6d32\",\"\\u6b50\\u6d32\",\"\\u6b50\\u6d32\",\"\\u6b50\\u6d32\",\"\\u6b50\\u6d32\",\"\\u6b50\\u6d32\",\"\\u7f8e\\u6d32\",\"\\u7f8e\\u6d32\",\"\\u7f8e\\u6d32\",\"\\u7f8e\\u6d32\",\"\\u7f8e\\u6d32\",\"\\u7f8e\\u6d32\",\"\\u4e9e\\u6d32\",\"\\u4e9e\\u6d32\",\"\\u4e9e\\u6d32\",\"\\u4e9e\\u6d32\",\"\\u4e9e\\u6d32\",\"\\u4e9e\\u6d32\",\"\\u4e9e\\u6d32\",\"\\u4e9e\\u6d32\",\"\\u4e9e\\u6d32\",\"\\u4e9e\\u6d32\",\"\\u4e9e\\u6d32\",\"\\u4e9e\\u6d32\",\"\\u4e9e\\u6d32\",\"\\u4e9e\\u6d32\",\"\\u4e9e\\u6d32\",\"\\u5927\\u6d0b\\u6d32\",\"\\u5927\\u6d0b\\u6d32\",\"\\u6b50\\u6d32\",\"\\u6b50\\u6d32\",\"\\u6b50\\u6d32\",\"\\u6b50\\u6d32\",\"\\u6b50\\u6d32\",\"\\u6b50\\u6d32\",\"\\u6b50\\u6d32\",\"\\u6b50\\u6d32\",\"\\u6b50\\u6d32\",\"\\u6b50\\u6d32\",\"\\u6b50\\u6d32\",\"\\u6b50\\u6d32\",\"\\u6b50\\u6d32\",\"\\u6b50\\u6d32\",\"\\u6b50\\u6d32\",\"\\u6b50\\u6d32\",\"\\u6b50\\u6d32\",\"\\u6b50\\u6d32\",\"\\u6b50\\u6d32\",\"\\u6b50\\u6d32\",\"\\u6b50\\u6d32\",\"\\u6b50\\u6d32\",\"\\u7f8e\\u6d32\",\"\\u7f8e\\u6d32\",\"\\u7f8e\\u6d32\",\"\\u7f8e\\u6d32\",\"\\u7f8e\\u6d32\",\"\\u7f8e\\u6d32\",\"\\u7f8e\\u6d32\",\"\\u4e9e\\u6d32\",\"\\u4e9e\\u6d32\",\"\\u4e9e\\u6d32\",\"\\u4e9e\\u6d32\",\"\\u4e9e\\u6d32\",\"\\u4e9e\\u6d32\",\"\\u4e9e\\u6d32\",\"\\u4e9e\\u6d32\",\"\\u4e9e\\u6d32\",\"\\u4e9e\\u6d32\",\"\\u4e9e\\u6d32\",\"\\u4e9e\\u6d32\",\"\\u4e9e\\u6d32\",\"\\u5927\\u6d0b\\u6d32\",\"\\u5927\\u6d0b\\u6d32\",\"\\u5927\\u6d0b\\u6d32\",\"\\u5927\\u6d0b\\u6d32\",\"\\u975e\\u6d32\"],\"legendgroup\":\"\",\"name\":\"\",\"showlegend\":true,\"values\":[3815,1488,561,419,181,33,120,400,37,20,113,2,4827,21127,13582,1106,8444,265,217,9,502,210,64,15,364,19,14,1,1,3920,1004,1755,758,456,43,120,307,250,300,36,10,172,24,400,45,7,105,3202,21127,20,9642,242,176,154,513,16,13,19,21,20,16573,1820,3775,1079,2013,758,400,26,408,156,53,30,18,146,16,71,20,133,5330,21516,1,1,7,1,10347,123,199,60,498,25,18,1,2,9,29,22,4,1,18227,2070,3850,648,2390,853,413,450,197,353,232,147,21,160,23,46,12,160,2,4390,23369,1,5,3,3,9524,2162,305,74,501,25,23,20,101,8,10,34,20,4,1,18791,1890,4045,668,3155,1007,428,350,212,504,178,160,21,71,10,22,37,14,137,0,16,17,8,1,5123,23724,1,1,2,4,6,9584,1382,291,0,346,48,20,28,66,41,1,1,6,18439,1300,1,10,2],\"type\":\"pie\",\"textinfo\":\"percent+label\",\"textposition\":\"inside\"}],                        {\"template\":{\"data\":{\"histogram2dcontour\":[{\"type\":\"histogram2dcontour\",\"colorbar\":{\"outlinewidth\":0,\"ticks\":\"\"},\"colorscale\":[[0.0,\"#0d0887\"],[0.1111111111111111,\"#46039f\"],[0.2222222222222222,\"#7201a8\"],[0.3333333333333333,\"#9c179e\"],[0.4444444444444444,\"#bd3786\"],[0.5555555555555556,\"#d8576b\"],[0.6666666666666666,\"#ed7953\"],[0.7777777777777778,\"#fb9f3a\"],[0.8888888888888888,\"#fdca26\"],[1.0,\"#f0f921\"]]}],\"choropleth\":[{\"type\":\"choropleth\",\"colorbar\":{\"outlinewidth\":0,\"ticks\":\"\"}}],\"histogram2d\":[{\"type\":\"histogram2d\",\"colorbar\":{\"outlinewidth\":0,\"ticks\":\"\"},\"colorscale\":[[0.0,\"#0d0887\"],[0.1111111111111111,\"#46039f\"],[0.2222222222222222,\"#7201a8\"],[0.3333333333333333,\"#9c179e\"],[0.4444444444444444,\"#bd3786\"],[0.5555555555555556,\"#d8576b\"],[0.6666666666666666,\"#ed7953\"],[0.7777777777777778,\"#fb9f3a\"],[0.8888888888888888,\"#fdca26\"],[1.0,\"#f0f921\"]]}],\"heatmap\":[{\"type\":\"heatmap\",\"colorbar\":{\"outlinewidth\":0,\"ticks\":\"\"},\"colorscale\":[[0.0,\"#0d0887\"],[0.1111111111111111,\"#46039f\"],[0.2222222222222222,\"#7201a8\"],[0.3333333333333333,\"#9c179e\"],[0.4444444444444444,\"#bd3786\"],[0.5555555555555556,\"#d8576b\"],[0.6666666666666666,\"#ed7953\"],[0.7777777777777778,\"#fb9f3a\"],[0.8888888888888888,\"#fdca26\"],[1.0,\"#f0f921\"]]}],\"heatmapgl\":[{\"type\":\"heatmapgl\",\"colorbar\":{\"outlinewidth\":0,\"ticks\":\"\"},\"colorscale\":[[0.0,\"#0d0887\"],[0.1111111111111111,\"#46039f\"],[0.2222222222222222,\"#7201a8\"],[0.3333333333333333,\"#9c179e\"],[0.4444444444444444,\"#bd3786\"],[0.5555555555555556,\"#d8576b\"],[0.6666666666666666,\"#ed7953\"],[0.7777777777777778,\"#fb9f3a\"],[0.8888888888888888,\"#fdca26\"],[1.0,\"#f0f921\"]]}],\"contourcarpet\":[{\"type\":\"contourcarpet\",\"colorbar\":{\"outlinewidth\":0,\"ticks\":\"\"}}],\"contour\":[{\"type\":\"contour\",\"colorbar\":{\"outlinewidth\":0,\"ticks\":\"\"},\"colorscale\":[[0.0,\"#0d0887\"],[0.1111111111111111,\"#46039f\"],[0.2222222222222222,\"#7201a8\"],[0.3333333333333333,\"#9c179e\"],[0.4444444444444444,\"#bd3786\"],[0.5555555555555556,\"#d8576b\"],[0.6666666666666666,\"#ed7953\"],[0.7777777777777778,\"#fb9f3a\"],[0.8888888888888888,\"#fdca26\"],[1.0,\"#f0f921\"]]}],\"surface\":[{\"type\":\"surface\",\"colorbar\":{\"outlinewidth\":0,\"ticks\":\"\"},\"colorscale\":[[0.0,\"#0d0887\"],[0.1111111111111111,\"#46039f\"],[0.2222222222222222,\"#7201a8\"],[0.3333333333333333,\"#9c179e\"],[0.4444444444444444,\"#bd3786\"],[0.5555555555555556,\"#d8576b\"],[0.6666666666666666,\"#ed7953\"],[0.7777777777777778,\"#fb9f3a\"],[0.8888888888888888,\"#fdca26\"],[1.0,\"#f0f921\"]]}],\"mesh3d\":[{\"type\":\"mesh3d\",\"colorbar\":{\"outlinewidth\":0,\"ticks\":\"\"}}],\"scatter\":[{\"fillpattern\":{\"fillmode\":\"overlay\",\"size\":10,\"solidity\":0.2},\"type\":\"scatter\"}],\"parcoords\":[{\"type\":\"parcoords\",\"line\":{\"colorbar\":{\"outlinewidth\":0,\"ticks\":\"\"}}}],\"scatterpolargl\":[{\"type\":\"scatterpolargl\",\"marker\":{\"colorbar\":{\"outlinewidth\":0,\"ticks\":\"\"}}}],\"bar\":[{\"error_x\":{\"color\":\"#2a3f5f\"},\"error_y\":{\"color\":\"#2a3f5f\"},\"marker\":{\"line\":{\"color\":\"#E5ECF6\",\"width\":0.5},\"pattern\":{\"fillmode\":\"overlay\",\"size\":10,\"solidity\":0.2}},\"type\":\"bar\"}],\"scattergeo\":[{\"type\":\"scattergeo\",\"marker\":{\"colorbar\":{\"outlinewidth\":0,\"ticks\":\"\"}}}],\"scatterpolar\":[{\"type\":\"scatterpolar\",\"marker\":{\"colorbar\":{\"outlinewidth\":0,\"ticks\":\"\"}}}],\"histogram\":[{\"marker\":{\"pattern\":{\"fillmode\":\"overlay\",\"size\":10,\"solidity\":0.2}},\"type\":\"histogram\"}],\"scattergl\":[{\"type\":\"scattergl\",\"marker\":{\"colorbar\":{\"outlinewidth\":0,\"ticks\":\"\"}}}],\"scatter3d\":[{\"type\":\"scatter3d\",\"line\":{\"colorbar\":{\"outlinewidth\":0,\"ticks\":\"\"}},\"marker\":{\"colorbar\":{\"outlinewidth\":0,\"ticks\":\"\"}}}],\"scattermapbox\":[{\"type\":\"scattermapbox\",\"marker\":{\"colorbar\":{\"outlinewidth\":0,\"ticks\":\"\"}}}],\"scatterternary\":[{\"type\":\"scatterternary\",\"marker\":{\"colorbar\":{\"outlinewidth\":0,\"ticks\":\"\"}}}],\"scattercarpet\":[{\"type\":\"scattercarpet\",\"marker\":{\"colorbar\":{\"outlinewidth\":0,\"ticks\":\"\"}}}],\"carpet\":[{\"aaxis\":{\"endlinecolor\":\"#2a3f5f\",\"gridcolor\":\"white\",\"linecolor\":\"white\",\"minorgridcolor\":\"white\",\"startlinecolor\":\"#2a3f5f\"},\"baxis\":{\"endlinecolor\":\"#2a3f5f\",\"gridcolor\":\"white\",\"linecolor\":\"white\",\"minorgridcolor\":\"white\",\"startlinecolor\":\"#2a3f5f\"},\"type\":\"carpet\"}],\"table\":[{\"cells\":{\"fill\":{\"color\":\"#EBF0F8\"},\"line\":{\"color\":\"white\"}},\"header\":{\"fill\":{\"color\":\"#C8D4E3\"},\"line\":{\"color\":\"white\"}},\"type\":\"table\"}],\"barpolar\":[{\"marker\":{\"line\":{\"color\":\"#E5ECF6\",\"width\":0.5},\"pattern\":{\"fillmode\":\"overlay\",\"size\":10,\"solidity\":0.2}},\"type\":\"barpolar\"}],\"pie\":[{\"automargin\":true,\"type\":\"pie\"}]},\"layout\":{\"autotypenumbers\":\"strict\",\"colorway\":[\"#636efa\",\"#EF553B\",\"#00cc96\",\"#ab63fa\",\"#FFA15A\",\"#19d3f3\",\"#FF6692\",\"#B6E880\",\"#FF97FF\",\"#FECB52\"],\"font\":{\"color\":\"#2a3f5f\"},\"hovermode\":\"closest\",\"hoverlabel\":{\"align\":\"left\"},\"paper_bgcolor\":\"white\",\"plot_bgcolor\":\"#E5ECF6\",\"polar\":{\"bgcolor\":\"#E5ECF6\",\"angularaxis\":{\"gridcolor\":\"white\",\"linecolor\":\"white\",\"ticks\":\"\"},\"radialaxis\":{\"gridcolor\":\"white\",\"linecolor\":\"white\",\"ticks\":\"\"}},\"ternary\":{\"bgcolor\":\"#E5ECF6\",\"aaxis\":{\"gridcolor\":\"white\",\"linecolor\":\"white\",\"ticks\":\"\"},\"baxis\":{\"gridcolor\":\"white\",\"linecolor\":\"white\",\"ticks\":\"\"},\"caxis\":{\"gridcolor\":\"white\",\"linecolor\":\"white\",\"ticks\":\"\"}},\"coloraxis\":{\"colorbar\":{\"outlinewidth\":0,\"ticks\":\"\"}},\"colorscale\":{\"sequential\":[[0.0,\"#0d0887\"],[0.1111111111111111,\"#46039f\"],[0.2222222222222222,\"#7201a8\"],[0.3333333333333333,\"#9c179e\"],[0.4444444444444444,\"#bd3786\"],[0.5555555555555556,\"#d8576b\"],[0.6666666666666666,\"#ed7953\"],[0.7777777777777778,\"#fb9f3a\"],[0.8888888888888888,\"#fdca26\"],[1.0,\"#f0f921\"]],\"sequentialminus\":[[0.0,\"#0d0887\"],[0.1111111111111111,\"#46039f\"],[0.2222222222222222,\"#7201a8\"],[0.3333333333333333,\"#9c179e\"],[0.4444444444444444,\"#bd3786\"],[0.5555555555555556,\"#d8576b\"],[0.6666666666666666,\"#ed7953\"],[0.7777777777777778,\"#fb9f3a\"],[0.8888888888888888,\"#fdca26\"],[1.0,\"#f0f921\"]],\"diverging\":[[0,\"#8e0152\"],[0.1,\"#c51b7d\"],[0.2,\"#de77ae\"],[0.3,\"#f1b6da\"],[0.4,\"#fde0ef\"],[0.5,\"#f7f7f7\"],[0.6,\"#e6f5d0\"],[0.7,\"#b8e186\"],[0.8,\"#7fbc41\"],[0.9,\"#4d9221\"],[1,\"#276419\"]]},\"xaxis\":{\"gridcolor\":\"white\",\"linecolor\":\"white\",\"ticks\":\"\",\"title\":{\"standoff\":15},\"zerolinecolor\":\"white\",\"automargin\":true,\"zerolinewidth\":2},\"yaxis\":{\"gridcolor\":\"white\",\"linecolor\":\"white\",\"ticks\":\"\",\"title\":{\"standoff\":15},\"zerolinecolor\":\"white\",\"automargin\":true,\"zerolinewidth\":2},\"scene\":{\"xaxis\":{\"backgroundcolor\":\"#E5ECF6\",\"gridcolor\":\"white\",\"linecolor\":\"white\",\"showbackground\":true,\"ticks\":\"\",\"zerolinecolor\":\"white\",\"gridwidth\":2},\"yaxis\":{\"backgroundcolor\":\"#E5ECF6\",\"gridcolor\":\"white\",\"linecolor\":\"white\",\"showbackground\":true,\"ticks\":\"\",\"zerolinecolor\":\"white\",\"gridwidth\":2},\"zaxis\":{\"backgroundcolor\":\"#E5ECF6\",\"gridcolor\":\"white\",\"linecolor\":\"white\",\"showbackground\":true,\"ticks\":\"\",\"zerolinecolor\":\"white\",\"gridwidth\":2}},\"shapedefaults\":{\"line\":{\"color\":\"#2a3f5f\"}},\"annotationdefaults\":{\"arrowcolor\":\"#2a3f5f\",\"arrowhead\":0,\"arrowwidth\":1},\"geo\":{\"bgcolor\":\"white\",\"landcolor\":\"#E5ECF6\",\"subunitcolor\":\"white\",\"showland\":true,\"showlakes\":true,\"lakecolor\":\"white\"},\"title\":{\"x\":0.05},\"mapbox\":{\"style\":\"light\"}}},\"legend\":{\"tracegroupgap\":0},\"margin\":{\"t\":60}},                        {\"responsive\": true}                    ).then(function(){\n",
       "                            \n",
       "var gd = document.getElementById('e2898a60-9cf9-4ce7-a83b-9a3cca1214d7');\n",
       "var x = new MutationObserver(function (mutations, observer) {{\n",
       "        var display = window.getComputedStyle(gd).display;\n",
       "        if (!display || display === 'none') {{\n",
       "            console.log([gd, 'removed!']);\n",
       "            Plotly.purge(gd);\n",
       "            observer.disconnect();\n",
       "        }}\n",
       "}});\n",
       "\n",
       "// Listen for the removal of the full notebook cells\n",
       "var notebookContainer = gd.closest('#notebook-container');\n",
       "if (notebookContainer) {{\n",
       "    x.observe(notebookContainer, {childList: true});\n",
       "}}\n",
       "\n",
       "// Listen for the clearing of the current output cell\n",
       "var outputEl = gd.closest('.output');\n",
       "if (outputEl) {{\n",
       "    x.observe(outputEl, {childList: true});\n",
       "}}\n",
       "\n",
       "                        })                };                });            </script>        </div>"
      ]
     },
     "metadata": {},
     "output_type": "display_data"
    }
   ],
   "source": [
    "#顯示106~109各州別總留學人口比例及人數\n",
    "import plotly.express as px\n",
    "import plotly.io as pio\n",
    "import plotly.graph_objects as go\n",
    "import pandas as pd\n",
    "\n",
    "fig = px.pie(good,values='總人數',names='洲別')\n",
    "fig.update_traces(textposition='inside', \n",
    "                  textinfo='percent+label')\n",
    "# fig.write_image('./images/px/04-pie-1.png')\n",
    "fig.show()"
   ]
  },
  {
   "cell_type": "code",
   "execution_count": 115,
   "id": "9f34016b",
   "metadata": {},
   "outputs": [
    {
     "data": {
      "application/vnd.plotly.v1+json": {
       "config": {
        "plotlyServerURL": "https://plot.ly"
       },
       "data": [
        {
         "hovertemplate": "洲別=歐洲<br>總人數=%{x}<br>國別=%{y}<extra></extra>",
         "legendgroup": "歐洲",
         "marker": {
          "color": "#636efa",
          "symbol": "circle"
         },
         "mode": "markers",
         "name": "歐洲",
         "orientation": "h",
         "showlegend": true,
         "type": "scatter",
         "x": [
          3920,
          1004,
          1755,
          758,
          456,
          43,
          120,
          307,
          250,
          300,
          36,
          10,
          172,
          24,
          400,
          45,
          7,
          105
         ],
         "xaxis": "x",
         "y": [
          "英國",
          "法國",
          "德國",
          "波蘭",
          "奧地利",
          "捷克",
          "比利時",
          "瑞士",
          "義大利",
          "西班牙",
          "土耳其",
          "愛爾蘭",
          "俄羅斯",
          "丹麥",
          "荷蘭",
          "芬蘭",
          "挪威",
          "瑞典"
         ],
         "yaxis": "y"
        },
        {
         "hovertemplate": "洲別=美洲<br>總人數=%{x}<br>國別=%{y}<extra></extra>",
         "legendgroup": "美洲",
         "marker": {
          "color": "#EF553B",
          "symbol": "circle"
         },
         "mode": "markers",
         "name": "美洲",
         "orientation": "h",
         "showlegend": true,
         "type": "scatter",
         "x": [
          3202,
          21127,
          20
         ],
         "xaxis": "x",
         "y": [
          "加拿大",
          "美國",
          "巴拿馬"
         ],
         "yaxis": "y"
        },
        {
         "hovertemplate": "洲別=亞洲<br>總人數=%{x}<br>國別=%{y}<extra></extra>",
         "legendgroup": "亞洲",
         "marker": {
          "color": "#00cc96",
          "symbol": "circle"
         },
         "mode": "markers",
         "name": "亞洲",
         "orientation": "h",
         "showlegend": true,
         "type": "scatter",
         "x": [
          9642,
          242,
          176,
          154,
          513,
          16,
          13,
          19,
          21,
          20
         ],
         "xaxis": "x",
         "y": [
          "日本",
          "韓國",
          "泰國",
          "越南",
          "馬來西亞",
          "印尼",
          "印度",
          "以色列",
          "阿拉伯聯合大公國(杜拜地區)",
          "約旦"
         ],
         "yaxis": "y"
        },
        {
         "hovertemplate": "洲別=大洋洲<br>總人數=%{x}<br>國別=%{y}<extra></extra>",
         "legendgroup": "大洋洲",
         "marker": {
          "color": "#ab63fa",
          "symbol": "circle"
         },
         "mode": "markers",
         "name": "大洋洲",
         "orientation": "h",
         "showlegend": true,
         "type": "scatter",
         "x": [
          16573,
          1820
         ],
         "xaxis": "x",
         "y": [
          "澳大利亞",
          "紐西蘭"
         ],
         "yaxis": "y"
        }
       ],
       "layout": {
        "legend": {
         "title": {
          "text": "洲別"
         },
         "tracegroupgap": 0
        },
        "margin": {
         "t": 60
        },
        "template": {
         "data": {
          "bar": [
           {
            "error_x": {
             "color": "#2a3f5f"
            },
            "error_y": {
             "color": "#2a3f5f"
            },
            "marker": {
             "line": {
              "color": "#E5ECF6",
              "width": 0.5
             },
             "pattern": {
              "fillmode": "overlay",
              "size": 10,
              "solidity": 0.2
             }
            },
            "type": "bar"
           }
          ],
          "barpolar": [
           {
            "marker": {
             "line": {
              "color": "#E5ECF6",
              "width": 0.5
             },
             "pattern": {
              "fillmode": "overlay",
              "size": 10,
              "solidity": 0.2
             }
            },
            "type": "barpolar"
           }
          ],
          "carpet": [
           {
            "aaxis": {
             "endlinecolor": "#2a3f5f",
             "gridcolor": "white",
             "linecolor": "white",
             "minorgridcolor": "white",
             "startlinecolor": "#2a3f5f"
            },
            "baxis": {
             "endlinecolor": "#2a3f5f",
             "gridcolor": "white",
             "linecolor": "white",
             "minorgridcolor": "white",
             "startlinecolor": "#2a3f5f"
            },
            "type": "carpet"
           }
          ],
          "choropleth": [
           {
            "colorbar": {
             "outlinewidth": 0,
             "ticks": ""
            },
            "type": "choropleth"
           }
          ],
          "contour": [
           {
            "colorbar": {
             "outlinewidth": 0,
             "ticks": ""
            },
            "colorscale": [
             [
              0,
              "#0d0887"
             ],
             [
              0.1111111111111111,
              "#46039f"
             ],
             [
              0.2222222222222222,
              "#7201a8"
             ],
             [
              0.3333333333333333,
              "#9c179e"
             ],
             [
              0.4444444444444444,
              "#bd3786"
             ],
             [
              0.5555555555555556,
              "#d8576b"
             ],
             [
              0.6666666666666666,
              "#ed7953"
             ],
             [
              0.7777777777777778,
              "#fb9f3a"
             ],
             [
              0.8888888888888888,
              "#fdca26"
             ],
             [
              1,
              "#f0f921"
             ]
            ],
            "type": "contour"
           }
          ],
          "contourcarpet": [
           {
            "colorbar": {
             "outlinewidth": 0,
             "ticks": ""
            },
            "type": "contourcarpet"
           }
          ],
          "heatmap": [
           {
            "colorbar": {
             "outlinewidth": 0,
             "ticks": ""
            },
            "colorscale": [
             [
              0,
              "#0d0887"
             ],
             [
              0.1111111111111111,
              "#46039f"
             ],
             [
              0.2222222222222222,
              "#7201a8"
             ],
             [
              0.3333333333333333,
              "#9c179e"
             ],
             [
              0.4444444444444444,
              "#bd3786"
             ],
             [
              0.5555555555555556,
              "#d8576b"
             ],
             [
              0.6666666666666666,
              "#ed7953"
             ],
             [
              0.7777777777777778,
              "#fb9f3a"
             ],
             [
              0.8888888888888888,
              "#fdca26"
             ],
             [
              1,
              "#f0f921"
             ]
            ],
            "type": "heatmap"
           }
          ],
          "heatmapgl": [
           {
            "colorbar": {
             "outlinewidth": 0,
             "ticks": ""
            },
            "colorscale": [
             [
              0,
              "#0d0887"
             ],
             [
              0.1111111111111111,
              "#46039f"
             ],
             [
              0.2222222222222222,
              "#7201a8"
             ],
             [
              0.3333333333333333,
              "#9c179e"
             ],
             [
              0.4444444444444444,
              "#bd3786"
             ],
             [
              0.5555555555555556,
              "#d8576b"
             ],
             [
              0.6666666666666666,
              "#ed7953"
             ],
             [
              0.7777777777777778,
              "#fb9f3a"
             ],
             [
              0.8888888888888888,
              "#fdca26"
             ],
             [
              1,
              "#f0f921"
             ]
            ],
            "type": "heatmapgl"
           }
          ],
          "histogram": [
           {
            "marker": {
             "pattern": {
              "fillmode": "overlay",
              "size": 10,
              "solidity": 0.2
             }
            },
            "type": "histogram"
           }
          ],
          "histogram2d": [
           {
            "colorbar": {
             "outlinewidth": 0,
             "ticks": ""
            },
            "colorscale": [
             [
              0,
              "#0d0887"
             ],
             [
              0.1111111111111111,
              "#46039f"
             ],
             [
              0.2222222222222222,
              "#7201a8"
             ],
             [
              0.3333333333333333,
              "#9c179e"
             ],
             [
              0.4444444444444444,
              "#bd3786"
             ],
             [
              0.5555555555555556,
              "#d8576b"
             ],
             [
              0.6666666666666666,
              "#ed7953"
             ],
             [
              0.7777777777777778,
              "#fb9f3a"
             ],
             [
              0.8888888888888888,
              "#fdca26"
             ],
             [
              1,
              "#f0f921"
             ]
            ],
            "type": "histogram2d"
           }
          ],
          "histogram2dcontour": [
           {
            "colorbar": {
             "outlinewidth": 0,
             "ticks": ""
            },
            "colorscale": [
             [
              0,
              "#0d0887"
             ],
             [
              0.1111111111111111,
              "#46039f"
             ],
             [
              0.2222222222222222,
              "#7201a8"
             ],
             [
              0.3333333333333333,
              "#9c179e"
             ],
             [
              0.4444444444444444,
              "#bd3786"
             ],
             [
              0.5555555555555556,
              "#d8576b"
             ],
             [
              0.6666666666666666,
              "#ed7953"
             ],
             [
              0.7777777777777778,
              "#fb9f3a"
             ],
             [
              0.8888888888888888,
              "#fdca26"
             ],
             [
              1,
              "#f0f921"
             ]
            ],
            "type": "histogram2dcontour"
           }
          ],
          "mesh3d": [
           {
            "colorbar": {
             "outlinewidth": 0,
             "ticks": ""
            },
            "type": "mesh3d"
           }
          ],
          "parcoords": [
           {
            "line": {
             "colorbar": {
              "outlinewidth": 0,
              "ticks": ""
             }
            },
            "type": "parcoords"
           }
          ],
          "pie": [
           {
            "automargin": true,
            "type": "pie"
           }
          ],
          "scatter": [
           {
            "fillpattern": {
             "fillmode": "overlay",
             "size": 10,
             "solidity": 0.2
            },
            "type": "scatter"
           }
          ],
          "scatter3d": [
           {
            "line": {
             "colorbar": {
              "outlinewidth": 0,
              "ticks": ""
             }
            },
            "marker": {
             "colorbar": {
              "outlinewidth": 0,
              "ticks": ""
             }
            },
            "type": "scatter3d"
           }
          ],
          "scattercarpet": [
           {
            "marker": {
             "colorbar": {
              "outlinewidth": 0,
              "ticks": ""
             }
            },
            "type": "scattercarpet"
           }
          ],
          "scattergeo": [
           {
            "marker": {
             "colorbar": {
              "outlinewidth": 0,
              "ticks": ""
             }
            },
            "type": "scattergeo"
           }
          ],
          "scattergl": [
           {
            "marker": {
             "colorbar": {
              "outlinewidth": 0,
              "ticks": ""
             }
            },
            "type": "scattergl"
           }
          ],
          "scattermapbox": [
           {
            "marker": {
             "colorbar": {
              "outlinewidth": 0,
              "ticks": ""
             }
            },
            "type": "scattermapbox"
           }
          ],
          "scatterpolar": [
           {
            "marker": {
             "colorbar": {
              "outlinewidth": 0,
              "ticks": ""
             }
            },
            "type": "scatterpolar"
           }
          ],
          "scatterpolargl": [
           {
            "marker": {
             "colorbar": {
              "outlinewidth": 0,
              "ticks": ""
             }
            },
            "type": "scatterpolargl"
           }
          ],
          "scatterternary": [
           {
            "marker": {
             "colorbar": {
              "outlinewidth": 0,
              "ticks": ""
             }
            },
            "type": "scatterternary"
           }
          ],
          "surface": [
           {
            "colorbar": {
             "outlinewidth": 0,
             "ticks": ""
            },
            "colorscale": [
             [
              0,
              "#0d0887"
             ],
             [
              0.1111111111111111,
              "#46039f"
             ],
             [
              0.2222222222222222,
              "#7201a8"
             ],
             [
              0.3333333333333333,
              "#9c179e"
             ],
             [
              0.4444444444444444,
              "#bd3786"
             ],
             [
              0.5555555555555556,
              "#d8576b"
             ],
             [
              0.6666666666666666,
              "#ed7953"
             ],
             [
              0.7777777777777778,
              "#fb9f3a"
             ],
             [
              0.8888888888888888,
              "#fdca26"
             ],
             [
              1,
              "#f0f921"
             ]
            ],
            "type": "surface"
           }
          ],
          "table": [
           {
            "cells": {
             "fill": {
              "color": "#EBF0F8"
             },
             "line": {
              "color": "white"
             }
            },
            "header": {
             "fill": {
              "color": "#C8D4E3"
             },
             "line": {
              "color": "white"
             }
            },
            "type": "table"
           }
          ]
         },
         "layout": {
          "annotationdefaults": {
           "arrowcolor": "#2a3f5f",
           "arrowhead": 0,
           "arrowwidth": 1
          },
          "autotypenumbers": "strict",
          "coloraxis": {
           "colorbar": {
            "outlinewidth": 0,
            "ticks": ""
           }
          },
          "colorscale": {
           "diverging": [
            [
             0,
             "#8e0152"
            ],
            [
             0.1,
             "#c51b7d"
            ],
            [
             0.2,
             "#de77ae"
            ],
            [
             0.3,
             "#f1b6da"
            ],
            [
             0.4,
             "#fde0ef"
            ],
            [
             0.5,
             "#f7f7f7"
            ],
            [
             0.6,
             "#e6f5d0"
            ],
            [
             0.7,
             "#b8e186"
            ],
            [
             0.8,
             "#7fbc41"
            ],
            [
             0.9,
             "#4d9221"
            ],
            [
             1,
             "#276419"
            ]
           ],
           "sequential": [
            [
             0,
             "#0d0887"
            ],
            [
             0.1111111111111111,
             "#46039f"
            ],
            [
             0.2222222222222222,
             "#7201a8"
            ],
            [
             0.3333333333333333,
             "#9c179e"
            ],
            [
             0.4444444444444444,
             "#bd3786"
            ],
            [
             0.5555555555555556,
             "#d8576b"
            ],
            [
             0.6666666666666666,
             "#ed7953"
            ],
            [
             0.7777777777777778,
             "#fb9f3a"
            ],
            [
             0.8888888888888888,
             "#fdca26"
            ],
            [
             1,
             "#f0f921"
            ]
           ],
           "sequentialminus": [
            [
             0,
             "#0d0887"
            ],
            [
             0.1111111111111111,
             "#46039f"
            ],
            [
             0.2222222222222222,
             "#7201a8"
            ],
            [
             0.3333333333333333,
             "#9c179e"
            ],
            [
             0.4444444444444444,
             "#bd3786"
            ],
            [
             0.5555555555555556,
             "#d8576b"
            ],
            [
             0.6666666666666666,
             "#ed7953"
            ],
            [
             0.7777777777777778,
             "#fb9f3a"
            ],
            [
             0.8888888888888888,
             "#fdca26"
            ],
            [
             1,
             "#f0f921"
            ]
           ]
          },
          "colorway": [
           "#636efa",
           "#EF553B",
           "#00cc96",
           "#ab63fa",
           "#FFA15A",
           "#19d3f3",
           "#FF6692",
           "#B6E880",
           "#FF97FF",
           "#FECB52"
          ],
          "font": {
           "color": "#2a3f5f"
          },
          "geo": {
           "bgcolor": "white",
           "lakecolor": "white",
           "landcolor": "#E5ECF6",
           "showlakes": true,
           "showland": true,
           "subunitcolor": "white"
          },
          "hoverlabel": {
           "align": "left"
          },
          "hovermode": "closest",
          "mapbox": {
           "style": "light"
          },
          "paper_bgcolor": "white",
          "plot_bgcolor": "#E5ECF6",
          "polar": {
           "angularaxis": {
            "gridcolor": "white",
            "linecolor": "white",
            "ticks": ""
           },
           "bgcolor": "#E5ECF6",
           "radialaxis": {
            "gridcolor": "white",
            "linecolor": "white",
            "ticks": ""
           }
          },
          "scene": {
           "xaxis": {
            "backgroundcolor": "#E5ECF6",
            "gridcolor": "white",
            "gridwidth": 2,
            "linecolor": "white",
            "showbackground": true,
            "ticks": "",
            "zerolinecolor": "white"
           },
           "yaxis": {
            "backgroundcolor": "#E5ECF6",
            "gridcolor": "white",
            "gridwidth": 2,
            "linecolor": "white",
            "showbackground": true,
            "ticks": "",
            "zerolinecolor": "white"
           },
           "zaxis": {
            "backgroundcolor": "#E5ECF6",
            "gridcolor": "white",
            "gridwidth": 2,
            "linecolor": "white",
            "showbackground": true,
            "ticks": "",
            "zerolinecolor": "white"
           }
          },
          "shapedefaults": {
           "line": {
            "color": "#2a3f5f"
           }
          },
          "ternary": {
           "aaxis": {
            "gridcolor": "white",
            "linecolor": "white",
            "ticks": ""
           },
           "baxis": {
            "gridcolor": "white",
            "linecolor": "white",
            "ticks": ""
           },
           "bgcolor": "#E5ECF6",
           "caxis": {
            "gridcolor": "white",
            "linecolor": "white",
            "ticks": ""
           }
          },
          "title": {
           "x": 0.05
          },
          "xaxis": {
           "automargin": true,
           "gridcolor": "white",
           "linecolor": "white",
           "ticks": "",
           "title": {
            "standoff": 15
           },
           "zerolinecolor": "white",
           "zerolinewidth": 2
          },
          "yaxis": {
           "automargin": true,
           "gridcolor": "white",
           "linecolor": "white",
           "ticks": "",
           "title": {
            "standoff": 15
           },
           "zerolinecolor": "white",
           "zerolinewidth": 2
          }
         }
        },
        "xaxis": {
         "anchor": "y",
         "domain": [
          0,
          1
         ],
         "title": {
          "text": "總人數"
         }
        },
        "yaxis": {
         "anchor": "x",
         "domain": [
          0,
          1
         ],
         "title": {
          "text": "國別"
         }
        }
       }
      },
      "text/html": [
       "<div>                            <div id=\"741e6c32-e1b0-45cc-835a-16745bb2357d\" class=\"plotly-graph-div\" style=\"height:525px; width:100%;\"></div>            <script type=\"text/javascript\">                require([\"plotly\"], function(Plotly) {                    window.PLOTLYENV=window.PLOTLYENV || {};                                    if (document.getElementById(\"741e6c32-e1b0-45cc-835a-16745bb2357d\")) {                    Plotly.newPlot(                        \"741e6c32-e1b0-45cc-835a-16745bb2357d\",                        [{\"hovertemplate\":\"\\u6d32\\u5225=\\u6b50\\u6d32<br>\\u7e3d\\u4eba\\u6578=%{x}<br>\\u570b\\u5225=%{y}<extra></extra>\",\"legendgroup\":\"\\u6b50\\u6d32\",\"marker\":{\"color\":\"#636efa\",\"symbol\":\"circle\"},\"mode\":\"markers\",\"name\":\"\\u6b50\\u6d32\",\"orientation\":\"h\",\"showlegend\":true,\"x\":[3920,1004,1755,758,456,43,120,307,250,300,36,10,172,24,400,45,7,105],\"xaxis\":\"x\",\"y\":[\"\\u82f1\\u570b\",\"\\u6cd5\\u570b\",\"\\u5fb7\\u570b\",\"\\u6ce2\\u862d\",\"\\u5967\\u5730\\u5229\",\"\\u6377\\u514b\",\"\\u6bd4\\u5229\\u6642\",\"\\u745e\\u58eb\",\"\\u7fa9\\u5927\\u5229\",\"\\u897f\\u73ed\\u7259\",\"\\u571f\\u8033\\u5176\",\"\\u611b\\u723e\\u862d\",\"\\u4fc4\\u7f85\\u65af\",\"\\u4e39\\u9ea5\",\"\\u8377\\u862d\",\"\\u82ac\\u862d\",\"\\u632a\\u5a01\",\"\\u745e\\u5178\"],\"yaxis\":\"y\",\"type\":\"scatter\"},{\"hovertemplate\":\"\\u6d32\\u5225=\\u7f8e\\u6d32<br>\\u7e3d\\u4eba\\u6578=%{x}<br>\\u570b\\u5225=%{y}<extra></extra>\",\"legendgroup\":\"\\u7f8e\\u6d32\",\"marker\":{\"color\":\"#EF553B\",\"symbol\":\"circle\"},\"mode\":\"markers\",\"name\":\"\\u7f8e\\u6d32\",\"orientation\":\"h\",\"showlegend\":true,\"x\":[3202,21127,20],\"xaxis\":\"x\",\"y\":[\"\\u52a0\\u62ff\\u5927\",\"\\u7f8e\\u570b\",\"\\u5df4\\u62ff\\u99ac\"],\"yaxis\":\"y\",\"type\":\"scatter\"},{\"hovertemplate\":\"\\u6d32\\u5225=\\u4e9e\\u6d32<br>\\u7e3d\\u4eba\\u6578=%{x}<br>\\u570b\\u5225=%{y}<extra></extra>\",\"legendgroup\":\"\\u4e9e\\u6d32\",\"marker\":{\"color\":\"#00cc96\",\"symbol\":\"circle\"},\"mode\":\"markers\",\"name\":\"\\u4e9e\\u6d32\",\"orientation\":\"h\",\"showlegend\":true,\"x\":[9642,242,176,154,513,16,13,19,21,20],\"xaxis\":\"x\",\"y\":[\"\\u65e5\\u672c\",\"\\u97d3\\u570b\",\"\\u6cf0\\u570b\",\"\\u8d8a\\u5357\",\"\\u99ac\\u4f86\\u897f\\u4e9e\",\"\\u5370\\u5c3c\",\"\\u5370\\u5ea6\",\"\\u4ee5\\u8272\\u5217\",\"\\u963f\\u62c9\\u4f2f\\u806f\\u5408\\u5927\\u516c\\u570b(\\u675c\\u62dc\\u5730\\u5340)\",\"\\u7d04\\u65e6\"],\"yaxis\":\"y\",\"type\":\"scatter\"},{\"hovertemplate\":\"\\u6d32\\u5225=\\u5927\\u6d0b\\u6d32<br>\\u7e3d\\u4eba\\u6578=%{x}<br>\\u570b\\u5225=%{y}<extra></extra>\",\"legendgroup\":\"\\u5927\\u6d0b\\u6d32\",\"marker\":{\"color\":\"#ab63fa\",\"symbol\":\"circle\"},\"mode\":\"markers\",\"name\":\"\\u5927\\u6d0b\\u6d32\",\"orientation\":\"h\",\"showlegend\":true,\"x\":[16573,1820],\"xaxis\":\"x\",\"y\":[\"\\u6fb3\\u5927\\u5229\\u4e9e\",\"\\u7d10\\u897f\\u862d\"],\"yaxis\":\"y\",\"type\":\"scatter\"}],                        {\"template\":{\"data\":{\"histogram2dcontour\":[{\"type\":\"histogram2dcontour\",\"colorbar\":{\"outlinewidth\":0,\"ticks\":\"\"},\"colorscale\":[[0.0,\"#0d0887\"],[0.1111111111111111,\"#46039f\"],[0.2222222222222222,\"#7201a8\"],[0.3333333333333333,\"#9c179e\"],[0.4444444444444444,\"#bd3786\"],[0.5555555555555556,\"#d8576b\"],[0.6666666666666666,\"#ed7953\"],[0.7777777777777778,\"#fb9f3a\"],[0.8888888888888888,\"#fdca26\"],[1.0,\"#f0f921\"]]}],\"choropleth\":[{\"type\":\"choropleth\",\"colorbar\":{\"outlinewidth\":0,\"ticks\":\"\"}}],\"histogram2d\":[{\"type\":\"histogram2d\",\"colorbar\":{\"outlinewidth\":0,\"ticks\":\"\"},\"colorscale\":[[0.0,\"#0d0887\"],[0.1111111111111111,\"#46039f\"],[0.2222222222222222,\"#7201a8\"],[0.3333333333333333,\"#9c179e\"],[0.4444444444444444,\"#bd3786\"],[0.5555555555555556,\"#d8576b\"],[0.6666666666666666,\"#ed7953\"],[0.7777777777777778,\"#fb9f3a\"],[0.8888888888888888,\"#fdca26\"],[1.0,\"#f0f921\"]]}],\"heatmap\":[{\"type\":\"heatmap\",\"colorbar\":{\"outlinewidth\":0,\"ticks\":\"\"},\"colorscale\":[[0.0,\"#0d0887\"],[0.1111111111111111,\"#46039f\"],[0.2222222222222222,\"#7201a8\"],[0.3333333333333333,\"#9c179e\"],[0.4444444444444444,\"#bd3786\"],[0.5555555555555556,\"#d8576b\"],[0.6666666666666666,\"#ed7953\"],[0.7777777777777778,\"#fb9f3a\"],[0.8888888888888888,\"#fdca26\"],[1.0,\"#f0f921\"]]}],\"heatmapgl\":[{\"type\":\"heatmapgl\",\"colorbar\":{\"outlinewidth\":0,\"ticks\":\"\"},\"colorscale\":[[0.0,\"#0d0887\"],[0.1111111111111111,\"#46039f\"],[0.2222222222222222,\"#7201a8\"],[0.3333333333333333,\"#9c179e\"],[0.4444444444444444,\"#bd3786\"],[0.5555555555555556,\"#d8576b\"],[0.6666666666666666,\"#ed7953\"],[0.7777777777777778,\"#fb9f3a\"],[0.8888888888888888,\"#fdca26\"],[1.0,\"#f0f921\"]]}],\"contourcarpet\":[{\"type\":\"contourcarpet\",\"colorbar\":{\"outlinewidth\":0,\"ticks\":\"\"}}],\"contour\":[{\"type\":\"contour\",\"colorbar\":{\"outlinewidth\":0,\"ticks\":\"\"},\"colorscale\":[[0.0,\"#0d0887\"],[0.1111111111111111,\"#46039f\"],[0.2222222222222222,\"#7201a8\"],[0.3333333333333333,\"#9c179e\"],[0.4444444444444444,\"#bd3786\"],[0.5555555555555556,\"#d8576b\"],[0.6666666666666666,\"#ed7953\"],[0.7777777777777778,\"#fb9f3a\"],[0.8888888888888888,\"#fdca26\"],[1.0,\"#f0f921\"]]}],\"surface\":[{\"type\":\"surface\",\"colorbar\":{\"outlinewidth\":0,\"ticks\":\"\"},\"colorscale\":[[0.0,\"#0d0887\"],[0.1111111111111111,\"#46039f\"],[0.2222222222222222,\"#7201a8\"],[0.3333333333333333,\"#9c179e\"],[0.4444444444444444,\"#bd3786\"],[0.5555555555555556,\"#d8576b\"],[0.6666666666666666,\"#ed7953\"],[0.7777777777777778,\"#fb9f3a\"],[0.8888888888888888,\"#fdca26\"],[1.0,\"#f0f921\"]]}],\"mesh3d\":[{\"type\":\"mesh3d\",\"colorbar\":{\"outlinewidth\":0,\"ticks\":\"\"}}],\"scatter\":[{\"fillpattern\":{\"fillmode\":\"overlay\",\"size\":10,\"solidity\":0.2},\"type\":\"scatter\"}],\"parcoords\":[{\"type\":\"parcoords\",\"line\":{\"colorbar\":{\"outlinewidth\":0,\"ticks\":\"\"}}}],\"scatterpolargl\":[{\"type\":\"scatterpolargl\",\"marker\":{\"colorbar\":{\"outlinewidth\":0,\"ticks\":\"\"}}}],\"bar\":[{\"error_x\":{\"color\":\"#2a3f5f\"},\"error_y\":{\"color\":\"#2a3f5f\"},\"marker\":{\"line\":{\"color\":\"#E5ECF6\",\"width\":0.5},\"pattern\":{\"fillmode\":\"overlay\",\"size\":10,\"solidity\":0.2}},\"type\":\"bar\"}],\"scattergeo\":[{\"type\":\"scattergeo\",\"marker\":{\"colorbar\":{\"outlinewidth\":0,\"ticks\":\"\"}}}],\"scatterpolar\":[{\"type\":\"scatterpolar\",\"marker\":{\"colorbar\":{\"outlinewidth\":0,\"ticks\":\"\"}}}],\"histogram\":[{\"marker\":{\"pattern\":{\"fillmode\":\"overlay\",\"size\":10,\"solidity\":0.2}},\"type\":\"histogram\"}],\"scattergl\":[{\"type\":\"scattergl\",\"marker\":{\"colorbar\":{\"outlinewidth\":0,\"ticks\":\"\"}}}],\"scatter3d\":[{\"type\":\"scatter3d\",\"line\":{\"colorbar\":{\"outlinewidth\":0,\"ticks\":\"\"}},\"marker\":{\"colorbar\":{\"outlinewidth\":0,\"ticks\":\"\"}}}],\"scattermapbox\":[{\"type\":\"scattermapbox\",\"marker\":{\"colorbar\":{\"outlinewidth\":0,\"ticks\":\"\"}}}],\"scatterternary\":[{\"type\":\"scatterternary\",\"marker\":{\"colorbar\":{\"outlinewidth\":0,\"ticks\":\"\"}}}],\"scattercarpet\":[{\"type\":\"scattercarpet\",\"marker\":{\"colorbar\":{\"outlinewidth\":0,\"ticks\":\"\"}}}],\"carpet\":[{\"aaxis\":{\"endlinecolor\":\"#2a3f5f\",\"gridcolor\":\"white\",\"linecolor\":\"white\",\"minorgridcolor\":\"white\",\"startlinecolor\":\"#2a3f5f\"},\"baxis\":{\"endlinecolor\":\"#2a3f5f\",\"gridcolor\":\"white\",\"linecolor\":\"white\",\"minorgridcolor\":\"white\",\"startlinecolor\":\"#2a3f5f\"},\"type\":\"carpet\"}],\"table\":[{\"cells\":{\"fill\":{\"color\":\"#EBF0F8\"},\"line\":{\"color\":\"white\"}},\"header\":{\"fill\":{\"color\":\"#C8D4E3\"},\"line\":{\"color\":\"white\"}},\"type\":\"table\"}],\"barpolar\":[{\"marker\":{\"line\":{\"color\":\"#E5ECF6\",\"width\":0.5},\"pattern\":{\"fillmode\":\"overlay\",\"size\":10,\"solidity\":0.2}},\"type\":\"barpolar\"}],\"pie\":[{\"automargin\":true,\"type\":\"pie\"}]},\"layout\":{\"autotypenumbers\":\"strict\",\"colorway\":[\"#636efa\",\"#EF553B\",\"#00cc96\",\"#ab63fa\",\"#FFA15A\",\"#19d3f3\",\"#FF6692\",\"#B6E880\",\"#FF97FF\",\"#FECB52\"],\"font\":{\"color\":\"#2a3f5f\"},\"hovermode\":\"closest\",\"hoverlabel\":{\"align\":\"left\"},\"paper_bgcolor\":\"white\",\"plot_bgcolor\":\"#E5ECF6\",\"polar\":{\"bgcolor\":\"#E5ECF6\",\"angularaxis\":{\"gridcolor\":\"white\",\"linecolor\":\"white\",\"ticks\":\"\"},\"radialaxis\":{\"gridcolor\":\"white\",\"linecolor\":\"white\",\"ticks\":\"\"}},\"ternary\":{\"bgcolor\":\"#E5ECF6\",\"aaxis\":{\"gridcolor\":\"white\",\"linecolor\":\"white\",\"ticks\":\"\"},\"baxis\":{\"gridcolor\":\"white\",\"linecolor\":\"white\",\"ticks\":\"\"},\"caxis\":{\"gridcolor\":\"white\",\"linecolor\":\"white\",\"ticks\":\"\"}},\"coloraxis\":{\"colorbar\":{\"outlinewidth\":0,\"ticks\":\"\"}},\"colorscale\":{\"sequential\":[[0.0,\"#0d0887\"],[0.1111111111111111,\"#46039f\"],[0.2222222222222222,\"#7201a8\"],[0.3333333333333333,\"#9c179e\"],[0.4444444444444444,\"#bd3786\"],[0.5555555555555556,\"#d8576b\"],[0.6666666666666666,\"#ed7953\"],[0.7777777777777778,\"#fb9f3a\"],[0.8888888888888888,\"#fdca26\"],[1.0,\"#f0f921\"]],\"sequentialminus\":[[0.0,\"#0d0887\"],[0.1111111111111111,\"#46039f\"],[0.2222222222222222,\"#7201a8\"],[0.3333333333333333,\"#9c179e\"],[0.4444444444444444,\"#bd3786\"],[0.5555555555555556,\"#d8576b\"],[0.6666666666666666,\"#ed7953\"],[0.7777777777777778,\"#fb9f3a\"],[0.8888888888888888,\"#fdca26\"],[1.0,\"#f0f921\"]],\"diverging\":[[0,\"#8e0152\"],[0.1,\"#c51b7d\"],[0.2,\"#de77ae\"],[0.3,\"#f1b6da\"],[0.4,\"#fde0ef\"],[0.5,\"#f7f7f7\"],[0.6,\"#e6f5d0\"],[0.7,\"#b8e186\"],[0.8,\"#7fbc41\"],[0.9,\"#4d9221\"],[1,\"#276419\"]]},\"xaxis\":{\"gridcolor\":\"white\",\"linecolor\":\"white\",\"ticks\":\"\",\"title\":{\"standoff\":15},\"zerolinecolor\":\"white\",\"automargin\":true,\"zerolinewidth\":2},\"yaxis\":{\"gridcolor\":\"white\",\"linecolor\":\"white\",\"ticks\":\"\",\"title\":{\"standoff\":15},\"zerolinecolor\":\"white\",\"automargin\":true,\"zerolinewidth\":2},\"scene\":{\"xaxis\":{\"backgroundcolor\":\"#E5ECF6\",\"gridcolor\":\"white\",\"linecolor\":\"white\",\"showbackground\":true,\"ticks\":\"\",\"zerolinecolor\":\"white\",\"gridwidth\":2},\"yaxis\":{\"backgroundcolor\":\"#E5ECF6\",\"gridcolor\":\"white\",\"linecolor\":\"white\",\"showbackground\":true,\"ticks\":\"\",\"zerolinecolor\":\"white\",\"gridwidth\":2},\"zaxis\":{\"backgroundcolor\":\"#E5ECF6\",\"gridcolor\":\"white\",\"linecolor\":\"white\",\"showbackground\":true,\"ticks\":\"\",\"zerolinecolor\":\"white\",\"gridwidth\":2}},\"shapedefaults\":{\"line\":{\"color\":\"#2a3f5f\"}},\"annotationdefaults\":{\"arrowcolor\":\"#2a3f5f\",\"arrowhead\":0,\"arrowwidth\":1},\"geo\":{\"bgcolor\":\"white\",\"landcolor\":\"#E5ECF6\",\"subunitcolor\":\"white\",\"showland\":true,\"showlakes\":true,\"lakecolor\":\"white\"},\"title\":{\"x\":0.05},\"mapbox\":{\"style\":\"light\"}}},\"xaxis\":{\"anchor\":\"y\",\"domain\":[0.0,1.0],\"title\":{\"text\":\"\\u7e3d\\u4eba\\u6578\"}},\"yaxis\":{\"anchor\":\"x\",\"domain\":[0.0,1.0],\"title\":{\"text\":\"\\u570b\\u5225\"}},\"legend\":{\"title\":{\"text\":\"\\u6d32\\u5225\"},\"tracegroupgap\":0},\"margin\":{\"t\":60}},                        {\"responsive\": true}                    ).then(function(){\n",
       "                            \n",
       "var gd = document.getElementById('741e6c32-e1b0-45cc-835a-16745bb2357d');\n",
       "var x = new MutationObserver(function (mutations, observer) {{\n",
       "        var display = window.getComputedStyle(gd).display;\n",
       "        if (!display || display === 'none') {{\n",
       "            console.log([gd, 'removed!']);\n",
       "            Plotly.purge(gd);\n",
       "            observer.disconnect();\n",
       "        }}\n",
       "}});\n",
       "\n",
       "// Listen for the removal of the full notebook cells\n",
       "var notebookContainer = gd.closest('#notebook-container');\n",
       "if (notebookContainer) {{\n",
       "    x.observe(notebookContainer, {childList: true});\n",
       "}}\n",
       "\n",
       "// Listen for the clearing of the current output cell\n",
       "var outputEl = gd.closest('.output');\n",
       "if (outputEl) {{\n",
       "    x.observe(outputEl, {childList: true});\n",
       "}}\n",
       "\n",
       "                        })                };                });            </script>        </div>"
      ]
     },
     "metadata": {},
     "output_type": "display_data"
    }
   ],
   "source": [
    "#106年各國出國人數分佈\n",
    "good = pd.read_csv(\"good.csv\",encoding='Big5') \n",
    "\n",
    "good105 = good.query('年度 == 106')\n",
    "px.scatter(good105, x='總人數', y='國別', color=\"洲別\")"
   ]
  },
  {
   "cell_type": "code",
   "execution_count": 116,
   "id": "aff4afcb",
   "metadata": {},
   "outputs": [
    {
     "data": {
      "application/vnd.plotly.v1+json": {
       "config": {
        "plotlyServerURL": "https://plot.ly"
       },
       "data": [
        {
         "domain": {
          "x": [
           0,
           1
          ],
          "y": [
           0,
           1
          ]
         },
         "hovertemplate": "洲別=%{label}<br>總人數=%{value}<extra></extra>",
         "labels": [
          "歐洲",
          "歐洲",
          "歐洲",
          "歐洲",
          "歐洲",
          "歐洲",
          "歐洲",
          "歐洲",
          "歐洲",
          "歐洲",
          "歐洲",
          "歐洲",
          "歐洲",
          "歐洲",
          "歐洲",
          "歐洲",
          "歐洲",
          "歐洲",
          "美洲",
          "美洲",
          "美洲",
          "亞洲",
          "亞洲",
          "亞洲",
          "亞洲",
          "亞洲",
          "亞洲",
          "亞洲",
          "亞洲",
          "亞洲",
          "亞洲",
          "大洋洲",
          "大洋洲"
         ],
         "legendgroup": "",
         "name": "",
         "showlegend": true,
         "textinfo": "percent+label",
         "textposition": "inside",
         "type": "pie",
         "values": [
          3920,
          1004,
          1755,
          758,
          456,
          43,
          120,
          307,
          250,
          300,
          36,
          10,
          172,
          24,
          400,
          45,
          7,
          105,
          3202,
          21127,
          20,
          9642,
          242,
          176,
          154,
          513,
          16,
          13,
          19,
          21,
          20,
          16573,
          1820
         ]
        }
       ],
       "layout": {
        "legend": {
         "tracegroupgap": 0
        },
        "margin": {
         "t": 60
        },
        "template": {
         "data": {
          "bar": [
           {
            "error_x": {
             "color": "#2a3f5f"
            },
            "error_y": {
             "color": "#2a3f5f"
            },
            "marker": {
             "line": {
              "color": "#E5ECF6",
              "width": 0.5
             },
             "pattern": {
              "fillmode": "overlay",
              "size": 10,
              "solidity": 0.2
             }
            },
            "type": "bar"
           }
          ],
          "barpolar": [
           {
            "marker": {
             "line": {
              "color": "#E5ECF6",
              "width": 0.5
             },
             "pattern": {
              "fillmode": "overlay",
              "size": 10,
              "solidity": 0.2
             }
            },
            "type": "barpolar"
           }
          ],
          "carpet": [
           {
            "aaxis": {
             "endlinecolor": "#2a3f5f",
             "gridcolor": "white",
             "linecolor": "white",
             "minorgridcolor": "white",
             "startlinecolor": "#2a3f5f"
            },
            "baxis": {
             "endlinecolor": "#2a3f5f",
             "gridcolor": "white",
             "linecolor": "white",
             "minorgridcolor": "white",
             "startlinecolor": "#2a3f5f"
            },
            "type": "carpet"
           }
          ],
          "choropleth": [
           {
            "colorbar": {
             "outlinewidth": 0,
             "ticks": ""
            },
            "type": "choropleth"
           }
          ],
          "contour": [
           {
            "colorbar": {
             "outlinewidth": 0,
             "ticks": ""
            },
            "colorscale": [
             [
              0,
              "#0d0887"
             ],
             [
              0.1111111111111111,
              "#46039f"
             ],
             [
              0.2222222222222222,
              "#7201a8"
             ],
             [
              0.3333333333333333,
              "#9c179e"
             ],
             [
              0.4444444444444444,
              "#bd3786"
             ],
             [
              0.5555555555555556,
              "#d8576b"
             ],
             [
              0.6666666666666666,
              "#ed7953"
             ],
             [
              0.7777777777777778,
              "#fb9f3a"
             ],
             [
              0.8888888888888888,
              "#fdca26"
             ],
             [
              1,
              "#f0f921"
             ]
            ],
            "type": "contour"
           }
          ],
          "contourcarpet": [
           {
            "colorbar": {
             "outlinewidth": 0,
             "ticks": ""
            },
            "type": "contourcarpet"
           }
          ],
          "heatmap": [
           {
            "colorbar": {
             "outlinewidth": 0,
             "ticks": ""
            },
            "colorscale": [
             [
              0,
              "#0d0887"
             ],
             [
              0.1111111111111111,
              "#46039f"
             ],
             [
              0.2222222222222222,
              "#7201a8"
             ],
             [
              0.3333333333333333,
              "#9c179e"
             ],
             [
              0.4444444444444444,
              "#bd3786"
             ],
             [
              0.5555555555555556,
              "#d8576b"
             ],
             [
              0.6666666666666666,
              "#ed7953"
             ],
             [
              0.7777777777777778,
              "#fb9f3a"
             ],
             [
              0.8888888888888888,
              "#fdca26"
             ],
             [
              1,
              "#f0f921"
             ]
            ],
            "type": "heatmap"
           }
          ],
          "heatmapgl": [
           {
            "colorbar": {
             "outlinewidth": 0,
             "ticks": ""
            },
            "colorscale": [
             [
              0,
              "#0d0887"
             ],
             [
              0.1111111111111111,
              "#46039f"
             ],
             [
              0.2222222222222222,
              "#7201a8"
             ],
             [
              0.3333333333333333,
              "#9c179e"
             ],
             [
              0.4444444444444444,
              "#bd3786"
             ],
             [
              0.5555555555555556,
              "#d8576b"
             ],
             [
              0.6666666666666666,
              "#ed7953"
             ],
             [
              0.7777777777777778,
              "#fb9f3a"
             ],
             [
              0.8888888888888888,
              "#fdca26"
             ],
             [
              1,
              "#f0f921"
             ]
            ],
            "type": "heatmapgl"
           }
          ],
          "histogram": [
           {
            "marker": {
             "pattern": {
              "fillmode": "overlay",
              "size": 10,
              "solidity": 0.2
             }
            },
            "type": "histogram"
           }
          ],
          "histogram2d": [
           {
            "colorbar": {
             "outlinewidth": 0,
             "ticks": ""
            },
            "colorscale": [
             [
              0,
              "#0d0887"
             ],
             [
              0.1111111111111111,
              "#46039f"
             ],
             [
              0.2222222222222222,
              "#7201a8"
             ],
             [
              0.3333333333333333,
              "#9c179e"
             ],
             [
              0.4444444444444444,
              "#bd3786"
             ],
             [
              0.5555555555555556,
              "#d8576b"
             ],
             [
              0.6666666666666666,
              "#ed7953"
             ],
             [
              0.7777777777777778,
              "#fb9f3a"
             ],
             [
              0.8888888888888888,
              "#fdca26"
             ],
             [
              1,
              "#f0f921"
             ]
            ],
            "type": "histogram2d"
           }
          ],
          "histogram2dcontour": [
           {
            "colorbar": {
             "outlinewidth": 0,
             "ticks": ""
            },
            "colorscale": [
             [
              0,
              "#0d0887"
             ],
             [
              0.1111111111111111,
              "#46039f"
             ],
             [
              0.2222222222222222,
              "#7201a8"
             ],
             [
              0.3333333333333333,
              "#9c179e"
             ],
             [
              0.4444444444444444,
              "#bd3786"
             ],
             [
              0.5555555555555556,
              "#d8576b"
             ],
             [
              0.6666666666666666,
              "#ed7953"
             ],
             [
              0.7777777777777778,
              "#fb9f3a"
             ],
             [
              0.8888888888888888,
              "#fdca26"
             ],
             [
              1,
              "#f0f921"
             ]
            ],
            "type": "histogram2dcontour"
           }
          ],
          "mesh3d": [
           {
            "colorbar": {
             "outlinewidth": 0,
             "ticks": ""
            },
            "type": "mesh3d"
           }
          ],
          "parcoords": [
           {
            "line": {
             "colorbar": {
              "outlinewidth": 0,
              "ticks": ""
             }
            },
            "type": "parcoords"
           }
          ],
          "pie": [
           {
            "automargin": true,
            "type": "pie"
           }
          ],
          "scatter": [
           {
            "fillpattern": {
             "fillmode": "overlay",
             "size": 10,
             "solidity": 0.2
            },
            "type": "scatter"
           }
          ],
          "scatter3d": [
           {
            "line": {
             "colorbar": {
              "outlinewidth": 0,
              "ticks": ""
             }
            },
            "marker": {
             "colorbar": {
              "outlinewidth": 0,
              "ticks": ""
             }
            },
            "type": "scatter3d"
           }
          ],
          "scattercarpet": [
           {
            "marker": {
             "colorbar": {
              "outlinewidth": 0,
              "ticks": ""
             }
            },
            "type": "scattercarpet"
           }
          ],
          "scattergeo": [
           {
            "marker": {
             "colorbar": {
              "outlinewidth": 0,
              "ticks": ""
             }
            },
            "type": "scattergeo"
           }
          ],
          "scattergl": [
           {
            "marker": {
             "colorbar": {
              "outlinewidth": 0,
              "ticks": ""
             }
            },
            "type": "scattergl"
           }
          ],
          "scattermapbox": [
           {
            "marker": {
             "colorbar": {
              "outlinewidth": 0,
              "ticks": ""
             }
            },
            "type": "scattermapbox"
           }
          ],
          "scatterpolar": [
           {
            "marker": {
             "colorbar": {
              "outlinewidth": 0,
              "ticks": ""
             }
            },
            "type": "scatterpolar"
           }
          ],
          "scatterpolargl": [
           {
            "marker": {
             "colorbar": {
              "outlinewidth": 0,
              "ticks": ""
             }
            },
            "type": "scatterpolargl"
           }
          ],
          "scatterternary": [
           {
            "marker": {
             "colorbar": {
              "outlinewidth": 0,
              "ticks": ""
             }
            },
            "type": "scatterternary"
           }
          ],
          "surface": [
           {
            "colorbar": {
             "outlinewidth": 0,
             "ticks": ""
            },
            "colorscale": [
             [
              0,
              "#0d0887"
             ],
             [
              0.1111111111111111,
              "#46039f"
             ],
             [
              0.2222222222222222,
              "#7201a8"
             ],
             [
              0.3333333333333333,
              "#9c179e"
             ],
             [
              0.4444444444444444,
              "#bd3786"
             ],
             [
              0.5555555555555556,
              "#d8576b"
             ],
             [
              0.6666666666666666,
              "#ed7953"
             ],
             [
              0.7777777777777778,
              "#fb9f3a"
             ],
             [
              0.8888888888888888,
              "#fdca26"
             ],
             [
              1,
              "#f0f921"
             ]
            ],
            "type": "surface"
           }
          ],
          "table": [
           {
            "cells": {
             "fill": {
              "color": "#EBF0F8"
             },
             "line": {
              "color": "white"
             }
            },
            "header": {
             "fill": {
              "color": "#C8D4E3"
             },
             "line": {
              "color": "white"
             }
            },
            "type": "table"
           }
          ]
         },
         "layout": {
          "annotationdefaults": {
           "arrowcolor": "#2a3f5f",
           "arrowhead": 0,
           "arrowwidth": 1
          },
          "autotypenumbers": "strict",
          "coloraxis": {
           "colorbar": {
            "outlinewidth": 0,
            "ticks": ""
           }
          },
          "colorscale": {
           "diverging": [
            [
             0,
             "#8e0152"
            ],
            [
             0.1,
             "#c51b7d"
            ],
            [
             0.2,
             "#de77ae"
            ],
            [
             0.3,
             "#f1b6da"
            ],
            [
             0.4,
             "#fde0ef"
            ],
            [
             0.5,
             "#f7f7f7"
            ],
            [
             0.6,
             "#e6f5d0"
            ],
            [
             0.7,
             "#b8e186"
            ],
            [
             0.8,
             "#7fbc41"
            ],
            [
             0.9,
             "#4d9221"
            ],
            [
             1,
             "#276419"
            ]
           ],
           "sequential": [
            [
             0,
             "#0d0887"
            ],
            [
             0.1111111111111111,
             "#46039f"
            ],
            [
             0.2222222222222222,
             "#7201a8"
            ],
            [
             0.3333333333333333,
             "#9c179e"
            ],
            [
             0.4444444444444444,
             "#bd3786"
            ],
            [
             0.5555555555555556,
             "#d8576b"
            ],
            [
             0.6666666666666666,
             "#ed7953"
            ],
            [
             0.7777777777777778,
             "#fb9f3a"
            ],
            [
             0.8888888888888888,
             "#fdca26"
            ],
            [
             1,
             "#f0f921"
            ]
           ],
           "sequentialminus": [
            [
             0,
             "#0d0887"
            ],
            [
             0.1111111111111111,
             "#46039f"
            ],
            [
             0.2222222222222222,
             "#7201a8"
            ],
            [
             0.3333333333333333,
             "#9c179e"
            ],
            [
             0.4444444444444444,
             "#bd3786"
            ],
            [
             0.5555555555555556,
             "#d8576b"
            ],
            [
             0.6666666666666666,
             "#ed7953"
            ],
            [
             0.7777777777777778,
             "#fb9f3a"
            ],
            [
             0.8888888888888888,
             "#fdca26"
            ],
            [
             1,
             "#f0f921"
            ]
           ]
          },
          "colorway": [
           "#636efa",
           "#EF553B",
           "#00cc96",
           "#ab63fa",
           "#FFA15A",
           "#19d3f3",
           "#FF6692",
           "#B6E880",
           "#FF97FF",
           "#FECB52"
          ],
          "font": {
           "color": "#2a3f5f"
          },
          "geo": {
           "bgcolor": "white",
           "lakecolor": "white",
           "landcolor": "#E5ECF6",
           "showlakes": true,
           "showland": true,
           "subunitcolor": "white"
          },
          "hoverlabel": {
           "align": "left"
          },
          "hovermode": "closest",
          "mapbox": {
           "style": "light"
          },
          "paper_bgcolor": "white",
          "plot_bgcolor": "#E5ECF6",
          "polar": {
           "angularaxis": {
            "gridcolor": "white",
            "linecolor": "white",
            "ticks": ""
           },
           "bgcolor": "#E5ECF6",
           "radialaxis": {
            "gridcolor": "white",
            "linecolor": "white",
            "ticks": ""
           }
          },
          "scene": {
           "xaxis": {
            "backgroundcolor": "#E5ECF6",
            "gridcolor": "white",
            "gridwidth": 2,
            "linecolor": "white",
            "showbackground": true,
            "ticks": "",
            "zerolinecolor": "white"
           },
           "yaxis": {
            "backgroundcolor": "#E5ECF6",
            "gridcolor": "white",
            "gridwidth": 2,
            "linecolor": "white",
            "showbackground": true,
            "ticks": "",
            "zerolinecolor": "white"
           },
           "zaxis": {
            "backgroundcolor": "#E5ECF6",
            "gridcolor": "white",
            "gridwidth": 2,
            "linecolor": "white",
            "showbackground": true,
            "ticks": "",
            "zerolinecolor": "white"
           }
          },
          "shapedefaults": {
           "line": {
            "color": "#2a3f5f"
           }
          },
          "ternary": {
           "aaxis": {
            "gridcolor": "white",
            "linecolor": "white",
            "ticks": ""
           },
           "baxis": {
            "gridcolor": "white",
            "linecolor": "white",
            "ticks": ""
           },
           "bgcolor": "#E5ECF6",
           "caxis": {
            "gridcolor": "white",
            "linecolor": "white",
            "ticks": ""
           }
          },
          "title": {
           "x": 0.05
          },
          "xaxis": {
           "automargin": true,
           "gridcolor": "white",
           "linecolor": "white",
           "ticks": "",
           "title": {
            "standoff": 15
           },
           "zerolinecolor": "white",
           "zerolinewidth": 2
          },
          "yaxis": {
           "automargin": true,
           "gridcolor": "white",
           "linecolor": "white",
           "ticks": "",
           "title": {
            "standoff": 15
           },
           "zerolinecolor": "white",
           "zerolinewidth": 2
          }
         }
        }
       }
      },
      "text/html": [
       "<div>                            <div id=\"57364b1c-489c-43b6-a489-6a8b4de14cc6\" class=\"plotly-graph-div\" style=\"height:525px; width:100%;\"></div>            <script type=\"text/javascript\">                require([\"plotly\"], function(Plotly) {                    window.PLOTLYENV=window.PLOTLYENV || {};                                    if (document.getElementById(\"57364b1c-489c-43b6-a489-6a8b4de14cc6\")) {                    Plotly.newPlot(                        \"57364b1c-489c-43b6-a489-6a8b4de14cc6\",                        [{\"domain\":{\"x\":[0.0,1.0],\"y\":[0.0,1.0]},\"hovertemplate\":\"\\u6d32\\u5225=%{label}<br>\\u7e3d\\u4eba\\u6578=%{value}<extra></extra>\",\"labels\":[\"\\u6b50\\u6d32\",\"\\u6b50\\u6d32\",\"\\u6b50\\u6d32\",\"\\u6b50\\u6d32\",\"\\u6b50\\u6d32\",\"\\u6b50\\u6d32\",\"\\u6b50\\u6d32\",\"\\u6b50\\u6d32\",\"\\u6b50\\u6d32\",\"\\u6b50\\u6d32\",\"\\u6b50\\u6d32\",\"\\u6b50\\u6d32\",\"\\u6b50\\u6d32\",\"\\u6b50\\u6d32\",\"\\u6b50\\u6d32\",\"\\u6b50\\u6d32\",\"\\u6b50\\u6d32\",\"\\u6b50\\u6d32\",\"\\u7f8e\\u6d32\",\"\\u7f8e\\u6d32\",\"\\u7f8e\\u6d32\",\"\\u4e9e\\u6d32\",\"\\u4e9e\\u6d32\",\"\\u4e9e\\u6d32\",\"\\u4e9e\\u6d32\",\"\\u4e9e\\u6d32\",\"\\u4e9e\\u6d32\",\"\\u4e9e\\u6d32\",\"\\u4e9e\\u6d32\",\"\\u4e9e\\u6d32\",\"\\u4e9e\\u6d32\",\"\\u5927\\u6d0b\\u6d32\",\"\\u5927\\u6d0b\\u6d32\"],\"legendgroup\":\"\",\"name\":\"\",\"showlegend\":true,\"values\":[3920,1004,1755,758,456,43,120,307,250,300,36,10,172,24,400,45,7,105,3202,21127,20,9642,242,176,154,513,16,13,19,21,20,16573,1820],\"type\":\"pie\",\"textinfo\":\"percent+label\",\"textposition\":\"inside\"}],                        {\"template\":{\"data\":{\"histogram2dcontour\":[{\"type\":\"histogram2dcontour\",\"colorbar\":{\"outlinewidth\":0,\"ticks\":\"\"},\"colorscale\":[[0.0,\"#0d0887\"],[0.1111111111111111,\"#46039f\"],[0.2222222222222222,\"#7201a8\"],[0.3333333333333333,\"#9c179e\"],[0.4444444444444444,\"#bd3786\"],[0.5555555555555556,\"#d8576b\"],[0.6666666666666666,\"#ed7953\"],[0.7777777777777778,\"#fb9f3a\"],[0.8888888888888888,\"#fdca26\"],[1.0,\"#f0f921\"]]}],\"choropleth\":[{\"type\":\"choropleth\",\"colorbar\":{\"outlinewidth\":0,\"ticks\":\"\"}}],\"histogram2d\":[{\"type\":\"histogram2d\",\"colorbar\":{\"outlinewidth\":0,\"ticks\":\"\"},\"colorscale\":[[0.0,\"#0d0887\"],[0.1111111111111111,\"#46039f\"],[0.2222222222222222,\"#7201a8\"],[0.3333333333333333,\"#9c179e\"],[0.4444444444444444,\"#bd3786\"],[0.5555555555555556,\"#d8576b\"],[0.6666666666666666,\"#ed7953\"],[0.7777777777777778,\"#fb9f3a\"],[0.8888888888888888,\"#fdca26\"],[1.0,\"#f0f921\"]]}],\"heatmap\":[{\"type\":\"heatmap\",\"colorbar\":{\"outlinewidth\":0,\"ticks\":\"\"},\"colorscale\":[[0.0,\"#0d0887\"],[0.1111111111111111,\"#46039f\"],[0.2222222222222222,\"#7201a8\"],[0.3333333333333333,\"#9c179e\"],[0.4444444444444444,\"#bd3786\"],[0.5555555555555556,\"#d8576b\"],[0.6666666666666666,\"#ed7953\"],[0.7777777777777778,\"#fb9f3a\"],[0.8888888888888888,\"#fdca26\"],[1.0,\"#f0f921\"]]}],\"heatmapgl\":[{\"type\":\"heatmapgl\",\"colorbar\":{\"outlinewidth\":0,\"ticks\":\"\"},\"colorscale\":[[0.0,\"#0d0887\"],[0.1111111111111111,\"#46039f\"],[0.2222222222222222,\"#7201a8\"],[0.3333333333333333,\"#9c179e\"],[0.4444444444444444,\"#bd3786\"],[0.5555555555555556,\"#d8576b\"],[0.6666666666666666,\"#ed7953\"],[0.7777777777777778,\"#fb9f3a\"],[0.8888888888888888,\"#fdca26\"],[1.0,\"#f0f921\"]]}],\"contourcarpet\":[{\"type\":\"contourcarpet\",\"colorbar\":{\"outlinewidth\":0,\"ticks\":\"\"}}],\"contour\":[{\"type\":\"contour\",\"colorbar\":{\"outlinewidth\":0,\"ticks\":\"\"},\"colorscale\":[[0.0,\"#0d0887\"],[0.1111111111111111,\"#46039f\"],[0.2222222222222222,\"#7201a8\"],[0.3333333333333333,\"#9c179e\"],[0.4444444444444444,\"#bd3786\"],[0.5555555555555556,\"#d8576b\"],[0.6666666666666666,\"#ed7953\"],[0.7777777777777778,\"#fb9f3a\"],[0.8888888888888888,\"#fdca26\"],[1.0,\"#f0f921\"]]}],\"surface\":[{\"type\":\"surface\",\"colorbar\":{\"outlinewidth\":0,\"ticks\":\"\"},\"colorscale\":[[0.0,\"#0d0887\"],[0.1111111111111111,\"#46039f\"],[0.2222222222222222,\"#7201a8\"],[0.3333333333333333,\"#9c179e\"],[0.4444444444444444,\"#bd3786\"],[0.5555555555555556,\"#d8576b\"],[0.6666666666666666,\"#ed7953\"],[0.7777777777777778,\"#fb9f3a\"],[0.8888888888888888,\"#fdca26\"],[1.0,\"#f0f921\"]]}],\"mesh3d\":[{\"type\":\"mesh3d\",\"colorbar\":{\"outlinewidth\":0,\"ticks\":\"\"}}],\"scatter\":[{\"fillpattern\":{\"fillmode\":\"overlay\",\"size\":10,\"solidity\":0.2},\"type\":\"scatter\"}],\"parcoords\":[{\"type\":\"parcoords\",\"line\":{\"colorbar\":{\"outlinewidth\":0,\"ticks\":\"\"}}}],\"scatterpolargl\":[{\"type\":\"scatterpolargl\",\"marker\":{\"colorbar\":{\"outlinewidth\":0,\"ticks\":\"\"}}}],\"bar\":[{\"error_x\":{\"color\":\"#2a3f5f\"},\"error_y\":{\"color\":\"#2a3f5f\"},\"marker\":{\"line\":{\"color\":\"#E5ECF6\",\"width\":0.5},\"pattern\":{\"fillmode\":\"overlay\",\"size\":10,\"solidity\":0.2}},\"type\":\"bar\"}],\"scattergeo\":[{\"type\":\"scattergeo\",\"marker\":{\"colorbar\":{\"outlinewidth\":0,\"ticks\":\"\"}}}],\"scatterpolar\":[{\"type\":\"scatterpolar\",\"marker\":{\"colorbar\":{\"outlinewidth\":0,\"ticks\":\"\"}}}],\"histogram\":[{\"marker\":{\"pattern\":{\"fillmode\":\"overlay\",\"size\":10,\"solidity\":0.2}},\"type\":\"histogram\"}],\"scattergl\":[{\"type\":\"scattergl\",\"marker\":{\"colorbar\":{\"outlinewidth\":0,\"ticks\":\"\"}}}],\"scatter3d\":[{\"type\":\"scatter3d\",\"line\":{\"colorbar\":{\"outlinewidth\":0,\"ticks\":\"\"}},\"marker\":{\"colorbar\":{\"outlinewidth\":0,\"ticks\":\"\"}}}],\"scattermapbox\":[{\"type\":\"scattermapbox\",\"marker\":{\"colorbar\":{\"outlinewidth\":0,\"ticks\":\"\"}}}],\"scatterternary\":[{\"type\":\"scatterternary\",\"marker\":{\"colorbar\":{\"outlinewidth\":0,\"ticks\":\"\"}}}],\"scattercarpet\":[{\"type\":\"scattercarpet\",\"marker\":{\"colorbar\":{\"outlinewidth\":0,\"ticks\":\"\"}}}],\"carpet\":[{\"aaxis\":{\"endlinecolor\":\"#2a3f5f\",\"gridcolor\":\"white\",\"linecolor\":\"white\",\"minorgridcolor\":\"white\",\"startlinecolor\":\"#2a3f5f\"},\"baxis\":{\"endlinecolor\":\"#2a3f5f\",\"gridcolor\":\"white\",\"linecolor\":\"white\",\"minorgridcolor\":\"white\",\"startlinecolor\":\"#2a3f5f\"},\"type\":\"carpet\"}],\"table\":[{\"cells\":{\"fill\":{\"color\":\"#EBF0F8\"},\"line\":{\"color\":\"white\"}},\"header\":{\"fill\":{\"color\":\"#C8D4E3\"},\"line\":{\"color\":\"white\"}},\"type\":\"table\"}],\"barpolar\":[{\"marker\":{\"line\":{\"color\":\"#E5ECF6\",\"width\":0.5},\"pattern\":{\"fillmode\":\"overlay\",\"size\":10,\"solidity\":0.2}},\"type\":\"barpolar\"}],\"pie\":[{\"automargin\":true,\"type\":\"pie\"}]},\"layout\":{\"autotypenumbers\":\"strict\",\"colorway\":[\"#636efa\",\"#EF553B\",\"#00cc96\",\"#ab63fa\",\"#FFA15A\",\"#19d3f3\",\"#FF6692\",\"#B6E880\",\"#FF97FF\",\"#FECB52\"],\"font\":{\"color\":\"#2a3f5f\"},\"hovermode\":\"closest\",\"hoverlabel\":{\"align\":\"left\"},\"paper_bgcolor\":\"white\",\"plot_bgcolor\":\"#E5ECF6\",\"polar\":{\"bgcolor\":\"#E5ECF6\",\"angularaxis\":{\"gridcolor\":\"white\",\"linecolor\":\"white\",\"ticks\":\"\"},\"radialaxis\":{\"gridcolor\":\"white\",\"linecolor\":\"white\",\"ticks\":\"\"}},\"ternary\":{\"bgcolor\":\"#E5ECF6\",\"aaxis\":{\"gridcolor\":\"white\",\"linecolor\":\"white\",\"ticks\":\"\"},\"baxis\":{\"gridcolor\":\"white\",\"linecolor\":\"white\",\"ticks\":\"\"},\"caxis\":{\"gridcolor\":\"white\",\"linecolor\":\"white\",\"ticks\":\"\"}},\"coloraxis\":{\"colorbar\":{\"outlinewidth\":0,\"ticks\":\"\"}},\"colorscale\":{\"sequential\":[[0.0,\"#0d0887\"],[0.1111111111111111,\"#46039f\"],[0.2222222222222222,\"#7201a8\"],[0.3333333333333333,\"#9c179e\"],[0.4444444444444444,\"#bd3786\"],[0.5555555555555556,\"#d8576b\"],[0.6666666666666666,\"#ed7953\"],[0.7777777777777778,\"#fb9f3a\"],[0.8888888888888888,\"#fdca26\"],[1.0,\"#f0f921\"]],\"sequentialminus\":[[0.0,\"#0d0887\"],[0.1111111111111111,\"#46039f\"],[0.2222222222222222,\"#7201a8\"],[0.3333333333333333,\"#9c179e\"],[0.4444444444444444,\"#bd3786\"],[0.5555555555555556,\"#d8576b\"],[0.6666666666666666,\"#ed7953\"],[0.7777777777777778,\"#fb9f3a\"],[0.8888888888888888,\"#fdca26\"],[1.0,\"#f0f921\"]],\"diverging\":[[0,\"#8e0152\"],[0.1,\"#c51b7d\"],[0.2,\"#de77ae\"],[0.3,\"#f1b6da\"],[0.4,\"#fde0ef\"],[0.5,\"#f7f7f7\"],[0.6,\"#e6f5d0\"],[0.7,\"#b8e186\"],[0.8,\"#7fbc41\"],[0.9,\"#4d9221\"],[1,\"#276419\"]]},\"xaxis\":{\"gridcolor\":\"white\",\"linecolor\":\"white\",\"ticks\":\"\",\"title\":{\"standoff\":15},\"zerolinecolor\":\"white\",\"automargin\":true,\"zerolinewidth\":2},\"yaxis\":{\"gridcolor\":\"white\",\"linecolor\":\"white\",\"ticks\":\"\",\"title\":{\"standoff\":15},\"zerolinecolor\":\"white\",\"automargin\":true,\"zerolinewidth\":2},\"scene\":{\"xaxis\":{\"backgroundcolor\":\"#E5ECF6\",\"gridcolor\":\"white\",\"linecolor\":\"white\",\"showbackground\":true,\"ticks\":\"\",\"zerolinecolor\":\"white\",\"gridwidth\":2},\"yaxis\":{\"backgroundcolor\":\"#E5ECF6\",\"gridcolor\":\"white\",\"linecolor\":\"white\",\"showbackground\":true,\"ticks\":\"\",\"zerolinecolor\":\"white\",\"gridwidth\":2},\"zaxis\":{\"backgroundcolor\":\"#E5ECF6\",\"gridcolor\":\"white\",\"linecolor\":\"white\",\"showbackground\":true,\"ticks\":\"\",\"zerolinecolor\":\"white\",\"gridwidth\":2}},\"shapedefaults\":{\"line\":{\"color\":\"#2a3f5f\"}},\"annotationdefaults\":{\"arrowcolor\":\"#2a3f5f\",\"arrowhead\":0,\"arrowwidth\":1},\"geo\":{\"bgcolor\":\"white\",\"landcolor\":\"#E5ECF6\",\"subunitcolor\":\"white\",\"showland\":true,\"showlakes\":true,\"lakecolor\":\"white\"},\"title\":{\"x\":0.05},\"mapbox\":{\"style\":\"light\"}}},\"legend\":{\"tracegroupgap\":0},\"margin\":{\"t\":60}},                        {\"responsive\": true}                    ).then(function(){\n",
       "                            \n",
       "var gd = document.getElementById('57364b1c-489c-43b6-a489-6a8b4de14cc6');\n",
       "var x = new MutationObserver(function (mutations, observer) {{\n",
       "        var display = window.getComputedStyle(gd).display;\n",
       "        if (!display || display === 'none') {{\n",
       "            console.log([gd, 'removed!']);\n",
       "            Plotly.purge(gd);\n",
       "            observer.disconnect();\n",
       "        }}\n",
       "}});\n",
       "\n",
       "// Listen for the removal of the full notebook cells\n",
       "var notebookContainer = gd.closest('#notebook-container');\n",
       "if (notebookContainer) {{\n",
       "    x.observe(notebookContainer, {childList: true});\n",
       "}}\n",
       "\n",
       "// Listen for the clearing of the current output cell\n",
       "var outputEl = gd.closest('.output');\n",
       "if (outputEl) {{\n",
       "    x.observe(outputEl, {childList: true});\n",
       "}}\n",
       "\n",
       "                        })                };                });            </script>        </div>"
      ]
     },
     "metadata": {},
     "output_type": "display_data"
    }
   ],
   "source": [
    "import plotly.express as px\n",
    "import plotly.io as pio\n",
    "import plotly.graph_objects as go\n",
    "import pandas as pd\n",
    "good106 = good.query('年度 == 106')\n",
    "fig = px.pie(good106,values='總人數',names='洲別')\n",
    "fig.update_traces(textposition='inside', \n",
    "                  textinfo='percent+label')\n",
    "# fig.write_image('./images/px/04-pie-1.png')\n",
    "fig.show()"
   ]
  },
  {
   "cell_type": "code",
   "execution_count": 120,
   "id": "c62c157d",
   "metadata": {},
   "outputs": [
    {
     "data": {
      "application/vnd.plotly.v1+json": {
       "config": {
        "plotlyServerURL": "https://plot.ly"
       },
       "data": [
        {
         "geo": "geo",
         "hovertemplate": "<b>%{hovertext}</b><br><br>洲別=歐洲<br>總人數=%{marker.size}<br>iso_alpha=%{location}<extra></extra>",
         "hovertext": [
          "英國",
          "德國",
          "波蘭",
          "奧地利",
          "俄羅斯",
          "丹麥",
          "比利時",
          "荷蘭",
          "芬蘭",
          "挪威",
          "瑞典",
          "冰島",
          "英國",
          "法國",
          "德國",
          "波蘭",
          "奧地利",
          "捷克",
          "比利時",
          "瑞士",
          "義大利",
          "西班牙",
          "土耳其",
          "愛爾蘭",
          "俄羅斯",
          "丹麥",
          "荷蘭",
          "芬蘭",
          "挪威",
          "瑞典",
          "英國",
          "法國",
          "德國",
          "波蘭",
          "奧地利",
          "捷克",
          "荷蘭",
          "比利時",
          "匈牙利",
          "土耳其",
          "愛爾蘭",
          "俄羅斯",
          "丹麥",
          "芬蘭",
          "挪威",
          "瑞典",
          "英國",
          "法國",
          "德國",
          "波蘭",
          "奧地利",
          "西班牙",
          "義大利",
          "荷蘭",
          "比利時",
          "匈牙利",
          "愛爾蘭",
          "俄羅斯",
          "丹麥",
          "芬蘭",
          "挪威",
          "瑞典",
          "冰島",
          "英國",
          "法國",
          "德國",
          "波蘭",
          "奧地利",
          "西班牙",
          "義大利",
          "荷蘭",
          "比利時",
          "匈牙利",
          "愛爾蘭",
          "俄羅斯",
          "烏克蘭",
          "丹麥",
          "芬蘭",
          "挪威",
          "瑞典",
          "冰島",
          "立陶宛",
          "拉脫維亞",
          "愛沙尼亞",
          "斯洛伐克"
         ],
         "legendgroup": "歐洲",
         "locations": [
          "GBR",
          "DEU",
          "POL",
          "AUT",
          "RUS",
          "DNK",
          "BEL",
          "NLD",
          "FIN",
          "NOR",
          "SWE",
          "ISL",
          "GBR",
          "FRA",
          "DEU",
          "POL",
          "AUT",
          "CZE",
          "BEL",
          "CHE",
          "ITA",
          "ESP",
          "TUR",
          "IRL",
          "RUS",
          "DNK",
          "NLD",
          "FIN",
          "NOR",
          "SWE",
          "GBR",
          "FRA",
          "DEU",
          "POL",
          "AUT",
          "CZE",
          "NLD",
          "BEL",
          "HUN",
          "TUR",
          "IRL",
          "RUS",
          "DNK",
          "FIN",
          "NOR",
          "SWE",
          "GBR",
          "FRA",
          "DEU",
          "POL",
          "AUT",
          "ESP",
          "ITA",
          "NLD",
          "BEL",
          "HUN",
          "IRL",
          "RUS",
          "DNK",
          "FIN",
          "NOR",
          "SWE",
          "ISL",
          "GBR",
          "FRA",
          "DEU",
          "POL",
          "AUT",
          "ESP",
          "ITA",
          "NLD",
          "BEL",
          "HUN",
          "IRL",
          "RUS",
          "UKR",
          "DNK",
          "FIN",
          "NOR",
          "SWE",
          "ISL",
          "LTU",
          "LVA",
          "EST",
          "SVK"
         ],
         "marker": {
          "color": "#636efa",
          "size": [
           3815,
           1488,
           561,
           419,
           181,
           33,
           120,
           400,
           37,
           20,
           113,
           2,
           3920,
           1004,
           1755,
           758,
           456,
           43,
           120,
           307,
           250,
           300,
           36,
           10,
           172,
           24,
           400,
           45,
           7,
           105,
           3775,
           1079,
           2013,
           758,
           400,
           26,
           408,
           156,
           53,
           30,
           18,
           146,
           16,
           71,
           20,
           133,
           3850,
           648,
           2390,
           853,
           413,
           450,
           197,
           353,
           232,
           147,
           21,
           160,
           23,
           46,
           12,
           160,
           2,
           4045,
           668,
           3155,
           1007,
           428,
           350,
           212,
           504,
           178,
           160,
           21,
           71,
           10,
           22,
           37,
           14,
           137,
           0,
           16,
           17,
           8,
           1
          ],
          "sizemode": "area",
          "sizeref": 59.31,
          "symbol": "circle"
         },
         "mode": "markers",
         "name": "歐洲",
         "showlegend": true,
         "type": "scattergeo"
        },
        {
         "geo": "geo",
         "hovertemplate": "<b>%{hovertext}</b><br><br>洲別=美洲<br>總人數=%{marker.size}<br>iso_alpha=%{location}<extra></extra>",
         "hovertext": [
          "加拿大",
          "美國",
          "加拿大",
          "美國",
          "巴拿馬",
          "加拿大",
          "美國",
          "智利",
          "哥倫比亞",
          "聖露西亞",
          "聖克里斯多福及尼維斯",
          "加拿大",
          "美國",
          "智利",
          "哥倫比亞",
          "聖露西亞",
          "聖克里斯多福及尼維斯",
          "加拿大",
          "美國",
          "智利",
          "哥倫比亞",
          "聖露西亞",
          "宏都拉斯",
          "聖克里斯多福及尼維斯"
         ],
         "legendgroup": "美洲",
         "locations": [
          "CAN",
          "USA",
          "CAN",
          "USA",
          "PAN",
          "CAN",
          "USA",
          "CHL",
          "COL",
          "LCA",
          "KNA",
          "CAN",
          "USA",
          "CHL",
          "COL",
          "LCA",
          "KNA",
          "CAN",
          "USA",
          "CHL",
          "COL",
          "LCA",
          "HND",
          "KNA"
         ],
         "marker": {
          "color": "#EF553B",
          "size": [
           4827,
           21127,
           3202,
           21127,
           20,
           5330,
           21516,
           1,
           1,
           7,
           1,
           4390,
           23369,
           1,
           5,
           3,
           3,
           5123,
           23724,
           1,
           1,
           2,
           4,
           6
          ],
          "sizemode": "area",
          "sizeref": 59.31,
          "symbol": "circle"
         },
         "mode": "markers",
         "name": "美洲",
         "showlegend": true,
         "type": "scattergeo"
        },
        {
         "geo": "geo",
         "hovertemplate": "<b>%{hovertext}</b><br><br>洲別=大洋洲<br>總人數=%{marker.size}<br>iso_alpha=%{location}<extra></extra>",
         "hovertext": [
          "澳大利亞",
          "紐西蘭",
          "澳大利亞",
          "紐西蘭",
          "澳大利亞",
          "紐西蘭",
          "澳大利亞",
          "紐西蘭",
          "澳大利亞",
          "紐西蘭",
          "斐濟",
          "帛琉"
         ],
         "legendgroup": "大洋洲",
         "locations": [
          "AUS",
          "NZL",
          "AUS",
          "NZL",
          "AUS",
          "NZL",
          "AUS",
          "NZL",
          "AUS",
          "NZL",
          "FJI",
          "PLW"
         ],
         "marker": {
          "color": "#00cc96",
          "size": [
           13582,
           1106,
           16573,
           1820,
           18227,
           2070,
           18791,
           1890,
           18439,
           1300,
           1,
           10
          ],
          "sizemode": "area",
          "sizeref": 59.31,
          "symbol": "circle"
         },
         "mode": "markers",
         "name": "大洋洲",
         "showlegend": true,
         "type": "scattergeo"
        },
        {
         "geo": "geo",
         "hovertemplate": "<b>%{hovertext}</b><br><br>洲別=亞洲<br>總人數=%{marker.size}<br>iso_alpha=%{location}<extra></extra>",
         "hovertext": [
          "日本",
          "韓國",
          "泰國",
          "新加坡",
          "馬來西亞",
          "印尼",
          "菲律賓",
          "印度",
          "越南",
          "汶萊",
          "斯里蘭卡",
          "尼泊爾",
          "孟加拉",
          "日本",
          "韓國",
          "泰國",
          "越南",
          "馬來西亞",
          "印尼",
          "印度",
          "以色列",
          "阿拉伯聯合大公國(杜拜地區)",
          "約旦",
          "日本",
          "韓國",
          "泰國",
          "越南",
          "馬來西亞",
          "印尼",
          "印度",
          "緬甸",
          "新加坡",
          "科威特",
          "以色列",
          "沙烏地阿拉伯",
          "阿拉伯聯合大公國(杜拜地區)",
          "巴林",
          "日本",
          "韓國",
          "泰國",
          "越南",
          "馬來西亞",
          "印尼",
          "印度",
          "土耳其",
          "菲律賓",
          "新加坡",
          "科威特",
          "以色列",
          "沙烏地阿拉伯",
          "阿拉伯聯合大公國(杜拜地區)",
          "巴林",
          "日本",
          "韓國",
          "泰國",
          "越南",
          "馬來西亞",
          "印尼",
          "印度",
          "土耳其",
          "菲律賓",
          "新加坡",
          "阿曼",
          "蒙古",
          "約旦"
         ],
         "legendgroup": "亞洲",
         "locations": [
          "JPN",
          "KOR",
          "THA",
          "SGP",
          "MYS",
          "IDN",
          "PHL",
          "IND",
          "VNM",
          "BRN",
          "LKA",
          "NPL",
          "BGD",
          "JPN",
          "KOR",
          "THA",
          "VNM",
          "MYS",
          "IDN",
          "IND",
          "ISR",
          "ARE",
          "JOR",
          "JPN",
          "KOR",
          "THA",
          "VNM",
          "MYS",
          "IDN",
          "IND",
          "MMR",
          "SGP",
          "KWT",
          "ISR",
          "SAU",
          "ARE",
          "BHR",
          "JPN",
          "KOR",
          "THA",
          "VNM",
          "MYS",
          "IDN",
          "IND",
          "TUR",
          "PHL",
          "SGP",
          "KWT",
          "ISR",
          "SAU",
          "ARE",
          "BHR",
          "JPN",
          "KOR",
          "THA",
          "VNM",
          "MYS",
          "IDN",
          "IND",
          "TUR",
          "PHL",
          "SGP",
          "OMN",
          "MNG",
          "JOR"
         ],
         "marker": {
          "color": "#ab63fa",
          "size": [
           8444,
           265,
           217,
           9,
           502,
           210,
           64,
           15,
           364,
           19,
           14,
           1,
           1,
           9642,
           242,
           176,
           154,
           513,
           16,
           13,
           19,
           21,
           20,
           10347,
           123,
           199,
           60,
           498,
           25,
           18,
           1,
           2,
           9,
           29,
           22,
           4,
           1,
           9524,
           2162,
           305,
           74,
           501,
           25,
           23,
           20,
           101,
           8,
           10,
           34,
           20,
           4,
           1,
           9584,
           1382,
           291,
           0,
           346,
           48,
           20,
           28,
           66,
           41,
           1,
           1,
           6
          ],
          "sizemode": "area",
          "sizeref": 59.31,
          "symbol": "circle"
         },
         "mode": "markers",
         "name": "亞洲",
         "showlegend": true,
         "type": "scattergeo"
        },
        {
         "geo": "geo",
         "hovertemplate": "<b>%{hovertext}</b><br><br>洲別=非洲<br>總人數=%{marker.size}<br>iso_alpha=%{location}<extra></extra>",
         "hovertext": [
          "奈及利亞"
         ],
         "legendgroup": "非洲",
         "locations": [
          "NGA"
         ],
         "marker": {
          "color": "#FFA15A",
          "size": [
           2
          ],
          "sizemode": "area",
          "sizeref": 59.31,
          "symbol": "circle"
         },
         "mode": "markers",
         "name": "非洲",
         "showlegend": true,
         "type": "scattergeo"
        }
       ],
       "layout": {
        "geo": {
         "center": {},
         "domain": {
          "x": [
           0,
           1
          ],
          "y": [
           0,
           1
          ]
         }
        },
        "legend": {
         "itemsizing": "constant",
         "title": {
          "text": "洲別"
         },
         "tracegroupgap": 0
        },
        "margin": {
         "t": 60
        },
        "template": {
         "data": {
          "bar": [
           {
            "error_x": {
             "color": "#2a3f5f"
            },
            "error_y": {
             "color": "#2a3f5f"
            },
            "marker": {
             "line": {
              "color": "#E5ECF6",
              "width": 0.5
             },
             "pattern": {
              "fillmode": "overlay",
              "size": 10,
              "solidity": 0.2
             }
            },
            "type": "bar"
           }
          ],
          "barpolar": [
           {
            "marker": {
             "line": {
              "color": "#E5ECF6",
              "width": 0.5
             },
             "pattern": {
              "fillmode": "overlay",
              "size": 10,
              "solidity": 0.2
             }
            },
            "type": "barpolar"
           }
          ],
          "carpet": [
           {
            "aaxis": {
             "endlinecolor": "#2a3f5f",
             "gridcolor": "white",
             "linecolor": "white",
             "minorgridcolor": "white",
             "startlinecolor": "#2a3f5f"
            },
            "baxis": {
             "endlinecolor": "#2a3f5f",
             "gridcolor": "white",
             "linecolor": "white",
             "minorgridcolor": "white",
             "startlinecolor": "#2a3f5f"
            },
            "type": "carpet"
           }
          ],
          "choropleth": [
           {
            "colorbar": {
             "outlinewidth": 0,
             "ticks": ""
            },
            "type": "choropleth"
           }
          ],
          "contour": [
           {
            "colorbar": {
             "outlinewidth": 0,
             "ticks": ""
            },
            "colorscale": [
             [
              0,
              "#0d0887"
             ],
             [
              0.1111111111111111,
              "#46039f"
             ],
             [
              0.2222222222222222,
              "#7201a8"
             ],
             [
              0.3333333333333333,
              "#9c179e"
             ],
             [
              0.4444444444444444,
              "#bd3786"
             ],
             [
              0.5555555555555556,
              "#d8576b"
             ],
             [
              0.6666666666666666,
              "#ed7953"
             ],
             [
              0.7777777777777778,
              "#fb9f3a"
             ],
             [
              0.8888888888888888,
              "#fdca26"
             ],
             [
              1,
              "#f0f921"
             ]
            ],
            "type": "contour"
           }
          ],
          "contourcarpet": [
           {
            "colorbar": {
             "outlinewidth": 0,
             "ticks": ""
            },
            "type": "contourcarpet"
           }
          ],
          "heatmap": [
           {
            "colorbar": {
             "outlinewidth": 0,
             "ticks": ""
            },
            "colorscale": [
             [
              0,
              "#0d0887"
             ],
             [
              0.1111111111111111,
              "#46039f"
             ],
             [
              0.2222222222222222,
              "#7201a8"
             ],
             [
              0.3333333333333333,
              "#9c179e"
             ],
             [
              0.4444444444444444,
              "#bd3786"
             ],
             [
              0.5555555555555556,
              "#d8576b"
             ],
             [
              0.6666666666666666,
              "#ed7953"
             ],
             [
              0.7777777777777778,
              "#fb9f3a"
             ],
             [
              0.8888888888888888,
              "#fdca26"
             ],
             [
              1,
              "#f0f921"
             ]
            ],
            "type": "heatmap"
           }
          ],
          "heatmapgl": [
           {
            "colorbar": {
             "outlinewidth": 0,
             "ticks": ""
            },
            "colorscale": [
             [
              0,
              "#0d0887"
             ],
             [
              0.1111111111111111,
              "#46039f"
             ],
             [
              0.2222222222222222,
              "#7201a8"
             ],
             [
              0.3333333333333333,
              "#9c179e"
             ],
             [
              0.4444444444444444,
              "#bd3786"
             ],
             [
              0.5555555555555556,
              "#d8576b"
             ],
             [
              0.6666666666666666,
              "#ed7953"
             ],
             [
              0.7777777777777778,
              "#fb9f3a"
             ],
             [
              0.8888888888888888,
              "#fdca26"
             ],
             [
              1,
              "#f0f921"
             ]
            ],
            "type": "heatmapgl"
           }
          ],
          "histogram": [
           {
            "marker": {
             "pattern": {
              "fillmode": "overlay",
              "size": 10,
              "solidity": 0.2
             }
            },
            "type": "histogram"
           }
          ],
          "histogram2d": [
           {
            "colorbar": {
             "outlinewidth": 0,
             "ticks": ""
            },
            "colorscale": [
             [
              0,
              "#0d0887"
             ],
             [
              0.1111111111111111,
              "#46039f"
             ],
             [
              0.2222222222222222,
              "#7201a8"
             ],
             [
              0.3333333333333333,
              "#9c179e"
             ],
             [
              0.4444444444444444,
              "#bd3786"
             ],
             [
              0.5555555555555556,
              "#d8576b"
             ],
             [
              0.6666666666666666,
              "#ed7953"
             ],
             [
              0.7777777777777778,
              "#fb9f3a"
             ],
             [
              0.8888888888888888,
              "#fdca26"
             ],
             [
              1,
              "#f0f921"
             ]
            ],
            "type": "histogram2d"
           }
          ],
          "histogram2dcontour": [
           {
            "colorbar": {
             "outlinewidth": 0,
             "ticks": ""
            },
            "colorscale": [
             [
              0,
              "#0d0887"
             ],
             [
              0.1111111111111111,
              "#46039f"
             ],
             [
              0.2222222222222222,
              "#7201a8"
             ],
             [
              0.3333333333333333,
              "#9c179e"
             ],
             [
              0.4444444444444444,
              "#bd3786"
             ],
             [
              0.5555555555555556,
              "#d8576b"
             ],
             [
              0.6666666666666666,
              "#ed7953"
             ],
             [
              0.7777777777777778,
              "#fb9f3a"
             ],
             [
              0.8888888888888888,
              "#fdca26"
             ],
             [
              1,
              "#f0f921"
             ]
            ],
            "type": "histogram2dcontour"
           }
          ],
          "mesh3d": [
           {
            "colorbar": {
             "outlinewidth": 0,
             "ticks": ""
            },
            "type": "mesh3d"
           }
          ],
          "parcoords": [
           {
            "line": {
             "colorbar": {
              "outlinewidth": 0,
              "ticks": ""
             }
            },
            "type": "parcoords"
           }
          ],
          "pie": [
           {
            "automargin": true,
            "type": "pie"
           }
          ],
          "scatter": [
           {
            "fillpattern": {
             "fillmode": "overlay",
             "size": 10,
             "solidity": 0.2
            },
            "type": "scatter"
           }
          ],
          "scatter3d": [
           {
            "line": {
             "colorbar": {
              "outlinewidth": 0,
              "ticks": ""
             }
            },
            "marker": {
             "colorbar": {
              "outlinewidth": 0,
              "ticks": ""
             }
            },
            "type": "scatter3d"
           }
          ],
          "scattercarpet": [
           {
            "marker": {
             "colorbar": {
              "outlinewidth": 0,
              "ticks": ""
             }
            },
            "type": "scattercarpet"
           }
          ],
          "scattergeo": [
           {
            "marker": {
             "colorbar": {
              "outlinewidth": 0,
              "ticks": ""
             }
            },
            "type": "scattergeo"
           }
          ],
          "scattergl": [
           {
            "marker": {
             "colorbar": {
              "outlinewidth": 0,
              "ticks": ""
             }
            },
            "type": "scattergl"
           }
          ],
          "scattermapbox": [
           {
            "marker": {
             "colorbar": {
              "outlinewidth": 0,
              "ticks": ""
             }
            },
            "type": "scattermapbox"
           }
          ],
          "scatterpolar": [
           {
            "marker": {
             "colorbar": {
              "outlinewidth": 0,
              "ticks": ""
             }
            },
            "type": "scatterpolar"
           }
          ],
          "scatterpolargl": [
           {
            "marker": {
             "colorbar": {
              "outlinewidth": 0,
              "ticks": ""
             }
            },
            "type": "scatterpolargl"
           }
          ],
          "scatterternary": [
           {
            "marker": {
             "colorbar": {
              "outlinewidth": 0,
              "ticks": ""
             }
            },
            "type": "scatterternary"
           }
          ],
          "surface": [
           {
            "colorbar": {
             "outlinewidth": 0,
             "ticks": ""
            },
            "colorscale": [
             [
              0,
              "#0d0887"
             ],
             [
              0.1111111111111111,
              "#46039f"
             ],
             [
              0.2222222222222222,
              "#7201a8"
             ],
             [
              0.3333333333333333,
              "#9c179e"
             ],
             [
              0.4444444444444444,
              "#bd3786"
             ],
             [
              0.5555555555555556,
              "#d8576b"
             ],
             [
              0.6666666666666666,
              "#ed7953"
             ],
             [
              0.7777777777777778,
              "#fb9f3a"
             ],
             [
              0.8888888888888888,
              "#fdca26"
             ],
             [
              1,
              "#f0f921"
             ]
            ],
            "type": "surface"
           }
          ],
          "table": [
           {
            "cells": {
             "fill": {
              "color": "#EBF0F8"
             },
             "line": {
              "color": "white"
             }
            },
            "header": {
             "fill": {
              "color": "#C8D4E3"
             },
             "line": {
              "color": "white"
             }
            },
            "type": "table"
           }
          ]
         },
         "layout": {
          "annotationdefaults": {
           "arrowcolor": "#2a3f5f",
           "arrowhead": 0,
           "arrowwidth": 1
          },
          "autotypenumbers": "strict",
          "coloraxis": {
           "colorbar": {
            "outlinewidth": 0,
            "ticks": ""
           }
          },
          "colorscale": {
           "diverging": [
            [
             0,
             "#8e0152"
            ],
            [
             0.1,
             "#c51b7d"
            ],
            [
             0.2,
             "#de77ae"
            ],
            [
             0.3,
             "#f1b6da"
            ],
            [
             0.4,
             "#fde0ef"
            ],
            [
             0.5,
             "#f7f7f7"
            ],
            [
             0.6,
             "#e6f5d0"
            ],
            [
             0.7,
             "#b8e186"
            ],
            [
             0.8,
             "#7fbc41"
            ],
            [
             0.9,
             "#4d9221"
            ],
            [
             1,
             "#276419"
            ]
           ],
           "sequential": [
            [
             0,
             "#0d0887"
            ],
            [
             0.1111111111111111,
             "#46039f"
            ],
            [
             0.2222222222222222,
             "#7201a8"
            ],
            [
             0.3333333333333333,
             "#9c179e"
            ],
            [
             0.4444444444444444,
             "#bd3786"
            ],
            [
             0.5555555555555556,
             "#d8576b"
            ],
            [
             0.6666666666666666,
             "#ed7953"
            ],
            [
             0.7777777777777778,
             "#fb9f3a"
            ],
            [
             0.8888888888888888,
             "#fdca26"
            ],
            [
             1,
             "#f0f921"
            ]
           ],
           "sequentialminus": [
            [
             0,
             "#0d0887"
            ],
            [
             0.1111111111111111,
             "#46039f"
            ],
            [
             0.2222222222222222,
             "#7201a8"
            ],
            [
             0.3333333333333333,
             "#9c179e"
            ],
            [
             0.4444444444444444,
             "#bd3786"
            ],
            [
             0.5555555555555556,
             "#d8576b"
            ],
            [
             0.6666666666666666,
             "#ed7953"
            ],
            [
             0.7777777777777778,
             "#fb9f3a"
            ],
            [
             0.8888888888888888,
             "#fdca26"
            ],
            [
             1,
             "#f0f921"
            ]
           ]
          },
          "colorway": [
           "#636efa",
           "#EF553B",
           "#00cc96",
           "#ab63fa",
           "#FFA15A",
           "#19d3f3",
           "#FF6692",
           "#B6E880",
           "#FF97FF",
           "#FECB52"
          ],
          "font": {
           "color": "#2a3f5f"
          },
          "geo": {
           "bgcolor": "white",
           "lakecolor": "white",
           "landcolor": "#E5ECF6",
           "showlakes": true,
           "showland": true,
           "subunitcolor": "white"
          },
          "hoverlabel": {
           "align": "left"
          },
          "hovermode": "closest",
          "mapbox": {
           "style": "light"
          },
          "paper_bgcolor": "white",
          "plot_bgcolor": "#E5ECF6",
          "polar": {
           "angularaxis": {
            "gridcolor": "white",
            "linecolor": "white",
            "ticks": ""
           },
           "bgcolor": "#E5ECF6",
           "radialaxis": {
            "gridcolor": "white",
            "linecolor": "white",
            "ticks": ""
           }
          },
          "scene": {
           "xaxis": {
            "backgroundcolor": "#E5ECF6",
            "gridcolor": "white",
            "gridwidth": 2,
            "linecolor": "white",
            "showbackground": true,
            "ticks": "",
            "zerolinecolor": "white"
           },
           "yaxis": {
            "backgroundcolor": "#E5ECF6",
            "gridcolor": "white",
            "gridwidth": 2,
            "linecolor": "white",
            "showbackground": true,
            "ticks": "",
            "zerolinecolor": "white"
           },
           "zaxis": {
            "backgroundcolor": "#E5ECF6",
            "gridcolor": "white",
            "gridwidth": 2,
            "linecolor": "white",
            "showbackground": true,
            "ticks": "",
            "zerolinecolor": "white"
           }
          },
          "shapedefaults": {
           "line": {
            "color": "#2a3f5f"
           }
          },
          "ternary": {
           "aaxis": {
            "gridcolor": "white",
            "linecolor": "white",
            "ticks": ""
           },
           "baxis": {
            "gridcolor": "white",
            "linecolor": "white",
            "ticks": ""
           },
           "bgcolor": "#E5ECF6",
           "caxis": {
            "gridcolor": "white",
            "linecolor": "white",
            "ticks": ""
           }
          },
          "title": {
           "x": 0.05
          },
          "xaxis": {
           "automargin": true,
           "gridcolor": "white",
           "linecolor": "white",
           "ticks": "",
           "title": {
            "standoff": 15
           },
           "zerolinecolor": "white",
           "zerolinewidth": 2
          },
          "yaxis": {
           "automargin": true,
           "gridcolor": "white",
           "linecolor": "white",
           "ticks": "",
           "title": {
            "standoff": 15
           },
           "zerolinecolor": "white",
           "zerolinewidth": 2
          }
         }
        }
       }
      },
      "text/html": [
       "<div>                            <div id=\"db93ff87-f649-419a-b37a-a5b22edefef1\" class=\"plotly-graph-div\" style=\"height:525px; width:100%;\"></div>            <script type=\"text/javascript\">                require([\"plotly\"], function(Plotly) {                    window.PLOTLYENV=window.PLOTLYENV || {};                                    if (document.getElementById(\"db93ff87-f649-419a-b37a-a5b22edefef1\")) {                    Plotly.newPlot(                        \"db93ff87-f649-419a-b37a-a5b22edefef1\",                        [{\"geo\":\"geo\",\"hovertemplate\":\"<b>%{hovertext}</b><br><br>\\u6d32\\u5225=\\u6b50\\u6d32<br>\\u7e3d\\u4eba\\u6578=%{marker.size}<br>iso_alpha=%{location}<extra></extra>\",\"hovertext\":[\"\\u82f1\\u570b\",\"\\u5fb7\\u570b\",\"\\u6ce2\\u862d\",\"\\u5967\\u5730\\u5229\",\"\\u4fc4\\u7f85\\u65af\",\"\\u4e39\\u9ea5\",\"\\u6bd4\\u5229\\u6642\",\"\\u8377\\u862d\",\"\\u82ac\\u862d\",\"\\u632a\\u5a01\",\"\\u745e\\u5178\",\"\\u51b0\\u5cf6\",\"\\u82f1\\u570b\",\"\\u6cd5\\u570b\",\"\\u5fb7\\u570b\",\"\\u6ce2\\u862d\",\"\\u5967\\u5730\\u5229\",\"\\u6377\\u514b\",\"\\u6bd4\\u5229\\u6642\",\"\\u745e\\u58eb\",\"\\u7fa9\\u5927\\u5229\",\"\\u897f\\u73ed\\u7259\",\"\\u571f\\u8033\\u5176\",\"\\u611b\\u723e\\u862d\",\"\\u4fc4\\u7f85\\u65af\",\"\\u4e39\\u9ea5\",\"\\u8377\\u862d\",\"\\u82ac\\u862d\",\"\\u632a\\u5a01\",\"\\u745e\\u5178\",\"\\u82f1\\u570b\",\"\\u6cd5\\u570b\",\"\\u5fb7\\u570b\",\"\\u6ce2\\u862d\",\"\\u5967\\u5730\\u5229\",\"\\u6377\\u514b\",\"\\u8377\\u862d\",\"\\u6bd4\\u5229\\u6642\",\"\\u5308\\u7259\\u5229\",\"\\u571f\\u8033\\u5176\",\"\\u611b\\u723e\\u862d\",\"\\u4fc4\\u7f85\\u65af\",\"\\u4e39\\u9ea5\",\"\\u82ac\\u862d\",\"\\u632a\\u5a01\",\"\\u745e\\u5178\",\"\\u82f1\\u570b\",\"\\u6cd5\\u570b\",\"\\u5fb7\\u570b\",\"\\u6ce2\\u862d\",\"\\u5967\\u5730\\u5229\",\"\\u897f\\u73ed\\u7259\",\"\\u7fa9\\u5927\\u5229\",\"\\u8377\\u862d\",\"\\u6bd4\\u5229\\u6642\",\"\\u5308\\u7259\\u5229\",\"\\u611b\\u723e\\u862d\",\"\\u4fc4\\u7f85\\u65af\",\"\\u4e39\\u9ea5\",\"\\u82ac\\u862d\",\"\\u632a\\u5a01\",\"\\u745e\\u5178\",\"\\u51b0\\u5cf6\",\"\\u82f1\\u570b\",\"\\u6cd5\\u570b\",\"\\u5fb7\\u570b\",\"\\u6ce2\\u862d\",\"\\u5967\\u5730\\u5229\",\"\\u897f\\u73ed\\u7259\",\"\\u7fa9\\u5927\\u5229\",\"\\u8377\\u862d\",\"\\u6bd4\\u5229\\u6642\",\"\\u5308\\u7259\\u5229\",\"\\u611b\\u723e\\u862d\",\"\\u4fc4\\u7f85\\u65af\",\"\\u70cf\\u514b\\u862d\",\"\\u4e39\\u9ea5\",\"\\u82ac\\u862d\",\"\\u632a\\u5a01\",\"\\u745e\\u5178\",\"\\u51b0\\u5cf6\",\"\\u7acb\\u9676\\u5b9b\",\"\\u62c9\\u812b\\u7dad\\u4e9e\",\"\\u611b\\u6c99\\u5c3c\\u4e9e\",\"\\u65af\\u6d1b\\u4f10\\u514b\"],\"legendgroup\":\"\\u6b50\\u6d32\",\"locations\":[\"GBR\",\"DEU\",\"POL\",\"AUT\",\"RUS\",\"DNK\",\"BEL\",\"NLD\",\"FIN\",\"NOR\",\"SWE\",\"ISL\",\"GBR\",\"FRA\",\"DEU\",\"POL\",\"AUT\",\"CZE\",\"BEL\",\"CHE\",\"ITA\",\"ESP\",\"TUR\",\"IRL\",\"RUS\",\"DNK\",\"NLD\",\"FIN\",\"NOR\",\"SWE\",\"GBR\",\"FRA\",\"DEU\",\"POL\",\"AUT\",\"CZE\",\"NLD\",\"BEL\",\"HUN\",\"TUR\",\"IRL\",\"RUS\",\"DNK\",\"FIN\",\"NOR\",\"SWE\",\"GBR\",\"FRA\",\"DEU\",\"POL\",\"AUT\",\"ESP\",\"ITA\",\"NLD\",\"BEL\",\"HUN\",\"IRL\",\"RUS\",\"DNK\",\"FIN\",\"NOR\",\"SWE\",\"ISL\",\"GBR\",\"FRA\",\"DEU\",\"POL\",\"AUT\",\"ESP\",\"ITA\",\"NLD\",\"BEL\",\"HUN\",\"IRL\",\"RUS\",\"UKR\",\"DNK\",\"FIN\",\"NOR\",\"SWE\",\"ISL\",\"LTU\",\"LVA\",\"EST\",\"SVK\"],\"marker\":{\"color\":\"#636efa\",\"size\":[3815,1488,561,419,181,33,120,400,37,20,113,2,3920,1004,1755,758,456,43,120,307,250,300,36,10,172,24,400,45,7,105,3775,1079,2013,758,400,26,408,156,53,30,18,146,16,71,20,133,3850,648,2390,853,413,450,197,353,232,147,21,160,23,46,12,160,2,4045,668,3155,1007,428,350,212,504,178,160,21,71,10,22,37,14,137,0,16,17,8,1],\"sizemode\":\"area\",\"sizeref\":59.31,\"symbol\":\"circle\"},\"mode\":\"markers\",\"name\":\"\\u6b50\\u6d32\",\"showlegend\":true,\"type\":\"scattergeo\"},{\"geo\":\"geo\",\"hovertemplate\":\"<b>%{hovertext}</b><br><br>\\u6d32\\u5225=\\u7f8e\\u6d32<br>\\u7e3d\\u4eba\\u6578=%{marker.size}<br>iso_alpha=%{location}<extra></extra>\",\"hovertext\":[\"\\u52a0\\u62ff\\u5927\",\"\\u7f8e\\u570b\",\"\\u52a0\\u62ff\\u5927\",\"\\u7f8e\\u570b\",\"\\u5df4\\u62ff\\u99ac\",\"\\u52a0\\u62ff\\u5927\",\"\\u7f8e\\u570b\",\"\\u667a\\u5229\",\"\\u54e5\\u502b\\u6bd4\\u4e9e\",\"\\u8056\\u9732\\u897f\\u4e9e\",\"\\u8056\\u514b\\u91cc\\u65af\\u591a\\u798f\\u53ca\\u5c3c\\u7dad\\u65af\",\"\\u52a0\\u62ff\\u5927\",\"\\u7f8e\\u570b\",\"\\u667a\\u5229\",\"\\u54e5\\u502b\\u6bd4\\u4e9e\",\"\\u8056\\u9732\\u897f\\u4e9e\",\"\\u8056\\u514b\\u91cc\\u65af\\u591a\\u798f\\u53ca\\u5c3c\\u7dad\\u65af\",\"\\u52a0\\u62ff\\u5927\",\"\\u7f8e\\u570b\",\"\\u667a\\u5229\",\"\\u54e5\\u502b\\u6bd4\\u4e9e\",\"\\u8056\\u9732\\u897f\\u4e9e\",\"\\u5b8f\\u90fd\\u62c9\\u65af\",\"\\u8056\\u514b\\u91cc\\u65af\\u591a\\u798f\\u53ca\\u5c3c\\u7dad\\u65af\"],\"legendgroup\":\"\\u7f8e\\u6d32\",\"locations\":[\"CAN\",\"USA\",\"CAN\",\"USA\",\"PAN\",\"CAN\",\"USA\",\"CHL\",\"COL\",\"LCA\",\"KNA\",\"CAN\",\"USA\",\"CHL\",\"COL\",\"LCA\",\"KNA\",\"CAN\",\"USA\",\"CHL\",\"COL\",\"LCA\",\"HND\",\"KNA\"],\"marker\":{\"color\":\"#EF553B\",\"size\":[4827,21127,3202,21127,20,5330,21516,1,1,7,1,4390,23369,1,5,3,3,5123,23724,1,1,2,4,6],\"sizemode\":\"area\",\"sizeref\":59.31,\"symbol\":\"circle\"},\"mode\":\"markers\",\"name\":\"\\u7f8e\\u6d32\",\"showlegend\":true,\"type\":\"scattergeo\"},{\"geo\":\"geo\",\"hovertemplate\":\"<b>%{hovertext}</b><br><br>\\u6d32\\u5225=\\u5927\\u6d0b\\u6d32<br>\\u7e3d\\u4eba\\u6578=%{marker.size}<br>iso_alpha=%{location}<extra></extra>\",\"hovertext\":[\"\\u6fb3\\u5927\\u5229\\u4e9e\",\"\\u7d10\\u897f\\u862d\",\"\\u6fb3\\u5927\\u5229\\u4e9e\",\"\\u7d10\\u897f\\u862d\",\"\\u6fb3\\u5927\\u5229\\u4e9e\",\"\\u7d10\\u897f\\u862d\",\"\\u6fb3\\u5927\\u5229\\u4e9e\",\"\\u7d10\\u897f\\u862d\",\"\\u6fb3\\u5927\\u5229\\u4e9e\",\"\\u7d10\\u897f\\u862d\",\"\\u6590\\u6fdf\",\"\\u5e1b\\u7409\"],\"legendgroup\":\"\\u5927\\u6d0b\\u6d32\",\"locations\":[\"AUS\",\"NZL\",\"AUS\",\"NZL\",\"AUS\",\"NZL\",\"AUS\",\"NZL\",\"AUS\",\"NZL\",\"FJI\",\"PLW\"],\"marker\":{\"color\":\"#00cc96\",\"size\":[13582,1106,16573,1820,18227,2070,18791,1890,18439,1300,1,10],\"sizemode\":\"area\",\"sizeref\":59.31,\"symbol\":\"circle\"},\"mode\":\"markers\",\"name\":\"\\u5927\\u6d0b\\u6d32\",\"showlegend\":true,\"type\":\"scattergeo\"},{\"geo\":\"geo\",\"hovertemplate\":\"<b>%{hovertext}</b><br><br>\\u6d32\\u5225=\\u4e9e\\u6d32<br>\\u7e3d\\u4eba\\u6578=%{marker.size}<br>iso_alpha=%{location}<extra></extra>\",\"hovertext\":[\"\\u65e5\\u672c\",\"\\u97d3\\u570b\",\"\\u6cf0\\u570b\",\"\\u65b0\\u52a0\\u5761\",\"\\u99ac\\u4f86\\u897f\\u4e9e\",\"\\u5370\\u5c3c\",\"\\u83f2\\u5f8b\\u8cd3\",\"\\u5370\\u5ea6\",\"\\u8d8a\\u5357\",\"\\u6c76\\u840a\",\"\\u65af\\u91cc\\u862d\\u5361\",\"\\u5c3c\\u6cca\\u723e\",\"\\u5b5f\\u52a0\\u62c9\",\"\\u65e5\\u672c\",\"\\u97d3\\u570b\",\"\\u6cf0\\u570b\",\"\\u8d8a\\u5357\",\"\\u99ac\\u4f86\\u897f\\u4e9e\",\"\\u5370\\u5c3c\",\"\\u5370\\u5ea6\",\"\\u4ee5\\u8272\\u5217\",\"\\u963f\\u62c9\\u4f2f\\u806f\\u5408\\u5927\\u516c\\u570b(\\u675c\\u62dc\\u5730\\u5340)\",\"\\u7d04\\u65e6\",\"\\u65e5\\u672c\",\"\\u97d3\\u570b\",\"\\u6cf0\\u570b\",\"\\u8d8a\\u5357\",\"\\u99ac\\u4f86\\u897f\\u4e9e\",\"\\u5370\\u5c3c\",\"\\u5370\\u5ea6\",\"\\u7dec\\u7538\",\"\\u65b0\\u52a0\\u5761\",\"\\u79d1\\u5a01\\u7279\",\"\\u4ee5\\u8272\\u5217\",\"\\u6c99\\u70cf\\u5730\\u963f\\u62c9\\u4f2f\",\"\\u963f\\u62c9\\u4f2f\\u806f\\u5408\\u5927\\u516c\\u570b(\\u675c\\u62dc\\u5730\\u5340)\",\"\\u5df4\\u6797\",\"\\u65e5\\u672c\",\"\\u97d3\\u570b\",\"\\u6cf0\\u570b\",\"\\u8d8a\\u5357\",\"\\u99ac\\u4f86\\u897f\\u4e9e\",\"\\u5370\\u5c3c\",\"\\u5370\\u5ea6\",\"\\u571f\\u8033\\u5176\",\"\\u83f2\\u5f8b\\u8cd3\",\"\\u65b0\\u52a0\\u5761\",\"\\u79d1\\u5a01\\u7279\",\"\\u4ee5\\u8272\\u5217\",\"\\u6c99\\u70cf\\u5730\\u963f\\u62c9\\u4f2f\",\"\\u963f\\u62c9\\u4f2f\\u806f\\u5408\\u5927\\u516c\\u570b(\\u675c\\u62dc\\u5730\\u5340)\",\"\\u5df4\\u6797\",\"\\u65e5\\u672c\",\"\\u97d3\\u570b\",\"\\u6cf0\\u570b\",\"\\u8d8a\\u5357\",\"\\u99ac\\u4f86\\u897f\\u4e9e\",\"\\u5370\\u5c3c\",\"\\u5370\\u5ea6\",\"\\u571f\\u8033\\u5176\",\"\\u83f2\\u5f8b\\u8cd3\",\"\\u65b0\\u52a0\\u5761\",\"\\u963f\\u66fc\",\"\\u8499\\u53e4\",\"\\u7d04\\u65e6\"],\"legendgroup\":\"\\u4e9e\\u6d32\",\"locations\":[\"JPN\",\"KOR\",\"THA\",\"SGP\",\"MYS\",\"IDN\",\"PHL\",\"IND\",\"VNM\",\"BRN\",\"LKA\",\"NPL\",\"BGD\",\"JPN\",\"KOR\",\"THA\",\"VNM\",\"MYS\",\"IDN\",\"IND\",\"ISR\",\"ARE\",\"JOR\",\"JPN\",\"KOR\",\"THA\",\"VNM\",\"MYS\",\"IDN\",\"IND\",\"MMR\",\"SGP\",\"KWT\",\"ISR\",\"SAU\",\"ARE\",\"BHR\",\"JPN\",\"KOR\",\"THA\",\"VNM\",\"MYS\",\"IDN\",\"IND\",\"TUR\",\"PHL\",\"SGP\",\"KWT\",\"ISR\",\"SAU\",\"ARE\",\"BHR\",\"JPN\",\"KOR\",\"THA\",\"VNM\",\"MYS\",\"IDN\",\"IND\",\"TUR\",\"PHL\",\"SGP\",\"OMN\",\"MNG\",\"JOR\"],\"marker\":{\"color\":\"#ab63fa\",\"size\":[8444,265,217,9,502,210,64,15,364,19,14,1,1,9642,242,176,154,513,16,13,19,21,20,10347,123,199,60,498,25,18,1,2,9,29,22,4,1,9524,2162,305,74,501,25,23,20,101,8,10,34,20,4,1,9584,1382,291,0,346,48,20,28,66,41,1,1,6],\"sizemode\":\"area\",\"sizeref\":59.31,\"symbol\":\"circle\"},\"mode\":\"markers\",\"name\":\"\\u4e9e\\u6d32\",\"showlegend\":true,\"type\":\"scattergeo\"},{\"geo\":\"geo\",\"hovertemplate\":\"<b>%{hovertext}</b><br><br>\\u6d32\\u5225=\\u975e\\u6d32<br>\\u7e3d\\u4eba\\u6578=%{marker.size}<br>iso_alpha=%{location}<extra></extra>\",\"hovertext\":[\"\\u5948\\u53ca\\u5229\\u4e9e\"],\"legendgroup\":\"\\u975e\\u6d32\",\"locations\":[\"NGA\"],\"marker\":{\"color\":\"#FFA15A\",\"size\":[2],\"sizemode\":\"area\",\"sizeref\":59.31,\"symbol\":\"circle\"},\"mode\":\"markers\",\"name\":\"\\u975e\\u6d32\",\"showlegend\":true,\"type\":\"scattergeo\"}],                        {\"template\":{\"data\":{\"histogram2dcontour\":[{\"type\":\"histogram2dcontour\",\"colorbar\":{\"outlinewidth\":0,\"ticks\":\"\"},\"colorscale\":[[0.0,\"#0d0887\"],[0.1111111111111111,\"#46039f\"],[0.2222222222222222,\"#7201a8\"],[0.3333333333333333,\"#9c179e\"],[0.4444444444444444,\"#bd3786\"],[0.5555555555555556,\"#d8576b\"],[0.6666666666666666,\"#ed7953\"],[0.7777777777777778,\"#fb9f3a\"],[0.8888888888888888,\"#fdca26\"],[1.0,\"#f0f921\"]]}],\"choropleth\":[{\"type\":\"choropleth\",\"colorbar\":{\"outlinewidth\":0,\"ticks\":\"\"}}],\"histogram2d\":[{\"type\":\"histogram2d\",\"colorbar\":{\"outlinewidth\":0,\"ticks\":\"\"},\"colorscale\":[[0.0,\"#0d0887\"],[0.1111111111111111,\"#46039f\"],[0.2222222222222222,\"#7201a8\"],[0.3333333333333333,\"#9c179e\"],[0.4444444444444444,\"#bd3786\"],[0.5555555555555556,\"#d8576b\"],[0.6666666666666666,\"#ed7953\"],[0.7777777777777778,\"#fb9f3a\"],[0.8888888888888888,\"#fdca26\"],[1.0,\"#f0f921\"]]}],\"heatmap\":[{\"type\":\"heatmap\",\"colorbar\":{\"outlinewidth\":0,\"ticks\":\"\"},\"colorscale\":[[0.0,\"#0d0887\"],[0.1111111111111111,\"#46039f\"],[0.2222222222222222,\"#7201a8\"],[0.3333333333333333,\"#9c179e\"],[0.4444444444444444,\"#bd3786\"],[0.5555555555555556,\"#d8576b\"],[0.6666666666666666,\"#ed7953\"],[0.7777777777777778,\"#fb9f3a\"],[0.8888888888888888,\"#fdca26\"],[1.0,\"#f0f921\"]]}],\"heatmapgl\":[{\"type\":\"heatmapgl\",\"colorbar\":{\"outlinewidth\":0,\"ticks\":\"\"},\"colorscale\":[[0.0,\"#0d0887\"],[0.1111111111111111,\"#46039f\"],[0.2222222222222222,\"#7201a8\"],[0.3333333333333333,\"#9c179e\"],[0.4444444444444444,\"#bd3786\"],[0.5555555555555556,\"#d8576b\"],[0.6666666666666666,\"#ed7953\"],[0.7777777777777778,\"#fb9f3a\"],[0.8888888888888888,\"#fdca26\"],[1.0,\"#f0f921\"]]}],\"contourcarpet\":[{\"type\":\"contourcarpet\",\"colorbar\":{\"outlinewidth\":0,\"ticks\":\"\"}}],\"contour\":[{\"type\":\"contour\",\"colorbar\":{\"outlinewidth\":0,\"ticks\":\"\"},\"colorscale\":[[0.0,\"#0d0887\"],[0.1111111111111111,\"#46039f\"],[0.2222222222222222,\"#7201a8\"],[0.3333333333333333,\"#9c179e\"],[0.4444444444444444,\"#bd3786\"],[0.5555555555555556,\"#d8576b\"],[0.6666666666666666,\"#ed7953\"],[0.7777777777777778,\"#fb9f3a\"],[0.8888888888888888,\"#fdca26\"],[1.0,\"#f0f921\"]]}],\"surface\":[{\"type\":\"surface\",\"colorbar\":{\"outlinewidth\":0,\"ticks\":\"\"},\"colorscale\":[[0.0,\"#0d0887\"],[0.1111111111111111,\"#46039f\"],[0.2222222222222222,\"#7201a8\"],[0.3333333333333333,\"#9c179e\"],[0.4444444444444444,\"#bd3786\"],[0.5555555555555556,\"#d8576b\"],[0.6666666666666666,\"#ed7953\"],[0.7777777777777778,\"#fb9f3a\"],[0.8888888888888888,\"#fdca26\"],[1.0,\"#f0f921\"]]}],\"mesh3d\":[{\"type\":\"mesh3d\",\"colorbar\":{\"outlinewidth\":0,\"ticks\":\"\"}}],\"scatter\":[{\"fillpattern\":{\"fillmode\":\"overlay\",\"size\":10,\"solidity\":0.2},\"type\":\"scatter\"}],\"parcoords\":[{\"type\":\"parcoords\",\"line\":{\"colorbar\":{\"outlinewidth\":0,\"ticks\":\"\"}}}],\"scatterpolargl\":[{\"type\":\"scatterpolargl\",\"marker\":{\"colorbar\":{\"outlinewidth\":0,\"ticks\":\"\"}}}],\"bar\":[{\"error_x\":{\"color\":\"#2a3f5f\"},\"error_y\":{\"color\":\"#2a3f5f\"},\"marker\":{\"line\":{\"color\":\"#E5ECF6\",\"width\":0.5},\"pattern\":{\"fillmode\":\"overlay\",\"size\":10,\"solidity\":0.2}},\"type\":\"bar\"}],\"scattergeo\":[{\"type\":\"scattergeo\",\"marker\":{\"colorbar\":{\"outlinewidth\":0,\"ticks\":\"\"}}}],\"scatterpolar\":[{\"type\":\"scatterpolar\",\"marker\":{\"colorbar\":{\"outlinewidth\":0,\"ticks\":\"\"}}}],\"histogram\":[{\"marker\":{\"pattern\":{\"fillmode\":\"overlay\",\"size\":10,\"solidity\":0.2}},\"type\":\"histogram\"}],\"scattergl\":[{\"type\":\"scattergl\",\"marker\":{\"colorbar\":{\"outlinewidth\":0,\"ticks\":\"\"}}}],\"scatter3d\":[{\"type\":\"scatter3d\",\"line\":{\"colorbar\":{\"outlinewidth\":0,\"ticks\":\"\"}},\"marker\":{\"colorbar\":{\"outlinewidth\":0,\"ticks\":\"\"}}}],\"scattermapbox\":[{\"type\":\"scattermapbox\",\"marker\":{\"colorbar\":{\"outlinewidth\":0,\"ticks\":\"\"}}}],\"scatterternary\":[{\"type\":\"scatterternary\",\"marker\":{\"colorbar\":{\"outlinewidth\":0,\"ticks\":\"\"}}}],\"scattercarpet\":[{\"type\":\"scattercarpet\",\"marker\":{\"colorbar\":{\"outlinewidth\":0,\"ticks\":\"\"}}}],\"carpet\":[{\"aaxis\":{\"endlinecolor\":\"#2a3f5f\",\"gridcolor\":\"white\",\"linecolor\":\"white\",\"minorgridcolor\":\"white\",\"startlinecolor\":\"#2a3f5f\"},\"baxis\":{\"endlinecolor\":\"#2a3f5f\",\"gridcolor\":\"white\",\"linecolor\":\"white\",\"minorgridcolor\":\"white\",\"startlinecolor\":\"#2a3f5f\"},\"type\":\"carpet\"}],\"table\":[{\"cells\":{\"fill\":{\"color\":\"#EBF0F8\"},\"line\":{\"color\":\"white\"}},\"header\":{\"fill\":{\"color\":\"#C8D4E3\"},\"line\":{\"color\":\"white\"}},\"type\":\"table\"}],\"barpolar\":[{\"marker\":{\"line\":{\"color\":\"#E5ECF6\",\"width\":0.5},\"pattern\":{\"fillmode\":\"overlay\",\"size\":10,\"solidity\":0.2}},\"type\":\"barpolar\"}],\"pie\":[{\"automargin\":true,\"type\":\"pie\"}]},\"layout\":{\"autotypenumbers\":\"strict\",\"colorway\":[\"#636efa\",\"#EF553B\",\"#00cc96\",\"#ab63fa\",\"#FFA15A\",\"#19d3f3\",\"#FF6692\",\"#B6E880\",\"#FF97FF\",\"#FECB52\"],\"font\":{\"color\":\"#2a3f5f\"},\"hovermode\":\"closest\",\"hoverlabel\":{\"align\":\"left\"},\"paper_bgcolor\":\"white\",\"plot_bgcolor\":\"#E5ECF6\",\"polar\":{\"bgcolor\":\"#E5ECF6\",\"angularaxis\":{\"gridcolor\":\"white\",\"linecolor\":\"white\",\"ticks\":\"\"},\"radialaxis\":{\"gridcolor\":\"white\",\"linecolor\":\"white\",\"ticks\":\"\"}},\"ternary\":{\"bgcolor\":\"#E5ECF6\",\"aaxis\":{\"gridcolor\":\"white\",\"linecolor\":\"white\",\"ticks\":\"\"},\"baxis\":{\"gridcolor\":\"white\",\"linecolor\":\"white\",\"ticks\":\"\"},\"caxis\":{\"gridcolor\":\"white\",\"linecolor\":\"white\",\"ticks\":\"\"}},\"coloraxis\":{\"colorbar\":{\"outlinewidth\":0,\"ticks\":\"\"}},\"colorscale\":{\"sequential\":[[0.0,\"#0d0887\"],[0.1111111111111111,\"#46039f\"],[0.2222222222222222,\"#7201a8\"],[0.3333333333333333,\"#9c179e\"],[0.4444444444444444,\"#bd3786\"],[0.5555555555555556,\"#d8576b\"],[0.6666666666666666,\"#ed7953\"],[0.7777777777777778,\"#fb9f3a\"],[0.8888888888888888,\"#fdca26\"],[1.0,\"#f0f921\"]],\"sequentialminus\":[[0.0,\"#0d0887\"],[0.1111111111111111,\"#46039f\"],[0.2222222222222222,\"#7201a8\"],[0.3333333333333333,\"#9c179e\"],[0.4444444444444444,\"#bd3786\"],[0.5555555555555556,\"#d8576b\"],[0.6666666666666666,\"#ed7953\"],[0.7777777777777778,\"#fb9f3a\"],[0.8888888888888888,\"#fdca26\"],[1.0,\"#f0f921\"]],\"diverging\":[[0,\"#8e0152\"],[0.1,\"#c51b7d\"],[0.2,\"#de77ae\"],[0.3,\"#f1b6da\"],[0.4,\"#fde0ef\"],[0.5,\"#f7f7f7\"],[0.6,\"#e6f5d0\"],[0.7,\"#b8e186\"],[0.8,\"#7fbc41\"],[0.9,\"#4d9221\"],[1,\"#276419\"]]},\"xaxis\":{\"gridcolor\":\"white\",\"linecolor\":\"white\",\"ticks\":\"\",\"title\":{\"standoff\":15},\"zerolinecolor\":\"white\",\"automargin\":true,\"zerolinewidth\":2},\"yaxis\":{\"gridcolor\":\"white\",\"linecolor\":\"white\",\"ticks\":\"\",\"title\":{\"standoff\":15},\"zerolinecolor\":\"white\",\"automargin\":true,\"zerolinewidth\":2},\"scene\":{\"xaxis\":{\"backgroundcolor\":\"#E5ECF6\",\"gridcolor\":\"white\",\"linecolor\":\"white\",\"showbackground\":true,\"ticks\":\"\",\"zerolinecolor\":\"white\",\"gridwidth\":2},\"yaxis\":{\"backgroundcolor\":\"#E5ECF6\",\"gridcolor\":\"white\",\"linecolor\":\"white\",\"showbackground\":true,\"ticks\":\"\",\"zerolinecolor\":\"white\",\"gridwidth\":2},\"zaxis\":{\"backgroundcolor\":\"#E5ECF6\",\"gridcolor\":\"white\",\"linecolor\":\"white\",\"showbackground\":true,\"ticks\":\"\",\"zerolinecolor\":\"white\",\"gridwidth\":2}},\"shapedefaults\":{\"line\":{\"color\":\"#2a3f5f\"}},\"annotationdefaults\":{\"arrowcolor\":\"#2a3f5f\",\"arrowhead\":0,\"arrowwidth\":1},\"geo\":{\"bgcolor\":\"white\",\"landcolor\":\"#E5ECF6\",\"subunitcolor\":\"white\",\"showland\":true,\"showlakes\":true,\"lakecolor\":\"white\"},\"title\":{\"x\":0.05},\"mapbox\":{\"style\":\"light\"}}},\"geo\":{\"domain\":{\"x\":[0.0,1.0],\"y\":[0.0,1.0]},\"center\":{}},\"legend\":{\"title\":{\"text\":\"\\u6d32\\u5225\"},\"tracegroupgap\":0,\"itemsizing\":\"constant\"},\"margin\":{\"t\":60}},                        {\"responsive\": true}                    ).then(function(){\n",
       "                            \n",
       "var gd = document.getElementById('db93ff87-f649-419a-b37a-a5b22edefef1');\n",
       "var x = new MutationObserver(function (mutations, observer) {{\n",
       "        var display = window.getComputedStyle(gd).display;\n",
       "        if (!display || display === 'none') {{\n",
       "            console.log([gd, 'removed!']);\n",
       "            Plotly.purge(gd);\n",
       "            observer.disconnect();\n",
       "        }}\n",
       "}});\n",
       "\n",
       "// Listen for the removal of the full notebook cells\n",
       "var notebookContainer = gd.closest('#notebook-container');\n",
       "if (notebookContainer) {{\n",
       "    x.observe(notebookContainer, {childList: true});\n",
       "}}\n",
       "\n",
       "// Listen for the clearing of the current output cell\n",
       "var outputEl = gd.closest('.output');\n",
       "if (outputEl) {{\n",
       "    x.observe(outputEl, {childList: true});\n",
       "}}\n",
       "\n",
       "                        })                };                });            </script>        </div>"
      ]
     },
     "metadata": {},
     "output_type": "display_data"
    }
   ],
   "source": [
    "import plotly.express as px\n",
    "df = px.data.gapminder().query(\"year == 105\")\n",
    "fig = px.scatter_geo(good, locations=\"iso_alpha\",\n",
    "                     size=\"總人數\", color=\"洲別\", hover_name=\"國別\")\n",
    "fig.show()"
   ]
  },
  {
   "cell_type": "code",
   "execution_count": 122,
   "id": "b0494061",
   "metadata": {},
   "outputs": [
    {
     "data": {
      "application/vnd.plotly.v1+json": {
       "config": {
        "plotlyServerURL": "https://plot.ly"
       },
       "data": [
        {
         "geo": "geo",
         "hovertemplate": "<b>%{hovertext}</b><br><br>洲別=歐洲<br>年度=105<br>總人數=%{marker.size}<br>iso_alpha=%{location}<extra></extra>",
         "hovertext": [
          "英國",
          "德國",
          "波蘭",
          "奧地利",
          "俄羅斯",
          "丹麥",
          "比利時",
          "荷蘭",
          "芬蘭",
          "挪威",
          "瑞典",
          "冰島"
         ],
         "legendgroup": "歐洲",
         "locations": [
          "GBR",
          "DEU",
          "POL",
          "AUT",
          "RUS",
          "DNK",
          "BEL",
          "NLD",
          "FIN",
          "NOR",
          "SWE",
          "ISL"
         ],
         "marker": {
          "color": "#636efa",
          "size": [
           3815,
           1488,
           561,
           419,
           181,
           33,
           120,
           400,
           37,
           20,
           113,
           2
          ],
          "sizemode": "area",
          "sizeref": 59.31,
          "symbol": "circle"
         },
         "mode": "markers",
         "name": "歐洲",
         "showlegend": true,
         "type": "scattergeo"
        },
        {
         "geo": "geo",
         "hovertemplate": "<b>%{hovertext}</b><br><br>洲別=美洲<br>年度=105<br>總人數=%{marker.size}<br>iso_alpha=%{location}<extra></extra>",
         "hovertext": [
          "加拿大",
          "美國"
         ],
         "legendgroup": "美洲",
         "locations": [
          "CAN",
          "USA"
         ],
         "marker": {
          "color": "#EF553B",
          "size": [
           4827,
           21127
          ],
          "sizemode": "area",
          "sizeref": 59.31,
          "symbol": "circle"
         },
         "mode": "markers",
         "name": "美洲",
         "showlegend": true,
         "type": "scattergeo"
        },
        {
         "geo": "geo",
         "hovertemplate": "<b>%{hovertext}</b><br><br>洲別=大洋洲<br>年度=105<br>總人數=%{marker.size}<br>iso_alpha=%{location}<extra></extra>",
         "hovertext": [
          "澳大利亞",
          "紐西蘭"
         ],
         "legendgroup": "大洋洲",
         "locations": [
          "AUS",
          "NZL"
         ],
         "marker": {
          "color": "#00cc96",
          "size": [
           13582,
           1106
          ],
          "sizemode": "area",
          "sizeref": 59.31,
          "symbol": "circle"
         },
         "mode": "markers",
         "name": "大洋洲",
         "showlegend": true,
         "type": "scattergeo"
        },
        {
         "geo": "geo",
         "hovertemplate": "<b>%{hovertext}</b><br><br>洲別=亞洲<br>年度=105<br>總人數=%{marker.size}<br>iso_alpha=%{location}<extra></extra>",
         "hovertext": [
          "日本",
          "韓國",
          "泰國",
          "新加坡",
          "馬來西亞",
          "印尼",
          "菲律賓",
          "印度",
          "越南",
          "汶萊",
          "斯里蘭卡",
          "尼泊爾",
          "孟加拉"
         ],
         "legendgroup": "亞洲",
         "locations": [
          "JPN",
          "KOR",
          "THA",
          "SGP",
          "MYS",
          "IDN",
          "PHL",
          "IND",
          "VNM",
          "BRN",
          "LKA",
          "NPL",
          "BGD"
         ],
         "marker": {
          "color": "#ab63fa",
          "size": [
           8444,
           265,
           217,
           9,
           502,
           210,
           64,
           15,
           364,
           19,
           14,
           1,
           1
          ],
          "sizemode": "area",
          "sizeref": 59.31,
          "symbol": "circle"
         },
         "mode": "markers",
         "name": "亞洲",
         "showlegend": true,
         "type": "scattergeo"
        }
       ],
       "frames": [
        {
         "data": [
          {
           "geo": "geo",
           "hovertemplate": "<b>%{hovertext}</b><br><br>洲別=歐洲<br>年度=105<br>總人數=%{marker.size}<br>iso_alpha=%{location}<extra></extra>",
           "hovertext": [
            "英國",
            "德國",
            "波蘭",
            "奧地利",
            "俄羅斯",
            "丹麥",
            "比利時",
            "荷蘭",
            "芬蘭",
            "挪威",
            "瑞典",
            "冰島"
           ],
           "legendgroup": "歐洲",
           "locations": [
            "GBR",
            "DEU",
            "POL",
            "AUT",
            "RUS",
            "DNK",
            "BEL",
            "NLD",
            "FIN",
            "NOR",
            "SWE",
            "ISL"
           ],
           "marker": {
            "color": "#636efa",
            "size": [
             3815,
             1488,
             561,
             419,
             181,
             33,
             120,
             400,
             37,
             20,
             113,
             2
            ],
            "sizemode": "area",
            "sizeref": 59.31,
            "symbol": "circle"
           },
           "mode": "markers",
           "name": "歐洲",
           "showlegend": true,
           "type": "scattergeo"
          },
          {
           "geo": "geo",
           "hovertemplate": "<b>%{hovertext}</b><br><br>洲別=美洲<br>年度=105<br>總人數=%{marker.size}<br>iso_alpha=%{location}<extra></extra>",
           "hovertext": [
            "加拿大",
            "美國"
           ],
           "legendgroup": "美洲",
           "locations": [
            "CAN",
            "USA"
           ],
           "marker": {
            "color": "#EF553B",
            "size": [
             4827,
             21127
            ],
            "sizemode": "area",
            "sizeref": 59.31,
            "symbol": "circle"
           },
           "mode": "markers",
           "name": "美洲",
           "showlegend": true,
           "type": "scattergeo"
          },
          {
           "geo": "geo",
           "hovertemplate": "<b>%{hovertext}</b><br><br>洲別=大洋洲<br>年度=105<br>總人數=%{marker.size}<br>iso_alpha=%{location}<extra></extra>",
           "hovertext": [
            "澳大利亞",
            "紐西蘭"
           ],
           "legendgroup": "大洋洲",
           "locations": [
            "AUS",
            "NZL"
           ],
           "marker": {
            "color": "#00cc96",
            "size": [
             13582,
             1106
            ],
            "sizemode": "area",
            "sizeref": 59.31,
            "symbol": "circle"
           },
           "mode": "markers",
           "name": "大洋洲",
           "showlegend": true,
           "type": "scattergeo"
          },
          {
           "geo": "geo",
           "hovertemplate": "<b>%{hovertext}</b><br><br>洲別=亞洲<br>年度=105<br>總人數=%{marker.size}<br>iso_alpha=%{location}<extra></extra>",
           "hovertext": [
            "日本",
            "韓國",
            "泰國",
            "新加坡",
            "馬來西亞",
            "印尼",
            "菲律賓",
            "印度",
            "越南",
            "汶萊",
            "斯里蘭卡",
            "尼泊爾",
            "孟加拉"
           ],
           "legendgroup": "亞洲",
           "locations": [
            "JPN",
            "KOR",
            "THA",
            "SGP",
            "MYS",
            "IDN",
            "PHL",
            "IND",
            "VNM",
            "BRN",
            "LKA",
            "NPL",
            "BGD"
           ],
           "marker": {
            "color": "#ab63fa",
            "size": [
             8444,
             265,
             217,
             9,
             502,
             210,
             64,
             15,
             364,
             19,
             14,
             1,
             1
            ],
            "sizemode": "area",
            "sizeref": 59.31,
            "symbol": "circle"
           },
           "mode": "markers",
           "name": "亞洲",
           "showlegend": true,
           "type": "scattergeo"
          }
         ],
         "name": "105"
        },
        {
         "data": [
          {
           "geo": "geo",
           "hovertemplate": "<b>%{hovertext}</b><br><br>洲別=歐洲<br>年度=106<br>總人數=%{marker.size}<br>iso_alpha=%{location}<extra></extra>",
           "hovertext": [
            "英國",
            "法國",
            "德國",
            "波蘭",
            "奧地利",
            "捷克",
            "比利時",
            "瑞士",
            "義大利",
            "西班牙",
            "土耳其",
            "愛爾蘭",
            "俄羅斯",
            "丹麥",
            "荷蘭",
            "芬蘭",
            "挪威",
            "瑞典"
           ],
           "legendgroup": "歐洲",
           "locations": [
            "GBR",
            "FRA",
            "DEU",
            "POL",
            "AUT",
            "CZE",
            "BEL",
            "CHE",
            "ITA",
            "ESP",
            "TUR",
            "IRL",
            "RUS",
            "DNK",
            "NLD",
            "FIN",
            "NOR",
            "SWE"
           ],
           "marker": {
            "color": "#636efa",
            "size": [
             3920,
             1004,
             1755,
             758,
             456,
             43,
             120,
             307,
             250,
             300,
             36,
             10,
             172,
             24,
             400,
             45,
             7,
             105
            ],
            "sizemode": "area",
            "sizeref": 59.31,
            "symbol": "circle"
           },
           "mode": "markers",
           "name": "歐洲",
           "showlegend": true,
           "type": "scattergeo"
          },
          {
           "geo": "geo",
           "hovertemplate": "<b>%{hovertext}</b><br><br>洲別=美洲<br>年度=106<br>總人數=%{marker.size}<br>iso_alpha=%{location}<extra></extra>",
           "hovertext": [
            "加拿大",
            "美國",
            "巴拿馬"
           ],
           "legendgroup": "美洲",
           "locations": [
            "CAN",
            "USA",
            "PAN"
           ],
           "marker": {
            "color": "#EF553B",
            "size": [
             3202,
             21127,
             20
            ],
            "sizemode": "area",
            "sizeref": 59.31,
            "symbol": "circle"
           },
           "mode": "markers",
           "name": "美洲",
           "showlegend": true,
           "type": "scattergeo"
          },
          {
           "geo": "geo",
           "hovertemplate": "<b>%{hovertext}</b><br><br>洲別=大洋洲<br>年度=106<br>總人數=%{marker.size}<br>iso_alpha=%{location}<extra></extra>",
           "hovertext": [
            "澳大利亞",
            "紐西蘭"
           ],
           "legendgroup": "大洋洲",
           "locations": [
            "AUS",
            "NZL"
           ],
           "marker": {
            "color": "#00cc96",
            "size": [
             16573,
             1820
            ],
            "sizemode": "area",
            "sizeref": 59.31,
            "symbol": "circle"
           },
           "mode": "markers",
           "name": "大洋洲",
           "showlegend": true,
           "type": "scattergeo"
          },
          {
           "geo": "geo",
           "hovertemplate": "<b>%{hovertext}</b><br><br>洲別=亞洲<br>年度=106<br>總人數=%{marker.size}<br>iso_alpha=%{location}<extra></extra>",
           "hovertext": [
            "日本",
            "韓國",
            "泰國",
            "越南",
            "馬來西亞",
            "印尼",
            "印度",
            "以色列",
            "阿拉伯聯合大公國(杜拜地區)",
            "約旦"
           ],
           "legendgroup": "亞洲",
           "locations": [
            "JPN",
            "KOR",
            "THA",
            "VNM",
            "MYS",
            "IDN",
            "IND",
            "ISR",
            "ARE",
            "JOR"
           ],
           "marker": {
            "color": "#ab63fa",
            "size": [
             9642,
             242,
             176,
             154,
             513,
             16,
             13,
             19,
             21,
             20
            ],
            "sizemode": "area",
            "sizeref": 59.31,
            "symbol": "circle"
           },
           "mode": "markers",
           "name": "亞洲",
           "showlegend": true,
           "type": "scattergeo"
          }
         ],
         "name": "106"
        },
        {
         "data": [
          {
           "geo": "geo",
           "hovertemplate": "<b>%{hovertext}</b><br><br>洲別=歐洲<br>年度=107<br>總人數=%{marker.size}<br>iso_alpha=%{location}<extra></extra>",
           "hovertext": [
            "英國",
            "法國",
            "德國",
            "波蘭",
            "奧地利",
            "捷克",
            "荷蘭",
            "比利時",
            "匈牙利",
            "土耳其",
            "愛爾蘭",
            "俄羅斯",
            "丹麥",
            "芬蘭",
            "挪威",
            "瑞典"
           ],
           "legendgroup": "歐洲",
           "locations": [
            "GBR",
            "FRA",
            "DEU",
            "POL",
            "AUT",
            "CZE",
            "NLD",
            "BEL",
            "HUN",
            "TUR",
            "IRL",
            "RUS",
            "DNK",
            "FIN",
            "NOR",
            "SWE"
           ],
           "marker": {
            "color": "#636efa",
            "size": [
             3775,
             1079,
             2013,
             758,
             400,
             26,
             408,
             156,
             53,
             30,
             18,
             146,
             16,
             71,
             20,
             133
            ],
            "sizemode": "area",
            "sizeref": 59.31,
            "symbol": "circle"
           },
           "mode": "markers",
           "name": "歐洲",
           "showlegend": true,
           "type": "scattergeo"
          },
          {
           "geo": "geo",
           "hovertemplate": "<b>%{hovertext}</b><br><br>洲別=美洲<br>年度=107<br>總人數=%{marker.size}<br>iso_alpha=%{location}<extra></extra>",
           "hovertext": [
            "加拿大",
            "美國",
            "智利",
            "哥倫比亞",
            "聖露西亞",
            "聖克里斯多福及尼維斯"
           ],
           "legendgroup": "美洲",
           "locations": [
            "CAN",
            "USA",
            "CHL",
            "COL",
            "LCA",
            "KNA"
           ],
           "marker": {
            "color": "#EF553B",
            "size": [
             5330,
             21516,
             1,
             1,
             7,
             1
            ],
            "sizemode": "area",
            "sizeref": 59.31,
            "symbol": "circle"
           },
           "mode": "markers",
           "name": "美洲",
           "showlegend": true,
           "type": "scattergeo"
          },
          {
           "geo": "geo",
           "hovertemplate": "<b>%{hovertext}</b><br><br>洲別=大洋洲<br>年度=107<br>總人數=%{marker.size}<br>iso_alpha=%{location}<extra></extra>",
           "hovertext": [
            "澳大利亞",
            "紐西蘭"
           ],
           "legendgroup": "大洋洲",
           "locations": [
            "AUS",
            "NZL"
           ],
           "marker": {
            "color": "#00cc96",
            "size": [
             18227,
             2070
            ],
            "sizemode": "area",
            "sizeref": 59.31,
            "symbol": "circle"
           },
           "mode": "markers",
           "name": "大洋洲",
           "showlegend": true,
           "type": "scattergeo"
          },
          {
           "geo": "geo",
           "hovertemplate": "<b>%{hovertext}</b><br><br>洲別=亞洲<br>年度=107<br>總人數=%{marker.size}<br>iso_alpha=%{location}<extra></extra>",
           "hovertext": [
            "日本",
            "韓國",
            "泰國",
            "越南",
            "馬來西亞",
            "印尼",
            "印度",
            "緬甸",
            "新加坡",
            "科威特",
            "以色列",
            "沙烏地阿拉伯",
            "阿拉伯聯合大公國(杜拜地區)",
            "巴林"
           ],
           "legendgroup": "亞洲",
           "locations": [
            "JPN",
            "KOR",
            "THA",
            "VNM",
            "MYS",
            "IDN",
            "IND",
            "MMR",
            "SGP",
            "KWT",
            "ISR",
            "SAU",
            "ARE",
            "BHR"
           ],
           "marker": {
            "color": "#ab63fa",
            "size": [
             10347,
             123,
             199,
             60,
             498,
             25,
             18,
             1,
             2,
             9,
             29,
             22,
             4,
             1
            ],
            "sizemode": "area",
            "sizeref": 59.31,
            "symbol": "circle"
           },
           "mode": "markers",
           "name": "亞洲",
           "showlegend": true,
           "type": "scattergeo"
          }
         ],
         "name": "107"
        },
        {
         "data": [
          {
           "geo": "geo",
           "hovertemplate": "<b>%{hovertext}</b><br><br>洲別=歐洲<br>年度=108<br>總人數=%{marker.size}<br>iso_alpha=%{location}<extra></extra>",
           "hovertext": [
            "英國",
            "法國",
            "德國",
            "波蘭",
            "奧地利",
            "西班牙",
            "義大利",
            "荷蘭",
            "比利時",
            "匈牙利",
            "愛爾蘭",
            "俄羅斯",
            "丹麥",
            "芬蘭",
            "挪威",
            "瑞典",
            "冰島"
           ],
           "legendgroup": "歐洲",
           "locations": [
            "GBR",
            "FRA",
            "DEU",
            "POL",
            "AUT",
            "ESP",
            "ITA",
            "NLD",
            "BEL",
            "HUN",
            "IRL",
            "RUS",
            "DNK",
            "FIN",
            "NOR",
            "SWE",
            "ISL"
           ],
           "marker": {
            "color": "#636efa",
            "size": [
             3850,
             648,
             2390,
             853,
             413,
             450,
             197,
             353,
             232,
             147,
             21,
             160,
             23,
             46,
             12,
             160,
             2
            ],
            "sizemode": "area",
            "sizeref": 59.31,
            "symbol": "circle"
           },
           "mode": "markers",
           "name": "歐洲",
           "showlegend": true,
           "type": "scattergeo"
          },
          {
           "geo": "geo",
           "hovertemplate": "<b>%{hovertext}</b><br><br>洲別=美洲<br>年度=108<br>總人數=%{marker.size}<br>iso_alpha=%{location}<extra></extra>",
           "hovertext": [
            "加拿大",
            "美國",
            "智利",
            "哥倫比亞",
            "聖露西亞",
            "聖克里斯多福及尼維斯"
           ],
           "legendgroup": "美洲",
           "locations": [
            "CAN",
            "USA",
            "CHL",
            "COL",
            "LCA",
            "KNA"
           ],
           "marker": {
            "color": "#EF553B",
            "size": [
             4390,
             23369,
             1,
             5,
             3,
             3
            ],
            "sizemode": "area",
            "sizeref": 59.31,
            "symbol": "circle"
           },
           "mode": "markers",
           "name": "美洲",
           "showlegend": true,
           "type": "scattergeo"
          },
          {
           "geo": "geo",
           "hovertemplate": "<b>%{hovertext}</b><br><br>洲別=大洋洲<br>年度=108<br>總人數=%{marker.size}<br>iso_alpha=%{location}<extra></extra>",
           "hovertext": [
            "澳大利亞",
            "紐西蘭"
           ],
           "legendgroup": "大洋洲",
           "locations": [
            "AUS",
            "NZL"
           ],
           "marker": {
            "color": "#00cc96",
            "size": [
             18791,
             1890
            ],
            "sizemode": "area",
            "sizeref": 59.31,
            "symbol": "circle"
           },
           "mode": "markers",
           "name": "大洋洲",
           "showlegend": true,
           "type": "scattergeo"
          },
          {
           "geo": "geo",
           "hovertemplate": "<b>%{hovertext}</b><br><br>洲別=亞洲<br>年度=108<br>總人數=%{marker.size}<br>iso_alpha=%{location}<extra></extra>",
           "hovertext": [
            "日本",
            "韓國",
            "泰國",
            "越南",
            "馬來西亞",
            "印尼",
            "印度",
            "土耳其",
            "菲律賓",
            "新加坡",
            "科威特",
            "以色列",
            "沙烏地阿拉伯",
            "阿拉伯聯合大公國(杜拜地區)",
            "巴林"
           ],
           "legendgroup": "亞洲",
           "locations": [
            "JPN",
            "KOR",
            "THA",
            "VNM",
            "MYS",
            "IDN",
            "IND",
            "TUR",
            "PHL",
            "SGP",
            "KWT",
            "ISR",
            "SAU",
            "ARE",
            "BHR"
           ],
           "marker": {
            "color": "#ab63fa",
            "size": [
             9524,
             2162,
             305,
             74,
             501,
             25,
             23,
             20,
             101,
             8,
             10,
             34,
             20,
             4,
             1
            ],
            "sizemode": "area",
            "sizeref": 59.31,
            "symbol": "circle"
           },
           "mode": "markers",
           "name": "亞洲",
           "showlegend": true,
           "type": "scattergeo"
          }
         ],
         "name": "108"
        },
        {
         "data": [
          {
           "geo": "geo",
           "hovertemplate": "<b>%{hovertext}</b><br><br>洲別=歐洲<br>年度=109<br>總人數=%{marker.size}<br>iso_alpha=%{location}<extra></extra>",
           "hovertext": [
            "英國",
            "法國",
            "德國",
            "波蘭",
            "奧地利",
            "西班牙",
            "義大利",
            "荷蘭",
            "比利時",
            "匈牙利",
            "愛爾蘭",
            "俄羅斯",
            "烏克蘭",
            "丹麥",
            "芬蘭",
            "挪威",
            "瑞典",
            "冰島",
            "立陶宛",
            "拉脫維亞",
            "愛沙尼亞",
            "斯洛伐克"
           ],
           "legendgroup": "歐洲",
           "locations": [
            "GBR",
            "FRA",
            "DEU",
            "POL",
            "AUT",
            "ESP",
            "ITA",
            "NLD",
            "BEL",
            "HUN",
            "IRL",
            "RUS",
            "UKR",
            "DNK",
            "FIN",
            "NOR",
            "SWE",
            "ISL",
            "LTU",
            "LVA",
            "EST",
            "SVK"
           ],
           "marker": {
            "color": "#636efa",
            "size": [
             4045,
             668,
             3155,
             1007,
             428,
             350,
             212,
             504,
             178,
             160,
             21,
             71,
             10,
             22,
             37,
             14,
             137,
             0,
             16,
             17,
             8,
             1
            ],
            "sizemode": "area",
            "sizeref": 59.31,
            "symbol": "circle"
           },
           "mode": "markers",
           "name": "歐洲",
           "showlegend": true,
           "type": "scattergeo"
          },
          {
           "geo": "geo",
           "hovertemplate": "<b>%{hovertext}</b><br><br>洲別=美洲<br>年度=109<br>總人數=%{marker.size}<br>iso_alpha=%{location}<extra></extra>",
           "hovertext": [
            "加拿大",
            "美國",
            "智利",
            "哥倫比亞",
            "聖露西亞",
            "宏都拉斯",
            "聖克里斯多福及尼維斯"
           ],
           "legendgroup": "美洲",
           "locations": [
            "CAN",
            "USA",
            "CHL",
            "COL",
            "LCA",
            "HND",
            "KNA"
           ],
           "marker": {
            "color": "#EF553B",
            "size": [
             5123,
             23724,
             1,
             1,
             2,
             4,
             6
            ],
            "sizemode": "area",
            "sizeref": 59.31,
            "symbol": "circle"
           },
           "mode": "markers",
           "name": "美洲",
           "showlegend": true,
           "type": "scattergeo"
          },
          {
           "geo": "geo",
           "hovertemplate": "<b>%{hovertext}</b><br><br>洲別=大洋洲<br>年度=109<br>總人數=%{marker.size}<br>iso_alpha=%{location}<extra></extra>",
           "hovertext": [
            "澳大利亞",
            "紐西蘭",
            "斐濟",
            "帛琉"
           ],
           "legendgroup": "大洋洲",
           "locations": [
            "AUS",
            "NZL",
            "FJI",
            "PLW"
           ],
           "marker": {
            "color": "#00cc96",
            "size": [
             18439,
             1300,
             1,
             10
            ],
            "sizemode": "area",
            "sizeref": 59.31,
            "symbol": "circle"
           },
           "mode": "markers",
           "name": "大洋洲",
           "showlegend": true,
           "type": "scattergeo"
          },
          {
           "geo": "geo",
           "hovertemplate": "<b>%{hovertext}</b><br><br>洲別=亞洲<br>年度=109<br>總人數=%{marker.size}<br>iso_alpha=%{location}<extra></extra>",
           "hovertext": [
            "日本",
            "韓國",
            "泰國",
            "越南",
            "馬來西亞",
            "印尼",
            "印度",
            "土耳其",
            "菲律賓",
            "新加坡",
            "阿曼",
            "蒙古",
            "約旦"
           ],
           "legendgroup": "亞洲",
           "locations": [
            "JPN",
            "KOR",
            "THA",
            "VNM",
            "MYS",
            "IDN",
            "IND",
            "TUR",
            "PHL",
            "SGP",
            "OMN",
            "MNG",
            "JOR"
           ],
           "marker": {
            "color": "#ab63fa",
            "size": [
             9584,
             1382,
             291,
             0,
             346,
             48,
             20,
             28,
             66,
             41,
             1,
             1,
             6
            ],
            "sizemode": "area",
            "sizeref": 59.31,
            "symbol": "circle"
           },
           "mode": "markers",
           "name": "亞洲",
           "showlegend": true,
           "type": "scattergeo"
          },
          {
           "geo": "geo",
           "hovertemplate": "<b>%{hovertext}</b><br><br>洲別=非洲<br>年度=109<br>總人數=%{marker.size}<br>iso_alpha=%{location}<extra></extra>",
           "hovertext": [
            "奈及利亞"
           ],
           "legendgroup": "非洲",
           "locations": [
            "NGA"
           ],
           "marker": {
            "color": "#FFA15A",
            "size": [
             2
            ],
            "sizemode": "area",
            "sizeref": 59.31,
            "symbol": "circle"
           },
           "mode": "markers",
           "name": "非洲",
           "showlegend": true,
           "type": "scattergeo"
          }
         ],
         "name": "109"
        }
       ],
       "layout": {
        "geo": {
         "center": {},
         "domain": {
          "x": [
           0,
           1
          ],
          "y": [
           0,
           1
          ]
         },
         "projection": {
          "type": "natural earth"
         }
        },
        "legend": {
         "itemsizing": "constant",
         "title": {
          "text": "洲別"
         },
         "tracegroupgap": 0
        },
        "margin": {
         "t": 60
        },
        "sliders": [
         {
          "active": 0,
          "currentvalue": {
           "prefix": "年度="
          },
          "len": 0.9,
          "pad": {
           "b": 10,
           "t": 60
          },
          "steps": [
           {
            "args": [
             [
              "105"
             ],
             {
              "frame": {
               "duration": 0,
               "redraw": true
              },
              "fromcurrent": true,
              "mode": "immediate",
              "transition": {
               "duration": 0,
               "easing": "linear"
              }
             }
            ],
            "label": "105",
            "method": "animate"
           },
           {
            "args": [
             [
              "106"
             ],
             {
              "frame": {
               "duration": 0,
               "redraw": true
              },
              "fromcurrent": true,
              "mode": "immediate",
              "transition": {
               "duration": 0,
               "easing": "linear"
              }
             }
            ],
            "label": "106",
            "method": "animate"
           },
           {
            "args": [
             [
              "107"
             ],
             {
              "frame": {
               "duration": 0,
               "redraw": true
              },
              "fromcurrent": true,
              "mode": "immediate",
              "transition": {
               "duration": 0,
               "easing": "linear"
              }
             }
            ],
            "label": "107",
            "method": "animate"
           },
           {
            "args": [
             [
              "108"
             ],
             {
              "frame": {
               "duration": 0,
               "redraw": true
              },
              "fromcurrent": true,
              "mode": "immediate",
              "transition": {
               "duration": 0,
               "easing": "linear"
              }
             }
            ],
            "label": "108",
            "method": "animate"
           },
           {
            "args": [
             [
              "109"
             ],
             {
              "frame": {
               "duration": 0,
               "redraw": true
              },
              "fromcurrent": true,
              "mode": "immediate",
              "transition": {
               "duration": 0,
               "easing": "linear"
              }
             }
            ],
            "label": "109",
            "method": "animate"
           }
          ],
          "x": 0.1,
          "xanchor": "left",
          "y": 0,
          "yanchor": "top"
         }
        ],
        "template": {
         "data": {
          "bar": [
           {
            "error_x": {
             "color": "#2a3f5f"
            },
            "error_y": {
             "color": "#2a3f5f"
            },
            "marker": {
             "line": {
              "color": "#E5ECF6",
              "width": 0.5
             },
             "pattern": {
              "fillmode": "overlay",
              "size": 10,
              "solidity": 0.2
             }
            },
            "type": "bar"
           }
          ],
          "barpolar": [
           {
            "marker": {
             "line": {
              "color": "#E5ECF6",
              "width": 0.5
             },
             "pattern": {
              "fillmode": "overlay",
              "size": 10,
              "solidity": 0.2
             }
            },
            "type": "barpolar"
           }
          ],
          "carpet": [
           {
            "aaxis": {
             "endlinecolor": "#2a3f5f",
             "gridcolor": "white",
             "linecolor": "white",
             "minorgridcolor": "white",
             "startlinecolor": "#2a3f5f"
            },
            "baxis": {
             "endlinecolor": "#2a3f5f",
             "gridcolor": "white",
             "linecolor": "white",
             "minorgridcolor": "white",
             "startlinecolor": "#2a3f5f"
            },
            "type": "carpet"
           }
          ],
          "choropleth": [
           {
            "colorbar": {
             "outlinewidth": 0,
             "ticks": ""
            },
            "type": "choropleth"
           }
          ],
          "contour": [
           {
            "colorbar": {
             "outlinewidth": 0,
             "ticks": ""
            },
            "colorscale": [
             [
              0,
              "#0d0887"
             ],
             [
              0.1111111111111111,
              "#46039f"
             ],
             [
              0.2222222222222222,
              "#7201a8"
             ],
             [
              0.3333333333333333,
              "#9c179e"
             ],
             [
              0.4444444444444444,
              "#bd3786"
             ],
             [
              0.5555555555555556,
              "#d8576b"
             ],
             [
              0.6666666666666666,
              "#ed7953"
             ],
             [
              0.7777777777777778,
              "#fb9f3a"
             ],
             [
              0.8888888888888888,
              "#fdca26"
             ],
             [
              1,
              "#f0f921"
             ]
            ],
            "type": "contour"
           }
          ],
          "contourcarpet": [
           {
            "colorbar": {
             "outlinewidth": 0,
             "ticks": ""
            },
            "type": "contourcarpet"
           }
          ],
          "heatmap": [
           {
            "colorbar": {
             "outlinewidth": 0,
             "ticks": ""
            },
            "colorscale": [
             [
              0,
              "#0d0887"
             ],
             [
              0.1111111111111111,
              "#46039f"
             ],
             [
              0.2222222222222222,
              "#7201a8"
             ],
             [
              0.3333333333333333,
              "#9c179e"
             ],
             [
              0.4444444444444444,
              "#bd3786"
             ],
             [
              0.5555555555555556,
              "#d8576b"
             ],
             [
              0.6666666666666666,
              "#ed7953"
             ],
             [
              0.7777777777777778,
              "#fb9f3a"
             ],
             [
              0.8888888888888888,
              "#fdca26"
             ],
             [
              1,
              "#f0f921"
             ]
            ],
            "type": "heatmap"
           }
          ],
          "heatmapgl": [
           {
            "colorbar": {
             "outlinewidth": 0,
             "ticks": ""
            },
            "colorscale": [
             [
              0,
              "#0d0887"
             ],
             [
              0.1111111111111111,
              "#46039f"
             ],
             [
              0.2222222222222222,
              "#7201a8"
             ],
             [
              0.3333333333333333,
              "#9c179e"
             ],
             [
              0.4444444444444444,
              "#bd3786"
             ],
             [
              0.5555555555555556,
              "#d8576b"
             ],
             [
              0.6666666666666666,
              "#ed7953"
             ],
             [
              0.7777777777777778,
              "#fb9f3a"
             ],
             [
              0.8888888888888888,
              "#fdca26"
             ],
             [
              1,
              "#f0f921"
             ]
            ],
            "type": "heatmapgl"
           }
          ],
          "histogram": [
           {
            "marker": {
             "pattern": {
              "fillmode": "overlay",
              "size": 10,
              "solidity": 0.2
             }
            },
            "type": "histogram"
           }
          ],
          "histogram2d": [
           {
            "colorbar": {
             "outlinewidth": 0,
             "ticks": ""
            },
            "colorscale": [
             [
              0,
              "#0d0887"
             ],
             [
              0.1111111111111111,
              "#46039f"
             ],
             [
              0.2222222222222222,
              "#7201a8"
             ],
             [
              0.3333333333333333,
              "#9c179e"
             ],
             [
              0.4444444444444444,
              "#bd3786"
             ],
             [
              0.5555555555555556,
              "#d8576b"
             ],
             [
              0.6666666666666666,
              "#ed7953"
             ],
             [
              0.7777777777777778,
              "#fb9f3a"
             ],
             [
              0.8888888888888888,
              "#fdca26"
             ],
             [
              1,
              "#f0f921"
             ]
            ],
            "type": "histogram2d"
           }
          ],
          "histogram2dcontour": [
           {
            "colorbar": {
             "outlinewidth": 0,
             "ticks": ""
            },
            "colorscale": [
             [
              0,
              "#0d0887"
             ],
             [
              0.1111111111111111,
              "#46039f"
             ],
             [
              0.2222222222222222,
              "#7201a8"
             ],
             [
              0.3333333333333333,
              "#9c179e"
             ],
             [
              0.4444444444444444,
              "#bd3786"
             ],
             [
              0.5555555555555556,
              "#d8576b"
             ],
             [
              0.6666666666666666,
              "#ed7953"
             ],
             [
              0.7777777777777778,
              "#fb9f3a"
             ],
             [
              0.8888888888888888,
              "#fdca26"
             ],
             [
              1,
              "#f0f921"
             ]
            ],
            "type": "histogram2dcontour"
           }
          ],
          "mesh3d": [
           {
            "colorbar": {
             "outlinewidth": 0,
             "ticks": ""
            },
            "type": "mesh3d"
           }
          ],
          "parcoords": [
           {
            "line": {
             "colorbar": {
              "outlinewidth": 0,
              "ticks": ""
             }
            },
            "type": "parcoords"
           }
          ],
          "pie": [
           {
            "automargin": true,
            "type": "pie"
           }
          ],
          "scatter": [
           {
            "fillpattern": {
             "fillmode": "overlay",
             "size": 10,
             "solidity": 0.2
            },
            "type": "scatter"
           }
          ],
          "scatter3d": [
           {
            "line": {
             "colorbar": {
              "outlinewidth": 0,
              "ticks": ""
             }
            },
            "marker": {
             "colorbar": {
              "outlinewidth": 0,
              "ticks": ""
             }
            },
            "type": "scatter3d"
           }
          ],
          "scattercarpet": [
           {
            "marker": {
             "colorbar": {
              "outlinewidth": 0,
              "ticks": ""
             }
            },
            "type": "scattercarpet"
           }
          ],
          "scattergeo": [
           {
            "marker": {
             "colorbar": {
              "outlinewidth": 0,
              "ticks": ""
             }
            },
            "type": "scattergeo"
           }
          ],
          "scattergl": [
           {
            "marker": {
             "colorbar": {
              "outlinewidth": 0,
              "ticks": ""
             }
            },
            "type": "scattergl"
           }
          ],
          "scattermapbox": [
           {
            "marker": {
             "colorbar": {
              "outlinewidth": 0,
              "ticks": ""
             }
            },
            "type": "scattermapbox"
           }
          ],
          "scatterpolar": [
           {
            "marker": {
             "colorbar": {
              "outlinewidth": 0,
              "ticks": ""
             }
            },
            "type": "scatterpolar"
           }
          ],
          "scatterpolargl": [
           {
            "marker": {
             "colorbar": {
              "outlinewidth": 0,
              "ticks": ""
             }
            },
            "type": "scatterpolargl"
           }
          ],
          "scatterternary": [
           {
            "marker": {
             "colorbar": {
              "outlinewidth": 0,
              "ticks": ""
             }
            },
            "type": "scatterternary"
           }
          ],
          "surface": [
           {
            "colorbar": {
             "outlinewidth": 0,
             "ticks": ""
            },
            "colorscale": [
             [
              0,
              "#0d0887"
             ],
             [
              0.1111111111111111,
              "#46039f"
             ],
             [
              0.2222222222222222,
              "#7201a8"
             ],
             [
              0.3333333333333333,
              "#9c179e"
             ],
             [
              0.4444444444444444,
              "#bd3786"
             ],
             [
              0.5555555555555556,
              "#d8576b"
             ],
             [
              0.6666666666666666,
              "#ed7953"
             ],
             [
              0.7777777777777778,
              "#fb9f3a"
             ],
             [
              0.8888888888888888,
              "#fdca26"
             ],
             [
              1,
              "#f0f921"
             ]
            ],
            "type": "surface"
           }
          ],
          "table": [
           {
            "cells": {
             "fill": {
              "color": "#EBF0F8"
             },
             "line": {
              "color": "white"
             }
            },
            "header": {
             "fill": {
              "color": "#C8D4E3"
             },
             "line": {
              "color": "white"
             }
            },
            "type": "table"
           }
          ]
         },
         "layout": {
          "annotationdefaults": {
           "arrowcolor": "#2a3f5f",
           "arrowhead": 0,
           "arrowwidth": 1
          },
          "autotypenumbers": "strict",
          "coloraxis": {
           "colorbar": {
            "outlinewidth": 0,
            "ticks": ""
           }
          },
          "colorscale": {
           "diverging": [
            [
             0,
             "#8e0152"
            ],
            [
             0.1,
             "#c51b7d"
            ],
            [
             0.2,
             "#de77ae"
            ],
            [
             0.3,
             "#f1b6da"
            ],
            [
             0.4,
             "#fde0ef"
            ],
            [
             0.5,
             "#f7f7f7"
            ],
            [
             0.6,
             "#e6f5d0"
            ],
            [
             0.7,
             "#b8e186"
            ],
            [
             0.8,
             "#7fbc41"
            ],
            [
             0.9,
             "#4d9221"
            ],
            [
             1,
             "#276419"
            ]
           ],
           "sequential": [
            [
             0,
             "#0d0887"
            ],
            [
             0.1111111111111111,
             "#46039f"
            ],
            [
             0.2222222222222222,
             "#7201a8"
            ],
            [
             0.3333333333333333,
             "#9c179e"
            ],
            [
             0.4444444444444444,
             "#bd3786"
            ],
            [
             0.5555555555555556,
             "#d8576b"
            ],
            [
             0.6666666666666666,
             "#ed7953"
            ],
            [
             0.7777777777777778,
             "#fb9f3a"
            ],
            [
             0.8888888888888888,
             "#fdca26"
            ],
            [
             1,
             "#f0f921"
            ]
           ],
           "sequentialminus": [
            [
             0,
             "#0d0887"
            ],
            [
             0.1111111111111111,
             "#46039f"
            ],
            [
             0.2222222222222222,
             "#7201a8"
            ],
            [
             0.3333333333333333,
             "#9c179e"
            ],
            [
             0.4444444444444444,
             "#bd3786"
            ],
            [
             0.5555555555555556,
             "#d8576b"
            ],
            [
             0.6666666666666666,
             "#ed7953"
            ],
            [
             0.7777777777777778,
             "#fb9f3a"
            ],
            [
             0.8888888888888888,
             "#fdca26"
            ],
            [
             1,
             "#f0f921"
            ]
           ]
          },
          "colorway": [
           "#636efa",
           "#EF553B",
           "#00cc96",
           "#ab63fa",
           "#FFA15A",
           "#19d3f3",
           "#FF6692",
           "#B6E880",
           "#FF97FF",
           "#FECB52"
          ],
          "font": {
           "color": "#2a3f5f"
          },
          "geo": {
           "bgcolor": "white",
           "lakecolor": "white",
           "landcolor": "#E5ECF6",
           "showlakes": true,
           "showland": true,
           "subunitcolor": "white"
          },
          "hoverlabel": {
           "align": "left"
          },
          "hovermode": "closest",
          "mapbox": {
           "style": "light"
          },
          "paper_bgcolor": "white",
          "plot_bgcolor": "#E5ECF6",
          "polar": {
           "angularaxis": {
            "gridcolor": "white",
            "linecolor": "white",
            "ticks": ""
           },
           "bgcolor": "#E5ECF6",
           "radialaxis": {
            "gridcolor": "white",
            "linecolor": "white",
            "ticks": ""
           }
          },
          "scene": {
           "xaxis": {
            "backgroundcolor": "#E5ECF6",
            "gridcolor": "white",
            "gridwidth": 2,
            "linecolor": "white",
            "showbackground": true,
            "ticks": "",
            "zerolinecolor": "white"
           },
           "yaxis": {
            "backgroundcolor": "#E5ECF6",
            "gridcolor": "white",
            "gridwidth": 2,
            "linecolor": "white",
            "showbackground": true,
            "ticks": "",
            "zerolinecolor": "white"
           },
           "zaxis": {
            "backgroundcolor": "#E5ECF6",
            "gridcolor": "white",
            "gridwidth": 2,
            "linecolor": "white",
            "showbackground": true,
            "ticks": "",
            "zerolinecolor": "white"
           }
          },
          "shapedefaults": {
           "line": {
            "color": "#2a3f5f"
           }
          },
          "ternary": {
           "aaxis": {
            "gridcolor": "white",
            "linecolor": "white",
            "ticks": ""
           },
           "baxis": {
            "gridcolor": "white",
            "linecolor": "white",
            "ticks": ""
           },
           "bgcolor": "#E5ECF6",
           "caxis": {
            "gridcolor": "white",
            "linecolor": "white",
            "ticks": ""
           }
          },
          "title": {
           "x": 0.05
          },
          "xaxis": {
           "automargin": true,
           "gridcolor": "white",
           "linecolor": "white",
           "ticks": "",
           "title": {
            "standoff": 15
           },
           "zerolinecolor": "white",
           "zerolinewidth": 2
          },
          "yaxis": {
           "automargin": true,
           "gridcolor": "white",
           "linecolor": "white",
           "ticks": "",
           "title": {
            "standoff": 15
           },
           "zerolinecolor": "white",
           "zerolinewidth": 2
          }
         }
        },
        "updatemenus": [
         {
          "buttons": [
           {
            "args": [
             null,
             {
              "frame": {
               "duration": 500,
               "redraw": true
              },
              "fromcurrent": true,
              "mode": "immediate",
              "transition": {
               "duration": 500,
               "easing": "linear"
              }
             }
            ],
            "label": "&#9654;",
            "method": "animate"
           },
           {
            "args": [
             [
              null
             ],
             {
              "frame": {
               "duration": 0,
               "redraw": true
              },
              "fromcurrent": true,
              "mode": "immediate",
              "transition": {
               "duration": 0,
               "easing": "linear"
              }
             }
            ],
            "label": "&#9724;",
            "method": "animate"
           }
          ],
          "direction": "left",
          "pad": {
           "r": 10,
           "t": 70
          },
          "showactive": false,
          "type": "buttons",
          "x": 0.1,
          "xanchor": "right",
          "y": 0,
          "yanchor": "top"
         }
        ]
       }
      },
      "text/html": [
       "<div>                            <div id=\"dd4b4ab1-363d-4b46-a0c7-6bad7c548d46\" class=\"plotly-graph-div\" style=\"height:525px; width:100%;\"></div>            <script type=\"text/javascript\">                require([\"plotly\"], function(Plotly) {                    window.PLOTLYENV=window.PLOTLYENV || {};                                    if (document.getElementById(\"dd4b4ab1-363d-4b46-a0c7-6bad7c548d46\")) {                    Plotly.newPlot(                        \"dd4b4ab1-363d-4b46-a0c7-6bad7c548d46\",                        [{\"geo\":\"geo\",\"hovertemplate\":\"<b>%{hovertext}</b><br><br>\\u6d32\\u5225=\\u6b50\\u6d32<br>\\u5e74\\u5ea6=105<br>\\u7e3d\\u4eba\\u6578=%{marker.size}<br>iso_alpha=%{location}<extra></extra>\",\"hovertext\":[\"\\u82f1\\u570b\",\"\\u5fb7\\u570b\",\"\\u6ce2\\u862d\",\"\\u5967\\u5730\\u5229\",\"\\u4fc4\\u7f85\\u65af\",\"\\u4e39\\u9ea5\",\"\\u6bd4\\u5229\\u6642\",\"\\u8377\\u862d\",\"\\u82ac\\u862d\",\"\\u632a\\u5a01\",\"\\u745e\\u5178\",\"\\u51b0\\u5cf6\"],\"legendgroup\":\"\\u6b50\\u6d32\",\"locations\":[\"GBR\",\"DEU\",\"POL\",\"AUT\",\"RUS\",\"DNK\",\"BEL\",\"NLD\",\"FIN\",\"NOR\",\"SWE\",\"ISL\"],\"marker\":{\"color\":\"#636efa\",\"size\":[3815,1488,561,419,181,33,120,400,37,20,113,2],\"sizemode\":\"area\",\"sizeref\":59.31,\"symbol\":\"circle\"},\"mode\":\"markers\",\"name\":\"\\u6b50\\u6d32\",\"showlegend\":true,\"type\":\"scattergeo\"},{\"geo\":\"geo\",\"hovertemplate\":\"<b>%{hovertext}</b><br><br>\\u6d32\\u5225=\\u7f8e\\u6d32<br>\\u5e74\\u5ea6=105<br>\\u7e3d\\u4eba\\u6578=%{marker.size}<br>iso_alpha=%{location}<extra></extra>\",\"hovertext\":[\"\\u52a0\\u62ff\\u5927\",\"\\u7f8e\\u570b\"],\"legendgroup\":\"\\u7f8e\\u6d32\",\"locations\":[\"CAN\",\"USA\"],\"marker\":{\"color\":\"#EF553B\",\"size\":[4827,21127],\"sizemode\":\"area\",\"sizeref\":59.31,\"symbol\":\"circle\"},\"mode\":\"markers\",\"name\":\"\\u7f8e\\u6d32\",\"showlegend\":true,\"type\":\"scattergeo\"},{\"geo\":\"geo\",\"hovertemplate\":\"<b>%{hovertext}</b><br><br>\\u6d32\\u5225=\\u5927\\u6d0b\\u6d32<br>\\u5e74\\u5ea6=105<br>\\u7e3d\\u4eba\\u6578=%{marker.size}<br>iso_alpha=%{location}<extra></extra>\",\"hovertext\":[\"\\u6fb3\\u5927\\u5229\\u4e9e\",\"\\u7d10\\u897f\\u862d\"],\"legendgroup\":\"\\u5927\\u6d0b\\u6d32\",\"locations\":[\"AUS\",\"NZL\"],\"marker\":{\"color\":\"#00cc96\",\"size\":[13582,1106],\"sizemode\":\"area\",\"sizeref\":59.31,\"symbol\":\"circle\"},\"mode\":\"markers\",\"name\":\"\\u5927\\u6d0b\\u6d32\",\"showlegend\":true,\"type\":\"scattergeo\"},{\"geo\":\"geo\",\"hovertemplate\":\"<b>%{hovertext}</b><br><br>\\u6d32\\u5225=\\u4e9e\\u6d32<br>\\u5e74\\u5ea6=105<br>\\u7e3d\\u4eba\\u6578=%{marker.size}<br>iso_alpha=%{location}<extra></extra>\",\"hovertext\":[\"\\u65e5\\u672c\",\"\\u97d3\\u570b\",\"\\u6cf0\\u570b\",\"\\u65b0\\u52a0\\u5761\",\"\\u99ac\\u4f86\\u897f\\u4e9e\",\"\\u5370\\u5c3c\",\"\\u83f2\\u5f8b\\u8cd3\",\"\\u5370\\u5ea6\",\"\\u8d8a\\u5357\",\"\\u6c76\\u840a\",\"\\u65af\\u91cc\\u862d\\u5361\",\"\\u5c3c\\u6cca\\u723e\",\"\\u5b5f\\u52a0\\u62c9\"],\"legendgroup\":\"\\u4e9e\\u6d32\",\"locations\":[\"JPN\",\"KOR\",\"THA\",\"SGP\",\"MYS\",\"IDN\",\"PHL\",\"IND\",\"VNM\",\"BRN\",\"LKA\",\"NPL\",\"BGD\"],\"marker\":{\"color\":\"#ab63fa\",\"size\":[8444,265,217,9,502,210,64,15,364,19,14,1,1],\"sizemode\":\"area\",\"sizeref\":59.31,\"symbol\":\"circle\"},\"mode\":\"markers\",\"name\":\"\\u4e9e\\u6d32\",\"showlegend\":true,\"type\":\"scattergeo\"}],                        {\"template\":{\"data\":{\"histogram2dcontour\":[{\"type\":\"histogram2dcontour\",\"colorbar\":{\"outlinewidth\":0,\"ticks\":\"\"},\"colorscale\":[[0.0,\"#0d0887\"],[0.1111111111111111,\"#46039f\"],[0.2222222222222222,\"#7201a8\"],[0.3333333333333333,\"#9c179e\"],[0.4444444444444444,\"#bd3786\"],[0.5555555555555556,\"#d8576b\"],[0.6666666666666666,\"#ed7953\"],[0.7777777777777778,\"#fb9f3a\"],[0.8888888888888888,\"#fdca26\"],[1.0,\"#f0f921\"]]}],\"choropleth\":[{\"type\":\"choropleth\",\"colorbar\":{\"outlinewidth\":0,\"ticks\":\"\"}}],\"histogram2d\":[{\"type\":\"histogram2d\",\"colorbar\":{\"outlinewidth\":0,\"ticks\":\"\"},\"colorscale\":[[0.0,\"#0d0887\"],[0.1111111111111111,\"#46039f\"],[0.2222222222222222,\"#7201a8\"],[0.3333333333333333,\"#9c179e\"],[0.4444444444444444,\"#bd3786\"],[0.5555555555555556,\"#d8576b\"],[0.6666666666666666,\"#ed7953\"],[0.7777777777777778,\"#fb9f3a\"],[0.8888888888888888,\"#fdca26\"],[1.0,\"#f0f921\"]]}],\"heatmap\":[{\"type\":\"heatmap\",\"colorbar\":{\"outlinewidth\":0,\"ticks\":\"\"},\"colorscale\":[[0.0,\"#0d0887\"],[0.1111111111111111,\"#46039f\"],[0.2222222222222222,\"#7201a8\"],[0.3333333333333333,\"#9c179e\"],[0.4444444444444444,\"#bd3786\"],[0.5555555555555556,\"#d8576b\"],[0.6666666666666666,\"#ed7953\"],[0.7777777777777778,\"#fb9f3a\"],[0.8888888888888888,\"#fdca26\"],[1.0,\"#f0f921\"]]}],\"heatmapgl\":[{\"type\":\"heatmapgl\",\"colorbar\":{\"outlinewidth\":0,\"ticks\":\"\"},\"colorscale\":[[0.0,\"#0d0887\"],[0.1111111111111111,\"#46039f\"],[0.2222222222222222,\"#7201a8\"],[0.3333333333333333,\"#9c179e\"],[0.4444444444444444,\"#bd3786\"],[0.5555555555555556,\"#d8576b\"],[0.6666666666666666,\"#ed7953\"],[0.7777777777777778,\"#fb9f3a\"],[0.8888888888888888,\"#fdca26\"],[1.0,\"#f0f921\"]]}],\"contourcarpet\":[{\"type\":\"contourcarpet\",\"colorbar\":{\"outlinewidth\":0,\"ticks\":\"\"}}],\"contour\":[{\"type\":\"contour\",\"colorbar\":{\"outlinewidth\":0,\"ticks\":\"\"},\"colorscale\":[[0.0,\"#0d0887\"],[0.1111111111111111,\"#46039f\"],[0.2222222222222222,\"#7201a8\"],[0.3333333333333333,\"#9c179e\"],[0.4444444444444444,\"#bd3786\"],[0.5555555555555556,\"#d8576b\"],[0.6666666666666666,\"#ed7953\"],[0.7777777777777778,\"#fb9f3a\"],[0.8888888888888888,\"#fdca26\"],[1.0,\"#f0f921\"]]}],\"surface\":[{\"type\":\"surface\",\"colorbar\":{\"outlinewidth\":0,\"ticks\":\"\"},\"colorscale\":[[0.0,\"#0d0887\"],[0.1111111111111111,\"#46039f\"],[0.2222222222222222,\"#7201a8\"],[0.3333333333333333,\"#9c179e\"],[0.4444444444444444,\"#bd3786\"],[0.5555555555555556,\"#d8576b\"],[0.6666666666666666,\"#ed7953\"],[0.7777777777777778,\"#fb9f3a\"],[0.8888888888888888,\"#fdca26\"],[1.0,\"#f0f921\"]]}],\"mesh3d\":[{\"type\":\"mesh3d\",\"colorbar\":{\"outlinewidth\":0,\"ticks\":\"\"}}],\"scatter\":[{\"fillpattern\":{\"fillmode\":\"overlay\",\"size\":10,\"solidity\":0.2},\"type\":\"scatter\"}],\"parcoords\":[{\"type\":\"parcoords\",\"line\":{\"colorbar\":{\"outlinewidth\":0,\"ticks\":\"\"}}}],\"scatterpolargl\":[{\"type\":\"scatterpolargl\",\"marker\":{\"colorbar\":{\"outlinewidth\":0,\"ticks\":\"\"}}}],\"bar\":[{\"error_x\":{\"color\":\"#2a3f5f\"},\"error_y\":{\"color\":\"#2a3f5f\"},\"marker\":{\"line\":{\"color\":\"#E5ECF6\",\"width\":0.5},\"pattern\":{\"fillmode\":\"overlay\",\"size\":10,\"solidity\":0.2}},\"type\":\"bar\"}],\"scattergeo\":[{\"type\":\"scattergeo\",\"marker\":{\"colorbar\":{\"outlinewidth\":0,\"ticks\":\"\"}}}],\"scatterpolar\":[{\"type\":\"scatterpolar\",\"marker\":{\"colorbar\":{\"outlinewidth\":0,\"ticks\":\"\"}}}],\"histogram\":[{\"marker\":{\"pattern\":{\"fillmode\":\"overlay\",\"size\":10,\"solidity\":0.2}},\"type\":\"histogram\"}],\"scattergl\":[{\"type\":\"scattergl\",\"marker\":{\"colorbar\":{\"outlinewidth\":0,\"ticks\":\"\"}}}],\"scatter3d\":[{\"type\":\"scatter3d\",\"line\":{\"colorbar\":{\"outlinewidth\":0,\"ticks\":\"\"}},\"marker\":{\"colorbar\":{\"outlinewidth\":0,\"ticks\":\"\"}}}],\"scattermapbox\":[{\"type\":\"scattermapbox\",\"marker\":{\"colorbar\":{\"outlinewidth\":0,\"ticks\":\"\"}}}],\"scatterternary\":[{\"type\":\"scatterternary\",\"marker\":{\"colorbar\":{\"outlinewidth\":0,\"ticks\":\"\"}}}],\"scattercarpet\":[{\"type\":\"scattercarpet\",\"marker\":{\"colorbar\":{\"outlinewidth\":0,\"ticks\":\"\"}}}],\"carpet\":[{\"aaxis\":{\"endlinecolor\":\"#2a3f5f\",\"gridcolor\":\"white\",\"linecolor\":\"white\",\"minorgridcolor\":\"white\",\"startlinecolor\":\"#2a3f5f\"},\"baxis\":{\"endlinecolor\":\"#2a3f5f\",\"gridcolor\":\"white\",\"linecolor\":\"white\",\"minorgridcolor\":\"white\",\"startlinecolor\":\"#2a3f5f\"},\"type\":\"carpet\"}],\"table\":[{\"cells\":{\"fill\":{\"color\":\"#EBF0F8\"},\"line\":{\"color\":\"white\"}},\"header\":{\"fill\":{\"color\":\"#C8D4E3\"},\"line\":{\"color\":\"white\"}},\"type\":\"table\"}],\"barpolar\":[{\"marker\":{\"line\":{\"color\":\"#E5ECF6\",\"width\":0.5},\"pattern\":{\"fillmode\":\"overlay\",\"size\":10,\"solidity\":0.2}},\"type\":\"barpolar\"}],\"pie\":[{\"automargin\":true,\"type\":\"pie\"}]},\"layout\":{\"autotypenumbers\":\"strict\",\"colorway\":[\"#636efa\",\"#EF553B\",\"#00cc96\",\"#ab63fa\",\"#FFA15A\",\"#19d3f3\",\"#FF6692\",\"#B6E880\",\"#FF97FF\",\"#FECB52\"],\"font\":{\"color\":\"#2a3f5f\"},\"hovermode\":\"closest\",\"hoverlabel\":{\"align\":\"left\"},\"paper_bgcolor\":\"white\",\"plot_bgcolor\":\"#E5ECF6\",\"polar\":{\"bgcolor\":\"#E5ECF6\",\"angularaxis\":{\"gridcolor\":\"white\",\"linecolor\":\"white\",\"ticks\":\"\"},\"radialaxis\":{\"gridcolor\":\"white\",\"linecolor\":\"white\",\"ticks\":\"\"}},\"ternary\":{\"bgcolor\":\"#E5ECF6\",\"aaxis\":{\"gridcolor\":\"white\",\"linecolor\":\"white\",\"ticks\":\"\"},\"baxis\":{\"gridcolor\":\"white\",\"linecolor\":\"white\",\"ticks\":\"\"},\"caxis\":{\"gridcolor\":\"white\",\"linecolor\":\"white\",\"ticks\":\"\"}},\"coloraxis\":{\"colorbar\":{\"outlinewidth\":0,\"ticks\":\"\"}},\"colorscale\":{\"sequential\":[[0.0,\"#0d0887\"],[0.1111111111111111,\"#46039f\"],[0.2222222222222222,\"#7201a8\"],[0.3333333333333333,\"#9c179e\"],[0.4444444444444444,\"#bd3786\"],[0.5555555555555556,\"#d8576b\"],[0.6666666666666666,\"#ed7953\"],[0.7777777777777778,\"#fb9f3a\"],[0.8888888888888888,\"#fdca26\"],[1.0,\"#f0f921\"]],\"sequentialminus\":[[0.0,\"#0d0887\"],[0.1111111111111111,\"#46039f\"],[0.2222222222222222,\"#7201a8\"],[0.3333333333333333,\"#9c179e\"],[0.4444444444444444,\"#bd3786\"],[0.5555555555555556,\"#d8576b\"],[0.6666666666666666,\"#ed7953\"],[0.7777777777777778,\"#fb9f3a\"],[0.8888888888888888,\"#fdca26\"],[1.0,\"#f0f921\"]],\"diverging\":[[0,\"#8e0152\"],[0.1,\"#c51b7d\"],[0.2,\"#de77ae\"],[0.3,\"#f1b6da\"],[0.4,\"#fde0ef\"],[0.5,\"#f7f7f7\"],[0.6,\"#e6f5d0\"],[0.7,\"#b8e186\"],[0.8,\"#7fbc41\"],[0.9,\"#4d9221\"],[1,\"#276419\"]]},\"xaxis\":{\"gridcolor\":\"white\",\"linecolor\":\"white\",\"ticks\":\"\",\"title\":{\"standoff\":15},\"zerolinecolor\":\"white\",\"automargin\":true,\"zerolinewidth\":2},\"yaxis\":{\"gridcolor\":\"white\",\"linecolor\":\"white\",\"ticks\":\"\",\"title\":{\"standoff\":15},\"zerolinecolor\":\"white\",\"automargin\":true,\"zerolinewidth\":2},\"scene\":{\"xaxis\":{\"backgroundcolor\":\"#E5ECF6\",\"gridcolor\":\"white\",\"linecolor\":\"white\",\"showbackground\":true,\"ticks\":\"\",\"zerolinecolor\":\"white\",\"gridwidth\":2},\"yaxis\":{\"backgroundcolor\":\"#E5ECF6\",\"gridcolor\":\"white\",\"linecolor\":\"white\",\"showbackground\":true,\"ticks\":\"\",\"zerolinecolor\":\"white\",\"gridwidth\":2},\"zaxis\":{\"backgroundcolor\":\"#E5ECF6\",\"gridcolor\":\"white\",\"linecolor\":\"white\",\"showbackground\":true,\"ticks\":\"\",\"zerolinecolor\":\"white\",\"gridwidth\":2}},\"shapedefaults\":{\"line\":{\"color\":\"#2a3f5f\"}},\"annotationdefaults\":{\"arrowcolor\":\"#2a3f5f\",\"arrowhead\":0,\"arrowwidth\":1},\"geo\":{\"bgcolor\":\"white\",\"landcolor\":\"#E5ECF6\",\"subunitcolor\":\"white\",\"showland\":true,\"showlakes\":true,\"lakecolor\":\"white\"},\"title\":{\"x\":0.05},\"mapbox\":{\"style\":\"light\"}}},\"geo\":{\"domain\":{\"x\":[0.0,1.0],\"y\":[0.0,1.0]},\"projection\":{\"type\":\"natural earth\"},\"center\":{}},\"legend\":{\"title\":{\"text\":\"\\u6d32\\u5225\"},\"tracegroupgap\":0,\"itemsizing\":\"constant\"},\"margin\":{\"t\":60},\"updatemenus\":[{\"buttons\":[{\"args\":[null,{\"frame\":{\"duration\":500,\"redraw\":true},\"mode\":\"immediate\",\"fromcurrent\":true,\"transition\":{\"duration\":500,\"easing\":\"linear\"}}],\"label\":\"&#9654;\",\"method\":\"animate\"},{\"args\":[[null],{\"frame\":{\"duration\":0,\"redraw\":true},\"mode\":\"immediate\",\"fromcurrent\":true,\"transition\":{\"duration\":0,\"easing\":\"linear\"}}],\"label\":\"&#9724;\",\"method\":\"animate\"}],\"direction\":\"left\",\"pad\":{\"r\":10,\"t\":70},\"showactive\":false,\"type\":\"buttons\",\"x\":0.1,\"xanchor\":\"right\",\"y\":0,\"yanchor\":\"top\"}],\"sliders\":[{\"active\":0,\"currentvalue\":{\"prefix\":\"\\u5e74\\u5ea6=\"},\"len\":0.9,\"pad\":{\"b\":10,\"t\":60},\"steps\":[{\"args\":[[\"105\"],{\"frame\":{\"duration\":0,\"redraw\":true},\"mode\":\"immediate\",\"fromcurrent\":true,\"transition\":{\"duration\":0,\"easing\":\"linear\"}}],\"label\":\"105\",\"method\":\"animate\"},{\"args\":[[\"106\"],{\"frame\":{\"duration\":0,\"redraw\":true},\"mode\":\"immediate\",\"fromcurrent\":true,\"transition\":{\"duration\":0,\"easing\":\"linear\"}}],\"label\":\"106\",\"method\":\"animate\"},{\"args\":[[\"107\"],{\"frame\":{\"duration\":0,\"redraw\":true},\"mode\":\"immediate\",\"fromcurrent\":true,\"transition\":{\"duration\":0,\"easing\":\"linear\"}}],\"label\":\"107\",\"method\":\"animate\"},{\"args\":[[\"108\"],{\"frame\":{\"duration\":0,\"redraw\":true},\"mode\":\"immediate\",\"fromcurrent\":true,\"transition\":{\"duration\":0,\"easing\":\"linear\"}}],\"label\":\"108\",\"method\":\"animate\"},{\"args\":[[\"109\"],{\"frame\":{\"duration\":0,\"redraw\":true},\"mode\":\"immediate\",\"fromcurrent\":true,\"transition\":{\"duration\":0,\"easing\":\"linear\"}}],\"label\":\"109\",\"method\":\"animate\"}],\"x\":0.1,\"xanchor\":\"left\",\"y\":0,\"yanchor\":\"top\"}]},                        {\"responsive\": true}                    ).then(function(){\n",
       "                            Plotly.addFrames('dd4b4ab1-363d-4b46-a0c7-6bad7c548d46', [{\"data\":[{\"geo\":\"geo\",\"hovertemplate\":\"<b>%{hovertext}</b><br><br>\\u6d32\\u5225=\\u6b50\\u6d32<br>\\u5e74\\u5ea6=105<br>\\u7e3d\\u4eba\\u6578=%{marker.size}<br>iso_alpha=%{location}<extra></extra>\",\"hovertext\":[\"\\u82f1\\u570b\",\"\\u5fb7\\u570b\",\"\\u6ce2\\u862d\",\"\\u5967\\u5730\\u5229\",\"\\u4fc4\\u7f85\\u65af\",\"\\u4e39\\u9ea5\",\"\\u6bd4\\u5229\\u6642\",\"\\u8377\\u862d\",\"\\u82ac\\u862d\",\"\\u632a\\u5a01\",\"\\u745e\\u5178\",\"\\u51b0\\u5cf6\"],\"legendgroup\":\"\\u6b50\\u6d32\",\"locations\":[\"GBR\",\"DEU\",\"POL\",\"AUT\",\"RUS\",\"DNK\",\"BEL\",\"NLD\",\"FIN\",\"NOR\",\"SWE\",\"ISL\"],\"marker\":{\"color\":\"#636efa\",\"size\":[3815,1488,561,419,181,33,120,400,37,20,113,2],\"sizemode\":\"area\",\"sizeref\":59.31,\"symbol\":\"circle\"},\"mode\":\"markers\",\"name\":\"\\u6b50\\u6d32\",\"showlegend\":true,\"type\":\"scattergeo\"},{\"geo\":\"geo\",\"hovertemplate\":\"<b>%{hovertext}</b><br><br>\\u6d32\\u5225=\\u7f8e\\u6d32<br>\\u5e74\\u5ea6=105<br>\\u7e3d\\u4eba\\u6578=%{marker.size}<br>iso_alpha=%{location}<extra></extra>\",\"hovertext\":[\"\\u52a0\\u62ff\\u5927\",\"\\u7f8e\\u570b\"],\"legendgroup\":\"\\u7f8e\\u6d32\",\"locations\":[\"CAN\",\"USA\"],\"marker\":{\"color\":\"#EF553B\",\"size\":[4827,21127],\"sizemode\":\"area\",\"sizeref\":59.31,\"symbol\":\"circle\"},\"mode\":\"markers\",\"name\":\"\\u7f8e\\u6d32\",\"showlegend\":true,\"type\":\"scattergeo\"},{\"geo\":\"geo\",\"hovertemplate\":\"<b>%{hovertext}</b><br><br>\\u6d32\\u5225=\\u5927\\u6d0b\\u6d32<br>\\u5e74\\u5ea6=105<br>\\u7e3d\\u4eba\\u6578=%{marker.size}<br>iso_alpha=%{location}<extra></extra>\",\"hovertext\":[\"\\u6fb3\\u5927\\u5229\\u4e9e\",\"\\u7d10\\u897f\\u862d\"],\"legendgroup\":\"\\u5927\\u6d0b\\u6d32\",\"locations\":[\"AUS\",\"NZL\"],\"marker\":{\"color\":\"#00cc96\",\"size\":[13582,1106],\"sizemode\":\"area\",\"sizeref\":59.31,\"symbol\":\"circle\"},\"mode\":\"markers\",\"name\":\"\\u5927\\u6d0b\\u6d32\",\"showlegend\":true,\"type\":\"scattergeo\"},{\"geo\":\"geo\",\"hovertemplate\":\"<b>%{hovertext}</b><br><br>\\u6d32\\u5225=\\u4e9e\\u6d32<br>\\u5e74\\u5ea6=105<br>\\u7e3d\\u4eba\\u6578=%{marker.size}<br>iso_alpha=%{location}<extra></extra>\",\"hovertext\":[\"\\u65e5\\u672c\",\"\\u97d3\\u570b\",\"\\u6cf0\\u570b\",\"\\u65b0\\u52a0\\u5761\",\"\\u99ac\\u4f86\\u897f\\u4e9e\",\"\\u5370\\u5c3c\",\"\\u83f2\\u5f8b\\u8cd3\",\"\\u5370\\u5ea6\",\"\\u8d8a\\u5357\",\"\\u6c76\\u840a\",\"\\u65af\\u91cc\\u862d\\u5361\",\"\\u5c3c\\u6cca\\u723e\",\"\\u5b5f\\u52a0\\u62c9\"],\"legendgroup\":\"\\u4e9e\\u6d32\",\"locations\":[\"JPN\",\"KOR\",\"THA\",\"SGP\",\"MYS\",\"IDN\",\"PHL\",\"IND\",\"VNM\",\"BRN\",\"LKA\",\"NPL\",\"BGD\"],\"marker\":{\"color\":\"#ab63fa\",\"size\":[8444,265,217,9,502,210,64,15,364,19,14,1,1],\"sizemode\":\"area\",\"sizeref\":59.31,\"symbol\":\"circle\"},\"mode\":\"markers\",\"name\":\"\\u4e9e\\u6d32\",\"showlegend\":true,\"type\":\"scattergeo\"}],\"name\":\"105\"},{\"data\":[{\"geo\":\"geo\",\"hovertemplate\":\"<b>%{hovertext}</b><br><br>\\u6d32\\u5225=\\u6b50\\u6d32<br>\\u5e74\\u5ea6=106<br>\\u7e3d\\u4eba\\u6578=%{marker.size}<br>iso_alpha=%{location}<extra></extra>\",\"hovertext\":[\"\\u82f1\\u570b\",\"\\u6cd5\\u570b\",\"\\u5fb7\\u570b\",\"\\u6ce2\\u862d\",\"\\u5967\\u5730\\u5229\",\"\\u6377\\u514b\",\"\\u6bd4\\u5229\\u6642\",\"\\u745e\\u58eb\",\"\\u7fa9\\u5927\\u5229\",\"\\u897f\\u73ed\\u7259\",\"\\u571f\\u8033\\u5176\",\"\\u611b\\u723e\\u862d\",\"\\u4fc4\\u7f85\\u65af\",\"\\u4e39\\u9ea5\",\"\\u8377\\u862d\",\"\\u82ac\\u862d\",\"\\u632a\\u5a01\",\"\\u745e\\u5178\"],\"legendgroup\":\"\\u6b50\\u6d32\",\"locations\":[\"GBR\",\"FRA\",\"DEU\",\"POL\",\"AUT\",\"CZE\",\"BEL\",\"CHE\",\"ITA\",\"ESP\",\"TUR\",\"IRL\",\"RUS\",\"DNK\",\"NLD\",\"FIN\",\"NOR\",\"SWE\"],\"marker\":{\"color\":\"#636efa\",\"size\":[3920,1004,1755,758,456,43,120,307,250,300,36,10,172,24,400,45,7,105],\"sizemode\":\"area\",\"sizeref\":59.31,\"symbol\":\"circle\"},\"mode\":\"markers\",\"name\":\"\\u6b50\\u6d32\",\"showlegend\":true,\"type\":\"scattergeo\"},{\"geo\":\"geo\",\"hovertemplate\":\"<b>%{hovertext}</b><br><br>\\u6d32\\u5225=\\u7f8e\\u6d32<br>\\u5e74\\u5ea6=106<br>\\u7e3d\\u4eba\\u6578=%{marker.size}<br>iso_alpha=%{location}<extra></extra>\",\"hovertext\":[\"\\u52a0\\u62ff\\u5927\",\"\\u7f8e\\u570b\",\"\\u5df4\\u62ff\\u99ac\"],\"legendgroup\":\"\\u7f8e\\u6d32\",\"locations\":[\"CAN\",\"USA\",\"PAN\"],\"marker\":{\"color\":\"#EF553B\",\"size\":[3202,21127,20],\"sizemode\":\"area\",\"sizeref\":59.31,\"symbol\":\"circle\"},\"mode\":\"markers\",\"name\":\"\\u7f8e\\u6d32\",\"showlegend\":true,\"type\":\"scattergeo\"},{\"geo\":\"geo\",\"hovertemplate\":\"<b>%{hovertext}</b><br><br>\\u6d32\\u5225=\\u5927\\u6d0b\\u6d32<br>\\u5e74\\u5ea6=106<br>\\u7e3d\\u4eba\\u6578=%{marker.size}<br>iso_alpha=%{location}<extra></extra>\",\"hovertext\":[\"\\u6fb3\\u5927\\u5229\\u4e9e\",\"\\u7d10\\u897f\\u862d\"],\"legendgroup\":\"\\u5927\\u6d0b\\u6d32\",\"locations\":[\"AUS\",\"NZL\"],\"marker\":{\"color\":\"#00cc96\",\"size\":[16573,1820],\"sizemode\":\"area\",\"sizeref\":59.31,\"symbol\":\"circle\"},\"mode\":\"markers\",\"name\":\"\\u5927\\u6d0b\\u6d32\",\"showlegend\":true,\"type\":\"scattergeo\"},{\"geo\":\"geo\",\"hovertemplate\":\"<b>%{hovertext}</b><br><br>\\u6d32\\u5225=\\u4e9e\\u6d32<br>\\u5e74\\u5ea6=106<br>\\u7e3d\\u4eba\\u6578=%{marker.size}<br>iso_alpha=%{location}<extra></extra>\",\"hovertext\":[\"\\u65e5\\u672c\",\"\\u97d3\\u570b\",\"\\u6cf0\\u570b\",\"\\u8d8a\\u5357\",\"\\u99ac\\u4f86\\u897f\\u4e9e\",\"\\u5370\\u5c3c\",\"\\u5370\\u5ea6\",\"\\u4ee5\\u8272\\u5217\",\"\\u963f\\u62c9\\u4f2f\\u806f\\u5408\\u5927\\u516c\\u570b(\\u675c\\u62dc\\u5730\\u5340)\",\"\\u7d04\\u65e6\"],\"legendgroup\":\"\\u4e9e\\u6d32\",\"locations\":[\"JPN\",\"KOR\",\"THA\",\"VNM\",\"MYS\",\"IDN\",\"IND\",\"ISR\",\"ARE\",\"JOR\"],\"marker\":{\"color\":\"#ab63fa\",\"size\":[9642,242,176,154,513,16,13,19,21,20],\"sizemode\":\"area\",\"sizeref\":59.31,\"symbol\":\"circle\"},\"mode\":\"markers\",\"name\":\"\\u4e9e\\u6d32\",\"showlegend\":true,\"type\":\"scattergeo\"}],\"name\":\"106\"},{\"data\":[{\"geo\":\"geo\",\"hovertemplate\":\"<b>%{hovertext}</b><br><br>\\u6d32\\u5225=\\u6b50\\u6d32<br>\\u5e74\\u5ea6=107<br>\\u7e3d\\u4eba\\u6578=%{marker.size}<br>iso_alpha=%{location}<extra></extra>\",\"hovertext\":[\"\\u82f1\\u570b\",\"\\u6cd5\\u570b\",\"\\u5fb7\\u570b\",\"\\u6ce2\\u862d\",\"\\u5967\\u5730\\u5229\",\"\\u6377\\u514b\",\"\\u8377\\u862d\",\"\\u6bd4\\u5229\\u6642\",\"\\u5308\\u7259\\u5229\",\"\\u571f\\u8033\\u5176\",\"\\u611b\\u723e\\u862d\",\"\\u4fc4\\u7f85\\u65af\",\"\\u4e39\\u9ea5\",\"\\u82ac\\u862d\",\"\\u632a\\u5a01\",\"\\u745e\\u5178\"],\"legendgroup\":\"\\u6b50\\u6d32\",\"locations\":[\"GBR\",\"FRA\",\"DEU\",\"POL\",\"AUT\",\"CZE\",\"NLD\",\"BEL\",\"HUN\",\"TUR\",\"IRL\",\"RUS\",\"DNK\",\"FIN\",\"NOR\",\"SWE\"],\"marker\":{\"color\":\"#636efa\",\"size\":[3775,1079,2013,758,400,26,408,156,53,30,18,146,16,71,20,133],\"sizemode\":\"area\",\"sizeref\":59.31,\"symbol\":\"circle\"},\"mode\":\"markers\",\"name\":\"\\u6b50\\u6d32\",\"showlegend\":true,\"type\":\"scattergeo\"},{\"geo\":\"geo\",\"hovertemplate\":\"<b>%{hovertext}</b><br><br>\\u6d32\\u5225=\\u7f8e\\u6d32<br>\\u5e74\\u5ea6=107<br>\\u7e3d\\u4eba\\u6578=%{marker.size}<br>iso_alpha=%{location}<extra></extra>\",\"hovertext\":[\"\\u52a0\\u62ff\\u5927\",\"\\u7f8e\\u570b\",\"\\u667a\\u5229\",\"\\u54e5\\u502b\\u6bd4\\u4e9e\",\"\\u8056\\u9732\\u897f\\u4e9e\",\"\\u8056\\u514b\\u91cc\\u65af\\u591a\\u798f\\u53ca\\u5c3c\\u7dad\\u65af\"],\"legendgroup\":\"\\u7f8e\\u6d32\",\"locations\":[\"CAN\",\"USA\",\"CHL\",\"COL\",\"LCA\",\"KNA\"],\"marker\":{\"color\":\"#EF553B\",\"size\":[5330,21516,1,1,7,1],\"sizemode\":\"area\",\"sizeref\":59.31,\"symbol\":\"circle\"},\"mode\":\"markers\",\"name\":\"\\u7f8e\\u6d32\",\"showlegend\":true,\"type\":\"scattergeo\"},{\"geo\":\"geo\",\"hovertemplate\":\"<b>%{hovertext}</b><br><br>\\u6d32\\u5225=\\u5927\\u6d0b\\u6d32<br>\\u5e74\\u5ea6=107<br>\\u7e3d\\u4eba\\u6578=%{marker.size}<br>iso_alpha=%{location}<extra></extra>\",\"hovertext\":[\"\\u6fb3\\u5927\\u5229\\u4e9e\",\"\\u7d10\\u897f\\u862d\"],\"legendgroup\":\"\\u5927\\u6d0b\\u6d32\",\"locations\":[\"AUS\",\"NZL\"],\"marker\":{\"color\":\"#00cc96\",\"size\":[18227,2070],\"sizemode\":\"area\",\"sizeref\":59.31,\"symbol\":\"circle\"},\"mode\":\"markers\",\"name\":\"\\u5927\\u6d0b\\u6d32\",\"showlegend\":true,\"type\":\"scattergeo\"},{\"geo\":\"geo\",\"hovertemplate\":\"<b>%{hovertext}</b><br><br>\\u6d32\\u5225=\\u4e9e\\u6d32<br>\\u5e74\\u5ea6=107<br>\\u7e3d\\u4eba\\u6578=%{marker.size}<br>iso_alpha=%{location}<extra></extra>\",\"hovertext\":[\"\\u65e5\\u672c\",\"\\u97d3\\u570b\",\"\\u6cf0\\u570b\",\"\\u8d8a\\u5357\",\"\\u99ac\\u4f86\\u897f\\u4e9e\",\"\\u5370\\u5c3c\",\"\\u5370\\u5ea6\",\"\\u7dec\\u7538\",\"\\u65b0\\u52a0\\u5761\",\"\\u79d1\\u5a01\\u7279\",\"\\u4ee5\\u8272\\u5217\",\"\\u6c99\\u70cf\\u5730\\u963f\\u62c9\\u4f2f\",\"\\u963f\\u62c9\\u4f2f\\u806f\\u5408\\u5927\\u516c\\u570b(\\u675c\\u62dc\\u5730\\u5340)\",\"\\u5df4\\u6797\"],\"legendgroup\":\"\\u4e9e\\u6d32\",\"locations\":[\"JPN\",\"KOR\",\"THA\",\"VNM\",\"MYS\",\"IDN\",\"IND\",\"MMR\",\"SGP\",\"KWT\",\"ISR\",\"SAU\",\"ARE\",\"BHR\"],\"marker\":{\"color\":\"#ab63fa\",\"size\":[10347,123,199,60,498,25,18,1,2,9,29,22,4,1],\"sizemode\":\"area\",\"sizeref\":59.31,\"symbol\":\"circle\"},\"mode\":\"markers\",\"name\":\"\\u4e9e\\u6d32\",\"showlegend\":true,\"type\":\"scattergeo\"}],\"name\":\"107\"},{\"data\":[{\"geo\":\"geo\",\"hovertemplate\":\"<b>%{hovertext}</b><br><br>\\u6d32\\u5225=\\u6b50\\u6d32<br>\\u5e74\\u5ea6=108<br>\\u7e3d\\u4eba\\u6578=%{marker.size}<br>iso_alpha=%{location}<extra></extra>\",\"hovertext\":[\"\\u82f1\\u570b\",\"\\u6cd5\\u570b\",\"\\u5fb7\\u570b\",\"\\u6ce2\\u862d\",\"\\u5967\\u5730\\u5229\",\"\\u897f\\u73ed\\u7259\",\"\\u7fa9\\u5927\\u5229\",\"\\u8377\\u862d\",\"\\u6bd4\\u5229\\u6642\",\"\\u5308\\u7259\\u5229\",\"\\u611b\\u723e\\u862d\",\"\\u4fc4\\u7f85\\u65af\",\"\\u4e39\\u9ea5\",\"\\u82ac\\u862d\",\"\\u632a\\u5a01\",\"\\u745e\\u5178\",\"\\u51b0\\u5cf6\"],\"legendgroup\":\"\\u6b50\\u6d32\",\"locations\":[\"GBR\",\"FRA\",\"DEU\",\"POL\",\"AUT\",\"ESP\",\"ITA\",\"NLD\",\"BEL\",\"HUN\",\"IRL\",\"RUS\",\"DNK\",\"FIN\",\"NOR\",\"SWE\",\"ISL\"],\"marker\":{\"color\":\"#636efa\",\"size\":[3850,648,2390,853,413,450,197,353,232,147,21,160,23,46,12,160,2],\"sizemode\":\"area\",\"sizeref\":59.31,\"symbol\":\"circle\"},\"mode\":\"markers\",\"name\":\"\\u6b50\\u6d32\",\"showlegend\":true,\"type\":\"scattergeo\"},{\"geo\":\"geo\",\"hovertemplate\":\"<b>%{hovertext}</b><br><br>\\u6d32\\u5225=\\u7f8e\\u6d32<br>\\u5e74\\u5ea6=108<br>\\u7e3d\\u4eba\\u6578=%{marker.size}<br>iso_alpha=%{location}<extra></extra>\",\"hovertext\":[\"\\u52a0\\u62ff\\u5927\",\"\\u7f8e\\u570b\",\"\\u667a\\u5229\",\"\\u54e5\\u502b\\u6bd4\\u4e9e\",\"\\u8056\\u9732\\u897f\\u4e9e\",\"\\u8056\\u514b\\u91cc\\u65af\\u591a\\u798f\\u53ca\\u5c3c\\u7dad\\u65af\"],\"legendgroup\":\"\\u7f8e\\u6d32\",\"locations\":[\"CAN\",\"USA\",\"CHL\",\"COL\",\"LCA\",\"KNA\"],\"marker\":{\"color\":\"#EF553B\",\"size\":[4390,23369,1,5,3,3],\"sizemode\":\"area\",\"sizeref\":59.31,\"symbol\":\"circle\"},\"mode\":\"markers\",\"name\":\"\\u7f8e\\u6d32\",\"showlegend\":true,\"type\":\"scattergeo\"},{\"geo\":\"geo\",\"hovertemplate\":\"<b>%{hovertext}</b><br><br>\\u6d32\\u5225=\\u5927\\u6d0b\\u6d32<br>\\u5e74\\u5ea6=108<br>\\u7e3d\\u4eba\\u6578=%{marker.size}<br>iso_alpha=%{location}<extra></extra>\",\"hovertext\":[\"\\u6fb3\\u5927\\u5229\\u4e9e\",\"\\u7d10\\u897f\\u862d\"],\"legendgroup\":\"\\u5927\\u6d0b\\u6d32\",\"locations\":[\"AUS\",\"NZL\"],\"marker\":{\"color\":\"#00cc96\",\"size\":[18791,1890],\"sizemode\":\"area\",\"sizeref\":59.31,\"symbol\":\"circle\"},\"mode\":\"markers\",\"name\":\"\\u5927\\u6d0b\\u6d32\",\"showlegend\":true,\"type\":\"scattergeo\"},{\"geo\":\"geo\",\"hovertemplate\":\"<b>%{hovertext}</b><br><br>\\u6d32\\u5225=\\u4e9e\\u6d32<br>\\u5e74\\u5ea6=108<br>\\u7e3d\\u4eba\\u6578=%{marker.size}<br>iso_alpha=%{location}<extra></extra>\",\"hovertext\":[\"\\u65e5\\u672c\",\"\\u97d3\\u570b\",\"\\u6cf0\\u570b\",\"\\u8d8a\\u5357\",\"\\u99ac\\u4f86\\u897f\\u4e9e\",\"\\u5370\\u5c3c\",\"\\u5370\\u5ea6\",\"\\u571f\\u8033\\u5176\",\"\\u83f2\\u5f8b\\u8cd3\",\"\\u65b0\\u52a0\\u5761\",\"\\u79d1\\u5a01\\u7279\",\"\\u4ee5\\u8272\\u5217\",\"\\u6c99\\u70cf\\u5730\\u963f\\u62c9\\u4f2f\",\"\\u963f\\u62c9\\u4f2f\\u806f\\u5408\\u5927\\u516c\\u570b(\\u675c\\u62dc\\u5730\\u5340)\",\"\\u5df4\\u6797\"],\"legendgroup\":\"\\u4e9e\\u6d32\",\"locations\":[\"JPN\",\"KOR\",\"THA\",\"VNM\",\"MYS\",\"IDN\",\"IND\",\"TUR\",\"PHL\",\"SGP\",\"KWT\",\"ISR\",\"SAU\",\"ARE\",\"BHR\"],\"marker\":{\"color\":\"#ab63fa\",\"size\":[9524,2162,305,74,501,25,23,20,101,8,10,34,20,4,1],\"sizemode\":\"area\",\"sizeref\":59.31,\"symbol\":\"circle\"},\"mode\":\"markers\",\"name\":\"\\u4e9e\\u6d32\",\"showlegend\":true,\"type\":\"scattergeo\"}],\"name\":\"108\"},{\"data\":[{\"geo\":\"geo\",\"hovertemplate\":\"<b>%{hovertext}</b><br><br>\\u6d32\\u5225=\\u6b50\\u6d32<br>\\u5e74\\u5ea6=109<br>\\u7e3d\\u4eba\\u6578=%{marker.size}<br>iso_alpha=%{location}<extra></extra>\",\"hovertext\":[\"\\u82f1\\u570b\",\"\\u6cd5\\u570b\",\"\\u5fb7\\u570b\",\"\\u6ce2\\u862d\",\"\\u5967\\u5730\\u5229\",\"\\u897f\\u73ed\\u7259\",\"\\u7fa9\\u5927\\u5229\",\"\\u8377\\u862d\",\"\\u6bd4\\u5229\\u6642\",\"\\u5308\\u7259\\u5229\",\"\\u611b\\u723e\\u862d\",\"\\u4fc4\\u7f85\\u65af\",\"\\u70cf\\u514b\\u862d\",\"\\u4e39\\u9ea5\",\"\\u82ac\\u862d\",\"\\u632a\\u5a01\",\"\\u745e\\u5178\",\"\\u51b0\\u5cf6\",\"\\u7acb\\u9676\\u5b9b\",\"\\u62c9\\u812b\\u7dad\\u4e9e\",\"\\u611b\\u6c99\\u5c3c\\u4e9e\",\"\\u65af\\u6d1b\\u4f10\\u514b\"],\"legendgroup\":\"\\u6b50\\u6d32\",\"locations\":[\"GBR\",\"FRA\",\"DEU\",\"POL\",\"AUT\",\"ESP\",\"ITA\",\"NLD\",\"BEL\",\"HUN\",\"IRL\",\"RUS\",\"UKR\",\"DNK\",\"FIN\",\"NOR\",\"SWE\",\"ISL\",\"LTU\",\"LVA\",\"EST\",\"SVK\"],\"marker\":{\"color\":\"#636efa\",\"size\":[4045,668,3155,1007,428,350,212,504,178,160,21,71,10,22,37,14,137,0,16,17,8,1],\"sizemode\":\"area\",\"sizeref\":59.31,\"symbol\":\"circle\"},\"mode\":\"markers\",\"name\":\"\\u6b50\\u6d32\",\"showlegend\":true,\"type\":\"scattergeo\"},{\"geo\":\"geo\",\"hovertemplate\":\"<b>%{hovertext}</b><br><br>\\u6d32\\u5225=\\u7f8e\\u6d32<br>\\u5e74\\u5ea6=109<br>\\u7e3d\\u4eba\\u6578=%{marker.size}<br>iso_alpha=%{location}<extra></extra>\",\"hovertext\":[\"\\u52a0\\u62ff\\u5927\",\"\\u7f8e\\u570b\",\"\\u667a\\u5229\",\"\\u54e5\\u502b\\u6bd4\\u4e9e\",\"\\u8056\\u9732\\u897f\\u4e9e\",\"\\u5b8f\\u90fd\\u62c9\\u65af\",\"\\u8056\\u514b\\u91cc\\u65af\\u591a\\u798f\\u53ca\\u5c3c\\u7dad\\u65af\"],\"legendgroup\":\"\\u7f8e\\u6d32\",\"locations\":[\"CAN\",\"USA\",\"CHL\",\"COL\",\"LCA\",\"HND\",\"KNA\"],\"marker\":{\"color\":\"#EF553B\",\"size\":[5123,23724,1,1,2,4,6],\"sizemode\":\"area\",\"sizeref\":59.31,\"symbol\":\"circle\"},\"mode\":\"markers\",\"name\":\"\\u7f8e\\u6d32\",\"showlegend\":true,\"type\":\"scattergeo\"},{\"geo\":\"geo\",\"hovertemplate\":\"<b>%{hovertext}</b><br><br>\\u6d32\\u5225=\\u5927\\u6d0b\\u6d32<br>\\u5e74\\u5ea6=109<br>\\u7e3d\\u4eba\\u6578=%{marker.size}<br>iso_alpha=%{location}<extra></extra>\",\"hovertext\":[\"\\u6fb3\\u5927\\u5229\\u4e9e\",\"\\u7d10\\u897f\\u862d\",\"\\u6590\\u6fdf\",\"\\u5e1b\\u7409\"],\"legendgroup\":\"\\u5927\\u6d0b\\u6d32\",\"locations\":[\"AUS\",\"NZL\",\"FJI\",\"PLW\"],\"marker\":{\"color\":\"#00cc96\",\"size\":[18439,1300,1,10],\"sizemode\":\"area\",\"sizeref\":59.31,\"symbol\":\"circle\"},\"mode\":\"markers\",\"name\":\"\\u5927\\u6d0b\\u6d32\",\"showlegend\":true,\"type\":\"scattergeo\"},{\"geo\":\"geo\",\"hovertemplate\":\"<b>%{hovertext}</b><br><br>\\u6d32\\u5225=\\u4e9e\\u6d32<br>\\u5e74\\u5ea6=109<br>\\u7e3d\\u4eba\\u6578=%{marker.size}<br>iso_alpha=%{location}<extra></extra>\",\"hovertext\":[\"\\u65e5\\u672c\",\"\\u97d3\\u570b\",\"\\u6cf0\\u570b\",\"\\u8d8a\\u5357\",\"\\u99ac\\u4f86\\u897f\\u4e9e\",\"\\u5370\\u5c3c\",\"\\u5370\\u5ea6\",\"\\u571f\\u8033\\u5176\",\"\\u83f2\\u5f8b\\u8cd3\",\"\\u65b0\\u52a0\\u5761\",\"\\u963f\\u66fc\",\"\\u8499\\u53e4\",\"\\u7d04\\u65e6\"],\"legendgroup\":\"\\u4e9e\\u6d32\",\"locations\":[\"JPN\",\"KOR\",\"THA\",\"VNM\",\"MYS\",\"IDN\",\"IND\",\"TUR\",\"PHL\",\"SGP\",\"OMN\",\"MNG\",\"JOR\"],\"marker\":{\"color\":\"#ab63fa\",\"size\":[9584,1382,291,0,346,48,20,28,66,41,1,1,6],\"sizemode\":\"area\",\"sizeref\":59.31,\"symbol\":\"circle\"},\"mode\":\"markers\",\"name\":\"\\u4e9e\\u6d32\",\"showlegend\":true,\"type\":\"scattergeo\"},{\"geo\":\"geo\",\"hovertemplate\":\"<b>%{hovertext}</b><br><br>\\u6d32\\u5225=\\u975e\\u6d32<br>\\u5e74\\u5ea6=109<br>\\u7e3d\\u4eba\\u6578=%{marker.size}<br>iso_alpha=%{location}<extra></extra>\",\"hovertext\":[\"\\u5948\\u53ca\\u5229\\u4e9e\"],\"legendgroup\":\"\\u975e\\u6d32\",\"locations\":[\"NGA\"],\"marker\":{\"color\":\"#FFA15A\",\"size\":[2],\"sizemode\":\"area\",\"sizeref\":59.31,\"symbol\":\"circle\"},\"mode\":\"markers\",\"name\":\"\\u975e\\u6d32\",\"showlegend\":true,\"type\":\"scattergeo\"}],\"name\":\"109\"}]);\n",
       "                        }).then(function(){\n",
       "                            \n",
       "var gd = document.getElementById('dd4b4ab1-363d-4b46-a0c7-6bad7c548d46');\n",
       "var x = new MutationObserver(function (mutations, observer) {{\n",
       "        var display = window.getComputedStyle(gd).display;\n",
       "        if (!display || display === 'none') {{\n",
       "            console.log([gd, 'removed!']);\n",
       "            Plotly.purge(gd);\n",
       "            observer.disconnect();\n",
       "        }}\n",
       "}});\n",
       "\n",
       "// Listen for the removal of the full notebook cells\n",
       "var notebookContainer = gd.closest('#notebook-container');\n",
       "if (notebookContainer) {{\n",
       "    x.observe(notebookContainer, {childList: true});\n",
       "}}\n",
       "\n",
       "// Listen for the clearing of the current output cell\n",
       "var outputEl = gd.closest('.output');\n",
       "if (outputEl) {{\n",
       "    x.observe(outputEl, {childList: true});\n",
       "}}\n",
       "\n",
       "                        })                };                });            </script>        </div>"
      ]
     },
     "metadata": {},
     "output_type": "display_data"
    }
   ],
   "source": [
    "#各國每年人留學人數變化圖\n",
    "import plotly.express as px\n",
    "df = px.data.gapminder()\n",
    "fig = px.scatter_geo(good, locations=\"iso_alpha\", color=\"洲別\",\n",
    "                     hover_name=\"國別\", size=\"總人數\",\n",
    "                     animation_frame=\"年度\",\n",
    "                     projection=\"natural earth\")\n",
    "fig.show()"
   ]
  },
  {
   "cell_type": "code",
   "execution_count": null,
   "id": "b98c0d8f",
   "metadata": {},
   "outputs": [],
   "source": []
  }
 ],
 "metadata": {
  "kernelspec": {
   "display_name": "Python 3 (ipykernel)",
   "language": "python",
   "name": "python3"
  },
  "language_info": {
   "codemirror_mode": {
    "name": "ipython",
    "version": 3
   },
   "file_extension": ".py",
   "mimetype": "text/x-python",
   "name": "python",
   "nbconvert_exporter": "python",
   "pygments_lexer": "ipython3",
   "version": "3.9.13"
  }
 },
 "nbformat": 4,
 "nbformat_minor": 5
}
