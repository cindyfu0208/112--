{
 "cells": [
  {
   "cell_type": "code",
   "execution_count": 25,
   "id": "6502b12e",
   "metadata": {},
   "outputs": [],
   "source": [
    "import openai\n",
    "import pandas as pd"
   ]
  },
  {
   "cell_type": "code",
   "execution_count": 26,
   "id": "815647a2",
   "metadata": {},
   "outputs": [],
   "source": [
    "with open('07.txt', 'r') as fh:\n",
    "    tmp = fh.read()\n",
    "    itemlist = tmp.split(',')"
   ]
  },
  {
   "cell_type": "code",
   "execution_count": 36,
   "id": "43fadc47",
   "metadata": {},
   "outputs": [],
   "source": [
    "with open('08.txt', 'r') as fh:\n",
    "    tmp = fh.read()\n",
    "    itemlist = tmp.split(',')"
   ]
  },
  {
   "cell_type": "code",
   "execution_count": 27,
   "id": "abe1d083",
   "metadata": {},
   "outputs": [],
   "source": [
    "itemlist = str(itemlist)"
   ]
  },
  {
   "cell_type": "code",
   "execution_count": 28,
   "id": "5beb7f20",
   "metadata": {},
   "outputs": [],
   "source": [
    "keyfile = open(\"key.txt\", \"r\")\n",
    "key = keyfile.readline()\n",
    "openai.api_key = key"
   ]
  },
  {
   "cell_type": "code",
   "execution_count": 29,
   "id": "0a617fb4",
   "metadata": {},
   "outputs": [],
   "source": [
    "data = [itemlist[0:3200], itemlist[3201:6400], \n",
    "        itemlist[6401:9600], itemlist[9601:12800], itemlist[12801:16000]]"
   ]
  },
  {
   "cell_type": "code",
   "execution_count": 30,
   "id": "d99be671",
   "metadata": {},
   "outputs": [
    {
     "data": {
      "text/plain": [
       "\"['\\\\ufeffHMAR/1.1/1 Handbooks of Management Accounting Research Volume 1', ' 2006', ' Pages 3–26 1. Management Accounting: A Bibliographic Study James W. Hesford Sung-Han (Sam) Lee Wim A. Van der Stede S. Mark Young doi:10.1016/S1751-3243(06)01001-7 Chapter 1.01 Management Accounting - A Bibliographic Study James W. Hesford Cornell University', ' School of Hotel Administration Sung-Han (Sam) Lee University of Southern California', ' Leventhal School of Accounting Wim A. Van der Stede University of Southern California', ' Leventhal School of Accounting S. Mark Young University of Southern California', ' Leventhal School of Accounting HMAR/1.1/2 Chapter 1.01 Management Accounting - A Bibliographic Study Abstract The 20-year period from 1981 to 2000 was a period of change for the field of management accounting. During this period new topics were investigated', ' new journals came into existence', ' and different research methods were emphasized. This chapter has two parts. The first part charts the field. To do this we split the 20-year period into two decades and then compare the kinds of topics studied', ' the research methods used', ' and source disciplines employed across 10 journals in accounting and between decades. The second part focuses on the community of accounting scholars', ' analyzing citations and social network measures that reveal the links between', ' and influence of', ' individuals in management accounting research. 1. Introduction and Overview The field of management accounting research has expanded since the early 1980s due to the emergence of new topics to investigate (Kaplan', ' 1983', ' 1993; Johnson & Kaplan', ' 1987; Young & Selto', ' 1991)', ' the introduction of new journals focusing exclusively on publishing management accounting research', ' and calls to examine management accounting phenomena from multiple disciplinary perspectives (Baiman', ' 1982', ' 1990; Cooper', ' 1983; Covaleski', ' Dirsmith', ' & Samuel', ' 1996; Hopwood', ' 1978a', ' 1978b', ' 1979', ' 1983; Macintosh & Scapens', ' 1990) using multiple methods (Kaplan', ' 1984', ' 1986). Accordingly', ' we believe it is useful to provide an analysis of the state of the field as part of this comprehensive handbook. Specifically', ' we examine the state and evolution of the management accounting field in terms of the topics studied', ' research methods employed', ' and source disciplines relied on in 916 management accounting articles in 10 journals over a 20-year period (1981-2000).㸯 Our approach to this examination is twofold', ' which we label “charting the field” and “analyzing the community.” We chart the field by showing the “market share” of management accounting as a subfield within accounting', ' as well as the “journal share” of each of the 10 journals in terms of the num- HMAR/1.1/3 ber of management accounting articles they publish. We do this for the entire 20-year period', ' as well as by decade (1981-1990 vs. 1991-2000) to show changes over time. We find that 28% of all accounting articles in the 10 journals during our study period are in the area of management accounting. A breakdown of the sample by decade indicates an increase in the number \""
      ]
     },
     "execution_count": 30,
     "metadata": {},
     "output_type": "execute_result"
    }
   ],
   "source": [
    "data[0]"
   ]
  },
  {
   "cell_type": "code",
   "execution_count": 31,
   "id": "2247e9b5",
   "metadata": {},
   "outputs": [],
   "source": [
    "def chatgptfn(sub_list):\n",
    "    result = ''\n",
    "    response = openai.ChatCompletion.create(\n",
    "        model=\"gpt-3.5-turbo\",\n",
    "        messages=[\n",
    "            {\"role\": \"system\", \"content\": \"You are an assistant\"},\n",
    "            {\"role\": \"user\", \"content\": f\"{sub_list} :give me a summary\"}\n",
    "        ]\n",
    "    )\n",
    "    for choice in response.choices:\n",
    "        result += choice.message.content\n",
    "    return result"
   ]
  },
  {
   "cell_type": "code",
   "execution_count": 37,
   "id": "63f15cb0",
   "metadata": {},
   "outputs": [],
   "source": [
    "for i in range(0,5):\n",
    "    data[i] = chatgptfn(data[i])"
   ]
  },
  {
   "cell_type": "code",
   "execution_count": 38,
   "id": "7633c4fd",
   "metadata": {},
   "outputs": [
    {
     "data": {
      "text/plain": [
       "'The article is a study of management accounting research between 1981 and 2000. It analyzes changes in research topics, methods, and source disciplines and examines the community of scholars involved in the field. The authors find that management accounting represents 28% of all accounting articles in the 10 journals studied and identify links and influence within the community of researchers.'"
      ]
     },
     "execution_count": 38,
     "metadata": {},
     "output_type": "execute_result"
    }
   ],
   "source": [
    "data[0]"
   ]
  },
  {
   "cell_type": "code",
   "execution_count": 34,
   "id": "3da469f2",
   "metadata": {},
   "outputs": [],
   "source": [
    "data1 = ''\n",
    "for i in range(0,5):\n",
    "    data1 = data1 + data[i]"
   ]
  },
  {
   "cell_type": "code",
   "execution_count": 35,
   "id": "ace5e08e",
   "metadata": {},
   "outputs": [
    {
     "data": {
      "text/plain": [
       "\"The article presents a bibliographic study of the field of management accounting during the 20-year period from 1981 to 2000. The study examines the changes in research topics, methods, and source disciplines and analyzes the community of scholars involved in management accounting research. The article is divided into two parts: charting the field and analyzing the community. The authors show the market share of management accounting as a subfield within accounting and the journal share of each of the 10 journals among the 916 management accounting articles published. They find that 28% of all accounting articles in the 10 journals during the study period are in the area of management accounting. The study also reveals the links between and influence of individuals in management accounting research.Management accounting research has significantly increased in the last decade due to the introduction of four new journals. AOS and MAR published half of the management accounting articles. Control is the main topic of focus, followed by cost and other topics. Analytical, survey, and experimental methods are commonly used, with the use of frameworks and experiments declining in recent years. The dominant source disciplines are economics, sociology, and psychology, while analytical and archival methods dominate economics-based research, survey, field, and case methods dominate sociology-based research, and experiments and surveys dominate psychology-based research. AOS and MAR tend to publish case, field, and survey studies drawing on sociology, while other journals tend to publish more analytical, archival, and experimental studies drawing on economics. Cost research is dominated by methods like variance analysis and activity-based costing.The article discusses the characteristics of authors and the community of management accounting scholars. The first part of the study examines the interdisciplinary nature of economic and control theories. The authors find that authors tend to have a source discipline concentration. The second part of the study focuses on the community of management accounting scholars and analyzes citations using several social network measures. The authors find that the disciplinary paradigms are focused, not drawing on the insights from the accounting literature using different source disciplines. The study concludes that the control literature draws heavily on its own area, while cost draws more than half of its citations from the cost literature but also draws heavily on the control literature. It also finds that most articles draw on articles using a variety of methods, except analytical articles with 78% of their citations to other analytical articles. Regarding source disciplines, the economics-based literature draws heavily on itself. Overall, the study provides insights into the interdisciplinary nature of economic and control theories and the community of management accounting scholars.The article discusses a study that charts the field of management accounting from 1981-2000 through the examination of English-language journals. The study uses social network analyses to visualize communications between scholars and identifies two distinct subnetworks in management accounting research. The authors find that scholars tend to publish in either one of the subnetworks and tend to cite articles within the same subnetwork more than in the other. The article concludes with a summary of the study's methodology and findings.The research focuses on the study of management accounting articles published in 10 accounting journals over a 20-year period. The authors classify each article by topic, method, and source discipline, following a protocol similar to one developed by Shields (1997). They find that about 28% of all accounting articles in the 10 journals during the entire 20-year period are management accounting. Most journals exhibit a decrease in their share of management accounting articles over time, except for a few new journals that dedicated themselves exclusively to management accounting. The authors classify the articles by topics, including cost and management control, and also by methods and source discipline.\""
      ]
     },
     "execution_count": 35,
     "metadata": {},
     "output_type": "execute_result"
    }
   ],
   "source": [
    "data1"
   ]
  },
  {
   "cell_type": "code",
   "execution_count": 39,
   "id": "0501b4c1",
   "metadata": {},
   "outputs": [],
   "source": [
    "data2 = ''\n",
    "for i in range(0,5):\n",
    "    data2 = data2 + data[i]"
   ]
  },
  {
   "cell_type": "code",
   "execution_count": 40,
   "id": "dd20d810",
   "metadata": {},
   "outputs": [
    {
     "data": {
      "text/plain": [
       "\"The article is a study of management accounting research between 1981 and 2000. It analyzes changes in research topics, methods, and source disciplines and examines the community of scholars involved in the field. The authors find that management accounting represents 28% of all accounting articles in the 10 journals studied and identify links and influence within the community of researchers.Management accounting research has grown over the past ten years, with new journals like AOS and MAR publishing the majority of articles. The primary focus is control, followed by cost and other topics. Analytical, survey, and experimental methods are commonly used, but the use of frameworks and experiments has declined recently. Economics, sociology, and psychology are the primary disciplines, with different methods dominating each. AOS and MAR tend to publish case, field, and survey studies from sociology, while other journals tend to focus more on economics-based research. Cost research is mainly characterized by variance analysis and activity-based costing.The article discusses the characteristics of authors and the community of management accounting scholars. The study examines the interdisciplinary nature of economic and control theories and finds that authors tend to concentrate on a single source discipline. The community's citations are analyzed using social network measures, and the study concludes that paradigms are focused and not incorporating insights from other disciplines. The cost literature drew half of its citations from the control literature, while economics-based literature primarily drew from itself. The study provides insights into the interdisciplinary nature of economic and control theories and the community of management accounting scholars.The article analyzes the field of management accounting research from 1981-2000 using social network analysis and English-language journals. The study identifies two distinct subnetworks of communication among scholars in management accounting research. Authors tend to publish in one subnetwork and cite articles within the same subnetwork more often than in the other. The study's methodology and findings are summarized in the conclusion.The research analyzes 20 years of management accounting articles published in 10 accounting journals and classifies them by topic, method, and source discipline. The study finds that management accounting articles make up around 28% of all accounting articles during this period and notes a decrease in the proportion of management accounting articles in most journals over time. However, some new journals focused on management accounting emerge. The authors also sort the articles by topics, methods, and source discipline, including cost and management control.\""
      ]
     },
     "execution_count": 40,
     "metadata": {},
     "output_type": "execute_result"
    }
   ],
   "source": [
    "data2"
   ]
  },
  {
   "cell_type": "code",
   "execution_count": 41,
   "id": "36d9dfa4",
   "metadata": {},
   "outputs": [],
   "source": [
    "papers = [data1, data2, ]"
   ]
  },
  {
   "cell_type": "code",
   "execution_count": 42,
   "id": "ac27d0ef",
   "metadata": {},
   "outputs": [],
   "source": [
    "import gensim\n",
    "from gensim import corpora\n",
    "from pprint import pprint"
   ]
  },
  {
   "cell_type": "code",
   "execution_count": 43,
   "id": "3baa3b32",
   "metadata": {},
   "outputs": [],
   "source": [
    "# 創建詞袋\n",
    "texts = [[word for word in document.lower().split()] for document in data]\n",
    "dictionary = corpora.Dictionary(texts)\n",
    "corpus = [dictionary.doc2bow(text) for text in texts]"
   ]
  },
  {
   "cell_type": "code",
   "execution_count": 44,
   "id": "832c3367",
   "metadata": {},
   "outputs": [],
   "source": [
    "# 訓練 LDA 模型\n",
    "lda_model = gensim.models.ldamodel.LdaModel(corpus=corpus, id2word=dictionary, \n",
    "                                            num_topics=3, random_state=100, update_every=1, \n",
    "                                            chunksize=100, passes=10, alpha='auto', per_word_topics=True)"
   ]
  },
  {
   "cell_type": "code",
   "execution_count": 45,
   "id": "1d9f0fb1",
   "metadata": {},
   "outputs": [
    {
     "data": {
      "text/html": [
       "\n",
       "<link rel=\"stylesheet\" type=\"text/css\" href=\"https://cdn.jsdelivr.net/gh/bmabey/pyLDAvis@3.4.0/pyLDAvis/js/ldavis.v1.0.0.css\">\n",
       "\n",
       "\n",
       "<div id=\"ldavis_el18741403237466602402181873852\" style=\"background-color:white;\"></div>\n",
       "<script type=\"text/javascript\">\n",
       "\n",
       "var ldavis_el18741403237466602402181873852_data = {\"mdsDat\": {\"x\": [-0.08472018984952355, 0.07032541767884229, 0.014394772170681231], \"y\": [-0.017562179078411917, -0.0311220207908175, 0.04868419986922942], \"topics\": [1, 2, 3], \"cluster\": [1, 1, 1], \"Freq\": [50.85096321593674, 49.12283019242018, 0.026206591643077478]}, \"tinfo\": {\"Term\": [\"in\", \"articles\", \"accounting\", \"management\", \"analyzes\", \"control\", \"other\", \"are\", \"from\", \"tend\", \"to\", \"cost\", \"source\", \"research\", \"journals\", \"study\", \"authors\", \"subnetwork\", \"topics,\", \"scholars\", \"within\", \"10\", \"community\", \"methods,\", \"all\", \"28%\", \"that\", \"literature\", \"nature\", \"interdisciplinary\", \"in\", \"articles\", \"analyzes\", \"subnetwork\", \"topics,\", \"within\", \"scholars\", \"methods,\", \"10\", \"all\", \"28%\", \"classifies\", \"however,\", \"including\", \"make\", \"some\", \"method,\", \"field\", \"proportion\", \"most\", \"this\", \"topic,\", \"subnetworks\", \"period\", \"methodology\", \"study's\", \"sort\", \"among\", \"also\", \"published\", \"accounting\", \"management\", \"source\", \"the\", \"journals\", \"research\", \"of\", \"and\", \"authors\", \"a\", \"article\", \"study\", \"that\", \"by\", \"community\", \"are\", \"from\", \"finds\", \"cost\", \"other\", \"control\", \"mar\", \"aos\", \"with\", \"has\", \"sociology,\", \"methods\", \"focus\", \"primary\", \"economics-based\", \"while\", \"theories\", \"nature\", \"interdisciplinary\", \"scholars.\", \"drew\", \"economic\", \"insights\", \"citations\", \"literature\", \"analytical,\", \"topics.\", \"grown\", \"costing.\", \"experiments\", \"declined\", \"activity-based\", \"commonly\", \"years,\", \"from\", \"are\", \"tend\", \"to\", \"cost\", \"and\", \"the\", \"of\", \"is\", \"study\", \"management\", \"accounting\", \"research\", \"journals\", \"community\", \"authors\", \"by\", \"that\", \"on\", \"analyzed\", \"concludes\", \"itself.\", \"primarily\", \"literature,\", \"paradigms\", \"community's\", \"incorporating\", \"provides\", \"concentrate\", \"half\", \"disciplines.\", \"characteristics\", \"measures,\", \"single\", \"not\", \"into\", \"its\", \"discusses\", \"control,\", \"studies\", \"survey,\", \"disciplines,\", \"experimental\", \"each.\", \"mainly\", \"variance\", \"used,\", \"frameworks\", \"past\", \"the\", \"literature\", \"citations\", \"nature\", \"interdisciplinary\", \"drew\", \"economic\", \"of\", \"insights\", \"and\", \"study\", \"are\", \"from\", \"control\", \"community\", \"that\", \"accounting\", \"management\", \"authors\", \"scholars.\", \"theories\", \"tend\", \"other\", \"economics-based\", \"social\", \"focused\", \"on\", \"cost\"], \"Freq\": [8.0, 5.0, 11.0, 9.0, 2.0, 2.0, 2.0, 4.0, 4.0, 3.0, 3.0, 3.0, 3.0, 5.0, 5.0, 5.0, 4.0, 2.0, 2.0, 2.0, 2.0, 2.0, 3.0, 2.0, 2.0, 2.0, 3.0, 2.0, 2.0, 2.0, 7.926151487272993, 5.628922812266292, 2.556808383017522, 1.7933966623776694, 1.791037117517905, 1.7892333434768442, 1.7888020103551852, 1.787376893355439, 1.7872312707130382, 1.7868852499388934, 1.7866064102527237, 1.0263206141850343, 1.026145790672008, 1.0261296633937866, 1.0261157309522464, 1.0260563749341773, 1.025947491949263, 1.025925543582453, 1.0258503465692081, 1.025754537176698, 1.025659109494915, 1.0255470773965019, 1.0254715941002117, 1.0254412480974047, 1.0254277927942732, 1.0254009776156923, 1.0253961108039213, 1.0253867588911065, 1.0252967705871854, 1.0252895180833699, 8.692618229717445, 7.1777534038080475, 2.557943018153921, 14.049619099321838, 3.3212825954663456, 3.3192148684574736, 7.156874590455398, 10.230904825843641, 2.556405869055762, 1.7922761505381744, 1.790547764365722, 2.564406716751806, 1.794338533596867, 1.7940995826816826, 1.7862447393387664, 1.0316629420942878, 1.0314581542891816, 1.0288078412830244, 1.028691514938931, 2.5293111198878275, 2.525031908834977, 1.7721009445156077, 1.7719988039329588, 1.7720690486296902, 1.772045449361497, 1.771913625324324, 1.7718548115231236, 1.7719173127099792, 1.7718031881239509, 1.769887960014644, 1.7696672699831808, 1.7686329583068994, 1.7682409892117523, 1.7680608604224963, 1.7681095339131447, 1.7676781097914873, 1.7676596728632112, 1.7675009309107552, 1.7671130179398291, 1.766151347760955, 1.012871648943246, 1.012911933631529, 1.012888887471184, 1.0128220536061838, 1.0128604024169978, 1.0128425185965702, 1.0128450997665288, 1.0127981777840664, 1.01276969272988, 3.2879949589371447, 3.287710292764564, 2.5350405797188653, 2.5328943368982606, 2.532040891488366, 11.700346812986492, 13.251941910952317, 6.367874608972367, 1.7831951817363847, 2.536834677209399, 2.5514175499985536, 2.578422118844354, 1.7950901347521868, 1.7933229551769359, 1.784469726588102, 1.7859527930986203, 1.7784386386104694, 1.7765914427665008, 1.772147589944146, 0.0005722130954200994, 0.0005721236375754086, 0.0005719572135256926, 0.000571874985094509, 0.0005718498050964432, 0.0005717975762723302, 0.000571718642879956, 0.0005716669058526803, 0.0005716419225733493, 0.0005716222015201768, 0.0005716061689432833, 0.0005715525630880261, 0.0005714749575471123, 0.0005714778099687683, 0.0005711472733144711, 0.0005710903724204045, 0.0005710680448439946, 0.000571007947270486, 0.0005706821318658263, 0.0005703632016168876, 0.0005702807764669691, 0.0005702434982667076, 0.0005701231555806394, 0.0005700965493717457, 0.0005700792381230754, 0.0005700722546079868, 0.000570051697500191, 0.0005700415173056604, 0.0005700424517196511, 0.0005700308944939765, 0.0005929579712484439, 0.0005745897036359762, 0.0005737505998723075, 0.0005737175019451625, 0.0005736644370664261, 0.0005733010975630863, 0.0005731472143327194, 0.0005839960066634253, 0.0005729293975135137, 0.0005811966498862722, 0.0005760138489172047, 0.0005754699707949205, 0.0005752850551841249, 0.0005747135380795888, 0.0005741013001969307, 0.0005738787621280876, 0.000573779714245071, 0.0005735863889083589, 0.0005730149209835066, 0.0005728738736505913, 0.0005728271037713714, 0.0005726258605055801, 0.0005724202894276211, 0.0005724009618119183, 0.0005722203740132902, 0.0005720993428116498, 0.0005720944740229613, 0.0005720892609764867], \"Total\": [8.0, 5.0, 11.0, 9.0, 2.0, 2.0, 2.0, 4.0, 4.0, 3.0, 3.0, 3.0, 3.0, 5.0, 5.0, 5.0, 4.0, 2.0, 2.0, 2.0, 2.0, 2.0, 3.0, 2.0, 2.0, 2.0, 3.0, 2.0, 2.0, 2.0, 8.221822174752804, 5.9086119853623975, 2.824144747196961, 2.0532020079518114, 2.053045260337521, 2.053070889966469, 2.0529792878242983, 2.0530661945611053, 2.05302266766579, 2.0530436219600925, 2.0530406191605683, 1.2821052132251998, 1.2821020619867938, 1.2821036302253426, 1.2821012485822052, 1.2821042467692256, 1.2820962053913663, 1.2820936667603553, 1.2820976450919082, 1.2820972443934218, 1.2820943734358023, 1.2820919276002982, 1.2820827201131233, 1.2820885195688674, 1.282089258585782, 1.2820885096473245, 1.2820927591315743, 1.2820863941896539, 1.2820883066454156, 1.282085416259264, 11.271614128276044, 9.72974454019551, 3.5834067552609734, 27.302153968245406, 5.115175953090286, 5.114876014992946, 13.525333195434428, 21.93183283548002, 4.342931677075366, 2.812262383810407, 2.81233009948064, 5.101817407810122, 3.5715038551254956, 3.5731084775771365, 3.5712885672270653, 4.319948704829646, 4.320028398281511, 2.0411538159803158, 3.5613044956882733, 2.790047814309758, 2.789076964684008, 2.0307917962028172, 2.030751989701464, 2.0308395250972255, 2.0308655864552687, 2.0308199914896856, 2.0307793529542932, 2.030896368240473, 2.030879644172484, 2.0299439255978804, 2.0303703694783666, 2.029770140099048, 2.0293750295825195, 2.0294012816610016, 2.0297565610081776, 2.029570288400365, 2.029639968194508, 2.0297405240058413, 2.0293760963116974, 2.0290117598184914, 1.2709203257130002, 1.2709733268030858, 1.2709494991580212, 1.270868747227711, 1.2709178881935992, 1.2709185404134828, 1.270937159787708, 1.2709339761468672, 1.2709049357299316, 4.320028398281511, 4.319948704829646, 3.5610185728684254, 3.5613208804266847, 3.5613044956882733, 21.93183283548002, 27.302153968245406, 13.525333195434428, 2.801622053528754, 5.101817407810122, 9.72974454019551, 11.271614128276044, 5.114876014992946, 5.115175953090286, 3.5712885672270653, 4.342931677075366, 3.5731084775771365, 3.5715038551254956, 2.80119658250077, 1.269920988615701, 1.2699660129685642, 1.2700333071890182, 1.270075610430109, 1.2700815869094209, 1.2701022625635152, 1.270135396469254, 1.270154491657307, 1.2701696184738767, 1.2701770567725388, 1.2701929480220742, 1.2702087588465028, 1.2702446137078656, 1.2702519293127028, 1.2703858600819757, 1.2704165172135118, 1.2704286622356198, 1.2704469529459492, 1.2705942747733916, 1.2707222405095882, 1.2707574565374677, 1.2707752809650374, 1.2708262735396085, 1.2708404760037861, 1.2708475194154452, 1.2708505248537116, 1.270857207402019, 1.2708611823380753, 1.270867209221924, 1.270866932371777, 27.302153968245406, 2.0290117598184914, 2.0293760963116974, 2.0293750295825195, 2.0294012816610016, 2.029570288400365, 2.029639968194508, 13.525333195434428, 2.0297405240058413, 21.93183283548002, 5.101817407810122, 4.319948704829646, 4.320028398281511, 2.789076964684008, 3.5712885672270653, 3.5715038551254956, 11.271614128276044, 9.72974454019551, 4.342931677075366, 2.0297565610081776, 2.029770140099048, 3.5610185728684254, 2.790047814309758, 2.0299439255978804, 2.041000387525509, 2.041091047666069, 2.80119658250077, 3.5613044956882733], \"Category\": [\"Default\", \"Default\", \"Default\", \"Default\", \"Default\", \"Default\", \"Default\", \"Default\", \"Default\", \"Default\", \"Default\", \"Default\", \"Default\", \"Default\", \"Default\", \"Default\", \"Default\", \"Default\", \"Default\", \"Default\", \"Default\", \"Default\", \"Default\", \"Default\", \"Default\", \"Default\", \"Default\", \"Default\", \"Default\", \"Default\", \"Topic1\", \"Topic1\", \"Topic1\", \"Topic1\", \"Topic1\", \"Topic1\", \"Topic1\", \"Topic1\", \"Topic1\", \"Topic1\", \"Topic1\", \"Topic1\", \"Topic1\", \"Topic1\", \"Topic1\", \"Topic1\", \"Topic1\", \"Topic1\", \"Topic1\", \"Topic1\", \"Topic1\", \"Topic1\", \"Topic1\", \"Topic1\", \"Topic1\", \"Topic1\", \"Topic1\", \"Topic1\", \"Topic1\", \"Topic1\", \"Topic1\", \"Topic1\", \"Topic1\", \"Topic1\", \"Topic1\", \"Topic1\", \"Topic1\", \"Topic1\", \"Topic1\", \"Topic1\", \"Topic1\", \"Topic1\", \"Topic1\", \"Topic1\", \"Topic1\", \"Topic1\", \"Topic1\", \"Topic1\", \"Topic1\", \"Topic2\", \"Topic2\", \"Topic2\", \"Topic2\", \"Topic2\", \"Topic2\", \"Topic2\", \"Topic2\", \"Topic2\", \"Topic2\", \"Topic2\", \"Topic2\", \"Topic2\", \"Topic2\", \"Topic2\", \"Topic2\", \"Topic2\", \"Topic2\", \"Topic2\", \"Topic2\", \"Topic2\", \"Topic2\", \"Topic2\", \"Topic2\", \"Topic2\", \"Topic2\", \"Topic2\", \"Topic2\", \"Topic2\", \"Topic2\", \"Topic2\", \"Topic2\", \"Topic2\", \"Topic2\", \"Topic2\", \"Topic2\", \"Topic2\", \"Topic2\", \"Topic2\", \"Topic2\", \"Topic2\", \"Topic2\", \"Topic2\", \"Topic2\", \"Topic2\", \"Topic2\", \"Topic2\", \"Topic2\", \"Topic2\", \"Topic3\", \"Topic3\", \"Topic3\", \"Topic3\", \"Topic3\", \"Topic3\", \"Topic3\", \"Topic3\", \"Topic3\", \"Topic3\", \"Topic3\", \"Topic3\", \"Topic3\", \"Topic3\", \"Topic3\", \"Topic3\", \"Topic3\", \"Topic3\", \"Topic3\", \"Topic3\", \"Topic3\", \"Topic3\", \"Topic3\", \"Topic3\", \"Topic3\", \"Topic3\", \"Topic3\", \"Topic3\", \"Topic3\", \"Topic3\", \"Topic3\", \"Topic3\", \"Topic3\", \"Topic3\", \"Topic3\", \"Topic3\", \"Topic3\", \"Topic3\", \"Topic3\", \"Topic3\", \"Topic3\", \"Topic3\", \"Topic3\", \"Topic3\", \"Topic3\", \"Topic3\", \"Topic3\", \"Topic3\", \"Topic3\", \"Topic3\", \"Topic3\", \"Topic3\", \"Topic3\", \"Topic3\", \"Topic3\", \"Topic3\", \"Topic3\", \"Topic3\"], \"logprob\": [30.0, 29.0, 28.0, 27.0, 26.0, 25.0, 24.0, 23.0, 22.0, 21.0, 20.0, 19.0, 18.0, 17.0, 16.0, 15.0, 14.0, 13.0, 12.0, 11.0, 10.0, 9.0, 8.0, 7.0, 6.0, 5.0, 4.0, 3.0, 2.0, 1.0, -3.2525, -3.5947, -4.3839, -4.7386, -4.7399, -4.7409, -4.7411, -4.7419, -4.742, -4.7422, -4.7423, -5.2967, -5.2969, -5.2969, -5.2969, -5.2969, -5.297, -5.2971, -5.2971, -5.2972, -5.2973, -5.2974, -5.2975, -5.2975, -5.2976, -5.2976, -5.2976, -5.2976, -5.2977, -5.2977, -3.1602, -3.3517, -4.3835, -2.6801, -4.1223, -4.1229, -3.3546, -2.9973, -4.3841, -4.7392, -4.7401, -4.3809, -4.738, -4.7382, -4.7425, -5.2915, -5.2917, -5.2943, -5.2944, -4.3601, -4.3618, -4.7159, -4.716, -4.7159, -4.716, -4.716, -4.7161, -4.716, -4.7161, -4.7172, -4.7173, -4.7179, -4.7181, -4.7182, -4.7182, -4.7184, -4.7184, -4.7185, -4.7187, -4.7193, -5.2753, -5.2753, -5.2753, -5.2753, -5.2753, -5.2753, -5.2753, -5.2754, -5.2754, -4.0978, -4.0979, -4.3579, -4.3587, -4.3591, -2.8285, -2.7039, -3.4368, -4.7097, -4.3572, -4.3514, -4.3409, -4.703, -4.704, -4.709, -4.7081, -4.7124, -4.7134, -4.7159, -5.218, -5.2182, -5.2185, -5.2186, -5.2187, -5.2187, -5.2189, -5.219, -5.219, -5.2191, -5.2191, -5.2192, -5.2193, -5.2193, -5.2199, -5.22, -5.22, -5.2201, -5.2207, -5.2213, -5.2214, -5.2215, -5.2217, -5.2217, -5.2218, -5.2218, -5.2218, -5.2218, -5.2218, -5.2218, -5.1824, -5.2139, -5.2153, -5.2154, -5.2155, -5.2161, -5.2164, -5.1976, -5.2168, -5.2024, -5.2114, -5.2123, -5.2127, -5.2137, -5.2147, -5.2151, -5.2153, -5.2156, -5.2166, -5.2169, -5.2169, -5.2173, -5.2177, -5.2177, -5.218, -5.2182, -5.2182, -5.2182], \"loglift\": [30.0, 29.0, 28.0, 27.0, 26.0, 25.0, 24.0, 23.0, 22.0, 21.0, 20.0, 19.0, 18.0, 17.0, 16.0, 15.0, 14.0, 13.0, 12.0, 11.0, 10.0, 9.0, 8.0, 7.0, 6.0, 5.0, 4.0, 3.0, 2.0, 1.0, 0.6396, 0.6278, 0.5768, 0.541, 0.5397, 0.5387, 0.5385, 0.5377, 0.5376, 0.5374, 0.5373, 0.4537, 0.4536, 0.4536, 0.4536, 0.4535, 0.4534, 0.4534, 0.4533, 0.4532, 0.4531, 0.453, 0.4529, 0.4529, 0.4529, 0.4529, 0.4529, 0.4529, 0.4528, 0.4528, 0.4165, 0.3721, 0.3392, 0.0119, 0.2444, 0.2438, 0.0398, -0.0863, 0.1463, 0.2258, 0.2248, -0.0116, -0.0121, -0.0127, -0.0165, -0.7558, -0.756, -0.0088, -0.5656, 0.6127, 0.6114, 0.5746, 0.5745, 0.5745, 0.5745, 0.5745, 0.5745, 0.5744, 0.5744, 0.5738, 0.5734, 0.5731, 0.5731, 0.573, 0.5728, 0.5727, 0.5726, 0.5725, 0.5725, 0.5721, 0.4839, 0.4839, 0.4839, 0.4839, 0.4839, 0.4839, 0.4839, 0.4838, 0.4838, 0.4379, 0.4378, 0.371, 0.3701, 0.3697, 0.0825, -0.012, -0.0425, 0.2591, 0.0122, -0.6277, -0.7643, -0.3363, -0.3373, 0.017, -0.1778, 0.0131, 0.0126, 0.253, 0.542, 0.5418, 0.5414, 0.5412, 0.5412, 0.5411, 0.5409, 0.5408, 0.5408, 0.5407, 0.5407, 0.5406, 0.5404, 0.5404, 0.5397, 0.5396, 0.5396, 0.5394, 0.5388, 0.5381, 0.5379, 0.5378, 0.5376, 0.5375, 0.5375, 0.5375, 0.5374, 0.5374, 0.5374, 0.5374, -2.4904, 0.0775, 0.0759, 0.0758, 0.0757, 0.075, 0.0747, -1.8033, 0.0743, -2.2914, -0.8421, -0.6767, -0.677, -0.2404, -0.4887, -0.4892, -1.6386, -1.4919, -0.6862, 0.0742, 0.0741, -0.4884, -0.2448, 0.0732, 0.0675, 0.0672, -0.2493, -0.4894]}, \"token.table\": {\"Topic\": [1, 1, 1, 2, 1, 2, 2, 1, 1, 1, 2, 2, 1, 1, 2, 2, 1, 2, 1, 2, 1, 1, 2, 1, 2, 2, 2, 1, 2, 1, 2, 2, 2, 2, 2, 2, 1, 2, 2, 2, 2, 2, 2, 2, 2, 2, 2, 2, 2, 1, 1, 2, 2, 1, 2, 2, 1, 2, 2, 2, 2, 1, 1, 1, 2, 2, 2, 2, 1, 2, 2, 2, 1, 2, 2, 2, 2, 1, 1, 2, 2, 2, 1, 1, 2, 1, 1, 2, 2, 1, 2, 1, 2, 2, 2, 2, 1, 2, 2, 1, 2, 1, 1, 2, 1, 2, 2, 1, 2, 2, 1, 1, 1, 2, 2, 1, 2, 1, 1, 1, 2, 1, 2, 1, 2, 1, 2, 2, 1, 1, 2, 1, 1, 2, 2, 2, 2, 2, 1, 2], \"Freq\": [0.9741733647168762, 0.9741648466837177, 0.7111711949473748, 0.3555855974736874, 0.7984659426392661, 0.2661553142130887, 0.7868209630183729, 0.9741634218617087, 0.779977474887436, 0.7799786383600558, 0.7868313849170593, 0.7874505650072506, 1.0622684984463278, 0.4559582445760116, 0.5471498934912139, 0.9848568462040583, 0.23148423009792063, 0.6944526902937619, 0.711154071269708, 0.355577035634854, 1.0154669175880902, 0.690777618224073, 0.460518412149382, 0.559736714558458, 0.559736714558458, 0.7872499432065947, 0.9855245676909828, 0.7799671896539988, 0.7868229339746926, 0.5600219535194, 0.5600219535194, 0.7873176377729638, 0.7872918146868073, 0.787422647368716, 1.075624673677619, 0.7869540393020724, 0.28079598394653293, 0.8423879518395988, 0.7868633186404281, 0.7868324902040207, 0.7868896172682351, 0.7872721653314029, 0.7870332960364931, 0.9854302713390275, 0.7868764621423445, 0.985396440423434, 0.9852488902672221, 0.7868808232678771, 0.7868328939970588, 0.779974213995487, 0.48991898218102914, 0.48991898218102914, 0.9847868317046423, 0.489934048333352, 0.489934048333352, 0.7868642709038344, 0.2314799598071614, 0.6944398794214842, 0.786813323945979, 0.7872819649622409, 0.984801758097077, 0.7799691067108668, 0.9730203147139371, 0.7799681526712782, 0.7873058014345897, 0.9853476226866938, 0.9855123370982906, 0.7871358933607995, 0.356936082345747, 0.713872164691494, 0.7871245609123395, 0.7873809248462259, 0.5864900890041873, 0.39099339266945815, 0.9857015319511571, 0.7873509940675312, 0.7868746012558091, 0.7799696015473324, 0.719443349317303, 0.30833286399312987, 0.9848375415636443, 0.7872454092953605, 0.7799726695975556, 0.7799768957607971, 0.9848435759849947, 0.9741527113438008, 0.7799720375135148, 0.9855250857262383, 0.7871434182809319, 0.5175473238886935, 0.44361199190459444, 0.3569902970205859, 0.7139805940411718, 1.0752503898368435, 0.7873381769918641, 0.7868644423171299, 0.7799773453523113, 0.7873546990335101, 0.9847949413146704, 0.7799717937461107, 0.7872964251825764, 0.7799792333007705, 0.5865244809857111, 0.3910163206571407, 0.9741939491847262, 0.9853398375057364, 0.7871624137374071, 0.4899558109405316, 0.4899558109405316, 0.9848238683788622, 0.7799677775967905, 0.7799747661607185, 0.8371921483921841, 0.2790640494640614, 0.7869322307380184, 0.5880257485121767, 0.5880257485121767, 0.7799773513882274, 0.974088273951727, 0.7799808735521886, 0.7869211928961913, 0.2808185297372636, 0.8424555892117909, 0.5599881957651489, 0.5599881957651489, 0.512780054507169, 0.4761529077566569, 0.9853332456168681, 0.7799737840828084, 0.28079469207509017, 0.8423840762252706, 0.7799752720319424, 0.9741626444568493, 0.7867985731182318, 0.7868680024990954, 0.7868704636331838, 0.9850419559234559, 0.9848143958613622, 0.9741504834412533, 0.7868409130267954], \"Term\": [\"10\", \"28%\", \"a\", \"a\", \"accounting\", \"accounting\", \"activity-based\", \"all\", \"also\", \"among\", \"analytical,\", \"analyzed\", \"analyzes\", \"and\", \"and\", \"aos\", \"are\", \"are\", \"article\", \"article\", \"articles\", \"authors\", \"authors\", \"by\", \"by\", \"characteristics\", \"citations\", \"classifies\", \"commonly\", \"community\", \"community\", \"community's\", \"concentrate\", \"concludes\", \"control\", \"control,\", \"cost\", \"cost\", \"costing.\", \"declined\", \"disciplines,\", \"disciplines.\", \"discusses\", \"drew\", \"each.\", \"economic\", \"economics-based\", \"experimental\", \"experiments\", \"field\", \"finds\", \"finds\", \"focus\", \"focused\", \"focused\", \"frameworks\", \"from\", \"from\", \"grown\", \"half\", \"has\", \"however,\", \"in\", \"including\", \"incorporating\", \"insights\", \"interdisciplinary\", \"into\", \"is\", \"is\", \"its\", \"itself.\", \"journals\", \"journals\", \"literature\", \"literature,\", \"mainly\", \"make\", \"management\", \"management\", \"mar\", \"measures,\", \"method,\", \"methodology\", \"methods\", \"methods,\", \"most\", \"nature\", \"not\", \"of\", \"of\", \"on\", \"on\", \"other\", \"paradigms\", \"past\", \"period\", \"primarily\", \"primary\", \"proportion\", \"provides\", \"published\", \"research\", \"research\", \"scholars\", \"scholars.\", \"single\", \"social\", \"social\", \"sociology,\", \"some\", \"sort\", \"source\", \"source\", \"studies\", \"study\", \"study\", \"study's\", \"subnetwork\", \"subnetworks\", \"survey,\", \"tend\", \"tend\", \"that\", \"that\", \"the\", \"the\", \"theories\", \"this\", \"to\", \"to\", \"topic,\", \"topics,\", \"topics.\", \"used,\", \"variance\", \"while\", \"with\", \"within\", \"years,\"]}, \"R\": 30, \"lambda.step\": 0.01, \"plot.opts\": {\"xlab\": \"PC1\", \"ylab\": \"PC2\"}, \"topic.order\": [1, 2, 3]};\n",
       "\n",
       "function LDAvis_load_lib(url, callback){\n",
       "  var s = document.createElement('script');\n",
       "  s.src = url;\n",
       "  s.async = true;\n",
       "  s.onreadystatechange = s.onload = callback;\n",
       "  s.onerror = function(){console.warn(\"failed to load library \" + url);};\n",
       "  document.getElementsByTagName(\"head\")[0].appendChild(s);\n",
       "}\n",
       "\n",
       "if(typeof(LDAvis) !== \"undefined\"){\n",
       "   // already loaded: just create the visualization\n",
       "   !function(LDAvis){\n",
       "       new LDAvis(\"#\" + \"ldavis_el18741403237466602402181873852\", ldavis_el18741403237466602402181873852_data);\n",
       "   }(LDAvis);\n",
       "}else if(typeof define === \"function\" && define.amd){\n",
       "   // require.js is available: use it to load d3/LDAvis\n",
       "   require.config({paths: {d3: \"https://d3js.org/d3.v5\"}});\n",
       "   require([\"d3\"], function(d3){\n",
       "      window.d3 = d3;\n",
       "      LDAvis_load_lib(\"https://cdn.jsdelivr.net/gh/bmabey/pyLDAvis@3.4.0/pyLDAvis/js/ldavis.v3.0.0.js\", function(){\n",
       "        new LDAvis(\"#\" + \"ldavis_el18741403237466602402181873852\", ldavis_el18741403237466602402181873852_data);\n",
       "      });\n",
       "    });\n",
       "}else{\n",
       "    // require.js not available: dynamically load d3 & LDAvis\n",
       "    LDAvis_load_lib(\"https://d3js.org/d3.v5.js\", function(){\n",
       "         LDAvis_load_lib(\"https://cdn.jsdelivr.net/gh/bmabey/pyLDAvis@3.4.0/pyLDAvis/js/ldavis.v3.0.0.js\", function(){\n",
       "                 new LDAvis(\"#\" + \"ldavis_el18741403237466602402181873852\", ldavis_el18741403237466602402181873852_data);\n",
       "            })\n",
       "         });\n",
       "}\n",
       "</script>"
      ],
      "text/plain": [
       "<IPython.core.display.HTML object>"
      ]
     },
     "execution_count": 45,
     "metadata": {},
     "output_type": "execute_result"
    }
   ],
   "source": [
    "# 輸出主題模型分析結果\n",
    "import pyLDAvis.gensim\n",
    "pyLDAvis.enable_notebook()\n",
    "vis = pyLDAvis.gensim.prepare(lda_model, corpus, dictionary)\n",
    "pyLDAvis.display(vis)"
   ]
  },
  {
   "cell_type": "code",
   "execution_count": null,
   "id": "daeb84d6",
   "metadata": {},
   "outputs": [],
   "source": []
  }
 ],
 "metadata": {
  "kernelspec": {
   "display_name": "Python 3 (ipykernel)",
   "language": "python",
   "name": "python3"
  },
  "language_info": {
   "codemirror_mode": {
    "name": "ipython",
    "version": 3
   },
   "file_extension": ".py",
   "mimetype": "text/x-python",
   "name": "python",
   "nbconvert_exporter": "python",
   "pygments_lexer": "ipython3",
   "version": "3.9.13"
  }
 },
 "nbformat": 4,
 "nbformat_minor": 5
}
