{
 "cells": [
  {
   "cell_type": "code",
   "execution_count": 26,
   "id": "8e92bfd9",
   "metadata": {},
   "outputs": [],
   "source": [
    "import pandas as pd #使用pandas套件\n",
    "\n",
    "rs = pd.read_csv(\"rs.csv\",encoding='big5')\n",
    "rs2= pd.read_csv(\"rs2.csv\",encoding='big5')"
   ]
  },
  {
   "cell_type": "code",
   "execution_count": 27,
   "id": "11506593",
   "metadata": {},
   "outputs": [
    {
     "data": {
      "text/html": [
       "<div>\n",
       "<style scoped>\n",
       "    .dataframe tbody tr th:only-of-type {\n",
       "        vertical-align: middle;\n",
       "    }\n",
       "\n",
       "    .dataframe tbody tr th {\n",
       "        vertical-align: top;\n",
       "    }\n",
       "\n",
       "    .dataframe thead th {\n",
       "        text-align: right;\n",
       "    }\n",
       "</style>\n",
       "<table border=\"1\" class=\"dataframe\">\n",
       "  <thead>\n",
       "    <tr style=\"text-align: right;\">\n",
       "      <th></th>\n",
       "      <th>球員</th>\n",
       "      <th>GP</th>\n",
       "      <th>MPG</th>\n",
       "      <th>2P%</th>\n",
       "      <th>3P%</th>\n",
       "      <th>FT%</th>\n",
       "      <th>RPG</th>\n",
       "      <th>APG</th>\n",
       "      <th>SPG</th>\n",
       "      <th>BPG</th>\n",
       "      <th>PPG</th>\n",
       "    </tr>\n",
       "  </thead>\n",
       "  <tbody>\n",
       "    <tr>\n",
       "      <th>0</th>\n",
       "      <td>賴廷恩</td>\n",
       "      <td>23</td>\n",
       "      <td>12:12</td>\n",
       "      <td>50.00</td>\n",
       "      <td>36.11</td>\n",
       "      <td>100.00</td>\n",
       "      <td>1.39</td>\n",
       "      <td>1.57</td>\n",
       "      <td>1.22</td>\n",
       "      <td>0.00</td>\n",
       "      <td>3.78</td>\n",
       "    </tr>\n",
       "    <tr>\n",
       "      <th>1</th>\n",
       "      <td>林書緯</td>\n",
       "      <td>17</td>\n",
       "      <td>23:15</td>\n",
       "      <td>46.88</td>\n",
       "      <td>34.88</td>\n",
       "      <td>50.00</td>\n",
       "      <td>3.35</td>\n",
       "      <td>3.59</td>\n",
       "      <td>1.47</td>\n",
       "      <td>0.18</td>\n",
       "      <td>9.35</td>\n",
       "    </tr>\n",
       "    <tr>\n",
       "      <th>2</th>\n",
       "      <td>簡偉儒</td>\n",
       "      <td>23</td>\n",
       "      <td>21:31</td>\n",
       "      <td>38.10</td>\n",
       "      <td>35.04</td>\n",
       "      <td>75.76</td>\n",
       "      <td>2.83</td>\n",
       "      <td>2.17</td>\n",
       "      <td>0.61</td>\n",
       "      <td>0.04</td>\n",
       "      <td>8.52</td>\n",
       "    </tr>\n",
       "    <tr>\n",
       "      <th>3</th>\n",
       "      <td>張宗憲</td>\n",
       "      <td>22</td>\n",
       "      <td>30:06:00</td>\n",
       "      <td>44.78</td>\n",
       "      <td>34.34</td>\n",
       "      <td>56.25</td>\n",
       "      <td>2.50</td>\n",
       "      <td>2.86</td>\n",
       "      <td>1.77</td>\n",
       "      <td>0.09</td>\n",
       "      <td>15.64</td>\n",
       "    </tr>\n",
       "    <tr>\n",
       "      <th>4</th>\n",
       "      <td>張伯維</td>\n",
       "      <td>10</td>\n",
       "      <td>11:20</td>\n",
       "      <td>52.00</td>\n",
       "      <td>19.23</td>\n",
       "      <td>60.00</td>\n",
       "      <td>1.00</td>\n",
       "      <td>0.10</td>\n",
       "      <td>0.30</td>\n",
       "      <td>0.30</td>\n",
       "      <td>4.40</td>\n",
       "    </tr>\n",
       "  </tbody>\n",
       "</table>\n",
       "</div>"
      ],
      "text/plain": [
       "    球員  GP       MPG    2P%    3P%     FT%   RPG   APG   SPG   BPG    PPG\n",
       "0  賴廷恩  23     12:12  50.00  36.11  100.00  1.39  1.57  1.22  0.00   3.78\n",
       "1  林書緯  17     23:15  46.88  34.88   50.00  3.35  3.59  1.47  0.18   9.35\n",
       "2  簡偉儒  23     21:31  38.10  35.04   75.76  2.83  2.17  0.61  0.04   8.52\n",
       "3  張宗憲  22  30:06:00  44.78  34.34   56.25  2.50  2.86  1.77  0.09  15.64\n",
       "4  張伯維  10     11:20  52.00  19.23   60.00  1.00  0.10  0.30  0.30   4.40"
      ]
     },
     "execution_count": 27,
     "metadata": {},
     "output_type": "execute_result"
    }
   ],
   "source": [
    "rs.head()"
   ]
  },
  {
   "cell_type": "code",
   "execution_count": 28,
   "id": "87f666ac",
   "metadata": {},
   "outputs": [
    {
     "data": {
      "text/html": [
       "<div>\n",
       "<style scoped>\n",
       "    .dataframe tbody tr th:only-of-type {\n",
       "        vertical-align: middle;\n",
       "    }\n",
       "\n",
       "    .dataframe tbody tr th {\n",
       "        vertical-align: top;\n",
       "    }\n",
       "\n",
       "    .dataframe thead th {\n",
       "        text-align: right;\n",
       "    }\n",
       "</style>\n",
       "<table border=\"1\" class=\"dataframe\">\n",
       "  <thead>\n",
       "    <tr style=\"text-align: right;\">\n",
       "      <th></th>\n",
       "      <th>球員</th>\n",
       "      <th>GP</th>\n",
       "      <th>MPG</th>\n",
       "      <th>2P%</th>\n",
       "      <th>3P%</th>\n",
       "      <th>FT%</th>\n",
       "      <th>RPG</th>\n",
       "      <th>APG</th>\n",
       "      <th>SPG</th>\n",
       "      <th>BPG</th>\n",
       "      <th>PPG</th>\n",
       "    </tr>\n",
       "  </thead>\n",
       "  <tbody>\n",
       "    <tr>\n",
       "      <th>0</th>\n",
       "      <td>賴廷恩</td>\n",
       "      <td>3.0</td>\n",
       "      <td>08:47</td>\n",
       "      <td>42.86</td>\n",
       "      <td>16.67</td>\n",
       "      <td>0.00</td>\n",
       "      <td>1.33</td>\n",
       "      <td>0.67</td>\n",
       "      <td>1.00</td>\n",
       "      <td>0.00</td>\n",
       "      <td>3.00</td>\n",
       "    </tr>\n",
       "    <tr>\n",
       "      <th>1</th>\n",
       "      <td>林書緯</td>\n",
       "      <td>4.0</td>\n",
       "      <td>17:24</td>\n",
       "      <td>50.00</td>\n",
       "      <td>16.67</td>\n",
       "      <td>66.67</td>\n",
       "      <td>2.50</td>\n",
       "      <td>4.25</td>\n",
       "      <td>0.25</td>\n",
       "      <td>0.25</td>\n",
       "      <td>4.75</td>\n",
       "    </tr>\n",
       "    <tr>\n",
       "      <th>2</th>\n",
       "      <td>簡偉儒</td>\n",
       "      <td>4.0</td>\n",
       "      <td>15:38</td>\n",
       "      <td>33.33</td>\n",
       "      <td>23.81</td>\n",
       "      <td>0.00</td>\n",
       "      <td>2.25</td>\n",
       "      <td>1.50</td>\n",
       "      <td>1.25</td>\n",
       "      <td>0.00</td>\n",
       "      <td>4.75</td>\n",
       "    </tr>\n",
       "    <tr>\n",
       "      <th>3</th>\n",
       "      <td>張宗憲</td>\n",
       "      <td>4.0</td>\n",
       "      <td>33:23:00</td>\n",
       "      <td>50.00</td>\n",
       "      <td>29.63</td>\n",
       "      <td>66.67</td>\n",
       "      <td>3.00</td>\n",
       "      <td>3.75</td>\n",
       "      <td>2.00</td>\n",
       "      <td>0.25</td>\n",
       "      <td>19.00</td>\n",
       "    </tr>\n",
       "    <tr>\n",
       "      <th>4</th>\n",
       "      <td>周桂羽</td>\n",
       "      <td>2.0</td>\n",
       "      <td>09:10</td>\n",
       "      <td>0.00</td>\n",
       "      <td>0.00</td>\n",
       "      <td>100.00</td>\n",
       "      <td>1.00</td>\n",
       "      <td>1.00</td>\n",
       "      <td>0.00</td>\n",
       "      <td>0.00</td>\n",
       "      <td>1.00</td>\n",
       "    </tr>\n",
       "  </tbody>\n",
       "</table>\n",
       "</div>"
      ],
      "text/plain": [
       "    球員   GP       MPG    2P%    3P%     FT%   RPG   APG   SPG   BPG    PPG\n",
       "0  賴廷恩  3.0     08:47  42.86  16.67    0.00  1.33  0.67  1.00  0.00   3.00\n",
       "1  林書緯  4.0     17:24  50.00  16.67   66.67  2.50  4.25  0.25  0.25   4.75\n",
       "2  簡偉儒  4.0     15:38  33.33  23.81    0.00  2.25  1.50  1.25  0.00   4.75\n",
       "3  張宗憲  4.0  33:23:00  50.00  29.63   66.67  3.00  3.75  2.00  0.25  19.00\n",
       "4  周桂羽  2.0     09:10   0.00   0.00  100.00  1.00  1.00  0.00  0.00   1.00"
      ]
     },
     "execution_count": 28,
     "metadata": {},
     "output_type": "execute_result"
    }
   ],
   "source": [
    "rs2.head()"
   ]
  },
  {
   "cell_type": "code",
   "execution_count": 29,
   "id": "6855f7bb",
   "metadata": {
    "scrolled": false
   },
   "outputs": [],
   "source": [
    "rs=set(rs)\n",
    "rs2=set(rs2)"
   ]
  },
  {
   "cell_type": "code",
   "execution_count": 30,
   "id": "eb7d4eef",
   "metadata": {},
   "outputs": [
    {
     "name": "stdout",
     "output_type": "stream",
     "text": [
      "常規賽球員：\n",
      "['賴廷恩', '林書緯', '簡偉儒', '張宗憲', '張伯維', '周桂羽', '郭少傑', '林志傑', '林孟學', '蔡文誠', '辛特力', '曾祥鈞', '石博恩', '塞瑟夫', '賈西亞', '曾文鼎']\n"
     ]
    }
   ],
   "source": [
    "#列出常規賽球員\n",
    "import pandas as pd\n",
    "rs = pd.read_csv(\"rs.csv\",encoding='big5')\n",
    "rs2= pd.read_csv(\"rs2.csv\",encoding='big5')\n",
    "player = list(rs['球員'])\n",
    "print('常規賽球員：')\n",
    "print(player)"
   ]
  },
  {
   "cell_type": "code",
   "execution_count": 31,
   "id": "f0689b5c",
   "metadata": {},
   "outputs": [
    {
     "name": "stdout",
     "output_type": "stream",
     "text": [
      "常規賽球員人數: 16\n"
     ]
    }
   ],
   "source": [
    "#列出常規賽球員人數\n",
    "print(\"常規賽球員人數:\", len(rs),)"
   ]
  },
  {
   "cell_type": "code",
   "execution_count": 32,
   "id": "8aa5cde0",
   "metadata": {},
   "outputs": [
    {
     "name": "stdout",
     "output_type": "stream",
     "text": [
      "季後賽球員：\n",
      "['賴廷恩', '林書緯', '簡偉儒', '張宗憲', '周桂羽', '林志傑', '林孟學', '蔡文誠', '辛特力', '曾祥鈞', '石博恩', '塞瑟夫', '曾文鼎', '王聿祥']\n"
     ]
    }
   ],
   "source": [
    "#列出季後賽球員\n",
    "print('季後賽球員：')\n",
    "player2 = list(rs2['球員'])\n",
    "print(player2)"
   ]
  },
  {
   "cell_type": "code",
   "execution_count": 33,
   "id": "b99a3cba",
   "metadata": {},
   "outputs": [
    {
     "name": "stdout",
     "output_type": "stream",
     "text": [
      "季後賽球員人數: 14\n"
     ]
    }
   ],
   "source": [
    "#列出季後賽球員人數\n",
    "print(\"季後賽球員人數:\", len(rs2),)"
   ]
  },
  {
   "cell_type": "code",
   "execution_count": 34,
   "id": "9aae0001",
   "metadata": {},
   "outputs": [],
   "source": [
    "player=set(player)\n",
    "player2=set(player2)"
   ]
  },
  {
   "cell_type": "code",
   "execution_count": 35,
   "id": "3b37b9d5",
   "metadata": {
    "scrolled": true
   },
   "outputs": [
    {
     "name": "stdout",
     "output_type": "stream",
     "text": [
      "季後賽與常規賽球員：\n",
      "{'曾文鼎', '林志傑', '簡偉儒', '石博恩', '郭少傑', '塞瑟夫', '王聿祥', '周桂羽', '賈西亞', '林書緯', '曾祥鈞', '賴廷恩', '張宗憲', '張伯維', '辛特力', '林孟學', '蔡文誠'}\n"
     ]
    }
   ],
   "source": [
    "#聯集\n",
    "print('季後賽與常規賽球員：')\n",
    "print(player|player2)"
   ]
  },
  {
   "cell_type": "code",
   "execution_count": 36,
   "id": "3fa61638",
   "metadata": {},
   "outputs": [
    {
     "name": "stdout",
     "output_type": "stream",
     "text": [
      "常規賽球員但非季後賽球員：\n",
      "{'郭少傑', '賈西亞', '張伯維'}\n"
     ]
    }
   ],
   "source": [
    "#差集 常規賽球員但非季後賽球員\n",
    "print('常規賽球員但非季後賽球員：')\n",
    "print(player-player2)"
   ]
  },
  {
   "cell_type": "code",
   "execution_count": 37,
   "id": "6c5323e3",
   "metadata": {},
   "outputs": [
    {
     "name": "stdout",
     "output_type": "stream",
     "text": [
      "常規賽未登錄季後賽登錄或季後賽未登錄：\n",
      "{'郭少傑', '賈西亞', '張伯維', '王聿祥'}\n"
     ]
    }
   ],
   "source": [
    "#對稱差集(聯集-交集) 常規賽未登錄季後賽登錄或季後賽未登錄\n",
    "print('常規賽未登錄季後賽登錄或季後賽未登錄：')\n",
    "print(player^player2)"
   ]
  },
  {
   "cell_type": "code",
   "execution_count": 38,
   "id": "350ea573",
   "metadata": {},
   "outputs": [
    {
     "name": "stdout",
     "output_type": "stream",
     "text": [
      "季後賽球員但非常規賽球員：\n",
      "{'王聿祥'}\n"
     ]
    }
   ],
   "source": [
    "#差集 季後賽球員但非常規賽球員\n",
    "print('季後賽球員但非常規賽球員：')\n",
    "print(player2-player)"
   ]
  },
  {
   "cell_type": "code",
   "execution_count": null,
   "id": "8dfda93a",
   "metadata": {},
   "outputs": [],
   "source": []
  }
 ],
 "metadata": {
  "kernelspec": {
   "display_name": "Python 3 (ipykernel)",
   "language": "python",
   "name": "python3"
  },
  "language_info": {
   "codemirror_mode": {
    "name": "ipython",
    "version": 3
   },
   "file_extension": ".py",
   "mimetype": "text/x-python",
   "name": "python",
   "nbconvert_exporter": "python",
   "pygments_lexer": "ipython3",
   "version": "3.9.13"
  }
 },
 "nbformat": 4,
 "nbformat_minor": 5
}
