{
 "cells": [
  {
   "cell_type": "code",
   "execution_count": 1,
   "id": "573a1f02",
   "metadata": {},
   "outputs": [
    {
     "data": {
      "text/html": [
       "<div>\n",
       "<style scoped>\n",
       "    .dataframe tbody tr th:only-of-type {\n",
       "        vertical-align: middle;\n",
       "    }\n",
       "\n",
       "    .dataframe tbody tr th {\n",
       "        vertical-align: top;\n",
       "    }\n",
       "\n",
       "    .dataframe thead th {\n",
       "        text-align: right;\n",
       "    }\n",
       "</style>\n",
       "<table border=\"1\" class=\"dataframe\">\n",
       "  <thead>\n",
       "    <tr style=\"text-align: right;\">\n",
       "      <th></th>\n",
       "      <th>區域</th>\n",
       "      <th>學校</th>\n",
       "      <th>課程名稱</th>\n",
       "      <th>授課老師</th>\n",
       "      <th>開課系所</th>\n",
       "      <th>課程介紹</th>\n",
       "      <th>請挑選數個「與課程內容相關」的關鍵詞</th>\n",
       "      <th>外部企業合作執行專案</th>\n",
       "      <th>上課方式</th>\n",
       "      <th>課程前需要具備的能力</th>\n",
       "      <th>課程大綱網址</th>\n",
       "    </tr>\n",
       "  </thead>\n",
       "  <tbody>\n",
       "    <tr>\n",
       "      <th>0</th>\n",
       "      <td>北部地區</td>\n",
       "      <td>台灣大學</td>\n",
       "      <td>使用者經驗設計</td>\n",
       "      <td>黃仲菁</td>\n",
       "      <td>共同教育中心</td>\n",
       "      <td>本課程透過實際操作設計思考創新的方法步驟，探索問題，發展解答，嘗試解決現實世界中的真實複雜難...</td>\n",
       "      <td>脈絡訪查 | Contextual Inquiry, 服務設計 | Service Desi...</td>\n",
       "      <td>NaN</td>\n",
       "      <td>專案實作</td>\n",
       "      <td>無</td>\n",
       "      <td>https://nol.ntu.edu.tw/nol/coursesearch/print_...</td>\n",
       "    </tr>\n",
       "    <tr>\n",
       "      <th>1</th>\n",
       "      <td>北部地區</td>\n",
       "      <td>臺灣科技大學</td>\n",
       "      <td>使用者導向創新設計</td>\n",
       "      <td>唐玄輝</td>\n",
       "      <td>設計系</td>\n",
       "      <td>學習使用者觀察與分析方法、培養團隊合作與溝通能力與跨領域問題解決能力、擴大知識領域(提升工程...</td>\n",
       "      <td>脈絡訪查 | Contextual Inquiry, 訪談法 | Interview, 人物...</td>\n",
       "      <td>NaN</td>\n",
       "      <td>授課, 專案實作, 與資工合作</td>\n",
       "      <td>開放且積極的態度</td>\n",
       "      <td>http://ditldesign.squarespace.com/uoid-home</td>\n",
       "    </tr>\n",
       "    <tr>\n",
       "      <th>2</th>\n",
       "      <td>北部地區</td>\n",
       "      <td>臺灣科技大學</td>\n",
       "      <td>基礎互動設計(一)</td>\n",
       "      <td>余能豪</td>\n",
       "      <td>設計系</td>\n",
       "      <td>本課程之目的在於培養同學了解人與產品之互動歷程以及互動設計方法，進而設計出好用的產品或服務。...</td>\n",
       "      <td>訪談法 | Interview, 互動設計 | Interactive Design, 資訊...</td>\n",
       "      <td>NaN</td>\n",
       "      <td>授課, 專案實作</td>\n",
       "      <td>無</td>\n",
       "      <td>http://info.ntust.edu.tw/faith/edua/app/qry_li...</td>\n",
       "    </tr>\n",
       "    <tr>\n",
       "      <th>3</th>\n",
       "      <td>北部地區</td>\n",
       "      <td>臺灣科技大學</td>\n",
       "      <td>人機互動</td>\n",
       "      <td>蔡孟涵</td>\n",
       "      <td>營建工程系</td>\n",
       "      <td>隨著科技發展及使用者習慣的改變，人機互動(Human Computer Interactio...</td>\n",
       "      <td>脈絡訪查 | Contextual Inquiry, 易用性測試 | Usability Test</td>\n",
       "      <td>NaN</td>\n",
       "      <td>授課, 專案實作</td>\n",
       "      <td>無</td>\n",
       "      <td>http://info.ntust.edu.tw/faith/edua/app/qry_li...</td>\n",
       "    </tr>\n",
       "    <tr>\n",
       "      <th>4</th>\n",
       "      <td>北部地區</td>\n",
       "      <td>臺北科技大學</td>\n",
       "      <td>使用者經驗</td>\n",
       "      <td>陳圳卿</td>\n",
       "      <td>互動設計系</td>\n",
       "      <td>本課程之目標在於介紹使用者經驗設計之理論與應用。藉由本課程的學習，學生能習得互動設計過程中所...</td>\n",
       "      <td>人物誌 | Persona</td>\n",
       "      <td>NaN</td>\n",
       "      <td>授課, 專案實作</td>\n",
       "      <td>無</td>\n",
       "      <td>https://aps.ntut.edu.tw/course/tw/ShowSyllabus...</td>\n",
       "    </tr>\n",
       "    <tr>\n",
       "      <th>5</th>\n",
       "      <td>北部地區</td>\n",
       "      <td>臺北科技大學</td>\n",
       "      <td>使用者介面設計</td>\n",
       "      <td>楊英亮</td>\n",
       "      <td>互動設計系</td>\n",
       "      <td>本課程之目標在於介紹使用者介面設計過程中所需了解之相關專業知識，配合設計實務的操作，使學生能...</td>\n",
       "      <td>服務設計 | Service Design, 啟發式評估 | Heuristic Evalu...</td>\n",
       "      <td>NaN</td>\n",
       "      <td>授課, 專案實作</td>\n",
       "      <td>無</td>\n",
       "      <td>https://aps.ntut.edu.tw/course/tw/ShowSyllabus...</td>\n",
       "    </tr>\n",
       "    <tr>\n",
       "      <th>6</th>\n",
       "      <td>北部地區</td>\n",
       "      <td>政治大學</td>\n",
       "      <td>人機互動設計</td>\n",
       "      <td>陳宜秀</td>\n",
       "      <td>數位內容科技學程</td>\n",
       "      <td>以基本心理學為基礎，詳述如何架構人機互動的介面及結構，以及使用系統的心理歷程。主要內容包括人...</td>\n",
       "      <td>脈絡訪查 | Contextual Inquiry, 服務設計 | Service Desi...</td>\n",
       "      <td>NaN</td>\n",
       "      <td>授課, 專案實作, 業界講師演講</td>\n",
       "      <td>英文閱讀能力</td>\n",
       "      <td>http://newdoc.nccu.edu.tw/teaschm/1071/schmPrv...</td>\n",
       "    </tr>\n",
       "    <tr>\n",
       "      <th>7</th>\n",
       "      <td>北部地區</td>\n",
       "      <td>東吳大學</td>\n",
       "      <td>安全管理與人因設計</td>\n",
       "      <td>汪曼穎</td>\n",
       "      <td>心理學系碩士班</td>\n",
       "      <td>培養學生具備安全管理以及以考量人類因素的設計概念與實務理解，以理論與案例引導對於安全心理行為...</td>\n",
       "      <td>互動設計 | Interactive Design, 人因工程</td>\n",
       "      <td>NaN</td>\n",
       "      <td>授課, 專案實作</td>\n",
       "      <td>無</td>\n",
       "      <td>http://doc.sys.scu.edu.tw/teachplanHtml/1071/1...</td>\n",
       "    </tr>\n",
       "    <tr>\n",
       "      <th>8</th>\n",
       "      <td>北部地區</td>\n",
       "      <td>台北教育大學</td>\n",
       "      <td>人機介面設計與製作</td>\n",
       "      <td>趙貞怡</td>\n",
       "      <td>課程與教學傳播科技研究所\\r\\n教育傳播與科技碩士班</td>\n",
       "      <td>現今為一科技世代,到處可見不同的電腦科技產品,其螢幕畫面,大小規格,均不盡相同. 該如何設計...</td>\n",
       "      <td>互動設計 | Interactive Design, 易用性測試 | Usability Test</td>\n",
       "      <td>NaN</td>\n",
       "      <td>授課, 專案實作</td>\n",
       "      <td>具備資訊應用、程式設計、多媒體影音製作之能力</td>\n",
       "      <td>http://apstu.ntue.edu.tw/Secure/default.aspx</td>\n",
       "    </tr>\n",
       "    <tr>\n",
       "      <th>9</th>\n",
       "      <td>北部地區</td>\n",
       "      <td>交通大學</td>\n",
       "      <td>使用者經驗設計專題</td>\n",
       "      <td>李峻德</td>\n",
       "      <td>傳播研究所</td>\n",
       "      <td>無</td>\n",
       "      <td>無相關資料</td>\n",
       "      <td>NaN</td>\n",
       "      <td>授課, 專案實作</td>\n",
       "      <td>先修「多媒體人機互動概論」相關課程</td>\n",
       "      <td>NaN</td>\n",
       "    </tr>\n",
       "    <tr>\n",
       "      <th>10</th>\n",
       "      <td>北部地區</td>\n",
       "      <td>交通大學</td>\n",
       "      <td>使用者中心互動介面設計</td>\n",
       "      <td>張永儒</td>\n",
       "      <td>資訊科學與工程研究所</td>\n",
       "      <td>這堂課是設計給所有想要學習使用者中心設計流程(User-Centered Design)的學...</td>\n",
       "      <td>脈絡訪查 | Contextual Inquiry, 人物誌 | Persona, 易用性測...</td>\n",
       "      <td>V</td>\n",
       "      <td>授課, 專案實作</td>\n",
       "      <td>英文授課，本校學生優先</td>\n",
       "      <td>https://timetable.nctu.edu.tw/?r=main/crsoutli...</td>\n",
       "    </tr>\n",
       "    <tr>\n",
       "      <th>11</th>\n",
       "      <td>北部地區</td>\n",
       "      <td>交通大學</td>\n",
       "      <td>人機互動研究</td>\n",
       "      <td>許峻誠</td>\n",
       "      <td>應用藝術研究所</td>\n",
       "      <td>1.熟悉人機互動(HCI)的相關理論。\\r\\n2.認識互動設計流程與使用者研究方法，例如脈絡...</td>\n",
       "      <td>脈絡訪查 | Contextual Inquiry, 互動設計 | Interactive ...</td>\n",
       "      <td>NaN</td>\n",
       "      <td>授課, 專案實作, 業界講師演講</td>\n",
       "      <td>無</td>\n",
       "      <td>https://timetable.nctu.edu.tw/?r=main/crsoutli...</td>\n",
       "    </tr>\n",
       "    <tr>\n",
       "      <th>12</th>\n",
       "      <td>北部地區</td>\n",
       "      <td>清華大學</td>\n",
       "      <td>服務設計</td>\n",
       "      <td>曾元琦</td>\n",
       "      <td>服務科學所</td>\n",
       "      <td>Service design is an interdisciplinary field t...</td>\n",
       "      <td>脈絡訪查 | Contextual Inquiry, 服務設計 | Service Desi...</td>\n",
       "      <td>NaN</td>\n",
       "      <td>授課, 專案實作</td>\n",
       "      <td>服科所學生需先修服務科學導論及服務創新，外所建議有服務創新相關專案經驗以加簽選課</td>\n",
       "      <td>https://www.ccxp.nthu.edu.tw/ccxp/INQUIRE/JH/o...</td>\n",
       "    </tr>\n",
       "    <tr>\n",
       "      <th>13</th>\n",
       "      <td>北部地區</td>\n",
       "      <td>清華大學</td>\n",
       "      <td>互動設計</td>\n",
       "      <td>許有真</td>\n",
       "      <td>資訊應用系</td>\n",
       "      <td>本課程將從人性因素、互動設計過程、以及人機間的互動因素來了解電腦介面的互動設計過程及相關 議...</td>\n",
       "      <td>互動設計 | Interactive Design</td>\n",
       "      <td>NaN</td>\n",
       "      <td>授課, 專案實作</td>\n",
       "      <td>無</td>\n",
       "      <td>https://www.ccxp.nthu.edu.tw/ccxp/INQUIRE/JH/c...</td>\n",
       "    </tr>\n",
       "    <tr>\n",
       "      <th>14</th>\n",
       "      <td>北部地區</td>\n",
       "      <td>清華大學</td>\n",
       "      <td>學習環境設計</td>\n",
       "      <td>許有真</td>\n",
       "      <td>學習科學所</td>\n",
       "      <td>在一個學習環境中，學習者透過與環境、社會文化情境、他人、及科技、物品等的互動來進行學習活動，...</td>\n",
       "      <td>易用性測試 | Usability Test</td>\n",
       "      <td>NaN</td>\n",
       "      <td>授課, 專案實作</td>\n",
       "      <td>無</td>\n",
       "      <td>https://www.ccxp.nthu.edu.tw/ccxp/INQUIRE/JH/c...</td>\n",
       "    </tr>\n",
       "    <tr>\n",
       "      <th>15</th>\n",
       "      <td>北部地區</td>\n",
       "      <td>清華大學</td>\n",
       "      <td>創新設計專題</td>\n",
       "      <td>瞿志行</td>\n",
       "      <td>工業工程系</td>\n",
       "      <td>近年來設計的價值逐漸受到重視，然而本校相關科系的教學，仍以單一、特定領域的知識培養為主，無法...</td>\n",
       "      <td>互動設計 | Interactive Design</td>\n",
       "      <td>NaN</td>\n",
       "      <td>授課, 專案實作</td>\n",
       "      <td>無</td>\n",
       "      <td>https://www.ccxp.nthu.edu.tw/ccxp/INQUIRE/JH/c...</td>\n",
       "    </tr>\n",
       "    <tr>\n",
       "      <th>16</th>\n",
       "      <td>北部地區</td>\n",
       "      <td>清華大學</td>\n",
       "      <td>行為改變設計</td>\n",
       "      <td>郭佩宜</td>\n",
       "      <td>服務科學研究所</td>\n",
       "      <td>recent years. Targeted behaviors range from we...</td>\n",
       "      <td>脈絡訪查 | Contextual Inquiry, 服務設計 | Service Desi...</td>\n",
       "      <td>NaN</td>\n",
       "      <td>單純授課, 專案實作</td>\n",
       "      <td>無</td>\n",
       "      <td>https://www.ccxp.nthu.edu.tw/ccxp/INQUIRE/JH/c...</td>\n",
       "    </tr>\n",
       "    <tr>\n",
       "      <th>17</th>\n",
       "      <td>中部地區</td>\n",
       "      <td>雲林科技大學</td>\n",
       "      <td>互動設計</td>\n",
       "      <td>徐濟世</td>\n",
       "      <td>資訊管理系</td>\n",
       "      <td>透過這門課程，老師教導我們基本概念與討論有關「互動設計」與「設計思考」之間的議題，讓我們能夠...</td>\n",
       "      <td>服務設計 | Service Design, 同理心地圖 | Empathy Map, 顧客...</td>\n",
       "      <td>NaN</td>\n",
       "      <td>授課, 專案實作, 業界講師演講, 課堂小型操作</td>\n",
       "      <td>無特殊要求</td>\n",
       "      <td>https://webapp.yuntech.edu.tw/WebNewCAS/Course...</td>\n",
       "    </tr>\n",
       "    <tr>\n",
       "      <th>18</th>\n",
       "      <td>中部地區</td>\n",
       "      <td>雲林科技大學</td>\n",
       "      <td>使用者介面設計</td>\n",
       "      <td>陳詩捷</td>\n",
       "      <td>工業設計系</td>\n",
       "      <td>透過介紹互動設計的理論介紹，並搭配創意思考，為未來生活提出，具有創意性的互動模式。並探究與分...</td>\n",
       "      <td>人物誌 | Persona, 互動設計 | Interactive Design, 易用性測...</td>\n",
       "      <td>NaN</td>\n",
       "      <td>專案實作, 業界講師演講</td>\n",
       "      <td>無特殊要求</td>\n",
       "      <td>https://webapp.yuntech.edu.tw/WebNewCAS/Course...</td>\n",
       "    </tr>\n",
       "    <tr>\n",
       "      <th>19</th>\n",
       "      <td>中部地區</td>\n",
       "      <td>雲林科技大學</td>\n",
       "      <td>人因工程與人機互動裝置</td>\n",
       "      <td>王照明</td>\n",
       "      <td>數位媒體系</td>\n",
       "      <td>本課程將教授實體裝置的互動技術，藉由結合電子媒材與互動技術，讓虛擬世界的人機互動延展到實體世...</td>\n",
       "      <td>人因工程</td>\n",
       "      <td>NaN</td>\n",
       "      <td>授課, 專案實作</td>\n",
       "      <td>無特殊要求</td>\n",
       "      <td>https://webapp.yuntech.edu.tw/WebNewCAS/Course...</td>\n",
       "    </tr>\n",
       "    <tr>\n",
       "      <th>20</th>\n",
       "      <td>中部地區</td>\n",
       "      <td>雲林科技大學</td>\n",
       "      <td>介面設計與使用性評估</td>\n",
       "      <td>張登文\\r\\n李盈盈</td>\n",
       "      <td>數位媒體系</td>\n",
       "      <td>我要做媒體設計關使用者什麼事？為何使用者都看不懂我的設計？到為何要理解使用者和使用者經驗？進...</td>\n",
       "      <td>訪談法 | Interview, A / B測試 | A / B Test, 易用性測試 |...</td>\n",
       "      <td>NaN</td>\n",
       "      <td>授課, 專案實作</td>\n",
       "      <td>無特殊要求</td>\n",
       "      <td>https://webapp.yuntech.edu.tw/WebNewCAS/Course...</td>\n",
       "    </tr>\n",
       "    <tr>\n",
       "      <th>21</th>\n",
       "      <td>中部地區</td>\n",
       "      <td>雲林科技大學</td>\n",
       "      <td>服務設計專論</td>\n",
       "      <td>張岑瑤</td>\n",
       "      <td>創意設計系</td>\n",
       "      <td>This course intendsto induce students to in？de...</td>\n",
       "      <td>脈絡訪查 | Contextual Inquiry, 服務設計 | Service Desi...</td>\n",
       "      <td>NaN</td>\n",
       "      <td>專案實作</td>\n",
       "      <td>英語能力</td>\n",
       "      <td>https://webapp.yuntech.edu.tw/WebNewCAS/Course...</td>\n",
       "    </tr>\n",
       "    <tr>\n",
       "      <th>22</th>\n",
       "      <td>南部地區</td>\n",
       "      <td>成功大學</td>\n",
       "      <td>體驗設計概論</td>\n",
       "      <td>簡瑋麒</td>\n",
       "      <td>工業設計學系</td>\n",
       "      <td>體驗設計係以人類行為理論為基礎、以理解使用者之行為動機、美感需求以及行為意義而進行之產品/服...</td>\n",
       "      <td>訪談法 | Interview, 情感設計,</td>\n",
       "      <td>NaN</td>\n",
       "      <td>授課, 專案實作</td>\n",
       "      <td>建議先修課程：人因學、專題模型製作、計算機概論。</td>\n",
       "      <td>http://class-qry.acad.ncku.edu.tw/syllabus/onl...</td>\n",
       "    </tr>\n",
       "    <tr>\n",
       "      <th>23</th>\n",
       "      <td>南部地\\n區</td>\n",
       "      <td>南台科技大學</td>\n",
       "      <td>使用者經驗設計</td>\n",
       "      <td>許宏賓</td>\n",
       "      <td>商品設計系</td>\n",
       "      <td>使用者的經驗在於優使性的評估使用者在使用某個產品時易用程度的標準。優使性概念，除了使用者在使...</td>\n",
       "      <td>啟發式評估 | Heuristic Evaluation</td>\n",
       "      <td>NaN</td>\n",
       "      <td>授課, 專案實作</td>\n",
       "      <td>無</td>\n",
       "      <td>https://eportal.stust.edu.tw/CourSel/Pages/Cou...</td>\n",
       "    </tr>\n",
       "    <tr>\n",
       "      <th>24</th>\n",
       "      <td>南部地區</td>\n",
       "      <td>長榮大學</td>\n",
       "      <td>創意思考與實踐</td>\n",
       "      <td>林揚智</td>\n",
       "      <td>大學部 通識中心</td>\n",
       "      <td>人類的文明始於滿足生活需求所提出的各種創意解方，故生活中點點滴滴的體驗是創意家或創業家非常重...</td>\n",
       "      <td>尚在規劃中</td>\n",
       "      <td>NaN</td>\n",
       "      <td>授課, 專案實作, 業界講師演講</td>\n",
       "      <td>無</td>\n",
       "      <td>https://eportal.cjcu.edu.tw/Syllabus/Info/Cour...</td>\n",
       "    </tr>\n",
       "  </tbody>\n",
       "</table>\n",
       "</div>"
      ],
      "text/plain": [
       "        區域      學校         課程名稱        授課老師                        開課系所  \\\n",
       "0     北部地區    台灣大學      使用者經驗設計         黃仲菁                      共同教育中心   \n",
       "1     北部地區  臺灣科技大學    使用者導向創新設計         唐玄輝                         設計系   \n",
       "2     北部地區  臺灣科技大學    基礎互動設計(一)         余能豪                         設計系   \n",
       "3     北部地區  臺灣科技大學         人機互動         蔡孟涵                       營建工程系   \n",
       "4     北部地區  臺北科技大學        使用者經驗         陳圳卿                       互動設計系   \n",
       "5     北部地區  臺北科技大學      使用者介面設計         楊英亮                       互動設計系   \n",
       "6     北部地區    政治大學       人機互動設計         陳宜秀                    數位內容科技學程   \n",
       "7     北部地區    東吳大學    安全管理與人因設計         汪曼穎                     心理學系碩士班   \n",
       "8     北部地區  台北教育大學    人機介面設計與製作         趙貞怡  課程與教學傳播科技研究所\\r\\n教育傳播與科技碩士班   \n",
       "9     北部地區    交通大學    使用者經驗設計專題         李峻德                       傳播研究所   \n",
       "10    北部地區    交通大學  使用者中心互動介面設計         張永儒                  資訊科學與工程研究所   \n",
       "11    北部地區    交通大學       人機互動研究         許峻誠                     應用藝術研究所   \n",
       "12    北部地區    清華大學         服務設計         曾元琦                       服務科學所   \n",
       "13    北部地區    清華大學         互動設計         許有真                       資訊應用系   \n",
       "14    北部地區    清華大學       學習環境設計         許有真                       學習科學所   \n",
       "15    北部地區    清華大學       創新設計專題         瞿志行                       工業工程系   \n",
       "16    北部地區    清華大學       行為改變設計         郭佩宜                     服務科學研究所   \n",
       "17    中部地區  雲林科技大學         互動設計         徐濟世                       資訊管理系   \n",
       "18    中部地區  雲林科技大學      使用者介面設計         陳詩捷                       工業設計系   \n",
       "19    中部地區  雲林科技大學  人因工程與人機互動裝置         王照明                       數位媒體系   \n",
       "20    中部地區  雲林科技大學   介面設計與使用性評估  張登文\\r\\n李盈盈                       數位媒體系   \n",
       "21    中部地區  雲林科技大學       服務設計專論         張岑瑤                       創意設計系   \n",
       "22    南部地區    成功大學       體驗設計概論         簡瑋麒                      工業設計學系   \n",
       "23  南部地\\n區  南台科技大學      使用者經驗設計         許宏賓                       商品設計系   \n",
       "24    南部地區    長榮大學      創意思考與實踐         林揚智                    大學部 通識中心   \n",
       "\n",
       "                                                 課程介紹  \\\n",
       "0   本課程透過實際操作設計思考創新的方法步驟，探索問題，發展解答，嘗試解決現實世界中的真實複雜難...   \n",
       "1   學習使用者觀察與分析方法、培養團隊合作與溝通能力與跨領域問題解決能力、擴大知識領域(提升工程...   \n",
       "2   本課程之目的在於培養同學了解人與產品之互動歷程以及互動設計方法，進而設計出好用的產品或服務。...   \n",
       "3   隨著科技發展及使用者習慣的改變，人機互動(Human Computer Interactio...   \n",
       "4   本課程之目標在於介紹使用者經驗設計之理論與應用。藉由本課程的學習，學生能習得互動設計過程中所...   \n",
       "5   本課程之目標在於介紹使用者介面設計過程中所需了解之相關專業知識，配合設計實務的操作，使學生能...   \n",
       "6   以基本心理學為基礎，詳述如何架構人機互動的介面及結構，以及使用系統的心理歷程。主要內容包括人...   \n",
       "7   培養學生具備安全管理以及以考量人類因素的設計概念與實務理解，以理論與案例引導對於安全心理行為...   \n",
       "8   現今為一科技世代,到處可見不同的電腦科技產品,其螢幕畫面,大小規格,均不盡相同. 該如何設計...   \n",
       "9                                                   無   \n",
       "10  這堂課是設計給所有想要學習使用者中心設計流程(User-Centered Design)的學...   \n",
       "11  1.熟悉人機互動(HCI)的相關理論。\\r\\n2.認識互動設計流程與使用者研究方法，例如脈絡...   \n",
       "12  Service design is an interdisciplinary field t...   \n",
       "13  本課程將從人性因素、互動設計過程、以及人機間的互動因素來了解電腦介面的互動設計過程及相關 議...   \n",
       "14  在一個學習環境中，學習者透過與環境、社會文化情境、他人、及科技、物品等的互動來進行學習活動，...   \n",
       "15  近年來設計的價值逐漸受到重視，然而本校相關科系的教學，仍以單一、特定領域的知識培養為主，無法...   \n",
       "16  recent years. Targeted behaviors range from we...   \n",
       "17  透過這門課程，老師教導我們基本概念與討論有關「互動設計」與「設計思考」之間的議題，讓我們能夠...   \n",
       "18  透過介紹互動設計的理論介紹，並搭配創意思考，為未來生活提出，具有創意性的互動模式。並探究與分...   \n",
       "19  本課程將教授實體裝置的互動技術，藉由結合電子媒材與互動技術，讓虛擬世界的人機互動延展到實體世...   \n",
       "20  我要做媒體設計關使用者什麼事？為何使用者都看不懂我的設計？到為何要理解使用者和使用者經驗？進...   \n",
       "21  This course intendsto induce students to in？de...   \n",
       "22  體驗設計係以人類行為理論為基礎、以理解使用者之行為動機、美感需求以及行為意義而進行之產品/服...   \n",
       "23  使用者的經驗在於優使性的評估使用者在使用某個產品時易用程度的標準。優使性概念，除了使用者在使...   \n",
       "24  人類的文明始於滿足生活需求所提出的各種創意解方，故生活中點點滴滴的體驗是創意家或創業家非常重...   \n",
       "\n",
       "                                   請挑選數個「與課程內容相關」的關鍵詞 外部企業合作執行專案  \\\n",
       "0   脈絡訪查 | Contextual Inquiry, 服務設計 | Service Desi...        NaN   \n",
       "1   脈絡訪查 | Contextual Inquiry, 訪談法 | Interview, 人物...        NaN   \n",
       "2   訪談法 | Interview, 互動設計 | Interactive Design, 資訊...        NaN   \n",
       "3   脈絡訪查 | Contextual Inquiry, 易用性測試 | Usability Test        NaN   \n",
       "4                                       人物誌 | Persona        NaN   \n",
       "5   服務設計 | Service Design, 啟發式評估 | Heuristic Evalu...        NaN   \n",
       "6   脈絡訪查 | Contextual Inquiry, 服務設計 | Service Desi...        NaN   \n",
       "7                     互動設計 | Interactive Design, 人因工程        NaN   \n",
       "8   互動設計 | Interactive Design, 易用性測試 | Usability Test        NaN   \n",
       "9                                               無相關資料        NaN   \n",
       "10  脈絡訪查 | Contextual Inquiry, 人物誌 | Persona, 易用性測...          V   \n",
       "11  脈絡訪查 | Contextual Inquiry, 互動設計 | Interactive ...        NaN   \n",
       "12  脈絡訪查 | Contextual Inquiry, 服務設計 | Service Desi...        NaN   \n",
       "13                          互動設計 | Interactive Design        NaN   \n",
       "14                             易用性測試 | Usability Test        NaN   \n",
       "15                          互動設計 | Interactive Design        NaN   \n",
       "16  脈絡訪查 | Contextual Inquiry, 服務設計 | Service Desi...        NaN   \n",
       "17  服務設計 | Service Design, 同理心地圖 | Empathy Map, 顧客...        NaN   \n",
       "18  人物誌 | Persona, 互動設計 | Interactive Design, 易用性測...        NaN   \n",
       "19                                               人因工程        NaN   \n",
       "20  訪談法 | Interview, A / B測試 | A / B Test, 易用性測試 |...        NaN   \n",
       "21  脈絡訪查 | Contextual Inquiry, 服務設計 | Service Desi...        NaN   \n",
       "22                            訪談法 | Interview, 情感設計,         NaN   \n",
       "23                       啟發式評估 | Heuristic Evaluation        NaN   \n",
       "24                                              尚在規劃中        NaN   \n",
       "\n",
       "                        上課方式                                課程前需要具備的能力  \\\n",
       "0                       專案實作                                         無   \n",
       "1            授課, 專案實作, 與資工合作                                  開放且積極的態度   \n",
       "2                   授課, 專案實作                                         無   \n",
       "3                   授課, 專案實作                                         無   \n",
       "4                   授課, 專案實作                                         無   \n",
       "5                   授課, 專案實作                                         無   \n",
       "6           授課, 專案實作, 業界講師演講                                    英文閱讀能力   \n",
       "7                   授課, 專案實作                                         無   \n",
       "8                   授課, 專案實作                    具備資訊應用、程式設計、多媒體影音製作之能力   \n",
       "9                   授課, 專案實作                         先修「多媒體人機互動概論」相關課程   \n",
       "10                  授課, 專案實作                               英文授課，本校學生優先   \n",
       "11          授課, 專案實作, 業界講師演講                                         無   \n",
       "12                  授課, 專案實作  服科所學生需先修服務科學導論及服務創新，外所建議有服務創新相關專案經驗以加簽選課   \n",
       "13                  授課, 專案實作                                         無   \n",
       "14                  授課, 專案實作                                         無   \n",
       "15                  授課, 專案實作                                         無   \n",
       "16                單純授課, 專案實作                                         無   \n",
       "17  授課, 專案實作, 業界講師演講, 課堂小型操作                                     無特殊要求   \n",
       "18              專案實作, 業界講師演講                                     無特殊要求   \n",
       "19                  授課, 專案實作                                     無特殊要求   \n",
       "20                  授課, 專案實作                                     無特殊要求   \n",
       "21                      專案實作                                      英語能力   \n",
       "22                  授課, 專案實作                  建議先修課程：人因學、專題模型製作、計算機概論。   \n",
       "23                  授課, 專案實作                                         無   \n",
       "24          授課, 專案實作, 業界講師演講                                         無   \n",
       "\n",
       "                                               課程大綱網址  \n",
       "0   https://nol.ntu.edu.tw/nol/coursesearch/print_...  \n",
       "1         http://ditldesign.squarespace.com/uoid-home  \n",
       "2   http://info.ntust.edu.tw/faith/edua/app/qry_li...  \n",
       "3   http://info.ntust.edu.tw/faith/edua/app/qry_li...  \n",
       "4   https://aps.ntut.edu.tw/course/tw/ShowSyllabus...  \n",
       "5   https://aps.ntut.edu.tw/course/tw/ShowSyllabus...  \n",
       "6   http://newdoc.nccu.edu.tw/teaschm/1071/schmPrv...  \n",
       "7   http://doc.sys.scu.edu.tw/teachplanHtml/1071/1...  \n",
       "8        http://apstu.ntue.edu.tw/Secure/default.aspx  \n",
       "9                                                 NaN  \n",
       "10  https://timetable.nctu.edu.tw/?r=main/crsoutli...  \n",
       "11  https://timetable.nctu.edu.tw/?r=main/crsoutli...  \n",
       "12  https://www.ccxp.nthu.edu.tw/ccxp/INQUIRE/JH/o...  \n",
       "13  https://www.ccxp.nthu.edu.tw/ccxp/INQUIRE/JH/c...  \n",
       "14  https://www.ccxp.nthu.edu.tw/ccxp/INQUIRE/JH/c...  \n",
       "15  https://www.ccxp.nthu.edu.tw/ccxp/INQUIRE/JH/c...  \n",
       "16  https://www.ccxp.nthu.edu.tw/ccxp/INQUIRE/JH/c...  \n",
       "17  https://webapp.yuntech.edu.tw/WebNewCAS/Course...  \n",
       "18  https://webapp.yuntech.edu.tw/WebNewCAS/Course...  \n",
       "19  https://webapp.yuntech.edu.tw/WebNewCAS/Course...  \n",
       "20  https://webapp.yuntech.edu.tw/WebNewCAS/Course...  \n",
       "21  https://webapp.yuntech.edu.tw/WebNewCAS/Course...  \n",
       "22  http://class-qry.acad.ncku.edu.tw/syllabus/onl...  \n",
       "23  https://eportal.stust.edu.tw/CourSel/Pages/Cou...  \n",
       "24  https://eportal.cjcu.edu.tw/Syllabus/Info/Cour...  "
      ]
     },
     "execution_count": 1,
     "metadata": {},
     "output_type": "execute_result"
    }
   ],
   "source": [
    "import pandas as pd\n",
    "#使用者研究課程全台募集-2018/9 開課\n",
    "df = pd.read_csv(\"design.csv\",encoding = \"Big5\")\n",
    "df"
   ]
  },
  {
   "cell_type": "code",
   "execution_count": 2,
   "id": "96cf8573",
   "metadata": {},
   "outputs": [],
   "source": [
    "df.columns = ['area', 'school', 'classname', 'teacher', 'department',\n",
    "              'info', 'keyword', 'coop', 'classway', 'beforeclass',\n",
    "              'link']"
   ]
  },
  {
   "cell_type": "code",
   "execution_count": 8,
   "id": "3ccec637",
   "metadata": {},
   "outputs": [
    {
     "data": {
      "text/html": [
       "<div>\n",
       "<style scoped>\n",
       "    .dataframe tbody tr th:only-of-type {\n",
       "        vertical-align: middle;\n",
       "    }\n",
       "\n",
       "    .dataframe tbody tr th {\n",
       "        vertical-align: top;\n",
       "    }\n",
       "\n",
       "    .dataframe thead th {\n",
       "        text-align: right;\n",
       "    }\n",
       "</style>\n",
       "<table border=\"1\" class=\"dataframe\">\n",
       "  <thead>\n",
       "    <tr style=\"text-align: right;\">\n",
       "      <th></th>\n",
       "      <th>課程名稱</th>\n",
       "    </tr>\n",
       "    <tr>\n",
       "      <th>學校</th>\n",
       "      <th></th>\n",
       "    </tr>\n",
       "  </thead>\n",
       "  <tbody>\n",
       "    <tr>\n",
       "      <th>交通大學</th>\n",
       "      <td>3</td>\n",
       "    </tr>\n",
       "    <tr>\n",
       "      <th>南台科技大學</th>\n",
       "      <td>1</td>\n",
       "    </tr>\n",
       "    <tr>\n",
       "      <th>台北教育大學</th>\n",
       "      <td>1</td>\n",
       "    </tr>\n",
       "    <tr>\n",
       "      <th>台灣大學</th>\n",
       "      <td>1</td>\n",
       "    </tr>\n",
       "    <tr>\n",
       "      <th>成功大學</th>\n",
       "      <td>1</td>\n",
       "    </tr>\n",
       "    <tr>\n",
       "      <th>政治大學</th>\n",
       "      <td>1</td>\n",
       "    </tr>\n",
       "    <tr>\n",
       "      <th>東吳大學</th>\n",
       "      <td>1</td>\n",
       "    </tr>\n",
       "    <tr>\n",
       "      <th>清華大學</th>\n",
       "      <td>5</td>\n",
       "    </tr>\n",
       "    <tr>\n",
       "      <th>臺北科技大學</th>\n",
       "      <td>2</td>\n",
       "    </tr>\n",
       "    <tr>\n",
       "      <th>臺灣科技大學</th>\n",
       "      <td>3</td>\n",
       "    </tr>\n",
       "    <tr>\n",
       "      <th>長榮大學</th>\n",
       "      <td>1</td>\n",
       "    </tr>\n",
       "    <tr>\n",
       "      <th>雲林科技大學</th>\n",
       "      <td>5</td>\n",
       "    </tr>\n",
       "  </tbody>\n",
       "</table>\n",
       "</div>"
      ],
      "text/plain": [
       "        課程名稱\n",
       "學校          \n",
       "交通大學       3\n",
       "南台科技大學     1\n",
       "台北教育大學     1\n",
       "台灣大學       1\n",
       "成功大學       1\n",
       "政治大學       1\n",
       "東吳大學       1\n",
       "清華大學       5\n",
       "臺北科技大學     2\n",
       "臺灣科技大學     3\n",
       "長榮大學       1\n",
       "雲林科技大學     5"
      ]
     },
     "execution_count": 8,
     "metadata": {},
     "output_type": "execute_result"
    }
   ],
   "source": [
    "df.groupby(by=['學校']).agg({'課程名稱': len})\n",
    "#哪間學校的課程最多"
   ]
  },
  {
   "cell_type": "code",
   "execution_count": 14,
   "id": "6e317b2b",
   "metadata": {
    "scrolled": false
   },
   "outputs": [
    {
     "data": {
      "text/html": [
       "<div>\n",
       "<style scoped>\n",
       "    .dataframe tbody tr th:only-of-type {\n",
       "        vertical-align: middle;\n",
       "    }\n",
       "\n",
       "    .dataframe tbody tr th {\n",
       "        vertical-align: top;\n",
       "    }\n",
       "\n",
       "    .dataframe thead th {\n",
       "        text-align: right;\n",
       "    }\n",
       "</style>\n",
       "<table border=\"1\" class=\"dataframe\">\n",
       "  <thead>\n",
       "    <tr style=\"text-align: right;\">\n",
       "      <th></th>\n",
       "      <th>課程名稱</th>\n",
       "    </tr>\n",
       "    <tr>\n",
       "      <th>區域</th>\n",
       "      <th></th>\n",
       "    </tr>\n",
       "  </thead>\n",
       "  <tbody>\n",
       "    <tr>\n",
       "      <th>中部地區</th>\n",
       "      <td>5</td>\n",
       "    </tr>\n",
       "    <tr>\n",
       "      <th>北部地區</th>\n",
       "      <td>17</td>\n",
       "    </tr>\n",
       "    <tr>\n",
       "      <th>南部地\\n區</th>\n",
       "      <td>1</td>\n",
       "    </tr>\n",
       "    <tr>\n",
       "      <th>南部地區</th>\n",
       "      <td>2</td>\n",
       "    </tr>\n",
       "  </tbody>\n",
       "</table>\n",
       "</div>"
      ],
      "text/plain": [
       "        課程名稱\n",
       "區域          \n",
       "中部地區       5\n",
       "北部地區      17\n",
       "南部地\\n區     1\n",
       "南部地區       2"
      ]
     },
     "execution_count": 14,
     "metadata": {},
     "output_type": "execute_result"
    }
   ],
   "source": [
    "df.groupby(by=['區域']).agg({'課程名稱': len})\n",
    "#各地區的開課量"
   ]
  },
  {
   "cell_type": "code",
   "execution_count": 15,
   "id": "23a015b9",
   "metadata": {},
   "outputs": [
    {
     "data": {
      "application/vnd.plotly.v1+json": {
       "config": {
        "plotlyServerURL": "https://plot.ly"
       },
       "data": [
        {
         "marker": {
          "color": [
           "rgb(93, 164, 214)",
           "rgb(255, 144, 14)",
           "rgb(44, 160, 101)",
           "rgb(255, 65, 54)"
          ],
          "size": [
           30,
           30,
           30,
           30
          ]
         },
         "mode": "markers",
         "text": [
          "南台科技大學",
          "臺北科技大學",
          "臺灣科技大學",
          "雲林科技大學"
         ],
         "type": "scatter",
         "x": [
          1,
          2,
          3,
          4,
          5
         ],
         "y": [
          "北部",
          "中部",
          "南部",
          "中部"
         ]
        }
       ],
       "layout": {
        "template": {
         "data": {
          "bar": [
           {
            "error_x": {
             "color": "#2a3f5f"
            },
            "error_y": {
             "color": "#2a3f5f"
            },
            "marker": {
             "line": {
              "color": "#E5ECF6",
              "width": 0.5
             },
             "pattern": {
              "fillmode": "overlay",
              "size": 10,
              "solidity": 0.2
             }
            },
            "type": "bar"
           }
          ],
          "barpolar": [
           {
            "marker": {
             "line": {
              "color": "#E5ECF6",
              "width": 0.5
             },
             "pattern": {
              "fillmode": "overlay",
              "size": 10,
              "solidity": 0.2
             }
            },
            "type": "barpolar"
           }
          ],
          "carpet": [
           {
            "aaxis": {
             "endlinecolor": "#2a3f5f",
             "gridcolor": "white",
             "linecolor": "white",
             "minorgridcolor": "white",
             "startlinecolor": "#2a3f5f"
            },
            "baxis": {
             "endlinecolor": "#2a3f5f",
             "gridcolor": "white",
             "linecolor": "white",
             "minorgridcolor": "white",
             "startlinecolor": "#2a3f5f"
            },
            "type": "carpet"
           }
          ],
          "choropleth": [
           {
            "colorbar": {
             "outlinewidth": 0,
             "ticks": ""
            },
            "type": "choropleth"
           }
          ],
          "contour": [
           {
            "colorbar": {
             "outlinewidth": 0,
             "ticks": ""
            },
            "colorscale": [
             [
              0,
              "#0d0887"
             ],
             [
              0.1111111111111111,
              "#46039f"
             ],
             [
              0.2222222222222222,
              "#7201a8"
             ],
             [
              0.3333333333333333,
              "#9c179e"
             ],
             [
              0.4444444444444444,
              "#bd3786"
             ],
             [
              0.5555555555555556,
              "#d8576b"
             ],
             [
              0.6666666666666666,
              "#ed7953"
             ],
             [
              0.7777777777777778,
              "#fb9f3a"
             ],
             [
              0.8888888888888888,
              "#fdca26"
             ],
             [
              1,
              "#f0f921"
             ]
            ],
            "type": "contour"
           }
          ],
          "contourcarpet": [
           {
            "colorbar": {
             "outlinewidth": 0,
             "ticks": ""
            },
            "type": "contourcarpet"
           }
          ],
          "heatmap": [
           {
            "colorbar": {
             "outlinewidth": 0,
             "ticks": ""
            },
            "colorscale": [
             [
              0,
              "#0d0887"
             ],
             [
              0.1111111111111111,
              "#46039f"
             ],
             [
              0.2222222222222222,
              "#7201a8"
             ],
             [
              0.3333333333333333,
              "#9c179e"
             ],
             [
              0.4444444444444444,
              "#bd3786"
             ],
             [
              0.5555555555555556,
              "#d8576b"
             ],
             [
              0.6666666666666666,
              "#ed7953"
             ],
             [
              0.7777777777777778,
              "#fb9f3a"
             ],
             [
              0.8888888888888888,
              "#fdca26"
             ],
             [
              1,
              "#f0f921"
             ]
            ],
            "type": "heatmap"
           }
          ],
          "heatmapgl": [
           {
            "colorbar": {
             "outlinewidth": 0,
             "ticks": ""
            },
            "colorscale": [
             [
              0,
              "#0d0887"
             ],
             [
              0.1111111111111111,
              "#46039f"
             ],
             [
              0.2222222222222222,
              "#7201a8"
             ],
             [
              0.3333333333333333,
              "#9c179e"
             ],
             [
              0.4444444444444444,
              "#bd3786"
             ],
             [
              0.5555555555555556,
              "#d8576b"
             ],
             [
              0.6666666666666666,
              "#ed7953"
             ],
             [
              0.7777777777777778,
              "#fb9f3a"
             ],
             [
              0.8888888888888888,
              "#fdca26"
             ],
             [
              1,
              "#f0f921"
             ]
            ],
            "type": "heatmapgl"
           }
          ],
          "histogram": [
           {
            "marker": {
             "pattern": {
              "fillmode": "overlay",
              "size": 10,
              "solidity": 0.2
             }
            },
            "type": "histogram"
           }
          ],
          "histogram2d": [
           {
            "colorbar": {
             "outlinewidth": 0,
             "ticks": ""
            },
            "colorscale": [
             [
              0,
              "#0d0887"
             ],
             [
              0.1111111111111111,
              "#46039f"
             ],
             [
              0.2222222222222222,
              "#7201a8"
             ],
             [
              0.3333333333333333,
              "#9c179e"
             ],
             [
              0.4444444444444444,
              "#bd3786"
             ],
             [
              0.5555555555555556,
              "#d8576b"
             ],
             [
              0.6666666666666666,
              "#ed7953"
             ],
             [
              0.7777777777777778,
              "#fb9f3a"
             ],
             [
              0.8888888888888888,
              "#fdca26"
             ],
             [
              1,
              "#f0f921"
             ]
            ],
            "type": "histogram2d"
           }
          ],
          "histogram2dcontour": [
           {
            "colorbar": {
             "outlinewidth": 0,
             "ticks": ""
            },
            "colorscale": [
             [
              0,
              "#0d0887"
             ],
             [
              0.1111111111111111,
              "#46039f"
             ],
             [
              0.2222222222222222,
              "#7201a8"
             ],
             [
              0.3333333333333333,
              "#9c179e"
             ],
             [
              0.4444444444444444,
              "#bd3786"
             ],
             [
              0.5555555555555556,
              "#d8576b"
             ],
             [
              0.6666666666666666,
              "#ed7953"
             ],
             [
              0.7777777777777778,
              "#fb9f3a"
             ],
             [
              0.8888888888888888,
              "#fdca26"
             ],
             [
              1,
              "#f0f921"
             ]
            ],
            "type": "histogram2dcontour"
           }
          ],
          "mesh3d": [
           {
            "colorbar": {
             "outlinewidth": 0,
             "ticks": ""
            },
            "type": "mesh3d"
           }
          ],
          "parcoords": [
           {
            "line": {
             "colorbar": {
              "outlinewidth": 0,
              "ticks": ""
             }
            },
            "type": "parcoords"
           }
          ],
          "pie": [
           {
            "automargin": true,
            "type": "pie"
           }
          ],
          "scatter": [
           {
            "fillpattern": {
             "fillmode": "overlay",
             "size": 10,
             "solidity": 0.2
            },
            "type": "scatter"
           }
          ],
          "scatter3d": [
           {
            "line": {
             "colorbar": {
              "outlinewidth": 0,
              "ticks": ""
             }
            },
            "marker": {
             "colorbar": {
              "outlinewidth": 0,
              "ticks": ""
             }
            },
            "type": "scatter3d"
           }
          ],
          "scattercarpet": [
           {
            "marker": {
             "colorbar": {
              "outlinewidth": 0,
              "ticks": ""
             }
            },
            "type": "scattercarpet"
           }
          ],
          "scattergeo": [
           {
            "marker": {
             "colorbar": {
              "outlinewidth": 0,
              "ticks": ""
             }
            },
            "type": "scattergeo"
           }
          ],
          "scattergl": [
           {
            "marker": {
             "colorbar": {
              "outlinewidth": 0,
              "ticks": ""
             }
            },
            "type": "scattergl"
           }
          ],
          "scattermapbox": [
           {
            "marker": {
             "colorbar": {
              "outlinewidth": 0,
              "ticks": ""
             }
            },
            "type": "scattermapbox"
           }
          ],
          "scatterpolar": [
           {
            "marker": {
             "colorbar": {
              "outlinewidth": 0,
              "ticks": ""
             }
            },
            "type": "scatterpolar"
           }
          ],
          "scatterpolargl": [
           {
            "marker": {
             "colorbar": {
              "outlinewidth": 0,
              "ticks": ""
             }
            },
            "type": "scatterpolargl"
           }
          ],
          "scatterternary": [
           {
            "marker": {
             "colorbar": {
              "outlinewidth": 0,
              "ticks": ""
             }
            },
            "type": "scatterternary"
           }
          ],
          "surface": [
           {
            "colorbar": {
             "outlinewidth": 0,
             "ticks": ""
            },
            "colorscale": [
             [
              0,
              "#0d0887"
             ],
             [
              0.1111111111111111,
              "#46039f"
             ],
             [
              0.2222222222222222,
              "#7201a8"
             ],
             [
              0.3333333333333333,
              "#9c179e"
             ],
             [
              0.4444444444444444,
              "#bd3786"
             ],
             [
              0.5555555555555556,
              "#d8576b"
             ],
             [
              0.6666666666666666,
              "#ed7953"
             ],
             [
              0.7777777777777778,
              "#fb9f3a"
             ],
             [
              0.8888888888888888,
              "#fdca26"
             ],
             [
              1,
              "#f0f921"
             ]
            ],
            "type": "surface"
           }
          ],
          "table": [
           {
            "cells": {
             "fill": {
              "color": "#EBF0F8"
             },
             "line": {
              "color": "white"
             }
            },
            "header": {
             "fill": {
              "color": "#C8D4E3"
             },
             "line": {
              "color": "white"
             }
            },
            "type": "table"
           }
          ]
         },
         "layout": {
          "annotationdefaults": {
           "arrowcolor": "#2a3f5f",
           "arrowhead": 0,
           "arrowwidth": 1
          },
          "autotypenumbers": "strict",
          "coloraxis": {
           "colorbar": {
            "outlinewidth": 0,
            "ticks": ""
           }
          },
          "colorscale": {
           "diverging": [
            [
             0,
             "#8e0152"
            ],
            [
             0.1,
             "#c51b7d"
            ],
            [
             0.2,
             "#de77ae"
            ],
            [
             0.3,
             "#f1b6da"
            ],
            [
             0.4,
             "#fde0ef"
            ],
            [
             0.5,
             "#f7f7f7"
            ],
            [
             0.6,
             "#e6f5d0"
            ],
            [
             0.7,
             "#b8e186"
            ],
            [
             0.8,
             "#7fbc41"
            ],
            [
             0.9,
             "#4d9221"
            ],
            [
             1,
             "#276419"
            ]
           ],
           "sequential": [
            [
             0,
             "#0d0887"
            ],
            [
             0.1111111111111111,
             "#46039f"
            ],
            [
             0.2222222222222222,
             "#7201a8"
            ],
            [
             0.3333333333333333,
             "#9c179e"
            ],
            [
             0.4444444444444444,
             "#bd3786"
            ],
            [
             0.5555555555555556,
             "#d8576b"
            ],
            [
             0.6666666666666666,
             "#ed7953"
            ],
            [
             0.7777777777777778,
             "#fb9f3a"
            ],
            [
             0.8888888888888888,
             "#fdca26"
            ],
            [
             1,
             "#f0f921"
            ]
           ],
           "sequentialminus": [
            [
             0,
             "#0d0887"
            ],
            [
             0.1111111111111111,
             "#46039f"
            ],
            [
             0.2222222222222222,
             "#7201a8"
            ],
            [
             0.3333333333333333,
             "#9c179e"
            ],
            [
             0.4444444444444444,
             "#bd3786"
            ],
            [
             0.5555555555555556,
             "#d8576b"
            ],
            [
             0.6666666666666666,
             "#ed7953"
            ],
            [
             0.7777777777777778,
             "#fb9f3a"
            ],
            [
             0.8888888888888888,
             "#fdca26"
            ],
            [
             1,
             "#f0f921"
            ]
           ]
          },
          "colorway": [
           "#636efa",
           "#EF553B",
           "#00cc96",
           "#ab63fa",
           "#FFA15A",
           "#19d3f3",
           "#FF6692",
           "#B6E880",
           "#FF97FF",
           "#FECB52"
          ],
          "font": {
           "color": "#2a3f5f"
          },
          "geo": {
           "bgcolor": "white",
           "lakecolor": "white",
           "landcolor": "#E5ECF6",
           "showlakes": true,
           "showland": true,
           "subunitcolor": "white"
          },
          "hoverlabel": {
           "align": "left"
          },
          "hovermode": "closest",
          "mapbox": {
           "style": "light"
          },
          "paper_bgcolor": "white",
          "plot_bgcolor": "#E5ECF6",
          "polar": {
           "angularaxis": {
            "gridcolor": "white",
            "linecolor": "white",
            "ticks": ""
           },
           "bgcolor": "#E5ECF6",
           "radialaxis": {
            "gridcolor": "white",
            "linecolor": "white",
            "ticks": ""
           }
          },
          "scene": {
           "xaxis": {
            "backgroundcolor": "#E5ECF6",
            "gridcolor": "white",
            "gridwidth": 2,
            "linecolor": "white",
            "showbackground": true,
            "ticks": "",
            "zerolinecolor": "white"
           },
           "yaxis": {
            "backgroundcolor": "#E5ECF6",
            "gridcolor": "white",
            "gridwidth": 2,
            "linecolor": "white",
            "showbackground": true,
            "ticks": "",
            "zerolinecolor": "white"
           },
           "zaxis": {
            "backgroundcolor": "#E5ECF6",
            "gridcolor": "white",
            "gridwidth": 2,
            "linecolor": "white",
            "showbackground": true,
            "ticks": "",
            "zerolinecolor": "white"
           }
          },
          "shapedefaults": {
           "line": {
            "color": "#2a3f5f"
           }
          },
          "ternary": {
           "aaxis": {
            "gridcolor": "white",
            "linecolor": "white",
            "ticks": ""
           },
           "baxis": {
            "gridcolor": "white",
            "linecolor": "white",
            "ticks": ""
           },
           "bgcolor": "#E5ECF6",
           "caxis": {
            "gridcolor": "white",
            "linecolor": "white",
            "ticks": ""
           }
          },
          "title": {
           "x": 0.05
          },
          "xaxis": {
           "automargin": true,
           "gridcolor": "white",
           "linecolor": "white",
           "ticks": "",
           "title": {
            "standoff": 15
           },
           "zerolinecolor": "white",
           "zerolinewidth": 2
          },
          "yaxis": {
           "automargin": true,
           "gridcolor": "white",
           "linecolor": "white",
           "ticks": "",
           "title": {
            "standoff": 15
           },
           "zerolinecolor": "white",
           "zerolinewidth": 2
          }
         }
        }
       }
      },
      "text/html": [
       "<div>                            <div id=\"7903e5ea-0f26-4dba-8c93-315ca218b05b\" class=\"plotly-graph-div\" style=\"height:525px; width:100%;\"></div>            <script type=\"text/javascript\">                require([\"plotly\"], function(Plotly) {                    window.PLOTLYENV=window.PLOTLYENV || {};                                    if (document.getElementById(\"7903e5ea-0f26-4dba-8c93-315ca218b05b\")) {                    Plotly.newPlot(                        \"7903e5ea-0f26-4dba-8c93-315ca218b05b\",                        [{\"marker\":{\"color\":[\"rgb(93, 164, 214)\",\"rgb(255, 144, 14)\",\"rgb(44, 160, 101)\",\"rgb(255, 65, 54)\"],\"size\":[30,30,30,30]},\"mode\":\"markers\",\"text\":[\"\\u5357\\u53f0\\u79d1\\u6280\\u5927\\u5b78\",\"\\u81fa\\u5317\\u79d1\\u6280\\u5927\\u5b78\",\"\\u81fa\\u7063\\u79d1\\u6280\\u5927\\u5b78\",\"\\u96f2\\u6797\\u79d1\\u6280\\u5927\\u5b78\"],\"x\":[1,2,3,4,5],\"y\":[\"\\u5317\\u90e8\",\"\\u4e2d\\u90e8\",\"\\u5357\\u90e8\",\"\\u4e2d\\u90e8\"],\"type\":\"scatter\"}],                        {\"template\":{\"data\":{\"histogram2dcontour\":[{\"type\":\"histogram2dcontour\",\"colorbar\":{\"outlinewidth\":0,\"ticks\":\"\"},\"colorscale\":[[0.0,\"#0d0887\"],[0.1111111111111111,\"#46039f\"],[0.2222222222222222,\"#7201a8\"],[0.3333333333333333,\"#9c179e\"],[0.4444444444444444,\"#bd3786\"],[0.5555555555555556,\"#d8576b\"],[0.6666666666666666,\"#ed7953\"],[0.7777777777777778,\"#fb9f3a\"],[0.8888888888888888,\"#fdca26\"],[1.0,\"#f0f921\"]]}],\"choropleth\":[{\"type\":\"choropleth\",\"colorbar\":{\"outlinewidth\":0,\"ticks\":\"\"}}],\"histogram2d\":[{\"type\":\"histogram2d\",\"colorbar\":{\"outlinewidth\":0,\"ticks\":\"\"},\"colorscale\":[[0.0,\"#0d0887\"],[0.1111111111111111,\"#46039f\"],[0.2222222222222222,\"#7201a8\"],[0.3333333333333333,\"#9c179e\"],[0.4444444444444444,\"#bd3786\"],[0.5555555555555556,\"#d8576b\"],[0.6666666666666666,\"#ed7953\"],[0.7777777777777778,\"#fb9f3a\"],[0.8888888888888888,\"#fdca26\"],[1.0,\"#f0f921\"]]}],\"heatmap\":[{\"type\":\"heatmap\",\"colorbar\":{\"outlinewidth\":0,\"ticks\":\"\"},\"colorscale\":[[0.0,\"#0d0887\"],[0.1111111111111111,\"#46039f\"],[0.2222222222222222,\"#7201a8\"],[0.3333333333333333,\"#9c179e\"],[0.4444444444444444,\"#bd3786\"],[0.5555555555555556,\"#d8576b\"],[0.6666666666666666,\"#ed7953\"],[0.7777777777777778,\"#fb9f3a\"],[0.8888888888888888,\"#fdca26\"],[1.0,\"#f0f921\"]]}],\"heatmapgl\":[{\"type\":\"heatmapgl\",\"colorbar\":{\"outlinewidth\":0,\"ticks\":\"\"},\"colorscale\":[[0.0,\"#0d0887\"],[0.1111111111111111,\"#46039f\"],[0.2222222222222222,\"#7201a8\"],[0.3333333333333333,\"#9c179e\"],[0.4444444444444444,\"#bd3786\"],[0.5555555555555556,\"#d8576b\"],[0.6666666666666666,\"#ed7953\"],[0.7777777777777778,\"#fb9f3a\"],[0.8888888888888888,\"#fdca26\"],[1.0,\"#f0f921\"]]}],\"contourcarpet\":[{\"type\":\"contourcarpet\",\"colorbar\":{\"outlinewidth\":0,\"ticks\":\"\"}}],\"contour\":[{\"type\":\"contour\",\"colorbar\":{\"outlinewidth\":0,\"ticks\":\"\"},\"colorscale\":[[0.0,\"#0d0887\"],[0.1111111111111111,\"#46039f\"],[0.2222222222222222,\"#7201a8\"],[0.3333333333333333,\"#9c179e\"],[0.4444444444444444,\"#bd3786\"],[0.5555555555555556,\"#d8576b\"],[0.6666666666666666,\"#ed7953\"],[0.7777777777777778,\"#fb9f3a\"],[0.8888888888888888,\"#fdca26\"],[1.0,\"#f0f921\"]]}],\"surface\":[{\"type\":\"surface\",\"colorbar\":{\"outlinewidth\":0,\"ticks\":\"\"},\"colorscale\":[[0.0,\"#0d0887\"],[0.1111111111111111,\"#46039f\"],[0.2222222222222222,\"#7201a8\"],[0.3333333333333333,\"#9c179e\"],[0.4444444444444444,\"#bd3786\"],[0.5555555555555556,\"#d8576b\"],[0.6666666666666666,\"#ed7953\"],[0.7777777777777778,\"#fb9f3a\"],[0.8888888888888888,\"#fdca26\"],[1.0,\"#f0f921\"]]}],\"mesh3d\":[{\"type\":\"mesh3d\",\"colorbar\":{\"outlinewidth\":0,\"ticks\":\"\"}}],\"scatter\":[{\"fillpattern\":{\"fillmode\":\"overlay\",\"size\":10,\"solidity\":0.2},\"type\":\"scatter\"}],\"parcoords\":[{\"type\":\"parcoords\",\"line\":{\"colorbar\":{\"outlinewidth\":0,\"ticks\":\"\"}}}],\"scatterpolargl\":[{\"type\":\"scatterpolargl\",\"marker\":{\"colorbar\":{\"outlinewidth\":0,\"ticks\":\"\"}}}],\"bar\":[{\"error_x\":{\"color\":\"#2a3f5f\"},\"error_y\":{\"color\":\"#2a3f5f\"},\"marker\":{\"line\":{\"color\":\"#E5ECF6\",\"width\":0.5},\"pattern\":{\"fillmode\":\"overlay\",\"size\":10,\"solidity\":0.2}},\"type\":\"bar\"}],\"scattergeo\":[{\"type\":\"scattergeo\",\"marker\":{\"colorbar\":{\"outlinewidth\":0,\"ticks\":\"\"}}}],\"scatterpolar\":[{\"type\":\"scatterpolar\",\"marker\":{\"colorbar\":{\"outlinewidth\":0,\"ticks\":\"\"}}}],\"histogram\":[{\"marker\":{\"pattern\":{\"fillmode\":\"overlay\",\"size\":10,\"solidity\":0.2}},\"type\":\"histogram\"}],\"scattergl\":[{\"type\":\"scattergl\",\"marker\":{\"colorbar\":{\"outlinewidth\":0,\"ticks\":\"\"}}}],\"scatter3d\":[{\"type\":\"scatter3d\",\"line\":{\"colorbar\":{\"outlinewidth\":0,\"ticks\":\"\"}},\"marker\":{\"colorbar\":{\"outlinewidth\":0,\"ticks\":\"\"}}}],\"scattermapbox\":[{\"type\":\"scattermapbox\",\"marker\":{\"colorbar\":{\"outlinewidth\":0,\"ticks\":\"\"}}}],\"scatterternary\":[{\"type\":\"scatterternary\",\"marker\":{\"colorbar\":{\"outlinewidth\":0,\"ticks\":\"\"}}}],\"scattercarpet\":[{\"type\":\"scattercarpet\",\"marker\":{\"colorbar\":{\"outlinewidth\":0,\"ticks\":\"\"}}}],\"carpet\":[{\"aaxis\":{\"endlinecolor\":\"#2a3f5f\",\"gridcolor\":\"white\",\"linecolor\":\"white\",\"minorgridcolor\":\"white\",\"startlinecolor\":\"#2a3f5f\"},\"baxis\":{\"endlinecolor\":\"#2a3f5f\",\"gridcolor\":\"white\",\"linecolor\":\"white\",\"minorgridcolor\":\"white\",\"startlinecolor\":\"#2a3f5f\"},\"type\":\"carpet\"}],\"table\":[{\"cells\":{\"fill\":{\"color\":\"#EBF0F8\"},\"line\":{\"color\":\"white\"}},\"header\":{\"fill\":{\"color\":\"#C8D4E3\"},\"line\":{\"color\":\"white\"}},\"type\":\"table\"}],\"barpolar\":[{\"marker\":{\"line\":{\"color\":\"#E5ECF6\",\"width\":0.5},\"pattern\":{\"fillmode\":\"overlay\",\"size\":10,\"solidity\":0.2}},\"type\":\"barpolar\"}],\"pie\":[{\"automargin\":true,\"type\":\"pie\"}]},\"layout\":{\"autotypenumbers\":\"strict\",\"colorway\":[\"#636efa\",\"#EF553B\",\"#00cc96\",\"#ab63fa\",\"#FFA15A\",\"#19d3f3\",\"#FF6692\",\"#B6E880\",\"#FF97FF\",\"#FECB52\"],\"font\":{\"color\":\"#2a3f5f\"},\"hovermode\":\"closest\",\"hoverlabel\":{\"align\":\"left\"},\"paper_bgcolor\":\"white\",\"plot_bgcolor\":\"#E5ECF6\",\"polar\":{\"bgcolor\":\"#E5ECF6\",\"angularaxis\":{\"gridcolor\":\"white\",\"linecolor\":\"white\",\"ticks\":\"\"},\"radialaxis\":{\"gridcolor\":\"white\",\"linecolor\":\"white\",\"ticks\":\"\"}},\"ternary\":{\"bgcolor\":\"#E5ECF6\",\"aaxis\":{\"gridcolor\":\"white\",\"linecolor\":\"white\",\"ticks\":\"\"},\"baxis\":{\"gridcolor\":\"white\",\"linecolor\":\"white\",\"ticks\":\"\"},\"caxis\":{\"gridcolor\":\"white\",\"linecolor\":\"white\",\"ticks\":\"\"}},\"coloraxis\":{\"colorbar\":{\"outlinewidth\":0,\"ticks\":\"\"}},\"colorscale\":{\"sequential\":[[0.0,\"#0d0887\"],[0.1111111111111111,\"#46039f\"],[0.2222222222222222,\"#7201a8\"],[0.3333333333333333,\"#9c179e\"],[0.4444444444444444,\"#bd3786\"],[0.5555555555555556,\"#d8576b\"],[0.6666666666666666,\"#ed7953\"],[0.7777777777777778,\"#fb9f3a\"],[0.8888888888888888,\"#fdca26\"],[1.0,\"#f0f921\"]],\"sequentialminus\":[[0.0,\"#0d0887\"],[0.1111111111111111,\"#46039f\"],[0.2222222222222222,\"#7201a8\"],[0.3333333333333333,\"#9c179e\"],[0.4444444444444444,\"#bd3786\"],[0.5555555555555556,\"#d8576b\"],[0.6666666666666666,\"#ed7953\"],[0.7777777777777778,\"#fb9f3a\"],[0.8888888888888888,\"#fdca26\"],[1.0,\"#f0f921\"]],\"diverging\":[[0,\"#8e0152\"],[0.1,\"#c51b7d\"],[0.2,\"#de77ae\"],[0.3,\"#f1b6da\"],[0.4,\"#fde0ef\"],[0.5,\"#f7f7f7\"],[0.6,\"#e6f5d0\"],[0.7,\"#b8e186\"],[0.8,\"#7fbc41\"],[0.9,\"#4d9221\"],[1,\"#276419\"]]},\"xaxis\":{\"gridcolor\":\"white\",\"linecolor\":\"white\",\"ticks\":\"\",\"title\":{\"standoff\":15},\"zerolinecolor\":\"white\",\"automargin\":true,\"zerolinewidth\":2},\"yaxis\":{\"gridcolor\":\"white\",\"linecolor\":\"white\",\"ticks\":\"\",\"title\":{\"standoff\":15},\"zerolinecolor\":\"white\",\"automargin\":true,\"zerolinewidth\":2},\"scene\":{\"xaxis\":{\"backgroundcolor\":\"#E5ECF6\",\"gridcolor\":\"white\",\"linecolor\":\"white\",\"showbackground\":true,\"ticks\":\"\",\"zerolinecolor\":\"white\",\"gridwidth\":2},\"yaxis\":{\"backgroundcolor\":\"#E5ECF6\",\"gridcolor\":\"white\",\"linecolor\":\"white\",\"showbackground\":true,\"ticks\":\"\",\"zerolinecolor\":\"white\",\"gridwidth\":2},\"zaxis\":{\"backgroundcolor\":\"#E5ECF6\",\"gridcolor\":\"white\",\"linecolor\":\"white\",\"showbackground\":true,\"ticks\":\"\",\"zerolinecolor\":\"white\",\"gridwidth\":2}},\"shapedefaults\":{\"line\":{\"color\":\"#2a3f5f\"}},\"annotationdefaults\":{\"arrowcolor\":\"#2a3f5f\",\"arrowhead\":0,\"arrowwidth\":1},\"geo\":{\"bgcolor\":\"white\",\"landcolor\":\"#E5ECF6\",\"subunitcolor\":\"white\",\"showland\":true,\"showlakes\":true,\"lakecolor\":\"white\"},\"title\":{\"x\":0.05},\"mapbox\":{\"style\":\"light\"}}}},                        {\"responsive\": true}                    ).then(function(){\n",
       "                            \n",
       "var gd = document.getElementById('7903e5ea-0f26-4dba-8c93-315ca218b05b');\n",
       "var x = new MutationObserver(function (mutations, observer) {{\n",
       "        var display = window.getComputedStyle(gd).display;\n",
       "        if (!display || display === 'none') {{\n",
       "            console.log([gd, 'removed!']);\n",
       "            Plotly.purge(gd);\n",
       "            observer.disconnect();\n",
       "        }}\n",
       "}});\n",
       "\n",
       "// Listen for the removal of the full notebook cells\n",
       "var notebookContainer = gd.closest('#notebook-container');\n",
       "if (notebookContainer) {{\n",
       "    x.observe(notebookContainer, {childList: true});\n",
       "}}\n",
       "\n",
       "// Listen for the clearing of the current output cell\n",
       "var outputEl = gd.closest('.output');\n",
       "if (outputEl) {{\n",
       "    x.observe(outputEl, {childList: true});\n",
       "}}\n",
       "\n",
       "                        })                };                });            </script>        </div>"
      ]
     },
     "metadata": {},
     "output_type": "display_data"
    }
   ],
   "source": [
    "import plotly.graph_objects as go\n",
    "\n",
    "fig = go.Figure(data=[go.Scatter(\n",
    "    x=[1, 2, 3, 4,5], y=['北部', '中部', '南部','中部'],\n",
    "    text=['南台科技大學', '臺北科技大學', '臺灣科技大學', '雲林科技大學'],\n",
    "    mode='markers',\n",
    "    marker=dict(\n",
    "        color=['rgb(93, 164, 214)', 'rgb(255, 144, 14)',  'rgb(44, 160, 101)', 'rgb(255, 65, 54)'],\n",
    "        size=[30,30,30,30]\n",
    "    )\n",
    ")])\n",
    "\n",
    "fig.show()"
   ]
  },
  {
   "cell_type": "code",
   "execution_count": 12,
   "id": "928571b1",
   "metadata": {},
   "outputs": [
    {
     "ename": "ModuleNotFoundError",
     "evalue": "No module named 'circlify'",
     "output_type": "error",
     "traceback": [
      "\u001b[0;31m---------------------------------------------------------------------------\u001b[0m",
      "\u001b[0;31mModuleNotFoundError\u001b[0m                       Traceback (most recent call last)",
      "\u001b[0;32m/var/folders/_l/4hxt3fk515dfhkgkfl22djdm0000gn/T/ipykernel_2733/3616341392.py\u001b[0m in \u001b[0;36m<module>\u001b[0;34m\u001b[0m\n\u001b[0;32m----> 1\u001b[0;31m \u001b[0;32mimport\u001b[0m \u001b[0mcirclify\u001b[0m\u001b[0;34m\u001b[0m\u001b[0;34m\u001b[0m\u001b[0m\n\u001b[0m\u001b[1;32m      2\u001b[0m \u001b[0;32mimport\u001b[0m \u001b[0mmatplotlib\u001b[0m\u001b[0;34m.\u001b[0m\u001b[0mpyplot\u001b[0m \u001b[0;32mas\u001b[0m \u001b[0mplt\u001b[0m\u001b[0;34m\u001b[0m\u001b[0;34m\u001b[0m\u001b[0m\n\u001b[1;32m      3\u001b[0m \u001b[0;31m# 建立畫布, 包含一個子圖\u001b[0m\u001b[0;34m\u001b[0m\u001b[0;34m\u001b[0m\u001b[0m\n\u001b[1;32m      4\u001b[0m \u001b[0mfig\u001b[0m\u001b[0;34m,\u001b[0m \u001b[0max\u001b[0m \u001b[0;34m=\u001b[0m \u001b[0mplt\u001b[0m\u001b[0;34m.\u001b[0m\u001b[0msubplots\u001b[0m\u001b[0;34m(\u001b[0m\u001b[0mfigsize\u001b[0m\u001b[0;34m=\u001b[0m\u001b[0;34m(\u001b[0m\u001b[0;36m14\u001b[0m\u001b[0;34m,\u001b[0m \u001b[0;36m14\u001b[0m\u001b[0;34m)\u001b[0m\u001b[0;34m)\u001b[0m\u001b[0;34m\u001b[0m\u001b[0;34m\u001b[0m\u001b[0m\n\u001b[1;32m      5\u001b[0m \u001b[0;31m# 標題\u001b[0m\u001b[0;34m\u001b[0m\u001b[0;34m\u001b[0m\u001b[0m\n",
      "\u001b[0;31mModuleNotFoundError\u001b[0m: No module named 'circlify'"
     ]
    }
   ],
   "source": [
    "import circlify\n",
    "import matplotlib.pyplot as plt\n",
    "# 建立畫布, 包含一個子圖\n",
    "fig, ax = plt.subplots(figsize=(14, 14))\n",
    "# 標題\n",
    "ax.set_title('Repartition of the world population')\n",
    "# 移除座標軸\n",
    "ax.axis('off')\n",
    "# 人口資料\n",
    "data = [{'id': 'World', 'datum': 6964195249, 'children': [\n",
    "              {'id': \"North America\", 'datum': 450448697,\n",
    "                  'children': [\n",
    "                     {'id': \"United States\", 'datum': 308865000},\n",
    "                     {'id': \"Mexico\", 'datum': 107550697},\n",
    "                     {'id': \"Canada\", 'datum': 34033000}\n",
    "                   ]},\n",
    "              {'id': \"South America\", 'datum': 278095425,\n",
    "                  'children': [\n",
    "                     {'id': \"Brazil\", 'datum': 192612000},\n",
    "                     {'id': \"Colombia\", 'datum': 45349000},\n",
    "                     {'id': \"Argentina\", 'datum': 40134425}\n",
    "                   ]},\n",
    "              {'id': \"Europe\", 'datum': 209246682,\n",
    "                  'children': [\n",
    "                     {'id': \"Germany\", 'datum': 81757600},\n",
    "                     {'id': \"France\", 'datum': 65447374},\n",
    "                     {'id': \"United Kingdom\", 'datum': 62041708}\n",
    "                   ]},\n",
    "              {'id': \"Africa\", 'datum': 311929000,\n",
    "                  'children': [\n",
    "                     {'id': \"Nigeria\", 'datum': 154729000},\n",
    "                     {'id': \"Ethiopia\", 'datum': 79221000},\n",
    "                     {'id': \"Egypt\", 'datum': 77979000}\n",
    "                   ]},\n",
    "              {'id': \"Asia\", 'datum': 2745929500,\n",
    "                  'children': [\n",
    "                     {'id': \"China\", 'datum': 1336335000},\n",
    "                     {'id': \"India\", 'datum': 1178225000},\n",
    "                     {'id': \"Indonesia\", 'datum': 231369500}\n",
    "                   ]}\n",
    "    ]}]\n",
    "# 使用circlify()計算, 獲取圓的大小, 位置\n",
    "circles = circlify.circlify(\n",
    "    data,\n",
    "    show_enclosure=False,\n",
    "    target_enclosure=circlify.Circle(x=0, y=0, r=1)\n",
    ")\n",
    "lim = max(\n",
    "    max(\n",
    "        abs(circle.x) + circle.r,\n",
    "        abs(circle.y) + circle.r,\n",
    "    )\n",
    "    for circle in circles\n",
    ")\n",
    "plt.xlim(-lim, lim)\n",
    "plt.ylim(-lim, lim)\n",
    "for circle in circles:\n",
    "    if circle.level != 2:\n",
    "        continue\n",
    "    x, y, r = circle\n",
    "    ax.add_patch(plt.Circle((x, y), r, alpha=0.5, linewidth=2, color=\"lightblue\"))\n",
    "for circle in circles:\n",
    "    if circle.level != 3:\n",
    "        continue\n",
    "    x, y, r = circle\n",
    "    label = circle.ex[\"id\"]\n",
    "    ax.add_patch(plt.Circle((x, y), r, alpha=0.5, linewidth=2, color=\"#69b3a2\"))\n",
    "    plt.annotate(label, (x, y), ha='center', color=\"white\")\n",
    "for circle in circles:\n",
    "    if circle.level != 2:\n",
    "        continue\n",
    "    x, y, r = circle\n",
    "    label = circle.ex[\"id\"]\n",
    "    plt.annotate(label, (x, y), va='center', ha='center', bbox=dict(facecolor='white', edgecolor='black', boxstyle='round', pad=.5))\n",
    "plt.show()"
   ]
  },
  {
   "cell_type": "code",
   "execution_count": 13,
   "id": "667cde38",
   "metadata": {},
   "outputs": [
    {
     "name": "stdout",
     "output_type": "stream",
     "text": [
      "        區域      學校     課程名稱 授課老師    開課系所  \\\n",
      "0     北部地區    台灣大學  使用者經驗設計  黃仲菁  共同教育中心   \n",
      "23  南部地\\n區  南台科技大學  使用者經驗設計  許宏賓   商品設計系   \n",
      "\n",
      "                                                 課程介紹  \\\n",
      "0   本課程透過實際操作設計思考創新的方法步驟，探索問題，發展解答，嘗試解決現實世界中的真實複雜難...   \n",
      "23  使用者的經驗在於優使性的評估使用者在使用某個產品時易用程度的標準。優使性概念，除了使用者在使...   \n",
      "\n",
      "                                   請挑選數個「與課程內容相關」的關鍵詞 外部企業合作執行專案      上課方式  \\\n",
      "0   脈絡訪查 | Contextual Inquiry, 服務設計 | Service Desi...        NaN      專案實作   \n",
      "23                       啟發式評估 | Heuristic Evaluation        NaN  授課, 專案實作   \n",
      "\n",
      "   課程前需要具備的能力                                             課程大綱網址  \n",
      "0           無  https://nol.ntu.edu.tw/nol/coursesearch/print_...  \n",
      "23          無  https://eportal.stust.edu.tw/CourSel/Pages/Cou...  \n"
     ]
    }
   ],
   "source": [
    "import pandas as pd\n",
    " \n",
    " \n",
    "df = pd.read_csv(\"design.csv\",encoding = \"Big5\")\n",
    " \n",
    "filt = (df['課程名稱'] == '使用者經驗設計')\n",
    " \n",
    "print(df.loc[filt])\n"
   ]
  },
  {
   "cell_type": "code",
   "execution_count": null,
   "id": "f03cb931",
   "metadata": {},
   "outputs": [],
   "source": []
  }
 ],
 "metadata": {
  "kernelspec": {
   "display_name": "Python 3 (ipykernel)",
   "language": "python",
   "name": "python3"
  },
  "language_info": {
   "codemirror_mode": {
    "name": "ipython",
    "version": 3
   },
   "file_extension": ".py",
   "mimetype": "text/x-python",
   "name": "python",
   "nbconvert_exporter": "python",
   "pygments_lexer": "ipython3",
   "version": "3.9.13"
  }
 },
 "nbformat": 4,
 "nbformat_minor": 5
}
