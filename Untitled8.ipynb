{
 "cells": [
  {
   "cell_type": "code",
   "execution_count": 5,
   "id": "bfdb6bf3",
   "metadata": {},
   "outputs": [],
   "source": [
    "import urllib.request as req #導入連線網站的模組\n",
    "import json\n",
    "import csv\n",
    "import pandas as pd\n",
    "import re\n",
    "#抓取網頁\n",
    "url = \"https://www.itc.ntnu.edu.tw/sw/\"\n",
    "with req.urlopen(url) as response:\n",
    "    data = response.read().decode(\"utf-8\")\n",
    "#print(data) #(備註:並無出現教學影片中的連線錯誤問題，所以沒再加request headers)"
   ]
  },
  {
   "cell_type": "code",
   "execution_count": 6,
   "id": "e1e16125",
   "metadata": {},
   "outputs": [
    {
     "name": "stdout",
     "output_type": "stream",
     "text": [
      "國立臺灣師範大學軟體下載服務\n"
     ]
    }
   ],
   "source": [
    "#解析原始碼\n",
    "import bs4\n",
    "home = bs4.BeautifulSoup(data,\"html.parser\") #解析\n",
    "print(home.title.string) #嘗試抓網站名稱"
   ]
  },
  {
   "cell_type": "code",
   "execution_count": 8,
   "id": "63841711",
   "metadata": {},
   "outputs": [
    {
     "name": "stdout",
     "output_type": "stream",
     "text": [
      "[]\n"
     ]
    }
   ],
   "source": [
    "titles = home.find_all(\"h2\",class_=\"entry-title\") #找到第一頁所有歌\n",
    "print(titles)"
   ]
  },
  {
   "cell_type": "code",
   "execution_count": null,
   "id": "0fd1743f",
   "metadata": {},
   "outputs": [],
   "source": []
  }
 ],
 "metadata": {
  "kernelspec": {
   "display_name": "Python 3 (ipykernel)",
   "language": "python",
   "name": "python3"
  },
  "language_info": {
   "codemirror_mode": {
    "name": "ipython",
    "version": 3
   },
   "file_extension": ".py",
   "mimetype": "text/x-python",
   "name": "python",
   "nbconvert_exporter": "python",
   "pygments_lexer": "ipython3",
   "version": "3.9.13"
  }
 },
 "nbformat": 4,
 "nbformat_minor": 5
}
