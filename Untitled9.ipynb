{
 "cells": [
  {
   "cell_type": "code",
   "execution_count": 16,
   "id": "7a497896",
   "metadata": {},
   "outputs": [],
   "source": [
    "import requests \n",
    "import json\n",
    "import time\n",
    "from time import sleep\n",
    "import pandas as pd "
   ]
  },
  {
   "cell_type": "code",
   "execution_count": null,
   "id": "c49f2689",
   "metadata": {},
   "outputs": [],
   "source": []
  },
  {
   "cell_type": "code",
   "execution_count": 18,
   "id": "3f10aa3b",
   "metadata": {},
   "outputs": [
    {
     "data": {
      "text/plain": [
       "'https://www.lawplus.com.tw/#/searchReport?query=%25E6%25AF%2592%25E5%2593%2581'"
      ]
     },
     "execution_count": 18,
     "metadata": {},
     "output_type": "execute_result"
    }
   ],
   "source": [
    "urlfirst = 'https://www.lawplus.com.tw/#/searchReport?query=%25E6%25AF%2592%25E5%2593%2581'\n",
    "urlfirst"
   ]
  },
  {
   "cell_type": "code",
   "execution_count": 19,
   "id": "aa602f6b",
   "metadata": {},
   "outputs": [
    {
     "name": "stderr",
     "output_type": "stream",
     "text": [
      "/opt/anaconda3/lib/python3.9/site-packages/urllib3/connectionpool.py:1045: InsecureRequestWarning: Unverified HTTPS request is being made to host 'www.lawplus.com.tw'. Adding certificate verification is strongly advised. See: https://urllib3.readthedocs.io/en/1.26.x/advanced-usage.html#ssl-warnings\n",
      "  warnings.warn(\n"
     ]
    },
    {
     "data": {
      "text/plain": [
       "<Response [200]>"
      ]
     },
     "execution_count": 19,
     "metadata": {},
     "output_type": "execute_result"
    }
   ],
   "source": [
    "res = requests.get(urlfirst,verify=False)\n",
    "res"
   ]
  },
  {
   "cell_type": "code",
   "execution_count": 20,
   "id": "df7494af",
   "metadata": {},
   "outputs": [
    {
     "data": {
      "text/plain": [
       "'<!DOCTYPE html>\\n<html lang=\"zh\">\\n<head>\\n    <meta charset=\"utf-8\">\\n    <meta http-equiv=\"X-UA-Compatible\" content=\"IE=edge,chrome=1\">\\n    <title>è£\\x81å\\x88¤å®¶</title>\\n    <meta name=\"description\" content=\"å\\x89µæ\\x96°ã\\x80\\x81æ\\x99ºæ\\x85§ã\\x80\\x81å¤\\x9aæ¨£ç\\x9a\\x84ä¸\\xadæ\\x96\\x87è£\\x81å\\x88¤æª¢ç´¢æ\\x9c\\x8då\\x8b\\x99\" />\\n    <meta name=\"keywords\" content=\"è£\\x81å\\x88¤æ\\x9b¸,å\\x88¤æ±ºæ\\x9b¸,å\\x88¤æ±º,è£\\x81å®\\x9a\" />\\n    <meta name=\"author\" content=\"humans.txt\">\\n\\n    <link rel=\"shortcut icon\" href=\"favicon.png\" type=\"image/x-icon\" />\\n    <meta name=\"viewport\" content=\"width=960, initial-scale=1.0\">\\n\\n    <meta property=\"og:title\" content=\"è£\\x81å\\x88¤å®¶\"/>\\n    <meta property=\"og:description\" content=\"å\\x89µæ\\x96°ã\\x80\\x81æ\\x99ºæ\\x85§ã\\x80\\x81å¤\\x9aæ¨£ç\\x9a\\x84ä¸\\xadæ\\x96\\x87è£\\x81å\\x88¤æª¢ç´¢æ\\x9c\\x8då\\x8b\\x99\"/>\\n    <meta property=\"og:type\" content=\"article\"/>\\n    <meta property=\"og:url\" content=\"//www.lawplus.com.tw\"/>\\n    <meta property=\"og:image\" content=\"//www.lawplus.com.tw/img/logo.s.png\"/>\\n    <meta property=\"og:site_name\" content=\"è£\\x81å\\x88¤å®¶\"/>\\n\\n    <link rel=\"stylesheet\" href=\"css/kimi/jquery-ui-1.9.2.custom.min.css\">\\n    <link rel=\"stylesheet\" href=\"css/jquery.jgrowl.css\">\\n    <link rel=\"stylesheet\" href=\"css/box.css\">\\n    <script src=\"//use.edgefonts.net/open-sans:n3,n4,n6,n7.js\"></script>\\n    <link rel=\"stylesheet\" href=\"css/gumby.css\">\\n    <link rel=\"stylesheet\" href=\"css/select2.css\">\\n    <link rel=\"stylesheet\" href=\"css/jquery.loadmask.css\">\\n    <link rel=\"stylesheet\" href=\"css/arrowsandboxes.css\">\\n    <link rel=\"stylesheet\" href=\"css/introjs.min.css\">\\n    <link rel=\"stylesheet\" href=\"custom.css/elements.css\">\\n    <link rel=\"stylesheet\" href=\"custom.css/lawplus.css?20190313\">\\n    <link rel=\"stylesheet\" href=\"custom.css/static.css\">\\n    <link rel=\"stylesheet\" href=\"custom.css/print.css\">\\n    <link rel=\"stylesheet\" href=\"css/jquery.dropdown.css\"/>\\n</head>\\n\\n<body>\\n\\n<!--== main page container ==-->\\n\\n<!-- side-panel -->\\n<div id=\"slidePanel\" class=\"cover no-print\" style=\"display: none;\">\\n    <div class=\"cover-header cf\">\\n        <a href=\"/\" class=\"oj-logo icon\">è£\\x81å\\x88¤å®¶</a>\\n        <a href=\"/\" class=\"oj-logo text slideItem\" style=\"display: none;\">è£\\x81å\\x88¤å®¶</a>\\n        <div class=\"menu-function slideItem\" style=\"display: none;\">\\n            <a class=\"pinSlide\" href=\"javascript:pinSlidePanel();\"><span>å\\x9bºå®\\x9a</span><i class=\"icon-right-open-big\"></i></a>\\n            <a class=\"pinSlide\" href=\"javascript:unpinSlidePanel();\" style=\"display: none;\"><span>æ\\x94¶å\\x90\\x88</span><i class=\"icon-left-open-big\"></i></a>\\n        </div>\\n    </div>\\n    <div class=\"main slideItem\" style=\"display: none;\">\\n        <div class=\"cover-empty-state\" style=\"display: none;\">\\n            <div id=\"cover-intro\"></div>\\n            <p class=\"btn highlight medium\">\\n                <a href=\"#register\" target=\"_blank\">é¦¬ä¸\\x8aå\\x85\\x8dè²»è¨»å\\x86\\x8a</a>\\n            </p>\\n            <p>\\n                <a href=\"#login\">å·²æ\\x9c\\x89å¸³æ\\x88¶ï¼\\x9f</a>\\n            </p>\\n        </div>\\n        <span id=\"bookmarksPanel\">\\n            <h6>å\\x84²å\\xad\\x98ç\\x9a\\x84æ\\x90\\x9cå°\\x8b</h6>\\n            <ul class=\"bookmarks\">\\n                <li class=\"cover-tip\">æ\\x82¨å\\x8f¯ä»¥å\\x9c¨é\\x80\\x99è£¡å\\x84²å\\xad\\x98ä½¿ç\\x94¨é\\x81\\x8eç\\x9a\\x84æ\\x90\\x9cå°\\x8bæ¢\\x9dä»¶çµ\\x84å\\x90\\x88ä»¥ä¾¿å\\x86\\x8dæ¬¡ä½¿ç\\x94¨ï¼\\x8cä¾\\x8bå¦\\x82ï¼\\x9a</li>\\n                <li class=\"item demo\" onclick=\"loadSearchCondition(\\'query=&year=0&startDate=&endDate=&courts=&result=&startSentence=0&endSentence=0&startMoney=100000&endMoney=0&type=å\\x88¤æ±º&caseType=&level=&judges=æ\\x9e\\x97å\\x91\\x88æ¨µ&lawyers=&issue=&main=&statute=æ¶\\x88è²»è\\x80\\x85ä¿\\x9dè\\xad·æ³\\x95&litigant=&prosecutor=&clerk=&tags=&caseNum=&sort=$3$\\');\">æ¶\\x88è²»è\\x80\\x85ä¿\\x9dè\\xad·æ³\\x95å\\x88¤æ±ºé\\x87\\x91é¡\\x8då¤§æ\\x96¼10è\\x90¬å\\x85\\x83</li>\\n                <li class=\"item\" onclick=\"loadSearchCondition(\\'query=è»\\x8aç¦\\x8dè\\x87´æ\\xad»&year=0&startDate=&endDate=&courts=TPD&result=&startSentence=365&endSentence=0&startMoney=0&endMoney=0&type=å\\x88¤æ±º&caseType=M&level=&judges=&lawyers=&issue=&main=&statute=&litigant=&prosecutor=&clerk=&tags=&caseNum=&sort=$3$\\');\">è»\\x8aç¦\\x8dè\\x87´æ\\xad»å\\x88¤å\\x88\\x91ä¸\\x80å¹´ä»¥ä¸\\x8a</li>\\n                <li class=\"item\" onclick=\"loadSearchCondition(\\'query=ç\\x99¼æ\\x98\\x8eå°\\x88å\\x88©ç\\x84¡æ\\x95\\x88&year=0&startDate=&endDate=&courts=&result=&startSentence=0&endSentence=0&startMoney=0&endMoney=0&type=&caseType=&level=2&judges=&lawyers=&issue=&main=&statute=å°\\x88å\\x88©æ³\\x95&litigant=ç¶\\x93æ¿\\x9fé\\x83¨æ\\x99ºæ\\x85§è²¡ç\\x94¢å±\\x80&prosecutor=&clerk=&tags=&caseNum=&sort=$3$\\');\">äº\\x8cå¯©å°\\x88å\\x88©ç\\x84¡æ\\x95\\x88</li>\\n            </ul>\\n            <h6>æ\\x90\\x9cå°\\x8bè¨\\x98é\\x8c\\x84\\n                <a class=\"menu-function\" href=\"javascript:void(0);\" onclick=\"clearHistory();return false;\">\\n                    <span>æ¸\\x85é\\x99¤</span><i class=\"icon-trash\"></i>\\n                </a>\\n            </h6>\\n            <ul class=\"search-history\">\\n                <li class=\"folder\">\\n                    <a href=\"javascript:void(0);\" class=\"togglePanel\">\\n                        <i class=\"icon-minus\"></i>2013/10/01\\n                    </a>\\n                    <ul>\\n                        <li class=\"item ttip\" onclick=\"loadSearchCondition(\\'query=&year=0&startDate=&endDate=&courts=&result=&startSentence=0&endSentence=0&startMoney=100000&endMoney=0&type=å\\x88¤æ±º&caseType=&level=&judges=æ\\x9e\\x97å\\x91\\x88æ¨µ&lawyers=&issue=&main=&statute=æ¶\\x88è²»è\\x80\\x85ä¿\\x9dè\\xad·æ³\\x95&litigant=&prosecutor=&clerk=&tags=&caseNum=&sort=$3$\\');\" data-tooltip=\"æ³\\x95å®\\x98:æ\\x9e\\x97å\\x91\\x88æ¨µ-æ³\\x95æ¢\\x9d:æ¶\\x88è²»è\\x80\\x85ä¿\\x9dè\\xad·æ³\\x95-å\\x88¤æ±º\">\\n                            æ³\\x95å®\\x98:æ\\x9e\\x97å\\x91\\x88æ¨µ-æ³\\x95æ¢\\x9d:æ¶\\x88è²»è\\x80\\x85ä¿\\x9dè\\xad·æ³\\x95-å\\x88¤æ±º(4)<span class=\"history-time\">&nbsp;05:51</span>\\n                        </li>\\n                    </ul>\\n                </li>\\n                <li class=\"folder\">\\n                    <a href=\"javascript:void(0);\" class=\"togglePanel\">\\n                        <i class=\"icon-minus\"></i>2013/09/26\\n                    </a>\\n                    <ul>\\n                        <li class=\"item ttip\" onclick=\"loadSearchCondition(\\'query=è»\\x8aç¦\\x8dè\\x87´æ\\xad»&year=0&startDate=&endDate=&courts=TPD&result=&startSentence=365&endSentence=0&startMoney=0&endMoney=0&type=å\\x88¤æ±º&caseType=M&level=&judges=&lawyers=&issue=&main=&statute=&litigant=&prosecutor=&clerk=&tags=&caseNum=&sort=$3$\\');\" data-tooltip=\"æ³\\x95é\\x99¢:å\\x8f°å\\x8c\\x97å\\x9c°æ\\x96¹æ³\\x95é\\x99¢-è»\\x8aç¦\\x8dè\\x87´æ\\xad»-å\\x88\\x91äº\\x8b\">\\n                            æ³\\x95é\\x99¢:å\\x8f°å\\x8c\\x97å\\x9c°æ\\x96¹æ³\\x95é\\x99¢-è»\\x8aç¦\\x8dè\\x87´æ\\xad»-å\\x88\\x91äº\\x8b(3)<span class=\"history-time\">&nbsp;05:51</span>\\n                        </li>\\n                        <li class=\"item ttip\" onclick=\"loadSearchCondition(\\'query=ç\\x99¼æ\\x98\\x8eå°\\x88å\\x88©ç\\x84¡æ\\x95\\x88&year=0&startDate=&endDate=&courts=&result=&startSentence=0&endSentence=0&startMoney=0&endMoney=0&type=&caseType=&level=2&judges=&lawyers=&issue=&main=&statute=å°\\x88å\\x88©æ³\\x95&litigant=ç¶\\x93æ¿\\x9fé\\x83¨æ\\x99ºæ\\x85§è²¡ç\\x94¢å±\\x80&prosecutor=&clerk=&tags=&caseNum=&sort=$3$\\');\" data-tooltip=\"ç\\x95¶äº\\x8bäºº:ç¶\\x93æ¿\\x9fé\\x83¨æ\\x99ºæ\\x85§è²¡ç\\x94¢å±\\x80-æ³\\x95æ¢\\x9d:å°\\x88å\\x88©æ³\\x95-ç\\x99¼æ\\x98\\x8eå°\\x88å\\x88©ç\\x84¡æ\\x95\\x88\">\\n                            ç\\x95¶äº\\x8bäºº:ç¶\\x93æ¿\\x9fé\\x83¨æ\\x99ºæ\\x85§è²¡ç\\x94¢å±\\x80-æ³\\x95æ¢\\x9d:å°\\x88å\\x88©æ³\\x95-ç\\x99¼æ\\x98\\x8eå°\\x88å\\x88©ç\\x84¡æ\\x95\\x88(9)<span class=\"history-time\">&nbsp;05:48</span>\\n                        </li>\\n                    </ul>\\n                </li>\\n            </ul>\\n        </span>\\n    </div> <!-- /main -->\\n\\n    <div class=\"cover-footer\">\\n        <div class=\"user slideItem\" style=\"display: none;\">\\n            <ul id=\"userPanel\" style=\"display: none;\">\\n                <li><span id=\"userName\"></span><i class=\"icon-star\" style=\"display: none;\"></i></li>\\n                <!-- <li><a href=\"#pricing\" target=\"_blank\"></i>è¨\\x82è³¼</a></li> -->\\n                <li>\\n                    <a href=\"#\" title=\"è¨\\xadå®\\x9a\" data-dropdown=\"#config\" data-horizontal-offset=\"-5\" data-vertical-offset=\"8\"><i class=\"icon-cog\"></i></a>\\n                </li>\\n            </ul>\\n            <!--ul id=\"loginPanel\">\\n            <li><a href=\"#register\"><i class=\"icon-user-add\"></i>è¨»å\\x86\\x8a</a></li>\\n            <li><a href=\"#login\"><i class=\"icon-login\"></i>ç\\x99»å\\x85¥</a></li>\\n            </ul-->\\n        </div> <!-- /user -->\\n        <span>Â© 2014 ~ 2020 è£\\x81å\\x88¤å®¶</span>\\n    </div>\\n</div>\\n<!-- side-panel -->\\n\\n    <div id=\"config\" class=\"dropdown dropdown-tip\">\\n        <ul class=\"dropdown-menu\">\\n            <!-- <li><a href=\"#purchaseHistory\">è¨\\x82è³¼ç´\\x80é\\x8c\\x84</a></li> -->\\n            <li><a href=\"javascript:logout();\"></i>ç\\x99»å\\x87º</a></li>\\n        </ul>\\n    </div>\\n\\n    <!-- main content block -->\\n    <div id=\"functionBody\"></div>\\n    <!-- /main content block -->\\n\\n    <!-- main detail content block -->\\n    <div id=\"functionDetail\"></div>\\n    <!-- /main detail content block -->\\n\\n    <!--== /main page container ==-->\\n\\n    <a href=\"#\" class=\"switch active hide\" gumby-trigger=\"#priceModal\"></a>\\n    <div id=\"priceModal\" class=\"modal\">\\n        <div class=\"content\" style=\"width: 960px;min-width: 600px;min-height: 150px;text-align: center;\">\\n            <a class=\"close switch\" gumby-trigger=\"|#priceModal\"><i class=\"icon-cancel\"></i></a>\\n            <div class=\"row\">\\n                <h3>äº\\x8bå¯¦æ\\x98¯: VIPæ\\x9c\\x83å\\x93¡æ\\x9b´å®¹æ\\x98\\x93æ\\x89¾å\\x88°é\\x9c\\x80è¦\\x81ç\\x9a\\x84å\\x88¤æ±ºæ\\x9b¸</h3>\\n            </div>\\n            <div id=\"pricePanel\"></div>\\n        </div>\\n    </div>\\n\\n    <div id=\"msg\" class=\"center\"></div>\\n    <div id=\"ieBlock\" class=\"modal no-print\">\\n        <div class=\"content\">\\n            <h4 class=\"alert-heading\">æ\\x8a±æ\\xad\\x89ï¼\\x81æ\\x9c¬ç«\\x99ç\\x84¡æ³\\x95æ\\x94¯æ\\x8f´æ\\x82¨ç\\x8f¾å\\x9c¨ä½¿ç\\x94¨ç\\x9a\\x84ç\\x80\\x8fè¦½å\\x99¨ç\\x89\\x88æ\\x9c¬ï¼\\x81</h4>\\n            <p>\\n                è¦ªæ\\x84\\x9bç\\x9a\\x84ä½¿ç\\x94¨è\\x80\\x85ï¼\\x8cæ\\x82¨å¥½ï¼\\x81æ\\x9c¬ç«\\x99å\\x81µæ¸¬å\\x88°æ\\x82¨ç\\x8f¾å\\x9c¨ä½¿ç\\x94¨ç\\x9a\\x84ç\\x80\\x8fè¦½å\\x99¨æ\\x98¯ IE10 ä»¥ä¸\\x8bï¼\\x8cç\\x94±æ\\x96¼æ\\x9c¬ç«\\x99å\\x81\\x9cæ\\xad¢æ\\x94¯æ\\x8f´ IE10 ä»¥ä¸\\x8bä¹\\x8bç\\x89\\x88æ\\x9c¬ï¼\\x8cå\\x8a\\x9fè\\x83½è\\x88\\x87é\\xa0\\x81é\\x9d¢å\\x91\\x88ç\\x8f¾ä¸\\x8aå°\\x87å\\x8f¯è\\x83½å\\x87ºç\\x8f¾ä¸\\x8då\\x8f¯é\\xa0\\x90æ\\x9c\\x9fé\\x8c¯èª¤ï¼\\x8cå»ºè\\xad°ä½¿ç\\x94¨Chromeã\\x80\\x81FireFoxæ\\x88\\x96å\\x85¶ä»\\x96ç\\x80\\x8fè¦½å\\x99¨ç\\x89\\x88æ\\x9c¬é\\x80²è¡\\x8cç\\x80\\x8fè¦½ã\\x80\\x82\\n            </p>\\n        </div>\\n    </div>\\n    <a href=\"#\" class=\"switch hide\" gumby-trigger=\"#ieBlock\"></a>\\n</body>\\n\\n<script type=\"text/javascript\" src=\"js/jquery-1.8.2.min.js\"></script>\\n<script type=\"text/javascript\" src=\"js/jquery-ui-1.10.3.custom.min.js\"></script>\\n<script type=\"text/javascript\" src=\"js/jquery.jgrowl_compressed.js\"></script>\\n<script type=\"text/javascript\" src=\"js/jquery.sharrre-1.3.4.min.js\"></script>\\n<script type=\"text/javascript\" src=\"js/jquery.tmpl.min.js\"></script>\\n<script type=\"text/javascript\" src=\"js/jquery.address-1.5.min.js?crawling=1\"></script>\\n<script type=\"text/javascript\" src=\"js/jquery.validate.min.js\"></script><!-- TODO validate has conflict dateFormat with $.format -->\\n<script type=\"text/javascript\" src=\"js/jquery.dateFormat.js\"></script>\\n<script type=\"text/javascript\" src=\"js/jquery.cookie.js\"></script>\\n<!--<script type=\"text/javascript\" src=\"js/highcharts.js\"></script>\\n<script type=\"text/javascript\" src=\"js/exporting.js\"></script>-->\\n<script type=\"text/javascript\" src=\"custom.js/util.js\"></script>\\n<script type=\"text/javascript\" src=\"js/jquery.loadmask.min.js\"></script>\\n<script type=\"text/javascript\" src=\"js/modernizr-2.6.2.min.js\"></script>\\n<script type=\"text/javascript\" src=\"js/gumby.min.js\"></script>\\n<script type=\"text/javascript\" src=\"js/jquery.sticky.min.js\"></script>\\n<script type=\"text/javascript\" src=\"js/jquery.placeholder.min.js\"></script>\\n<script type=\"text/javascript\" src=\"custom.js/jquery.togglePanel.js\"></script>\\n<script type=\"text/javascript\" src=\"custom.js/jquery.slidePanel.js\"></script>\\n<script type=\"text/javascript\" src=\"js/intro.min.js\"></script>\\n<script type=\"text/javascript\" src=\"js/jquery.dropdown.min.js\"></script>\\n\\n<!-- NOTE: cannot use google domain in China -->\\n<!-- <script type=\"text/javascript\" src=\"js/google-api.client.js\"></script> -->\\n<script src=\"https://apis.google.com/js/api:client.js\"></script>\\n\\n<script type=\"text/javascript\">\\nvar BASE_URL = $.address.baseURL();\\nvar user = null;\\n$(document).ready(function(){\\n    var qIndex = -1;\\n    var FACEBOOK_LINK_PARAM = \\'&fb_action_ids=\\';\\n    if ((qIndex = location.href.indexOf(FACEBOOK_LINK_PARAM)) > -1) { // å¾\\x9e Facebook link å\\x9b\\x9eç\\x9a\\x84 å¾\\x8bå¸«å\\x80\\x8bäººè³\\x87è¨\\x8aç¶²å\\x9d\\x80, é\\x87\\x8dæ\\x96°èª¿æ\\x95´å\\x8f\\x83æ\\x95¸#æ\\x8e\\x92å\\x88\\x97\\n        var tempUrl = location.href.substring(0, qIndex);\\n        if (tempUrl.indexOf(\\'id=\\') == -1) {\\n            tempUrl += (\\'?id=\\' + getUrlValue(\\'id\\'));\\n        }\\n        location.href = tempUrl;\\n    }\\n    if ((qIndex = BASE_URL.indexOf(\\'&state=facebook_login\\')) > -1) { // Facebook ç\\x99»å\\x85¥  return url å\\x8f\\x83æ\\x95¸æ\\x9c\\x89äº\\x9bå\\x95\\x8fé¡\\x8c, é\\x87\\x8dæ\\x96°èª¿æ\\x95´å\\x8f\\x83æ\\x95¸è\\x88\\x87#æ\\x8e\\x92å\\x88\\x97\\n        qIndex = BASE_URL.indexOf(\\'?\\');\\n        var queryString = BASE_URL.substring(qIndex);\\n        location.href = BASE_URL.substring(0, qIndex) + \\'#oauth\\' + queryString;\\n    }\\n    if (location.href.lastIndexOf(\\'#\\') == location.href.length - 1) { // fix Facebook return url end with \\'#\\'\\n    location.href = \\'/\\';\\n    }\\n    if ((qIndex = BASE_URL.indexOf(\\'?openid.ns=\\')) > -1) { // somehow google callback hash lost\\n        var queryString = BASE_URL.substring(qIndex);\\n        location.href = BASE_URL.substring(0, qIndex) + \\'#oauth\\' + queryString;\\n    }\\n    $.address.externalChange(function(event) {\\n        // do something depending on the event.value property, e.g.\\n        var page=event.value.replace(\\'/\\',\\'\\').replace(/\\\\?.*$/,\\'\\');\\n\\n        if(page==\\'_=_\\') {// facebook return url hash\\n            page=\\'\\';\\n            $.address.value(\\'\\');\\n        }\\n\\n        if(page!=\\'\\') {\\n            var queryString=$.address.queryString();\\n            var pageView=\\'/\\'+(queryString!=\\'\\'?\\'?\\'+queryString:\\'\\')+\\'#!\\'+page;\\n            ga(\\'send\\', \\'pageview\\',pageView);\\n        }\\n\\n        if (page.indexOf(\\'Detail\\')>-1||page.indexOf(\\'History\\')>-1) {\\n            $(\\'#functionBody\\').hide();\\n            $(\\'#functionDetail\\').show().load( page+ \\'.html\\');\\n        } else {\\n            if (page == \\'\\') {\\n                if(user!=null) {\\n                    page = \\'searchReport\\';\\n                } else {\\n                    page = \\'intro\\';\\n                }\\n            }\\n\\n            $(\\'#functionDetail\\').html(\\'\\').hide();\\n            $(\\'#functionBody\\').show().load( page+ \\'.html\\',function(response, status, xhr) {\\n                if(xhr.status==404) {\\n                    location.href=\\'/#notFound\\';\\n                }\\n                fixSlidePadding();\\n            });\\n        }\\n\\n        if (page == \\'searchReport\\'||\\n            page == \\'searchStatute\\' ||\\n            page == \\'reportDetail\\' ||\\n            page == \\'statuteDetail\\' ||\\n            page == \\'purchaseHistory\\') {\\n            $(\\'#slidePanel\\').show();\\n        } else {\\n            $(\\'#slidePanel\\').hide();\\n        }\\n    });\\n\\n    var cache = false;\\n    if ($.browser.msie || document.body.style[\\'msTextCombineHorizontal\\'] != undefined) { // IE11 has property \\'msTextCombineHorizontal\\'\\n        cache = false;\\n    }\\n    $.ajaxSetup ({\\n        cache: cache\\n    });\\n\\n    getUser(dispatch);\\n\\n    $(\\'.dropdown-menu > .notMenu\\').click(function (e) {\\n        e.stopPropagation();\\n    });\\n\\n    $(\\'#logout\\').on(\\'click\\',function() {\\n        logout();\\n    });\\n\\n    loadBannerLink();\\n\\n    if(BASE_URL.toLowerCase().indexOf(\\'lawplus.com.tw\\')==-1) {\\n        $(\\'a[href=\"/\"]\\').attr(\\'href\\', \\'/lawplus\\');\\n    }\\n\\n    $(document).on(\\'click\\',\\'[data-toggle^=\"buttons-\"] > .btn\\',function() {\\n        $(this).toggleClass(\\'active\\');\\n    });\\n\\n    $(\\'#slidePanel\\').slidePanel();\\n    if (typeof(localStorage.slidePined) === \\'undefined\\' || localStorage.slidePined != \\'false\\') {\\n        pinSlidePanel();\\n    }\\n\\n    browserCheck();\\n\\n    // loadPrice();\\n\\n    loadCoverIntro();\\n});\\n\\nfunction dispatch() {\\n    if (user == null) {\\n        $(\\'#bookmarksPanel\\').hide();\\n        $(\\'.cover-empty-state\\').show();\\n\\n        $(\\'#save-search\\').hide();\\n    } else {\\n        $(\\'#bookmarksPanel\\').show();\\n        $(\\'.cover-empty-state\\').hide();\\n\\n        $(\\'#save-search\\').show();\\n\\n        loadHistory();\\n    }\\n\\n    if (user != null && $.address.path() == \\'/\\') {\\n        location.href = \\'#searchReport\\';\\n    }\\n}\\n\\nfunction loadBannerLink() {\\n    $(\\'#bannerTemp\\').load(\\'/web_news.html #banner\\',function() {\\n        if ($(\\'#banner\\').length > 1) {\\n            $(\\'#bannerLink\\').attr(\\'href\\',$banner.attr(\\'href\\'));\\n            $(\\'#bannerLink > div > div > h1\\').html($banner.text());\\n        }\\n    });\\n}\\n\\nfunction browserCheck() {\\n    if ($.browser.msie && parseInt($.browser.version, 10) < 10) {\\n        $(\\'a[gumby-trigger=\"#ieBlock\"]\\').get(0).click();\\n    }\\n}\\n\\nfunction logout() {\\n    $.getJSON(\\'rest/auth/logout\\', function(data) {\\n        if (!data.success) {\\n            error(data.lastError);\\n        } else {\\n            if ($.browser.msie) {\\n                $.cookie(\\'TOKEN\\', null, { path: \\'/\\' });\\n            }\\n\\n            $.cookie(\\'TOKEN\\', null);\\n\\n            user = null;\\n            clearHistory();\\n            $(\\'#userPanel\\').hide();\\n            $(\\'#bookmarksPanel\\').hide();\\n            $(\\'.cover-empty-state\\').show();\\n            $(\\'#save-search\\').hide();\\n\\n            success(\\'æ\\x88\\x90å\\x8a\\x9fç\\x99»å\\x87º\\');\\n        }\\n    });\\n}\\n\\nfunction addUserCampaign() {\\n    var campaign = getUrlValue(\\'utm_campaign\\');\\n    if (campaign != null && campaign != \\'\\') {\\n        $.cookie(\\'CAMPAIGN\\', campaign, { expires: 365 });\\n    } else {\\n        campaign=$.cookie(\\'CAMPAIGN\\');\\n    }\\n\\n    if (user != null && campaign != null && campaign != \\'\\') {\\n        $.getJSON(\\'rest/user/add/campaign/\\'+campaign, function(data) {\\n            if(data.success&&data.response) {\\n                $.removeCookie(\\'CAMPAIGN\\');\\n            }\\n        });\\n    }\\n}\\n\\nfunction loadBookmarkSearchCondition() {\\n    $.getJSON(\\'rest/user/bookmark/searchCondition\\', {}, function(data) {\\n        if (!data.success) {\\n            return;\\n        }\\n\\n        if (data.response != null) {\\n            var $bookmarks = $(\\'ul.bookmarks\\');\\n            var bookmarks = data.response;\\n            var maxLen = 5;\\n            if (bookmarks.length > maxLen) {\\n                $bookmarks.html($(\\'#searchConditionTemplate\\').tmpl(bookmarks.slice(0,maxLen)));\\n                $bookmarks.append($(\\'#otherSearchConditionTemplate\\').tmpl([{searchConditions:bookmarks.slice(maxLen,bookmarks.length)}]));\\n                $bookmarks.find(\\'.togglePanel\\').togglePanel();\\n            } else {\\n                $bookmarks.html($(\\'#searchConditionTemplate\\').tmpl(data.response));\\n            }\\n        }\\n    });\\n}\\n\\nfunction loadHistory() {\\n    if (user != null && typeof(localStorage.searchHistory) !== \\'undefined\\') {\\n        var maxLen=20;\\n        var dateHistories = JSON.parse(localStorage.searchHistory);\\n        var $histories = $(\\'ul.search-history\\');\\n        $histories.html(\\'\\');\\n        if (dateHistories.length > 0) {\\n            dateHistories[0].maxLen=maxLen;\\n            $histories.html($(\\'#dateHistoryTemplate\\').tmpl([dateHistories[0]]));\\n            var histories=dateHistories[0].histories;\\n            if (typeof(histories[0].hid) === \\'undefined\\') {// clear prev data no hid\\n                localStorage.searchHistory=JSON.stringify([]);\\n                $histories.html(\\'\\');\\n                return;\\n            }\\n            $histories.append($(\\'#dateHistoryTemplate\\').tmpl(dateHistories.slice(1,dateHistories.length)));\\n        }\\n    }\\n    $(\\'.togglePanel\\').togglePanel();\\n}\\n\\nfunction loadSearchCondition(parameters) {\\n    var isReport=$.address.pathNames()[0]==\\'reportDetail\\';\\n    $.address.path(\\'searchReport\\');\\n    $.address.queryString(parameters);\\n    $(\\'#backValue\\').val($.address.value());\\n    if($(\\'#functionBody #results\\').length==0||!isReport) {\\n        location.reload();\\n    } else {\\n        clearCondition();\\n        initData();\\n        backToSearch();\\n    }\\n}\\n\\nfunction removeSearchCondition(obj,name) {\\n    if(confirm(\\'ç¢ºèª\\x8dç§»é\\x99¤æ\\xad¤æª¢ç´¢æ¢\\x9dä»¶\"\\'+name+\\'\"?\\')) {\\n        $.getJSON(\\'rest/user/remove/searchCondition\\',{\\n            name:name\\n        }, function(data) {\\n            if(!data.success) {\\n                error(data.lastError);\\n            } else {\\n                if(data.response) {\\n                    info(\\'å·²ç§»é\\x99¤æª¢ç´¢æ¢\\x9dä»¶\\');\\n                    $(obj).parent(\\'li\\').remove();\\n               } else {\\n                   error(\\'ç§»é\\x99¤å¤±æ\\x95\\x97\\');\\n               }\\n            }\\n        });\\n    }\\n}\\n\\nfunction removeHistory(obj, hid) {\\n    if(typeof(localStorage.searchHistory) !== \\'undefined\\') {\\n        var dateHistories = JSON.parse(localStorage.searchHistory);\\n        if(dateHistories.length>0) {\\n            for(i in dateHistories) {\\n                var histories=dateHistories[i].histories;\\n                for(j in histories) {\\n                    if(histories[j].hid==hid) {\\n                        histories.splice(j,1);\\n                        $(obj).parent(\\'li\\').remove();\\n                        if (histories.length == 0) {\\n                            dateHistories.splice(i,1);\\n                        }\\n                        localStorage.searchHistory=JSON.stringify(dateHistories);\\n                        return;\\n                    }\\n                }\\n            }\\n        }\\n    }\\n}\\n\\nfunction clearHistory() {\\n    if (typeof(localStorage.searchHistory) !== \\'undefined\\') {\\n        localStorage.searchHistory = JSON.stringify([]);\\n        loadHistory();\\n    }\\n}\\n\\nfunction fixSlidePadding() {\\n    if(typeof(localStorage.slidePined) === \\'undefined\\'||localStorage.slidePined!=\\'false\\') {\\n        $(\\'.slidePadding\\').css(\\'padding-left\\',\\'250px\\');\\n        $(\\'body\\').css(\\'min-width\\',\\'1230px\\');\\n    } else {\\n        $(\\'.slidePadding\\').css(\\'padding-left\\',\\'60px\\');\\n        $(\\'body\\').css(\\'min-width\\',\\'1040px\\');\\n    }\\n}\\n\\nfunction unpinSlidePanel() {\\n    $(\\'#slidePanel\\').slidePanel(\\'close\\').slidePanel();\\n    $(\\'.slidePadding\\').css(\\'padding-left\\',\\'60px\\');\\n    $(\\'#slidePanel a.pinSlide\\').toggle();\\n    $(\\'#slidePanel\\').removeClass(\\'pinned\\');\\n    $(\\'body\\').css(\\'min-width\\',\\'1040px\\');\\n    localStorage.slidePined = false;\\n}\\n\\nfunction pinSlidePanel() {\\n    $(\\'#slidePanel\\').slidePanel(\\'open\\').slidePanel(\\'unbind\\');\\n    $(\\'.slidePadding\\').css(\\'padding-left\\',\\'250px\\');\\n    $(\\'#slidePanel a.pinSlide\\').toggle();\\n    $(\\'#slidePanel\\').addClass(\\'pinned\\');\\n    $(\\'body\\').css(\\'min-width\\',\\'1230px\\');\\n    localStorage.slidePined = true;\\n}\\n\\nfunction loadPrice() {\\n    $(\\'#priceModal > .content > #pricePanel\\').load(\\'pricing.html #pricePanel\\',function() {\\n        $(this).find(\\'#free\\').remove();\\n    });\\n}\\n\\nfunction loadCoverIntro() {\\n    var selectIntro = Math.floor( Math.random() * 6 )\\n    $(\"#cover-intro\").load( \"intro.html .tile-link:eq(\" + selectIntro + \")\" );\\n    $(\"#cover-intro\").on( \"click\", \".tile-link\", function() {\\n        window.location.href = \"#intro\";\\n    });\\n}\\n\\nfunction priceModal() {\\n    $(\\'a[gumby-trigger=\"#priceModal\"]\\').get(0).click();\\n}\\n\\nfunction closePriceModal() {\\n    $(\\'a[gumby-trigger=\"|#priceModal\"]\\').get(0).click();\\n}\\n\\n</script>\\n\\n<script>\\n(function(i,s,o,g,r,a,m){i[\\'GoogleAnalyticsObject\\']=r;i[r]=i[r]||function()\\n{ (i[r].q=i[r].q||[]).push(arguments)}\\n,i[r].l=1*new Date();a=s.createElement(o),\\nm=s.getElementsByTagName(o)[0];a.async=1;a.src=g;m.parentNode.insertBefore(a,m)\\n})(window,document,\\'script\\',\\'//www.google-analytics.com/analytics.js\\',\\'ga\\');\\nga(\\'create\\', \\'UA-45014045-1\\', \\'lawplus.com.tw\\');\\nga(\\'send\\', \\'pageview\\');\\n</script>\\n\\n<div id=\"fb-root\"></div>\\n<script>\\n(function(d, s, id) {\\n  var js, fjs = d.getElementsByTagName(s)[0];\\n  if (d.getElementById(id)) return;\\n  js = d.createElement(s); js.id = id;\\n  js.src = \"//connect.facebook.net/zh_TW/all.js#status=0&xfbml=0&appId=550241358346693\";\\n  fjs.parentNode.insertBefore(js, fjs);\\n}(document, \\'script\\', \\'facebook-jssdk\\'));\\n</script>\\n\\n<script type=\"text/javascript\">\\n(function() {\\nvar cx = \\'016783285257276132151:v3lpmuwye8c\\';\\nvar gcse = document.createElement(\\'script\\'); gcse.type = \\'text/javascript\\'; gcse.async = true;\\ngcse.src = (document.location.protocol == \\'https:\\' ? \\'https:\\' : \\'http:\\') +\\n    \\'//www.google.com/cse/cse.js?cx=\\' + cx;\\nvar s = document.getElementsByTagName(\\'script\\')[0]; s.parentNode.insertBefore(gcse, s);\\n  })();\\n</script>\\n\\n<script type=\"text/x-jquery-tmpl\" id=\"searchConditionTemplate\">\\n<li class=\"item\">\\n  <a class=\"item-a\" href=\"javascript:void(0);\" onclick=\"loadSearchCondition(\\'${parameters}\\');return false;\" title=\"è®\\x80å\\x8f\\x96æª¢ç´¢æ¢\\x9dä»¶\">${name}</a>\\n  <a class=\"menu-function\" href=\"javascript:void(0);\" onclick=\"removeSearchCondition(this,\\'${name}\\');return false;\"><span>å\\x88ªé\\x99¤</span><i class=\"icon-cancel\"></i></a>\\n</li>\\n</script>\\n\\n<script type=\"text/x-jquery-tmpl\" id=\"otherSearchConditionTemplate\">\\n<li class=\"folder\">\\n  <a href=\"javascript:void(0);\" class=\"togglePanel\" style=\"text-align: center; position: relative; left: -7px;\"><i class=\"icon-plus\"></i></a>\\n  <ul style=\"display: none;\">\\n    {{each searchConditions}}\\n    <li class=\"item\">\\n      <a class=\"item-a\" href=\"javascript:void(0);\" onclick=\"loadSearchCondition(\\'${$value.parameters}\\');return false;\">${$value.name}</a>\\n      <a class=\"menu-function\" href=\"javascript:void(0);\" onclick=\"removeSearchCondition(this,\\'${$value.name}\\');return false;\"><span>å\\x88ªé\\x99¤</span><i class=\"icon-cancel\"></i></a>\\n    </li>\\n    {{/each}}\\n  </ul>\\n</li>\\n</script>\\n<script type=\"text/x-jquery-tmpl\" id=\"dateHistoryTemplate\">\\n<li class=\"folder\">\\n  <a href=\"javascript:void(0);\" class=\"togglePanel\"><i class=\"icon-minus\"></i>${date}</a>\\n  <ul>\\n    {{each histories}}\\n      {{if typeof(maxLen)==\\'undefined\\' || $index<maxLen}}\\n      <li class=\"item\">\\n        <a class=\"item-a\" href=\"javascript:void(0);\" onclick=\"loadSearchCondition(\\'${$value.parameters}\\');\">${$value.name}{{if typeof($value.time)!==\\'undefined\\' && $value.time!=null }}<span class=\"history-time\">&nbsp;${$value.time}</span>{{/if}}</a>\\n        <a class=\"menu-function\" href=\"javascript:void(0);\" onclick=\"removeHistory(this,${$value.hid});return false;\"><span>å\\x88ªé\\x99¤</span><i class=\"icon-cancel\"></i></a>\\n      </li>\\n      {{/if}}\\n    {{/each}}\\n  </ul>\\n</li>\\n</script>\\n</html>\\n'"
      ]
     },
     "execution_count": 20,
     "metadata": {},
     "output_type": "execute_result"
    }
   ],
   "source": [
    "res.text"
   ]
  },
  {
   "cell_type": "code",
   "execution_count": 21,
   "id": "d6c6b8e9",
   "metadata": {},
   "outputs": [
    {
     "data": {
      "text/plain": [
       "'https://www.lawplus.com.tw/rest/search/report?querySentence=%25E6%25AF%2592%25E5%2593%2581'"
      ]
     },
     "execution_count": 21,
     "metadata": {},
     "output_type": "execute_result"
    }
   ],
   "source": [
    "link = 'https://www.lawplus.com.tw/rest/search/report?querySentence=%25E6%25AF%2592%25E5%2593%2581'\n",
    "link\n"
   ]
  },
  {
   "cell_type": "code",
   "execution_count": 22,
   "id": "0b59a925",
   "metadata": {},
   "outputs": [
    {
     "name": "stderr",
     "output_type": "stream",
     "text": [
      "/opt/anaconda3/lib/python3.9/site-packages/urllib3/connectionpool.py:1045: InsecureRequestWarning: Unverified HTTPS request is being made to host 'www.lawplus.com.tw'. Adding certificate verification is strongly advised. See: https://urllib3.readthedocs.io/en/1.26.x/advanced-usage.html#ssl-warnings\n",
      "  warnings.warn(\n"
     ]
    },
    {
     "data": {
      "text/plain": [
       "<Response [200]>"
      ]
     },
     "execution_count": 22,
     "metadata": {},
     "output_type": "execute_result"
    }
   ],
   "source": [
    "res = requests.get(link,verify=False)\n",
    "res"
   ]
  },
  {
   "cell_type": "code",
   "execution_count": 23,
   "id": "beb5ce7b",
   "metadata": {},
   "outputs": [
    {
     "data": {
      "text/plain": [
       "'{\"page\":1,\"records\":1925512,\"rows\":[{\"caseNum\":\"93,上訴,954\",\"caseType\":\"M\",\"content\":\"臺灣高等法院高雄分院刑事判決\\u3000\\u3000\\u3000\\u3000\\u3000\\u3000\\u3000\\u3000\\u3000\\u3000九十三年度上訴字第九五四號\\\\r\\\\n\\u3000\\u3000上\\u3000訴\\u3000人\\u3000臺灣高雄地方法院檢察署檢察官\\\\r\\\\n\\u3000\\u3000被\\u3000\\u3000\\u3000告\\u3000乙○○\\\\r\\\\n\\u3000\\u3000選任辯護人\\u3000洪錫鵬\\\\r\\\\n右上訴人因被告違反毒品...\",\"court\":\"\",\"identifier\":\"KSHM,93,上訴,954,20041110,1-7ab065aa-de08-4652-90fb-faec384452c0\",\"issue\":\"違反毒品危害防制條例\",\"jtype\":\"J\",\"judgeDate\":\"2004/11/10\",\"litigant\":null,\"tags\":null,\"title\":\"KSHM,93,上訴,954,20041110,1-7ab065aa-de08-4652-90fb-faec384452c0\",\"type\":\"刑事判決\"},{\"caseNum\":\"91,訴,305\",\"caseType\":\"M\",\"content\":\"臺灣基隆地方法院刑事判決\\u3000\\u3000\\u3000\\u3000\\u3000\\u3000\\u3000\\u3000\\u3000\\u3000\\u3000\\u3000\\u3000九十一年度訴字第三○五號\\\\r\\\\n\\u3000\\u3000公\\u3000訴\\u3000人\\u3000臺灣基隆地方法院檢察署檢察官\\\\r\\\\n\\u3000\\u3000被\\u3000\\u3000\\u3000告\\u3000甲○○\\u3000男二十\\\\r\\\\n\\u3000\\u3000\\u3000\\u3000\\u3000\\u3000\\u3000\\u3000\\u3000\\u3000\\u3000\\u3000住基隆\\\\r\\\\n\\u3000\\u3000\\u3000...\",\"court\":\"\",\"identifier\":\"KLDM,91,訴,305,20020716,1-ff74805d-18cd-46a3-b442-7db5ba35f710\",\"issue\":\"毒品危害防制條例\",\"jtype\":\"J\",\"judgeDate\":\"2002/07/16\",\"litigant\":null,\"tags\":null,\"title\":\"KLDM,91,訴,305,20020716,1-ff74805d-18cd-46a3-b442-7db5ba35f710\",\"type\":\"刑事判決\"},{\"caseNum\":\"89,訴,91\",\"caseType\":\"M\",\"content\":\"臺灣基隆地方法院刑事判決\\u3000\\u3000\\u3000\\u3000\\u3000\\u3000\\u3000\\u3000\\u3000\\u3000\\u3000\\u3000\\u3000八十九年度訴字第九十一號\\\\r\\\\n\\u3000\\u3000公\\u3000訴\\u3000人\\u3000臺灣基隆地方法院檢察署檢察官\\\\r\\\\n\\u3000\\u3000被\\u3000\\u3000\\u3000告\\u3000甲○○\\\\r\\\\n右被告因毒品危害防制條例案件，經檢察官提起公訴 ...\",\"court\":\"\",\"identifier\":\"KLDM,89,訴,91,20000215-75c53836-b87d-42af-a01b-3d7ce0926ac6\",\"issue\":null,\"jtype\":\"J\",\"judgeDate\":\"2000/02/15\",\"litigant\":null,\"tags\":null,\"title\":\"KLDM,89,訴,91,20000215-75c53836-b87d-42af-a01b-3d7ce0926ac6\",\"type\":\"刑事判決\"},{\"caseNum\":\"94,訴,2121\",\"caseType\":\"M\",\"content\":\"臺灣高雄地方法院刑事判決\\u3000\\u3000\\u3000\\u3000\\u3000\\u3000\\u300094年度訴字第2121號\\\\r\\\\n公\\u3000訴\\u3000人\\u3000臺灣高雄地方法院檢察署檢察官\\\\r\\\\n被\\u3000\\u3000\\u3000告\\u3000乙○○\\\\r\\\\n上列被告因違反毒品危害防制條例案件，經檢察官提起公訴（94\\\\r\\\\n年度毒...\",\"court\":\"\",\"identifier\":\"KSDM,94,訴,2121,20051230,1-007bf65b-df41-4c67-9e98-a4beb303f788\",\"issue\":\"毒品危害防制條例\",\"jtype\":\"J\",\"judgeDate\":\"2005/12/30\",\"litigant\":null,\"tags\":null,\"title\":\"KSDM,94,訴,2121,20051230,1-007bf65b-df41-4c67-9e98-a4beb303f788\",\"type\":\"刑事判決\"},{\"caseNum\":\"94,訴,998\",\"caseType\":\"M\",\"content\":\"臺灣高雄地方法院刑事判決\\u3000\\u3000\\u3000\\u3000\\u3000\\u3000\\u3000 94年度訴字第998號\\\\r\\\\n公\\u3000訴\\u3000人\\u3000臺灣高雄地方法院檢察署檢察官\\\\r\\\\n被\\u3000\\u3000\\u3000告\\u3000乙○○\\\\r\\\\n上列被告因違反毒品危害防制條例案件，經檢察官提起公訴（94\\\\r\\\\n年度毒...\",\"court\":\"\",\"identifier\":\"KSDM,94,訴,998,20051230,2-109063a2-6b0f-4436-b56c-d1e439a1e356\",\"issue\":\"毒品危害防制條例\",\"jtype\":\"J\",\"judgeDate\":\"2005/12/30\",\"litigant\":null,\"tags\":null,\"title\":\"KSDM,94,訴,998,20051230,2-109063a2-6b0f-4436-b56c-d1e439a1e356\",\"type\":\"刑事判決\"},{\"caseNum\":\"94,訴,3995\",\"caseType\":\"M\",\"content\":\"臺灣高雄地方法院刑事判決\\u3000\\u3000\\u3000\\u3000\\u3000\\u3000\\u300094年度訴字第3995號\\\\r\\\\n公\\u3000訴\\u3000人\\u3000臺灣高雄地方法院檢察署檢察官\\\\r\\\\n被\\u3000\\u3000\\u3000告\\u3000乙○○\\\\r\\\\n上列被告因違反毒品危害防制條例案件，經檢察官提起公訴（94\\\\r\\\\n年度毒...\",\"court\":\"\",\"identifier\":\"KSDM,94,訴,3995,20060324,1-fde8ed65-05cd-4102-924e-e9d62bcf20cd\",\"issue\":\"毒品危害防制條例\",\"jtype\":\"J\",\"judgeDate\":\"2006/03/24\",\"litigant\":null,\"tags\":null,\"title\":\"KSDM,94,訴,3995,20060324,1-fde8ed65-05cd-4102-924e-e9d62bcf20cd\",\"type\":\"刑事判決\"},{\"caseNum\":\"91,上訴,1768\",\"caseType\":\"M\",\"content\":\"臺灣高等法院臺中分院刑事判決\\u3000\\u3000\\u3000\\u3000\\u3000\\u3000\\u3000\\u3000\\u3000九十一年度上訴字第一七六八號\\\\r\\\\n\\u3000\\u3000上\\u3000訴\\u3000人\\\\r\\\\n\\u3000\\u3000即\\u3000被\\u3000告\\u3000丁○○\\\\r\\\\n\\u3000\\u3000輔\\u3000佐\\u3000人\\u3000乙○○\\\\r\\\\n\\u3000\\u3000即被告之母\\\\r\\\\n\\u3000\\u3000選任辯護人\\u3000張居德\\\\r\\\\n\\u3000\\u3000上\\u3000...\",\"court\":\"\",\"identifier\":\"TCHM,91,上訴,1768,20021205,1-803984c6-5eac-4ea9-9596-a7a58d259ce5\",\"issue\":\"毒品危害防制條例\",\"jtype\":\"J\",\"judgeDate\":\"2002/12/05\",\"litigant\":null,\"tags\":null,\"title\":\"TCHM,91,上訴,1768,20021205,1-803984c6-5eac-4ea9-9596-a7a58d259ce5\",\"type\":\"刑事判決\"},{\"caseNum\":\"91,訴,832\",\"caseType\":\"M\",\"content\":\"臺灣板橋地方法院刑事判決\\u3000\\u3000\\u3000\\u3000\\u3000\\u3000\\u3000\\u3000\\u3000\\u3000\\u3000\\u3000\\u3000九十一年度訴字第八三二號\\\\r\\\\n\\u3000\\u3000公\\u3000訴\\u3000人\\u3000臺灣板橋地方法院檢察署檢察官\\u3000\\u3000\\u3000\\u3000\\u3000\\u3000\\u3000\\u3000\\u3000\\u3000\\u3000\\u3000\\u3000\\u3000\\u3000\\\\r\\\\n\\u3000\\u3000被\\u3000\\u3000\\u3000告\\u3000黃永龍\\\\r\\\\n\\\\r\\\\n\\\\r\\\\n\\\\r\\\\n\\\\r\\\\n右...\",\"court\":\"\",\"identifier\":\"PCDM,91,訴,832,20020930,1-29ea8754-ce98-4050-b038-5a0102bbbfec\",\"issue\":\"毒品危害防制條例\",\"jtype\":\"J\",\"judgeDate\":\"2002/09/30\",\"litigant\":null,\"tags\":null,\"title\":\"PCDM,91,訴,832,20020930,1-29ea8754-ce98-4050-b038-5a0102bbbfec\",\"type\":\"刑事判決\"},{\"caseNum\":\"108,審簡,134\",\"caseType\":\"M\",\"content\":\"臺灣臺北地方法院刑事簡易判決\\u3000\\u3000\\u3000\\u3000108年度審簡字第134號\\\\r\\\\n公\\u3000訴\\u3000人\\u3000臺灣臺北地方檢察署檢察官\\\\r\\\\n被\\u3000\\u3000\\u3000告\\u3000許斌松\\\\r\\\\n\\\\r\\\\n\\\\r\\\\n上列被告因違反毒品危害防制條例案件，經檢察官提起公訴(107\\\\r\\\\n...\",\"court\":\"\",\"identifier\":\"TPDM,108,審簡,134,20190123,1-143315f4-3bb9-4d14-88d6-e65295cf3ae6\",\"issue\":\"毒品危害防制條例\",\"jtype\":\"J\",\"judgeDate\":\"2019/01/23\",\"litigant\":null,\"tags\":null,\"title\":\"TPDM,108,審簡,134,20190123,1-143315f4-3bb9-4d14-88d6-e65295cf3ae6\",\"type\":\"刑事判決\"},{\"caseNum\":\"95,易,87\",\"caseType\":\"M\",\"content\":\"臺灣高雄地方法院刑事判決\\u3000\\u3000\\u3000\\u3000\\u3000\\u3000\\u3000\\u300095年度易字第87號\\\\r\\\\n公\\u3000訴\\u3000人\\u3000臺灣高雄地方法院檢察署檢察官\\\\r\\\\n被\\u3000\\u3000\\u3000告\\u3000乙○○\\\\r\\\\n上列被告因違反毒品危害防制條例案件，經檢察官提起公訴（94\\\\r\\\\n年度毒偵...\",\"court\":\"\",\"identifier\":\"KSDM,95,易,87,20060330,1-3f100def-9f4b-4c93-be4b-8e9270fad131\",\"issue\":\"毒品危害防制條例\",\"jtype\":\"J\",\"judgeDate\":\"2006/03/30\",\"litigant\":null,\"tags\":null,\"title\":\"KSDM,95,易,87,20060330,1-3f100def-9f4b-4c93-be4b-8e9270fad131\",\"type\":\"刑事判決\"}],\"total\":192552,\"userdata\":{\"series\":[{\"name\":\"2021\",\"y\":11169},{\"name\":\"2020\",\"y\":113023},{\"name\":\"2019\",\"y\":132736},{\"name\":\"2018\",\"y\":142344},{\"name\":\"2017\",\"y\":142942},{\"name\":\"2016\",\"y\":135470},{\"name\":\"2015\",\"y\":111806},{\"name\":\"2014\",\"y\":121873},{\"name\":\"2013\",\"y\":103613},{\"name\":\"2012\",\"y\":103768},{\"name\":\"2011\",\"y\":102984},{\"name\":\"2010\",\"y\":97662},{\"name\":\"2009\",\"y\":96569},{\"name\":\"2008\",\"y\":105870},{\"name\":\"2007\",\"y\":103178},{\"name\":\"2006\",\"y\":69198},{\"name\":\"2005\",\"y\":55590},{\"name\":\"2004\",\"y\":38439},{\"name\":\"2003\",\"y\":33131},{\"name\":\"2002\",\"y\":37074},{\"name\":\"2001\",\"y\":38156},{\"name\":\"2000\",\"y\":28893},{\"name\":\"1999\",\"y\":11},{\"name\":\"1998\",\"y\":8},{\"name\":\"1997\",\"y\":2},{\"name\":\"1996\",\"y\":3}],\"categories\":[\"2021\",\"2020\",\"2019\",\"2018\",\"2017\",\"2016\",\"2015\",\"2014\",\"2013\",\"2012\",\"2011\",\"2010\",\"2009\",\"2008\",\"2007\",\"2006\",\"2005\",\"2004\",\"2003\",\"2002\",\"2001\",\"2000\",\"1999\",\"1998\",\"1997\",\"1996\"]}}'"
      ]
     },
     "execution_count": 23,
     "metadata": {},
     "output_type": "execute_result"
    }
   ],
   "source": [
    "res.text"
   ]
  },
  {
   "cell_type": "code",
   "execution_count": 24,
   "id": "fbd2c522",
   "metadata": {},
   "outputs": [
    {
     "data": {
      "text/plain": [
       "{'page': 1,\n",
       " 'records': 1925512,\n",
       " 'rows': [{'caseNum': '93,上訴,954',\n",
       "   'caseType': 'M',\n",
       "   'content': '臺灣高等法院高雄分院刑事判決\\u3000\\u3000\\u3000\\u3000\\u3000\\u3000\\u3000\\u3000\\u3000\\u3000九十三年度上訴字第九五四號\\r\\n\\u3000\\u3000上\\u3000訴\\u3000人\\u3000臺灣高雄地方法院檢察署檢察官\\r\\n\\u3000\\u3000被\\u3000\\u3000\\u3000告\\u3000乙○○\\r\\n\\u3000\\u3000選任辯護人\\u3000洪錫鵬\\r\\n右上訴人因被告違反毒品...',\n",
       "   'court': '',\n",
       "   'identifier': 'KSHM,93,上訴,954,20041110,1-7ab065aa-de08-4652-90fb-faec384452c0',\n",
       "   'issue': '違反毒品危害防制條例',\n",
       "   'jtype': 'J',\n",
       "   'judgeDate': '2004/11/10',\n",
       "   'litigant': None,\n",
       "   'tags': None,\n",
       "   'title': 'KSHM,93,上訴,954,20041110,1-7ab065aa-de08-4652-90fb-faec384452c0',\n",
       "   'type': '刑事判決'},\n",
       "  {'caseNum': '91,訴,305',\n",
       "   'caseType': 'M',\n",
       "   'content': '臺灣基隆地方法院刑事判決\\u3000\\u3000\\u3000\\u3000\\u3000\\u3000\\u3000\\u3000\\u3000\\u3000\\u3000\\u3000\\u3000九十一年度訴字第三○五號\\r\\n\\u3000\\u3000公\\u3000訴\\u3000人\\u3000臺灣基隆地方法院檢察署檢察官\\r\\n\\u3000\\u3000被\\u3000\\u3000\\u3000告\\u3000甲○○\\u3000男二十\\r\\n\\u3000\\u3000\\u3000\\u3000\\u3000\\u3000\\u3000\\u3000\\u3000\\u3000\\u3000\\u3000住基隆\\r\\n\\u3000\\u3000\\u3000...',\n",
       "   'court': '',\n",
       "   'identifier': 'KLDM,91,訴,305,20020716,1-ff74805d-18cd-46a3-b442-7db5ba35f710',\n",
       "   'issue': '毒品危害防制條例',\n",
       "   'jtype': 'J',\n",
       "   'judgeDate': '2002/07/16',\n",
       "   'litigant': None,\n",
       "   'tags': None,\n",
       "   'title': 'KLDM,91,訴,305,20020716,1-ff74805d-18cd-46a3-b442-7db5ba35f710',\n",
       "   'type': '刑事判決'},\n",
       "  {'caseNum': '89,訴,91',\n",
       "   'caseType': 'M',\n",
       "   'content': '臺灣基隆地方法院刑事判決\\u3000\\u3000\\u3000\\u3000\\u3000\\u3000\\u3000\\u3000\\u3000\\u3000\\u3000\\u3000\\u3000八十九年度訴字第九十一號\\r\\n\\u3000\\u3000公\\u3000訴\\u3000人\\u3000臺灣基隆地方法院檢察署檢察官\\r\\n\\u3000\\u3000被\\u3000\\u3000\\u3000告\\u3000甲○○\\r\\n右被告因毒品危害防制條例案件，經檢察官提起公訴 ...',\n",
       "   'court': '',\n",
       "   'identifier': 'KLDM,89,訴,91,20000215-75c53836-b87d-42af-a01b-3d7ce0926ac6',\n",
       "   'issue': None,\n",
       "   'jtype': 'J',\n",
       "   'judgeDate': '2000/02/15',\n",
       "   'litigant': None,\n",
       "   'tags': None,\n",
       "   'title': 'KLDM,89,訴,91,20000215-75c53836-b87d-42af-a01b-3d7ce0926ac6',\n",
       "   'type': '刑事判決'},\n",
       "  {'caseNum': '94,訴,2121',\n",
       "   'caseType': 'M',\n",
       "   'content': '臺灣高雄地方法院刑事判決\\u3000\\u3000\\u3000\\u3000\\u3000\\u3000\\u300094年度訴字第2121號\\r\\n公\\u3000訴\\u3000人\\u3000臺灣高雄地方法院檢察署檢察官\\r\\n被\\u3000\\u3000\\u3000告\\u3000乙○○\\r\\n上列被告因違反毒品危害防制條例案件，經檢察官提起公訴（94\\r\\n年度毒...',\n",
       "   'court': '',\n",
       "   'identifier': 'KSDM,94,訴,2121,20051230,1-007bf65b-df41-4c67-9e98-a4beb303f788',\n",
       "   'issue': '毒品危害防制條例',\n",
       "   'jtype': 'J',\n",
       "   'judgeDate': '2005/12/30',\n",
       "   'litigant': None,\n",
       "   'tags': None,\n",
       "   'title': 'KSDM,94,訴,2121,20051230,1-007bf65b-df41-4c67-9e98-a4beb303f788',\n",
       "   'type': '刑事判決'},\n",
       "  {'caseNum': '94,訴,998',\n",
       "   'caseType': 'M',\n",
       "   'content': '臺灣高雄地方法院刑事判決\\u3000\\u3000\\u3000\\u3000\\u3000\\u3000\\u3000 94年度訴字第998號\\r\\n公\\u3000訴\\u3000人\\u3000臺灣高雄地方法院檢察署檢察官\\r\\n被\\u3000\\u3000\\u3000告\\u3000乙○○\\r\\n上列被告因違反毒品危害防制條例案件，經檢察官提起公訴（94\\r\\n年度毒...',\n",
       "   'court': '',\n",
       "   'identifier': 'KSDM,94,訴,998,20051230,2-109063a2-6b0f-4436-b56c-d1e439a1e356',\n",
       "   'issue': '毒品危害防制條例',\n",
       "   'jtype': 'J',\n",
       "   'judgeDate': '2005/12/30',\n",
       "   'litigant': None,\n",
       "   'tags': None,\n",
       "   'title': 'KSDM,94,訴,998,20051230,2-109063a2-6b0f-4436-b56c-d1e439a1e356',\n",
       "   'type': '刑事判決'},\n",
       "  {'caseNum': '94,訴,3995',\n",
       "   'caseType': 'M',\n",
       "   'content': '臺灣高雄地方法院刑事判決\\u3000\\u3000\\u3000\\u3000\\u3000\\u3000\\u300094年度訴字第3995號\\r\\n公\\u3000訴\\u3000人\\u3000臺灣高雄地方法院檢察署檢察官\\r\\n被\\u3000\\u3000\\u3000告\\u3000乙○○\\r\\n上列被告因違反毒品危害防制條例案件，經檢察官提起公訴（94\\r\\n年度毒...',\n",
       "   'court': '',\n",
       "   'identifier': 'KSDM,94,訴,3995,20060324,1-fde8ed65-05cd-4102-924e-e9d62bcf20cd',\n",
       "   'issue': '毒品危害防制條例',\n",
       "   'jtype': 'J',\n",
       "   'judgeDate': '2006/03/24',\n",
       "   'litigant': None,\n",
       "   'tags': None,\n",
       "   'title': 'KSDM,94,訴,3995,20060324,1-fde8ed65-05cd-4102-924e-e9d62bcf20cd',\n",
       "   'type': '刑事判決'},\n",
       "  {'caseNum': '91,上訴,1768',\n",
       "   'caseType': 'M',\n",
       "   'content': '臺灣高等法院臺中分院刑事判決\\u3000\\u3000\\u3000\\u3000\\u3000\\u3000\\u3000\\u3000\\u3000九十一年度上訴字第一七六八號\\r\\n\\u3000\\u3000上\\u3000訴\\u3000人\\r\\n\\u3000\\u3000即\\u3000被\\u3000告\\u3000丁○○\\r\\n\\u3000\\u3000輔\\u3000佐\\u3000人\\u3000乙○○\\r\\n\\u3000\\u3000即被告之母\\r\\n\\u3000\\u3000選任辯護人\\u3000張居德\\r\\n\\u3000\\u3000上\\u3000...',\n",
       "   'court': '',\n",
       "   'identifier': 'TCHM,91,上訴,1768,20021205,1-803984c6-5eac-4ea9-9596-a7a58d259ce5',\n",
       "   'issue': '毒品危害防制條例',\n",
       "   'jtype': 'J',\n",
       "   'judgeDate': '2002/12/05',\n",
       "   'litigant': None,\n",
       "   'tags': None,\n",
       "   'title': 'TCHM,91,上訴,1768,20021205,1-803984c6-5eac-4ea9-9596-a7a58d259ce5',\n",
       "   'type': '刑事判決'},\n",
       "  {'caseNum': '91,訴,832',\n",
       "   'caseType': 'M',\n",
       "   'content': '臺灣板橋地方法院刑事判決\\u3000\\u3000\\u3000\\u3000\\u3000\\u3000\\u3000\\u3000\\u3000\\u3000\\u3000\\u3000\\u3000九十一年度訴字第八三二號\\r\\n\\u3000\\u3000公\\u3000訴\\u3000人\\u3000臺灣板橋地方法院檢察署檢察官\\u3000\\u3000\\u3000\\u3000\\u3000\\u3000\\u3000\\u3000\\u3000\\u3000\\u3000\\u3000\\u3000\\u3000\\u3000\\r\\n\\u3000\\u3000被\\u3000\\u3000\\u3000告\\u3000黃永龍\\r\\n\\r\\n\\r\\n\\r\\n\\r\\n右...',\n",
       "   'court': '',\n",
       "   'identifier': 'PCDM,91,訴,832,20020930,1-29ea8754-ce98-4050-b038-5a0102bbbfec',\n",
       "   'issue': '毒品危害防制條例',\n",
       "   'jtype': 'J',\n",
       "   'judgeDate': '2002/09/30',\n",
       "   'litigant': None,\n",
       "   'tags': None,\n",
       "   'title': 'PCDM,91,訴,832,20020930,1-29ea8754-ce98-4050-b038-5a0102bbbfec',\n",
       "   'type': '刑事判決'},\n",
       "  {'caseNum': '108,審簡,134',\n",
       "   'caseType': 'M',\n",
       "   'content': '臺灣臺北地方法院刑事簡易判決\\u3000\\u3000\\u3000\\u3000108年度審簡字第134號\\r\\n公\\u3000訴\\u3000人\\u3000臺灣臺北地方檢察署檢察官\\r\\n被\\u3000\\u3000\\u3000告\\u3000許斌松\\r\\n\\r\\n\\r\\n上列被告因違反毒品危害防制條例案件，經檢察官提起公訴(107\\r\\n...',\n",
       "   'court': '',\n",
       "   'identifier': 'TPDM,108,審簡,134,20190123,1-143315f4-3bb9-4d14-88d6-e65295cf3ae6',\n",
       "   'issue': '毒品危害防制條例',\n",
       "   'jtype': 'J',\n",
       "   'judgeDate': '2019/01/23',\n",
       "   'litigant': None,\n",
       "   'tags': None,\n",
       "   'title': 'TPDM,108,審簡,134,20190123,1-143315f4-3bb9-4d14-88d6-e65295cf3ae6',\n",
       "   'type': '刑事判決'},\n",
       "  {'caseNum': '95,易,87',\n",
       "   'caseType': 'M',\n",
       "   'content': '臺灣高雄地方法院刑事判決\\u3000\\u3000\\u3000\\u3000\\u3000\\u3000\\u3000\\u300095年度易字第87號\\r\\n公\\u3000訴\\u3000人\\u3000臺灣高雄地方法院檢察署檢察官\\r\\n被\\u3000\\u3000\\u3000告\\u3000乙○○\\r\\n上列被告因違反毒品危害防制條例案件，經檢察官提起公訴（94\\r\\n年度毒偵...',\n",
       "   'court': '',\n",
       "   'identifier': 'KSDM,95,易,87,20060330,1-3f100def-9f4b-4c93-be4b-8e9270fad131',\n",
       "   'issue': '毒品危害防制條例',\n",
       "   'jtype': 'J',\n",
       "   'judgeDate': '2006/03/30',\n",
       "   'litigant': None,\n",
       "   'tags': None,\n",
       "   'title': 'KSDM,95,易,87,20060330,1-3f100def-9f4b-4c93-be4b-8e9270fad131',\n",
       "   'type': '刑事判決'}],\n",
       " 'total': 192552,\n",
       " 'userdata': {'series': [{'name': '2021', 'y': 11169},\n",
       "   {'name': '2020', 'y': 113023},\n",
       "   {'name': '2019', 'y': 132736},\n",
       "   {'name': '2018', 'y': 142344},\n",
       "   {'name': '2017', 'y': 142942},\n",
       "   {'name': '2016', 'y': 135470},\n",
       "   {'name': '2015', 'y': 111806},\n",
       "   {'name': '2014', 'y': 121873},\n",
       "   {'name': '2013', 'y': 103613},\n",
       "   {'name': '2012', 'y': 103768},\n",
       "   {'name': '2011', 'y': 102984},\n",
       "   {'name': '2010', 'y': 97662},\n",
       "   {'name': '2009', 'y': 96569},\n",
       "   {'name': '2008', 'y': 105870},\n",
       "   {'name': '2007', 'y': 103178},\n",
       "   {'name': '2006', 'y': 69198},\n",
       "   {'name': '2005', 'y': 55590},\n",
       "   {'name': '2004', 'y': 38439},\n",
       "   {'name': '2003', 'y': 33131},\n",
       "   {'name': '2002', 'y': 37074},\n",
       "   {'name': '2001', 'y': 38156},\n",
       "   {'name': '2000', 'y': 28893},\n",
       "   {'name': '1999', 'y': 11},\n",
       "   {'name': '1998', 'y': 8},\n",
       "   {'name': '1997', 'y': 2},\n",
       "   {'name': '1996', 'y': 3}],\n",
       "  'categories': ['2021',\n",
       "   '2020',\n",
       "   '2019',\n",
       "   '2018',\n",
       "   '2017',\n",
       "   '2016',\n",
       "   '2015',\n",
       "   '2014',\n",
       "   '2013',\n",
       "   '2012',\n",
       "   '2011',\n",
       "   '2010',\n",
       "   '2009',\n",
       "   '2008',\n",
       "   '2007',\n",
       "   '2006',\n",
       "   '2005',\n",
       "   '2004',\n",
       "   '2003',\n",
       "   '2002',\n",
       "   '2001',\n",
       "   '2000',\n",
       "   '1999',\n",
       "   '1998',\n",
       "   '1997',\n",
       "   '1996']}}"
      ]
     },
     "execution_count": 24,
     "metadata": {},
     "output_type": "execute_result"
    }
   ],
   "source": [
    " data=json.loads(res.text)\n",
    "data"
   ]
  },
  {
   "cell_type": "code",
   "execution_count": null,
   "id": "1b8e341e",
   "metadata": {},
   "outputs": [],
   "source": []
  }
 ],
 "metadata": {
  "kernelspec": {
   "display_name": "Python 3 (ipykernel)",
   "language": "python",
   "name": "python3"
  },
  "language_info": {
   "codemirror_mode": {
    "name": "ipython",
    "version": 3
   },
   "file_extension": ".py",
   "mimetype": "text/x-python",
   "name": "python",
   "nbconvert_exporter": "python",
   "pygments_lexer": "ipython3",
   "version": "3.9.13"
  }
 },
 "nbformat": 4,
 "nbformat_minor": 5
}
