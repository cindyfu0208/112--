{
 "cells": [
  {
   "cell_type": "code",
   "execution_count": 4,
   "id": "26498bdb",
   "metadata": {},
   "outputs": [
    {
     "name": "stdout",
     "output_type": "stream",
     "text": [
      "Collecting ccxt\n",
      "  Downloading ccxt-3.0.98-py2.py3-none-any.whl (3.8 MB)\n",
      "\u001b[2K     \u001b[90m━━━━━━━━━━━━━━━━━━━━━━━━━━━━━━━━━━━━━━━━\u001b[0m \u001b[32m3.8/3.8 MB\u001b[0m \u001b[31m9.5 MB/s\u001b[0m eta \u001b[36m0:00:00\u001b[0ma \u001b[36m0:00:01\u001b[0m\n",
      "\u001b[?25hRequirement already satisfied: setuptools>=60.9.0 in /opt/anaconda3/lib/python3.9/site-packages (from ccxt) (63.4.1)\n",
      "Requirement already satisfied: certifi>=2018.1.18 in /opt/anaconda3/lib/python3.9/site-packages (from ccxt) (2022.12.7)\n",
      "Requirement already satisfied: requests>=2.18.4 in /opt/anaconda3/lib/python3.9/site-packages (from ccxt) (2.28.1)\n",
      "Requirement already satisfied: cryptography>=2.6.1 in /opt/anaconda3/lib/python3.9/site-packages (from ccxt) (37.0.1)\n",
      "Requirement already satisfied: aiohttp>=3.8 in /opt/anaconda3/lib/python3.9/site-packages (from ccxt) (3.8.4)\n",
      "Collecting aiodns>=1.1.1 (from ccxt)\n",
      "  Downloading aiodns-3.0.0-py3-none-any.whl (5.0 kB)\n",
      "Requirement already satisfied: yarl>=1.7.2 in /opt/anaconda3/lib/python3.9/site-packages (from ccxt) (1.9.2)\n",
      "Collecting pycares>=4.0.0 (from aiodns>=1.1.1->ccxt)\n",
      "  Downloading pycares-4.3.0-cp39-cp39-macosx_10_9_x86_64.whl (75 kB)\n",
      "\u001b[2K     \u001b[90m━━━━━━━━━━━━━━━━━━━━━━━━━━━━━━━━━━━━━━━━\u001b[0m \u001b[32m75.5/75.5 kB\u001b[0m \u001b[31m8.7 MB/s\u001b[0m eta \u001b[36m0:00:00\u001b[0m\n",
      "\u001b[?25hRequirement already satisfied: attrs>=17.3.0 in /opt/anaconda3/lib/python3.9/site-packages (from aiohttp>=3.8->ccxt) (21.4.0)\n",
      "Requirement already satisfied: charset-normalizer<4.0,>=2.0 in /opt/anaconda3/lib/python3.9/site-packages (from aiohttp>=3.8->ccxt) (2.0.4)\n",
      "Requirement already satisfied: multidict<7.0,>=4.5 in /opt/anaconda3/lib/python3.9/site-packages (from aiohttp>=3.8->ccxt) (6.0.4)\n",
      "Requirement already satisfied: async-timeout<5.0,>=4.0.0a3 in /opt/anaconda3/lib/python3.9/site-packages (from aiohttp>=3.8->ccxt) (4.0.2)\n",
      "Requirement already satisfied: frozenlist>=1.1.1 in /opt/anaconda3/lib/python3.9/site-packages (from aiohttp>=3.8->ccxt) (1.3.3)\n",
      "Requirement already satisfied: aiosignal>=1.1.2 in /opt/anaconda3/lib/python3.9/site-packages (from aiohttp>=3.8->ccxt) (1.3.1)\n",
      "Requirement already satisfied: cffi>=1.12 in /opt/anaconda3/lib/python3.9/site-packages (from cryptography>=2.6.1->ccxt) (1.15.1)\n",
      "Requirement already satisfied: idna<4,>=2.5 in /opt/anaconda3/lib/python3.9/site-packages (from requests>=2.18.4->ccxt) (3.3)\n",
      "Requirement already satisfied: urllib3<1.27,>=1.21.1 in /opt/anaconda3/lib/python3.9/site-packages (from requests>=2.18.4->ccxt) (1.26.11)\n",
      "Requirement already satisfied: pycparser in /opt/anaconda3/lib/python3.9/site-packages (from cffi>=1.12->cryptography>=2.6.1->ccxt) (2.21)\n",
      "Installing collected packages: pycares, aiodns, ccxt\n",
      "Successfully installed aiodns-3.0.0 ccxt-3.0.98 pycares-4.3.0\n",
      "Note: you may need to restart the kernel to use updated packages.\n"
     ]
    }
   ],
   "source": [
    "pip install ccxt"
   ]
  },
  {
   "cell_type": "code",
   "execution_count": 5,
   "id": "67c9f22d",
   "metadata": {},
   "outputs": [
    {
     "name": "stdout",
     "output_type": "stream",
     "text": [
      "0.9996212747571623 0.9987690504103166 0.9991466666666667\n",
      "三角套利機會不存在。\n",
      "0.9999946610002083 0.9981503198294243 0.9990928495197439\n",
      "三角套利機會不存在。\n",
      "0.9993593850096092 0.9982942430703625 0.9996262680192204\n",
      "三角套利機會不存在。\n",
      "0.9998451921485728 0.998986558566247 0.9983991462113129\n",
      "三角套利機會不存在。\n",
      "0.9992584254077327 0.9995946234264989 0.9983991462113129\n",
      "三角套利機會不存在。\n",
      "0.999914628420199 0.9990936716959 0.9988266666666668\n",
      "三角套利機會不存在。\n",
      "0.9994610487670823 0.9990936716959 0.9993596584845252\n",
      "三角套利機會不存在。\n",
      "0.9994877158530598 0.9990401535754279 0.9989861259338315\n",
      "三角套利機會不存在。\n",
      "0.9993224028555118 0.9993067775822534 0.9989861259338315\n",
      "三角套利機會不存在。\n",
      "0.999551961767404 0.9995787340692156 0.9984533333333333\n",
      "三角套利機會不存在。\n"
     ]
    }
   ],
   "source": [
    "import ccxt\n",
    "import pandas as pd\n",
    "import time\n",
    "# 连接三个虚拟货币交易所\n",
    "exchange1 = ccxt.binance()\n",
    "exchange2 = ccxt.huobipro()\n",
    "exchange3 = ccxt.bitfinex()\n",
    "\n",
    "# 获取比特币兑换其他货币的价格数据\n",
    "symbol = 'ETC/USDT'\n",
    "i = 0\n",
    "while(i<10):\n",
    "    data1 = exchange1.fetch_ticker(symbol)\n",
    "    data2 = exchange2.fetch_ticker(symbol)\n",
    "    data3 = exchange3.fetch_ticker(symbol)\n",
    "    #print(data1)\n",
    "    #print()\n",
    "    #print(data2)\n",
    "    #print()\n",
    "    #print(data3)\n",
    "    #print()\n",
    "    # 将价格数据存储在Pandas DataFrame中\n",
    "    df = pd.DataFrame({\n",
    "        exchange1.id: [data1['bid'], data1['ask']],\n",
    "        exchange2.id: [data2['bid'], data2['ask']],\n",
    "        exchange3.id: [data3['bid'], data3['ask']]\n",
    "    }, index=['bid', 'ask'])\n",
    "\n",
    "    # 計算三角套利的機會\n",
    "    rate1 = df.loc['bid', exchange1.id] / df.loc['ask', exchange2.id]\n",
    "    rate2 = df.loc['bid', exchange2.id] / df.loc['ask', exchange3.id]\n",
    "    rate3 = df.loc['bid', exchange3.id] / df.loc['ask', exchange1.id]\n",
    "    print(rate1, rate2, rate3)\n",
    "    if rate1 > 1 and rate2 > 1 and rate3 > 1:\n",
    "        \n",
    "        print('三角套利機會存在！')\n",
    "    else:\n",
    "        print('三角套利機會不存在。')\n",
    "        \n",
    "    i += 1\n",
    "    time.sleep(10)"
   ]
  },
  {
   "cell_type": "code",
   "execution_count": null,
   "id": "3a051b6b",
   "metadata": {},
   "outputs": [],
   "source": []
  }
 ],
 "metadata": {
  "kernelspec": {
   "display_name": "Python 3 (ipykernel)",
   "language": "python",
   "name": "python3"
  },
  "language_info": {
   "codemirror_mode": {
    "name": "ipython",
    "version": 3
   },
   "file_extension": ".py",
   "mimetype": "text/x-python",
   "name": "python",
   "nbconvert_exporter": "python",
   "pygments_lexer": "ipython3",
   "version": "3.9.13"
  }
 },
 "nbformat": 4,
 "nbformat_minor": 5
}
