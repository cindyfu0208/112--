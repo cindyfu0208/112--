{
 "cells": [
  {
   "cell_type": "code",
   "execution_count": 1,
   "id": "59500a62",
   "metadata": {},
   "outputs": [],
   "source": [
    "import openai\n",
    "import pandas as pd"
   ]
  },
  {
   "cell_type": "code",
   "execution_count": 2,
   "id": "e66fd97f",
   "metadata": {},
   "outputs": [],
   "source": [
    "\n",
    "import numpy\n",
    "from collections import Counter "
   ]
  },
  {
   "cell_type": "code",
   "execution_count": 3,
   "id": "47f2f67f",
   "metadata": {},
   "outputs": [],
   "source": [
    "from PIL import Image\n",
    "import matplotlib.pyplot as plt\n",
    "from wordcloud import WordCloud"
   ]
  },
  {
   "cell_type": "code",
   "execution_count": 4,
   "id": "b730782f",
   "metadata": {},
   "outputs": [],
   "source": [
    "keyfile = open(\"key.txt\", \"r\")\n",
    "key = keyfile.readline()\n",
    "openai.api_key = key"
   ]
  },
  {
   "cell_type": "code",
   "execution_count": 5,
   "id": "f8a93d18",
   "metadata": {},
   "outputs": [],
   "source": [
    "def chatgptfn(sub_list):\n",
    "    result = ''\n",
    "    response = openai.ChatCompletion.create(\n",
    "        model=\"gpt-3.5-turbo\",\n",
    "        messages=[\n",
    "            {\"role\": \"system\", \"content\": \"You are an assistant\"},\n",
    "            {\"role\": \"user\", \"content\": f\"{sub_list} :give me a summary\"}\n",
    "        ]\n",
    "    )\n",
    "    for choice in response.choices:\n",
    "        result += choice.message.content\n",
    "    return result"
   ]
  },
  {
   "cell_type": "code",
   "execution_count": 6,
   "id": "11aca472",
   "metadata": {},
   "outputs": [],
   "source": [
    "with open('05.txt', 'r') as fh:\n",
    "    tmp = fh.read()\n",
    "    itemlist1 = tmp.split(',')"
   ]
  },
  {
   "cell_type": "code",
   "execution_count": 7,
   "id": "f14d145e",
   "metadata": {},
   "outputs": [],
   "source": [
    "with open('06.txt', 'r') as fh:\n",
    "    tmp = fh.read()\n",
    "    itemlist2 = tmp.split(',')"
   ]
  },
  {
   "cell_type": "code",
   "execution_count": 8,
   "id": "c1165ffa",
   "metadata": {},
   "outputs": [],
   "source": [
    "itemlist1 = str(itemlist1)"
   ]
  },
  {
   "cell_type": "code",
   "execution_count": 9,
   "id": "af675ce1",
   "metadata": {},
   "outputs": [],
   "source": [
    "itemlist2 = str(itemlist2)"
   ]
  },
  {
   "cell_type": "code",
   "execution_count": 10,
   "id": "8cd1dc36",
   "metadata": {},
   "outputs": [],
   "source": [
    "data1 = [itemlist1[0:3200], itemlist1[3201:6400], \n",
    "        itemlist1[6401:9600], itemlist1[9601:12800], itemlist1[12801:16000]]"
   ]
  },
  {
   "cell_type": "code",
   "execution_count": 11,
   "id": "ade7c695",
   "metadata": {},
   "outputs": [],
   "source": [
    "data2 = [itemlist2[0:3200], itemlist2[3201:6400], \n",
    "        itemlist2[6401:9600], itemlist2[9601:12800], itemlist2[12801:16000]]"
   ]
  },
  {
   "cell_type": "code",
   "execution_count": 12,
   "id": "54c5061a",
   "metadata": {},
   "outputs": [
    {
     "data": {
      "text/plain": [
       "\"['666 物質主義價值觀、名人之典型粉絲–自我一致性對網路衝動性購買傾向之影響 The Influences of Materialistic Values', ' Typical Fans of Celebrities –Self congruency on Online Impulsive Buying 朱培宏 1 國立高雄科技大學 企業管理系 副教授 peihung.chu@nkust.edu.tw 黃雅芸 2 國立高雄科技大學 企業管理系 研究生 1106335105@nkust.edu.tw 摘 要 在這個科技發達的網路時代，人們只要一鍵點擊就可以立即下單購物，這種方便的購物方式造成許多非計畫的 衝動性購買行為出現。相對於物質匱乏的年代，二十一世紀後，人們的生活也越來越趨向於重視物質的擁有與享受， 甚至視其擁有的財物為成功指標來判斷一個人是否過的美好，消費者買的不是產品而是產品所帶來的意義，這種物 質主義價值觀促使人們不斷地購買，方能與他人比較生活。 行銷手法中，以網路為平台藉由名人代言提高產品知名度與銷售量已成為獲利主要趨勢。究竟名人代言與消費 者之間存在何種心理層面的影響？本研究將以高中(高職)生作為研究對象，結合心理學與行銷學角度，探討物質主 義價值觀、自我一致性與衝動性購買之間的關係。 關鍵詞：物質主義價值觀、自我一致性、自我概念、衝動性購買。 Keywords: Materialistic Values、Self Congruence、Self Concept、Impulsive Buying 1.緒論 1.1 研究背景與動機 在這個網路資訊爆炸的時代，由於網路的便利、立即性，人們逐漸將現實生活搬移到了網路上，過去在實體 零售店所出現的衝動性購買行為也逐漸轉為網路衝動性購買。網路衝動購買為一種非計劃地購買行為，是指顧客 上網路平台所購買的商品是在上網前根本沒有預定或意識到的購買，顧客的衝動購買決策是在進入站之後才形成 的。根據 User Interface Engineering（2001）的研究，約有 40％的網路營利來自於衝動性購買，因此值得我們深入 探討。 在資本主義的影響下，社會以經濟為發展導向、人們變的功利傾向、物質即代表成功的價值觀。大眾媒體的鼓 吹、各式廣告、同儕之間的比較，都無時無刻影響著人們的思維導致物質主義成為當前消費文化的核心價值觀，沉 迷於物質的欲望並以擁有的物質為人生價值。高度物質主義價值觀的人認為獲得物質商品是中心生活目標、成功的 指標及自我定義之關鍵(Richins', ' 2004)，他們深信物質是個人成功的標誌以及通往更美好自我的重要途徑。本研究 將物質主義價值觀視為可能使個人更容易展現衝動性購買之前因來探討。 功利的物質主義價值觀下，技術發達的已開發國家物質產品的消費在上個世紀發生了根本性的變化，以滿足自 己和家庭生理需求的購買行為已經轉向使用商品作為當代社會獲取和表達自我認同感的手段(e.g.', ' Dittmar', ' 1992; Lunt and Livingstone', ' 1992)。根據自我概念理論，每個人都擁有實際自我及理想自我兩種不同的自我型態(Escalas & Bettman', ' 2003; Malär', ' Krohmer', ' Hoyer', ' & Nyffenegger', ' 2011)。實際自我代表目前的我，你如何看待自己？而理想自我 則是個人對理想及未來目標的期望，你想要如何看待自己？ 因為當個人的實際自我與理想自我和某個人形象一致 時，可能導致更強烈的衝動購買行為。 1.2 研究目的 經由上述說明背景與動機後，本研究將確認物質主義價值觀、自我一致性與衝動性購買之間的關係為何本研 667 究以高中生為研究對象，期望能達成下列目的： 一、 驗證物質主義價值觀與衝動性購買之關係 二、 驗證物質主義價值觀與自我一致性之關係 三、 驗證自我一致性與衝動性購買之關係 四、 在物質主義價值觀與衝動性購買之關係上加入自我一致性探討是否具有中介效果 2.文獻探討 2.1 網路衝動性購買 行銷學者 EngelBlackwell 與 Miniard (1995)將衝動性購買定義為：「事前並無意識或在進入商店前，購買意圖尚 未形成而發生的購買行為」。Rook 及 Fisher(1995)也提出衝動性購買的 定義為：「消費者傾向自發的、無思考的、 立即性的購買」，另外 Weinberg 與 Gottwald(1982)提出「衝動性購買行為」可以藉由「情感」、「認知」與「反應」 等 三方面來加以定義。他們強調「衝動性購買」是情感性反應的結果，是一種不經 思索行為，且購買決策缺乏理 智的控制，因為衝動性購買行為通常是對購買情境中的刺激物有了強烈情感性反應，進而不經思索地採取立即購買 的行為。 Shiv 與 Fedorikhin(1999)指出，如提供高度差異化或是高享樂性質之商品，就越可能吸引消費者的注意力，即使 在價格上無實質優惠，消費者仍會產生衝動性購買行為。一般而言，會讓消費者產生衝動性購買之商品多半有較高 之曝光率，擁有越高的評價公信力、專家說服力或置入名人形象為其代言，都會促使消費者更容易衝動性購物(Piron', ' 1991;Agee&Martin', ' 2001)。 2.2 物質主義價值觀 物質主義價值觀為具有物質主義的價值觀。工業革命後，由於經濟發展迅速，除了日常生活需求的必需品也產 生出許多消費品，面對文化、媒體、廣告呈現方式心理因素且人們對於物質的慾望又是無止盡的，社會漸漸醞釀出 以財產、物質來衡量自己、他人的物質主義價值觀。Richins 與 Dawson(1992)指出物質主義指的是一套關於物質在 一個人生命中的重要信念，作為增強自我的手段，以及使用物質財產來判斷自己和他人是否成功，並提出物質主義 價值觀為一種消費價值觀。 物質主義者將金錢和資產視為他們通往幸福和達成社會成就的工具(Richins', ' 1994)。這些人具有很高的消費傾向， 並試圖透過消費社交產品來增加他們的社會地位。 在該領域進行的研究表明，具有高物質傾向的人會選擇購買與 自身一致的產品(e.g. Richins', ' 2004; Scott', ' Martin ', ' & Schouten', ' 2014)。 2.3 代言人 當今行銷手法中，越來越多的企業採用廣告方式，廣告活動常以代言人為企業的產品、服務來背書。名人可以 幫助廣告脫穎而出(Erdogan', ' 1999)並進入新市場(Blecken', ' 2009; Sherman', ' 1985)。名人創造了關注並為品牌帶來聲望， 消費者不只從廣告上接收訊息也會參考代言人的形象，進而決定對該產品的態度，這種代言人形象的移轉效應，是 廣告主器重代言人的重要原因。 代言人指的是能夠代表某一品牌、產品或者服務，並為該品牌充分展現適當形象的人。藉由代言人所擁有的知 名度和形象，除了能夠很快地吸引消費者的注意和興趣，使民眾對企業產生好感，同時也可迅速提升品牌和商品的 知名度，進而有助於企業達成促進商品銷售的目的。 2.4 名人 牛津詞典將名人敘述為〝眾所周知的狀態〞。名人以其在某領域突出的表現聞名，如娛樂、科學、政治、體育、 宗教或與其他名人的密切聯繫而聞名(Boorstin', ' 1961)。並且有證據表明，名人崇拜於世界存在了幾十年(McCutcheon', ' Lange', ' ＆Houran', ' 2002)。對於兒童和青少年而言，追隨流行歌手和體育人物等名人常成為與同儕相處之間流行的趨 勢(Greene＆Adams-Price'\""
      ]
     },
     "execution_count": 12,
     "metadata": {},
     "output_type": "execute_result"
    }
   ],
   "source": [
    "data1[0]"
   ]
  },
  {
   "cell_type": "code",
   "execution_count": 13,
   "id": "3b731363",
   "metadata": {},
   "outputs": [],
   "source": [
    "#呼叫chatgpt\n",
    "for i in range(0,5):\n",
    "    data1[i] = chatgptfn(data1[i])"
   ]
  },
  {
   "cell_type": "code",
   "execution_count": 14,
   "id": "929d8b63",
   "metadata": {},
   "outputs": [],
   "source": [
    "#呼叫chatgpt\n",
    "for i in range(0,5):\n",
    "    data2[i] = chatgptfn(data2[i])"
   ]
  },
  {
   "cell_type": "code",
   "execution_count": 34,
   "id": "9a14d5d2",
   "metadata": {},
   "outputs": [
    {
     "ename": "IndexError",
     "evalue": "string index out of range",
     "output_type": "error",
     "traceback": [
      "\u001b[0;31m---------------------------------------------------------------------------\u001b[0m",
      "\u001b[0;31mIndexError\u001b[0m                                Traceback (most recent call last)",
      "\u001b[0;32m/var/folders/_l/4hxt3fk515dfhkgkfl22djdm0000gn/T/ipykernel_5940/1751894207.py\u001b[0m in \u001b[0;36m<module>\u001b[0;34m\u001b[0m\n\u001b[1;32m      2\u001b[0m \u001b[0mdata1\u001b[0m \u001b[0;34m=\u001b[0m \u001b[0;34m''\u001b[0m\u001b[0;34m\u001b[0m\u001b[0;34m\u001b[0m\u001b[0m\n\u001b[1;32m      3\u001b[0m \u001b[0;32mfor\u001b[0m \u001b[0mi\u001b[0m \u001b[0;32min\u001b[0m \u001b[0mrange\u001b[0m\u001b[0;34m(\u001b[0m\u001b[0;36m0\u001b[0m\u001b[0;34m,\u001b[0m\u001b[0;36m5\u001b[0m\u001b[0;34m)\u001b[0m\u001b[0;34m:\u001b[0m\u001b[0;34m\u001b[0m\u001b[0;34m\u001b[0m\u001b[0m\n\u001b[0;32m----> 4\u001b[0;31m     \u001b[0mdata1\u001b[0m \u001b[0;34m=\u001b[0m \u001b[0mdata1\u001b[0m \u001b[0;34m+\u001b[0m \u001b[0mdata1\u001b[0m\u001b[0;34m[\u001b[0m\u001b[0mi\u001b[0m\u001b[0;34m]\u001b[0m\u001b[0;34m\u001b[0m\u001b[0;34m\u001b[0m\u001b[0m\n\u001b[0m",
      "\u001b[0;31mIndexError\u001b[0m: string index out of range"
     ]
    }
   ],
   "source": [
    "#組成五個段落摘要將摘要合併\n",
    "data1 = ''\n",
    "for i in range(0,5):\n",
    "    data1 = data1 + data[i]"
   ]
  },
  {
   "cell_type": "code",
   "execution_count": null,
   "id": "82876a47",
   "metadata": {},
   "outputs": [],
   "source": [
    "data2 = ''\n",
    "for i in range(0,5):\n",
    "    data2 = data2 + data[i]"
   ]
  },
  {
   "cell_type": "code",
   "execution_count": null,
   "id": "24d70bf0",
   "metadata": {},
   "outputs": [],
   "source": [
    "data2"
   ]
  },
  {
   "cell_type": "code",
   "execution_count": null,
   "id": "f7882e62",
   "metadata": {},
   "outputs": [],
   "source": [
    "papers = [data1, data2]"
   ]
  },
  {
   "cell_type": "code",
   "execution_count": null,
   "id": "7d753814",
   "metadata": {},
   "outputs": [],
   "source": [
    "papers"
   ]
  },
  {
   "cell_type": "code",
   "execution_count": null,
   "id": "9c618e28",
   "metadata": {},
   "outputs": [],
   "source": [
    "# 創建詞袋\n",
    "texts = [[word for word in document.lower().split()] for document in data]\n",
    "dictionary = corpora.Dictionary(texts)\n",
    "corpus = [dictionary.doc2bow(text) for text in texts]\n"
   ]
  },
  {
   "cell_type": "code",
   "execution_count": null,
   "id": "8c3f2f02",
   "metadata": {},
   "outputs": [],
   "source": [
    "flat = [x for sublist in texts for x in sublist]\n",
    "diction = Counter(flat)\n",
    "font = \"Arial Unicode\"\n",
    "mask = numpy.array(Image.open(\"大腦.jpeg\"))\n",
    "wordcloud = WordCloud(background_color = \"white\", font_path=font, mask = mask)#, mask = mask)\n",
    "wordcloud.generate_from_frequencies(diction)\n",
    "plt.figure(figsize=(400,400))\n",
    "plt.imshow(wordcloud)\n",
    "plt.axis(\"off\")\n",
    "plt.show()"
   ]
  },
  {
   "cell_type": "code",
   "execution_count": null,
   "id": "2f8794bf",
   "metadata": {},
   "outputs": [],
   "source": []
  }
 ],
 "metadata": {
  "kernelspec": {
   "display_name": "Python 3 (ipykernel)",
   "language": "python",
   "name": "python3"
  },
  "language_info": {
   "codemirror_mode": {
    "name": "ipython",
    "version": 3
   },
   "file_extension": ".py",
   "mimetype": "text/x-python",
   "name": "python",
   "nbconvert_exporter": "python",
   "pygments_lexer": "ipython3",
   "version": "3.9.13"
  }
 },
 "nbformat": 4,
 "nbformat_minor": 5
}
